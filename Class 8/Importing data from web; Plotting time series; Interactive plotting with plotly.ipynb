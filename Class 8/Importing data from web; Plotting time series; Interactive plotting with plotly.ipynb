{
 "cells": [
  {
   "cell_type": "markdown",
   "metadata": {},
   "source": [
    "# Importing Libraries"
   ]
  },
  {
   "cell_type": "markdown",
   "metadata": {},
   "source": [
    "Run the following lines of codes before starting using plotly, quandl, yfinance libraries: \n",
    "\n",
    "- <code> !pip install quandl </code>\n",
    "- <code> !pip install plotly </code>\n",
    "- <code> !pip install pandas_datareader </code>"
   ]
  },
  {
   "cell_type": "code",
   "execution_count": 1,
   "metadata": {},
   "outputs": [
    {
     "data": {
      "text/html": [
       "        <script type=\"text/javascript\">\n",
       "        window.PlotlyConfig = {MathJaxConfig: 'local'};\n",
       "        if (window.MathJax) {MathJax.Hub.Config({SVG: {font: \"STIX-Web\"}});}\n",
       "        if (typeof require !== 'undefined') {\n",
       "        require.undef(\"plotly\");\n",
       "        requirejs.config({\n",
       "            paths: {\n",
       "                'plotly': ['https://cdn.plot.ly/plotly-latest.min']\n",
       "            }\n",
       "        });\n",
       "        require(['plotly'], function(Plotly) {\n",
       "            window._Plotly = Plotly;\n",
       "        });\n",
       "        }\n",
       "        </script>\n",
       "        "
      ]
     },
     "metadata": {},
     "output_type": "display_data"
    }
   ],
   "source": [
    "import pandas as pd\n",
    "from pandas_datareader import data #will be used to download data from yahoo finance\n",
    "import numpy as np\n",
    "import matplotlib.pyplot as plt\n",
    "import seaborn as sns\n",
    "import quandl\n",
    "\n",
    "#plotly\n",
    "from plotly.offline import iplot\n",
    "from plotly.offline import init_notebook_mode\n",
    "import plotly.graph_objects as go #the basic charts that we will use are mainly stored under graph_objs\n",
    "init_notebook_mode(connected=True)"
   ]
  },
  {
   "cell_type": "markdown",
   "metadata": {},
   "source": [
    "# Quandl"
   ]
  },
  {
   "cell_type": "markdown",
   "metadata": {},
   "source": [
    "**Quandl** is a marketplace for financial, economic and alternative data delivered in modern formats for today's analysts, including Python, Excel, Matlab, R."
   ]
  },
  {
   "cell_type": "markdown",
   "metadata": {},
   "source": [
    "Gettting data from quandl:\n",
    "\n",
    "- Check available data in quandl webpage (https://www.quandl.com/), \n",
    "- Write the code in JN with the following logic: \"Source of Data\" then  put \"/\" then name of a measure (in the example below stock name is MSFT) that you want to download"
   ]
  },
  {
   "cell_type": "code",
   "execution_count": 2,
   "metadata": {},
   "outputs": [],
   "source": [
    "msft=quandl.get(\"Wiki/MSFT\")"
   ]
  },
  {
   "cell_type": "code",
   "execution_count": 3,
   "metadata": {
    "scrolled": true
   },
   "outputs": [
    {
     "name": "stdout",
     "output_type": "stream",
     "text": [
      "Mean:  59.9\n",
      "Max:  179.9\n"
     ]
    }
   ],
   "source": [
    "#let's look at mean and max closing prices\n",
    "print(\"Mean: \",round(msft.Close.mean(),1))\n",
    "print(\"Max: \",round(msft.Close.max(),1))"
   ]
  },
  {
   "cell_type": "code",
   "execution_count": 4,
   "metadata": {},
   "outputs": [],
   "source": [
    "msft=quandl.get(\"Wiki/MSFT\", \n",
    "                authtoken=\"a-ycygX1AtQCZexCc4a5\", #you should put your key\n",
    "                start_date='1991-12-31',end_date='2019-12-31', #define time period\n",
    "                collapse='daily', #define frequency, can be annual, monthly\n",
    "                order='desc')"
   ]
  },
  {
   "cell_type": "markdown",
   "metadata": {},
   "source": [
    "Use <code>?quandl.get</code> to learn more about quandl parameters when importing data."
   ]
  },
  {
   "cell_type": "code",
   "execution_count": 5,
   "metadata": {},
   "outputs": [
    {
     "data": {
      "text/html": [
       "<div>\n",
       "<style scoped>\n",
       "    .dataframe tbody tr th:only-of-type {\n",
       "        vertical-align: middle;\n",
       "    }\n",
       "\n",
       "    .dataframe tbody tr th {\n",
       "        vertical-align: top;\n",
       "    }\n",
       "\n",
       "    .dataframe thead th {\n",
       "        text-align: right;\n",
       "    }\n",
       "</style>\n",
       "<table border=\"1\" class=\"dataframe\">\n",
       "  <thead>\n",
       "    <tr style=\"text-align: right;\">\n",
       "      <th></th>\n",
       "      <th>Open</th>\n",
       "      <th>High</th>\n",
       "      <th>Low</th>\n",
       "      <th>Close</th>\n",
       "      <th>Volume</th>\n",
       "      <th>Ex-Dividend</th>\n",
       "      <th>Split Ratio</th>\n",
       "      <th>Adj. Open</th>\n",
       "      <th>Adj. High</th>\n",
       "      <th>Adj. Low</th>\n",
       "      <th>Adj. Close</th>\n",
       "      <th>Adj. Volume</th>\n",
       "    </tr>\n",
       "    <tr>\n",
       "      <th>Date</th>\n",
       "      <th></th>\n",
       "      <th></th>\n",
       "      <th></th>\n",
       "      <th></th>\n",
       "      <th></th>\n",
       "      <th></th>\n",
       "      <th></th>\n",
       "      <th></th>\n",
       "      <th></th>\n",
       "      <th></th>\n",
       "      <th></th>\n",
       "      <th></th>\n",
       "    </tr>\n",
       "  </thead>\n",
       "  <tbody>\n",
       "    <tr>\n",
       "      <th>2018-03-27</th>\n",
       "      <td>94.940</td>\n",
       "      <td>95.139</td>\n",
       "      <td>88.51</td>\n",
       "      <td>89.47</td>\n",
       "      <td>53704562.0</td>\n",
       "      <td>0.0</td>\n",
       "      <td>1.0</td>\n",
       "      <td>94.940</td>\n",
       "      <td>95.139</td>\n",
       "      <td>88.51</td>\n",
       "      <td>89.47</td>\n",
       "      <td>53704562.0</td>\n",
       "    </tr>\n",
       "    <tr>\n",
       "      <th>2018-03-26</th>\n",
       "      <td>90.610</td>\n",
       "      <td>94.000</td>\n",
       "      <td>90.40</td>\n",
       "      <td>93.78</td>\n",
       "      <td>55031149.0</td>\n",
       "      <td>0.0</td>\n",
       "      <td>1.0</td>\n",
       "      <td>90.610</td>\n",
       "      <td>94.000</td>\n",
       "      <td>90.40</td>\n",
       "      <td>93.78</td>\n",
       "      <td>55031149.0</td>\n",
       "    </tr>\n",
       "    <tr>\n",
       "      <th>2018-03-23</th>\n",
       "      <td>89.500</td>\n",
       "      <td>90.460</td>\n",
       "      <td>87.08</td>\n",
       "      <td>87.18</td>\n",
       "      <td>42159397.0</td>\n",
       "      <td>0.0</td>\n",
       "      <td>1.0</td>\n",
       "      <td>89.500</td>\n",
       "      <td>90.460</td>\n",
       "      <td>87.08</td>\n",
       "      <td>87.18</td>\n",
       "      <td>42159397.0</td>\n",
       "    </tr>\n",
       "    <tr>\n",
       "      <th>2018-03-22</th>\n",
       "      <td>91.265</td>\n",
       "      <td>91.750</td>\n",
       "      <td>89.66</td>\n",
       "      <td>89.79</td>\n",
       "      <td>37578166.0</td>\n",
       "      <td>0.0</td>\n",
       "      <td>1.0</td>\n",
       "      <td>91.265</td>\n",
       "      <td>91.750</td>\n",
       "      <td>89.66</td>\n",
       "      <td>89.79</td>\n",
       "      <td>37578166.0</td>\n",
       "    </tr>\n",
       "    <tr>\n",
       "      <th>2018-03-21</th>\n",
       "      <td>92.930</td>\n",
       "      <td>94.050</td>\n",
       "      <td>92.21</td>\n",
       "      <td>92.48</td>\n",
       "      <td>23753263.0</td>\n",
       "      <td>0.0</td>\n",
       "      <td>1.0</td>\n",
       "      <td>92.930</td>\n",
       "      <td>94.050</td>\n",
       "      <td>92.21</td>\n",
       "      <td>92.48</td>\n",
       "      <td>23753263.0</td>\n",
       "    </tr>\n",
       "  </tbody>\n",
       "</table>\n",
       "</div>"
      ],
      "text/plain": [
       "              Open    High    Low  Close      Volume  Ex-Dividend  \\\n",
       "Date                                                                \n",
       "2018-03-27  94.940  95.139  88.51  89.47  53704562.0          0.0   \n",
       "2018-03-26  90.610  94.000  90.40  93.78  55031149.0          0.0   \n",
       "2018-03-23  89.500  90.460  87.08  87.18  42159397.0          0.0   \n",
       "2018-03-22  91.265  91.750  89.66  89.79  37578166.0          0.0   \n",
       "2018-03-21  92.930  94.050  92.21  92.48  23753263.0          0.0   \n",
       "\n",
       "            Split Ratio  Adj. Open  Adj. High  Adj. Low  Adj. Close  \\\n",
       "Date                                                                  \n",
       "2018-03-27          1.0     94.940     95.139     88.51       89.47   \n",
       "2018-03-26          1.0     90.610     94.000     90.40       93.78   \n",
       "2018-03-23          1.0     89.500     90.460     87.08       87.18   \n",
       "2018-03-22          1.0     91.265     91.750     89.66       89.79   \n",
       "2018-03-21          1.0     92.930     94.050     92.21       92.48   \n",
       "\n",
       "            Adj. Volume  \n",
       "Date                     \n",
       "2018-03-27   53704562.0  \n",
       "2018-03-26   55031149.0  \n",
       "2018-03-23   42159397.0  \n",
       "2018-03-22   37578166.0  \n",
       "2018-03-21   23753263.0  "
      ]
     },
     "execution_count": 5,
     "metadata": {},
     "output_type": "execute_result"
    }
   ],
   "source": [
    "#let's look at data\n",
    "msft.head()"
   ]
  },
  {
   "cell_type": "code",
   "execution_count": 6,
   "metadata": {},
   "outputs": [
    {
     "data": {
      "image/png": "[encoded data removed]",
      "text/plain": [
       "<Figure size 576x360 with 1 Axes>"
      ]
     },
     "metadata": {
      "needs_background": "light"
     },
     "output_type": "display_data"
    }
   ],
   "source": [
    "#let's visualise change of Closing price by time\n",
    "plt.figure(figsize=(8,5))\n",
    "plt.plot(msft.index,msft.Close)\n",
    "\n",
    "plt.title(\"Close price for MSFT (daily data)\")\n",
    "plt.ylabel(\"Close Price\")\n",
    "\n",
    "plt.show()"
   ]
  },
  {
   "cell_type": "code",
   "execution_count": 7,
   "metadata": {},
   "outputs": [
    {
     "data": {
      "image/png": "[encoded data removed]",
      "text/plain": [
       "<Figure size 576x360 with 1 Axes>"
      ]
     },
     "metadata": {
      "needs_background": "light"
     },
     "output_type": "display_data"
    }
   ],
   "source": [
    "#Another way of plotting historical data directly from pandas\n",
    "msft.Close.plot(figsize=(8,5))\n",
    "plt.show()"
   ]
  },
  {
   "cell_type": "markdown",
   "metadata": {},
   "source": [
    "# Data from Yahoo Finance"
   ]
  },
  {
   "cell_type": "markdown",
   "metadata": {},
   "source": [
    "There’re some limitations by making the call to Yahoo Finance API:\n",
    "\n",
    "- Using the Public API, you are limited to 2,000 requests per hour per IP (or up to a total of 48,000 requests a day).\n",
    "\n",
    "- When importing many tickers, use **<code>time.sleep(1)</code>** (python time module) function to avoid your IP getting blocked"
   ]
  },
  {
   "cell_type": "code",
   "execution_count": 8,
   "metadata": {},
   "outputs": [],
   "source": [
    "# look at the documentation of DataReader\n",
    "#?data.DataReader"
   ]
  },
  {
   "cell_type": "code",
   "execution_count": 9,
   "metadata": {},
   "outputs": [],
   "source": [
    "#let's import Walt Disney's (DIS) stock price from Yahoo Finance\n",
    "# User pandas_reader.data.DataReader\n",
    "disney=data.DataReader(name=\"DIS\",\n",
    "                       data_source='yahoo', #you can also use \"google\" to download data from google finance\n",
    "                       start='2020-01-01', end=\"2020-07-15\" #define time period\n",
    "                      )"
   ]
  },
  {
   "cell_type": "code",
   "execution_count": 10,
   "metadata": {},
   "outputs": [
    {
     "data": {
      "text/html": [
       "<div>\n",
       "<style scoped>\n",
       "    .dataframe tbody tr th:only-of-type {\n",
       "        vertical-align: middle;\n",
       "    }\n",
       "\n",
       "    .dataframe tbody tr th {\n",
       "        vertical-align: top;\n",
       "    }\n",
       "\n",
       "    .dataframe thead th {\n",
       "        text-align: right;\n",
       "    }\n",
       "</style>\n",
       "<table border=\"1\" class=\"dataframe\">\n",
       "  <thead>\n",
       "    <tr style=\"text-align: right;\">\n",
       "      <th></th>\n",
       "      <th>High</th>\n",
       "      <th>Low</th>\n",
       "      <th>Open</th>\n",
       "      <th>Close</th>\n",
       "      <th>Volume</th>\n",
       "      <th>Adj Close</th>\n",
       "    </tr>\n",
       "    <tr>\n",
       "      <th>Date</th>\n",
       "      <th></th>\n",
       "      <th></th>\n",
       "      <th></th>\n",
       "      <th></th>\n",
       "      <th></th>\n",
       "      <th></th>\n",
       "    </tr>\n",
       "  </thead>\n",
       "  <tbody>\n",
       "    <tr>\n",
       "      <th>2020-07-15</th>\n",
       "      <td>122.089996</td>\n",
       "      <td>119.699997</td>\n",
       "      <td>121.629997</td>\n",
       "      <td>120.900002</td>\n",
       "      <td>15306000</td>\n",
       "      <td>120.900002</td>\n",
       "    </tr>\n",
       "    <tr>\n",
       "      <th>2020-07-14</th>\n",
       "      <td>119.080002</td>\n",
       "      <td>114.540001</td>\n",
       "      <td>115.230003</td>\n",
       "      <td>118.660004</td>\n",
       "      <td>12425100</td>\n",
       "      <td>118.660004</td>\n",
       "    </tr>\n",
       "    <tr>\n",
       "      <th>2020-07-13</th>\n",
       "      <td>120.129997</td>\n",
       "      <td>115.889999</td>\n",
       "      <td>119.940002</td>\n",
       "      <td>116.220001</td>\n",
       "      <td>15620200</td>\n",
       "      <td>116.220001</td>\n",
       "    </tr>\n",
       "    <tr>\n",
       "      <th>2020-07-10</th>\n",
       "      <td>119.440002</td>\n",
       "      <td>116.209999</td>\n",
       "      <td>116.830002</td>\n",
       "      <td>119.339996</td>\n",
       "      <td>14207900</td>\n",
       "      <td>119.339996</td>\n",
       "    </tr>\n",
       "    <tr>\n",
       "      <th>2020-07-09</th>\n",
       "      <td>117.849998</td>\n",
       "      <td>115.379997</td>\n",
       "      <td>116.510002</td>\n",
       "      <td>116.809998</td>\n",
       "      <td>13582900</td>\n",
       "      <td>116.809998</td>\n",
       "    </tr>\n",
       "  </tbody>\n",
       "</table>\n",
       "</div>"
      ],
      "text/plain": [
       "                  High         Low        Open       Close    Volume  \\\n",
       "Date                                                                   \n",
       "2020-07-15  122.089996  119.699997  121.629997  120.900002  15306000   \n",
       "2020-07-14  119.080002  114.540001  115.230003  118.660004  12425100   \n",
       "2020-07-13  120.129997  115.889999  119.940002  116.220001  15620200   \n",
       "2020-07-10  119.440002  116.209999  116.830002  119.339996  14207900   \n",
       "2020-07-09  117.849998  115.379997  116.510002  116.809998  13582900   \n",
       "\n",
       "             Adj Close  \n",
       "Date                    \n",
       "2020-07-15  120.900002  \n",
       "2020-07-14  118.660004  \n",
       "2020-07-13  116.220001  \n",
       "2020-07-10  119.339996  \n",
       "2020-07-09  116.809998  "
      ]
     },
     "execution_count": 10,
     "metadata": {},
     "output_type": "execute_result"
    }
   ],
   "source": [
    "disney.sort_index(ascending=False).head()"
   ]
  },
  {
   "cell_type": "code",
   "execution_count": 11,
   "metadata": {},
   "outputs": [],
   "source": [
    "#let's look at set_style() documentation\n",
    "# ?sns.set_style"
   ]
  },
  {
   "cell_type": "code",
   "execution_count": 12,
   "metadata": {},
   "outputs": [
    {
     "data": {
      "image/png": "[encoded data removed]",
      "text/plain": [
       "<Figure size 432x288 with 1 Axes>"
      ]
     },
     "metadata": {},
     "output_type": "display_data"
    }
   ],
   "source": [
    "#let's use seaborn lineplot() function to visualise time series data\n",
    "sns.set_style('darkgrid')\n",
    "\n",
    "sns.lineplot(disney.index,disney.Close)\n",
    "plt.show()"
   ]
  },
  {
   "cell_type": "code",
   "execution_count": 13,
   "metadata": {
    "scrolled": false
   },
   "outputs": [
    {
     "data": {
      "image/png": "[encoded data removed]",
      "text/plain": [
       "<Figure size 576x432 with 1 Axes>"
      ]
     },
     "metadata": {},
     "output_type": "display_data"
    }
   ],
   "source": [
    "#let's compare open, close, high\n",
    "plt.figure(figsize=(8,6))\n",
    "\n",
    "sns.lineplot(data=disney[[\"Open\",\"Close\",\"High\"]], \n",
    "             palette=['#f22e02','#00a110','#002fc9'] #for better looking chart\n",
    "            )\n",
    "\n",
    "plt.show()"
   ]
  },
  {
   "cell_type": "code",
   "execution_count": 14,
   "metadata": {},
   "outputs": [],
   "source": [
    "#let's import another stock for the same time period of disney\n",
    "aapl=data.DataReader(name=\"AAPL\",\n",
    "                       data_source='yahoo', #you can also use \"google\" to download data from google finance\n",
    "                      start='2020-01-01', end=\"2020-07-15\")"
   ]
  },
  {
   "cell_type": "code",
   "execution_count": 15,
   "metadata": {},
   "outputs": [
    {
     "data": {
      "text/html": [
       "<div>\n",
       "<style scoped>\n",
       "    .dataframe tbody tr th:only-of-type {\n",
       "        vertical-align: middle;\n",
       "    }\n",
       "\n",
       "    .dataframe tbody tr th {\n",
       "        vertical-align: top;\n",
       "    }\n",
       "\n",
       "    .dataframe thead th {\n",
       "        text-align: right;\n",
       "    }\n",
       "</style>\n",
       "<table border=\"1\" class=\"dataframe\">\n",
       "  <thead>\n",
       "    <tr style=\"text-align: right;\">\n",
       "      <th></th>\n",
       "      <th>High</th>\n",
       "      <th>Low</th>\n",
       "      <th>Open</th>\n",
       "      <th>Close</th>\n",
       "      <th>Volume</th>\n",
       "      <th>Adj Close</th>\n",
       "    </tr>\n",
       "    <tr>\n",
       "      <th>Date</th>\n",
       "      <th></th>\n",
       "      <th></th>\n",
       "      <th></th>\n",
       "      <th></th>\n",
       "      <th></th>\n",
       "      <th></th>\n",
       "    </tr>\n",
       "  </thead>\n",
       "  <tbody>\n",
       "    <tr>\n",
       "      <th>2020-01-02</th>\n",
       "      <td>300.600006</td>\n",
       "      <td>295.190002</td>\n",
       "      <td>296.239990</td>\n",
       "      <td>300.350006</td>\n",
       "      <td>33870100.0</td>\n",
       "      <td>298.829956</td>\n",
       "    </tr>\n",
       "    <tr>\n",
       "      <th>2020-01-03</th>\n",
       "      <td>300.579987</td>\n",
       "      <td>296.500000</td>\n",
       "      <td>297.149994</td>\n",
       "      <td>297.429993</td>\n",
       "      <td>36580700.0</td>\n",
       "      <td>295.924713</td>\n",
       "    </tr>\n",
       "    <tr>\n",
       "      <th>2020-01-06</th>\n",
       "      <td>299.959991</td>\n",
       "      <td>292.750000</td>\n",
       "      <td>293.790009</td>\n",
       "      <td>299.799988</td>\n",
       "      <td>29596800.0</td>\n",
       "      <td>298.282715</td>\n",
       "    </tr>\n",
       "    <tr>\n",
       "      <th>2020-01-07</th>\n",
       "      <td>300.899994</td>\n",
       "      <td>297.480011</td>\n",
       "      <td>299.839996</td>\n",
       "      <td>298.390015</td>\n",
       "      <td>27218000.0</td>\n",
       "      <td>296.879883</td>\n",
       "    </tr>\n",
       "    <tr>\n",
       "      <th>2020-01-08</th>\n",
       "      <td>304.440002</td>\n",
       "      <td>297.160004</td>\n",
       "      <td>297.160004</td>\n",
       "      <td>303.190002</td>\n",
       "      <td>33019800.0</td>\n",
       "      <td>301.655548</td>\n",
       "    </tr>\n",
       "  </tbody>\n",
       "</table>\n",
       "</div>"
      ],
      "text/plain": [
       "                  High         Low        Open       Close      Volume  \\\n",
       "Date                                                                     \n",
       "2020-01-02  300.600006  295.190002  296.239990  300.350006  33870100.0   \n",
       "2020-01-03  300.579987  296.500000  297.149994  297.429993  36580700.0   \n",
       "2020-01-06  299.959991  292.750000  293.790009  299.799988  29596800.0   \n",
       "2020-01-07  300.899994  297.480011  299.839996  298.390015  27218000.0   \n",
       "2020-01-08  304.440002  297.160004  297.160004  303.190002  33019800.0   \n",
       "\n",
       "             Adj Close  \n",
       "Date                    \n",
       "2020-01-02  298.829956  \n",
       "2020-01-03  295.924713  \n",
       "2020-01-06  298.282715  \n",
       "2020-01-07  296.879883  \n",
       "2020-01-08  301.655548  "
      ]
     },
     "execution_count": 15,
     "metadata": {},
     "output_type": "execute_result"
    }
   ],
   "source": [
    "#let's look at head of data\n",
    "aapl.head()"
   ]
  },
  {
   "cell_type": "code",
   "execution_count": 16,
   "metadata": {
    "scrolled": true
   },
   "outputs": [
    {
     "data": {
      "text/html": [
       "<div>\n",
       "<style scoped>\n",
       "    .dataframe tbody tr th:only-of-type {\n",
       "        vertical-align: middle;\n",
       "    }\n",
       "\n",
       "    .dataframe tbody tr th {\n",
       "        vertical-align: top;\n",
       "    }\n",
       "\n",
       "    .dataframe thead th {\n",
       "        text-align: right;\n",
       "    }\n",
       "</style>\n",
       "<table border=\"1\" class=\"dataframe\">\n",
       "  <thead>\n",
       "    <tr style=\"text-align: right;\">\n",
       "      <th></th>\n",
       "      <th>High</th>\n",
       "      <th>Low</th>\n",
       "      <th>Open</th>\n",
       "      <th>Close</th>\n",
       "      <th>Volume</th>\n",
       "      <th>Adj Close</th>\n",
       "    </tr>\n",
       "    <tr>\n",
       "      <th>Date</th>\n",
       "      <th></th>\n",
       "      <th></th>\n",
       "      <th></th>\n",
       "      <th></th>\n",
       "      <th></th>\n",
       "      <th></th>\n",
       "    </tr>\n",
       "  </thead>\n",
       "  <tbody>\n",
       "    <tr>\n",
       "      <th>2020-01-02</th>\n",
       "      <td>148.199997</td>\n",
       "      <td>145.100006</td>\n",
       "      <td>145.289993</td>\n",
       "      <td>148.199997</td>\n",
       "      <td>9502100</td>\n",
       "      <td>148.199997</td>\n",
       "    </tr>\n",
       "    <tr>\n",
       "      <th>2020-01-03</th>\n",
       "      <td>147.899994</td>\n",
       "      <td>146.050003</td>\n",
       "      <td>146.399994</td>\n",
       "      <td>146.500000</td>\n",
       "      <td>7320200</td>\n",
       "      <td>146.500000</td>\n",
       "    </tr>\n",
       "    <tr>\n",
       "      <th>2020-01-06</th>\n",
       "      <td>146.029999</td>\n",
       "      <td>144.309998</td>\n",
       "      <td>145.539993</td>\n",
       "      <td>145.649994</td>\n",
       "      <td>8262500</td>\n",
       "      <td>145.649994</td>\n",
       "    </tr>\n",
       "    <tr>\n",
       "      <th>2020-01-07</th>\n",
       "      <td>146.869995</td>\n",
       "      <td>145.419998</td>\n",
       "      <td>145.990005</td>\n",
       "      <td>145.699997</td>\n",
       "      <td>6906500</td>\n",
       "      <td>145.699997</td>\n",
       "    </tr>\n",
       "    <tr>\n",
       "      <th>2020-01-08</th>\n",
       "      <td>146.130005</td>\n",
       "      <td>144.820007</td>\n",
       "      <td>145.490005</td>\n",
       "      <td>145.399994</td>\n",
       "      <td>6984200</td>\n",
       "      <td>145.399994</td>\n",
       "    </tr>\n",
       "  </tbody>\n",
       "</table>\n",
       "</div>"
      ],
      "text/plain": [
       "                  High         Low        Open       Close   Volume  \\\n",
       "Date                                                                  \n",
       "2020-01-02  148.199997  145.100006  145.289993  148.199997  9502100   \n",
       "2020-01-03  147.899994  146.050003  146.399994  146.500000  7320200   \n",
       "2020-01-06  146.029999  144.309998  145.539993  145.649994  8262500   \n",
       "2020-01-07  146.869995  145.419998  145.990005  145.699997  6906500   \n",
       "2020-01-08  146.130005  144.820007  145.490005  145.399994  6984200   \n",
       "\n",
       "             Adj Close  \n",
       "Date                    \n",
       "2020-01-02  148.199997  \n",
       "2020-01-03  146.500000  \n",
       "2020-01-06  145.649994  \n",
       "2020-01-07  145.699997  \n",
       "2020-01-08  145.399994  "
      ]
     },
     "execution_count": 16,
     "metadata": {},
     "output_type": "execute_result"
    }
   ],
   "source": [
    "#let's look at head of data\n",
    "disney.head()"
   ]
  },
  {
   "cell_type": "code",
   "execution_count": 17,
   "metadata": {},
   "outputs": [],
   "source": [
    "#now let's join two data\n",
    "aapl_dis=disney.join(aapl, #data that will be joined\n",
    "                     how='right', #you can use \"outer\", \"left\",etc\n",
    "                     lsuffix='_dis', #let's add the elf columns suffix '_dis'\n",
    "                     rsuffix='_aapl' #let's add the elf columns suffix '_aapl'\n",
    "                    )"
   ]
  },
  {
   "cell_type": "code",
   "execution_count": 18,
   "metadata": {},
   "outputs": [
    {
     "data": {
      "text/html": [
       "<div>\n",
       "<style scoped>\n",
       "    .dataframe tbody tr th:only-of-type {\n",
       "        vertical-align: middle;\n",
       "    }\n",
       "\n",
       "    .dataframe tbody tr th {\n",
       "        vertical-align: top;\n",
       "    }\n",
       "\n",
       "    .dataframe thead th {\n",
       "        text-align: right;\n",
       "    }\n",
       "</style>\n",
       "<table border=\"1\" class=\"dataframe\">\n",
       "  <thead>\n",
       "    <tr style=\"text-align: right;\">\n",
       "      <th></th>\n",
       "      <th>High_dis</th>\n",
       "      <th>Low_dis</th>\n",
       "      <th>Open_dis</th>\n",
       "      <th>Close_dis</th>\n",
       "      <th>Volume_dis</th>\n",
       "      <th>Adj Close_dis</th>\n",
       "      <th>High_aapl</th>\n",
       "      <th>Low_aapl</th>\n",
       "      <th>Open_aapl</th>\n",
       "      <th>Close_aapl</th>\n",
       "      <th>Volume_aapl</th>\n",
       "      <th>Adj Close_aapl</th>\n",
       "    </tr>\n",
       "    <tr>\n",
       "      <th>Date</th>\n",
       "      <th></th>\n",
       "      <th></th>\n",
       "      <th></th>\n",
       "      <th></th>\n",
       "      <th></th>\n",
       "      <th></th>\n",
       "      <th></th>\n",
       "      <th></th>\n",
       "      <th></th>\n",
       "      <th></th>\n",
       "      <th></th>\n",
       "      <th></th>\n",
       "    </tr>\n",
       "  </thead>\n",
       "  <tbody>\n",
       "    <tr>\n",
       "      <th>2020-01-02</th>\n",
       "      <td>148.199997</td>\n",
       "      <td>145.100006</td>\n",
       "      <td>145.289993</td>\n",
       "      <td>148.199997</td>\n",
       "      <td>9502100</td>\n",
       "      <td>148.199997</td>\n",
       "      <td>300.600006</td>\n",
       "      <td>295.190002</td>\n",
       "      <td>296.239990</td>\n",
       "      <td>300.350006</td>\n",
       "      <td>33870100.0</td>\n",
       "      <td>298.829956</td>\n",
       "    </tr>\n",
       "    <tr>\n",
       "      <th>2020-01-03</th>\n",
       "      <td>147.899994</td>\n",
       "      <td>146.050003</td>\n",
       "      <td>146.399994</td>\n",
       "      <td>146.500000</td>\n",
       "      <td>7320200</td>\n",
       "      <td>146.500000</td>\n",
       "      <td>300.579987</td>\n",
       "      <td>296.500000</td>\n",
       "      <td>297.149994</td>\n",
       "      <td>297.429993</td>\n",
       "      <td>36580700.0</td>\n",
       "      <td>295.924713</td>\n",
       "    </tr>\n",
       "    <tr>\n",
       "      <th>2020-01-06</th>\n",
       "      <td>146.029999</td>\n",
       "      <td>144.309998</td>\n",
       "      <td>145.539993</td>\n",
       "      <td>145.649994</td>\n",
       "      <td>8262500</td>\n",
       "      <td>145.649994</td>\n",
       "      <td>299.959991</td>\n",
       "      <td>292.750000</td>\n",
       "      <td>293.790009</td>\n",
       "      <td>299.799988</td>\n",
       "      <td>29596800.0</td>\n",
       "      <td>298.282715</td>\n",
       "    </tr>\n",
       "    <tr>\n",
       "      <th>2020-01-07</th>\n",
       "      <td>146.869995</td>\n",
       "      <td>145.419998</td>\n",
       "      <td>145.990005</td>\n",
       "      <td>145.699997</td>\n",
       "      <td>6906500</td>\n",
       "      <td>145.699997</td>\n",
       "      <td>300.899994</td>\n",
       "      <td>297.480011</td>\n",
       "      <td>299.839996</td>\n",
       "      <td>298.390015</td>\n",
       "      <td>27218000.0</td>\n",
       "      <td>296.879883</td>\n",
       "    </tr>\n",
       "    <tr>\n",
       "      <th>2020-01-08</th>\n",
       "      <td>146.130005</td>\n",
       "      <td>144.820007</td>\n",
       "      <td>145.490005</td>\n",
       "      <td>145.399994</td>\n",
       "      <td>6984200</td>\n",
       "      <td>145.399994</td>\n",
       "      <td>304.440002</td>\n",
       "      <td>297.160004</td>\n",
       "      <td>297.160004</td>\n",
       "      <td>303.190002</td>\n",
       "      <td>33019800.0</td>\n",
       "      <td>301.655548</td>\n",
       "    </tr>\n",
       "  </tbody>\n",
       "</table>\n",
       "</div>"
      ],
      "text/plain": [
       "              High_dis     Low_dis    Open_dis   Close_dis  Volume_dis  \\\n",
       "Date                                                                     \n",
       "2020-01-02  148.199997  145.100006  145.289993  148.199997     9502100   \n",
       "2020-01-03  147.899994  146.050003  146.399994  146.500000     7320200   \n",
       "2020-01-06  146.029999  144.309998  145.539993  145.649994     8262500   \n",
       "2020-01-07  146.869995  145.419998  145.990005  145.699997     6906500   \n",
       "2020-01-08  146.130005  144.820007  145.490005  145.399994     6984200   \n",
       "\n",
       "            Adj Close_dis   High_aapl    Low_aapl   Open_aapl  Close_aapl  \\\n",
       "Date                                                                        \n",
       "2020-01-02     148.199997  300.600006  295.190002  296.239990  300.350006   \n",
       "2020-01-03     146.500000  300.579987  296.500000  297.149994  297.429993   \n",
       "2020-01-06     145.649994  299.959991  292.750000  293.790009  299.799988   \n",
       "2020-01-07     145.699997  300.899994  297.480011  299.839996  298.390015   \n",
       "2020-01-08     145.399994  304.440002  297.160004  297.160004  303.190002   \n",
       "\n",
       "            Volume_aapl  Adj Close_aapl  \n",
       "Date                                     \n",
       "2020-01-02   33870100.0      298.829956  \n",
       "2020-01-03   36580700.0      295.924713  \n",
       "2020-01-06   29596800.0      298.282715  \n",
       "2020-01-07   27218000.0      296.879883  \n",
       "2020-01-08   33019800.0      301.655548  "
      ]
     },
     "execution_count": 18,
     "metadata": {},
     "output_type": "execute_result"
    }
   ],
   "source": [
    "#let's look at the head of data\n",
    "aapl_dis.head()"
   ]
  },
  {
   "cell_type": "code",
   "execution_count": 19,
   "metadata": {},
   "outputs": [
    {
     "name": "stdout",
     "output_type": "stream",
     "text": [
      "<class 'pandas.core.frame.DataFrame'>\n",
      "DatetimeIndex: 136 entries, 2020-01-02 to 2020-07-16\n",
      "Data columns (total 24 columns):\n",
      " #   Column             Non-Null Count  Dtype  \n",
      "---  ------             --------------  -----  \n",
      " 0   (Adj Close, DIS)   136 non-null    float64\n",
      " 1   (Adj Close, AAPL)  136 non-null    float64\n",
      " 2   (Adj Close, MSFT)  136 non-null    float64\n",
      " 3   (Adj Close, AMZN)  136 non-null    float64\n",
      " 4   (Close, DIS)       136 non-null    float64\n",
      " 5   (Close, AAPL)      136 non-null    float64\n",
      " 6   (Close, MSFT)      136 non-null    float64\n",
      " 7   (Close, AMZN)      136 non-null    float64\n",
      " 8   (High, DIS)        136 non-null    float64\n",
      " 9   (High, AAPL)       136 non-null    float64\n",
      " 10  (High, MSFT)       136 non-null    float64\n",
      " 11  (High, AMZN)       136 non-null    float64\n",
      " 12  (Low, DIS)         136 non-null    float64\n",
      " 13  (Low, AAPL)        136 non-null    float64\n",
      " 14  (Low, MSFT)        136 non-null    float64\n",
      " 15  (Low, AMZN)        136 non-null    float64\n",
      " 16  (Open, DIS)        136 non-null    float64\n",
      " 17  (Open, AAPL)       136 non-null    float64\n",
      " 18  (Open, MSFT)       136 non-null    float64\n",
      " 19  (Open, AMZN)       136 non-null    float64\n",
      " 20  (Volume, DIS)      136 non-null    float64\n",
      " 21  (Volume, AAPL)     136 non-null    float64\n",
      " 22  (Volume, MSFT)     136 non-null    float64\n",
      " 23  (Volume, AMZN)     136 non-null    float64\n",
      "dtypes: float64(24)\n",
      "memory usage: 26.6 KB\n"
     ]
    }
   ],
   "source": [
    "#now let's download several stocks with one code so that we don't merge data after downloading\n",
    "tickers=[\"DIS\",\"AAPL\",\"MSFT\",'AMZN']\n",
    "\n",
    "df_stocks=data.DataReader(name=tickers,\n",
    "                          data_source='yahoo',\n",
    "                         start='2020-01-01')\n",
    "df_stocks.info()"
   ]
  },
  {
   "cell_type": "code",
   "execution_count": 20,
   "metadata": {
    "scrolled": true
   },
   "outputs": [
    {
     "data": {
      "text/plain": [
       "MultiIndex([('Adj Close',  'DIS'),\n",
       "            ('Adj Close', 'AAPL'),\n",
       "            ('Adj Close', 'MSFT'),\n",
       "            ('Adj Close', 'AMZN'),\n",
       "            (    'Close',  'DIS'),\n",
       "            (    'Close', 'AAPL'),\n",
       "            (    'Close', 'MSFT'),\n",
       "            (    'Close', 'AMZN'),\n",
       "            (     'High',  'DIS'),\n",
       "            (     'High', 'AAPL'),\n",
       "            (     'High', 'MSFT'),\n",
       "            (     'High', 'AMZN'),\n",
       "            (      'Low',  'DIS'),\n",
       "            (      'Low', 'AAPL'),\n",
       "            (      'Low', 'MSFT'),\n",
       "            (      'Low', 'AMZN'),\n",
       "            (     'Open',  'DIS'),\n",
       "            (     'Open', 'AAPL'),\n",
       "            (     'Open', 'MSFT'),\n",
       "            (     'Open', 'AMZN'),\n",
       "            (   'Volume',  'DIS'),\n",
       "            (   'Volume', 'AAPL'),\n",
       "            (   'Volume', 'MSFT'),\n",
       "            (   'Volume', 'AMZN')],\n",
       "           names=['Attributes', 'Symbols'])"
      ]
     },
     "execution_count": 20,
     "metadata": {},
     "output_type": "execute_result"
    }
   ],
   "source": [
    "#MultiIndex type \n",
    "df_stocks.columns"
   ]
  },
  {
   "cell_type": "code",
   "execution_count": 21,
   "metadata": {},
   "outputs": [
    {
     "data": {
      "text/plain": [
       "Index(['Adj Close_DIS', 'Adj Close_AAPL', 'Adj Close_MSFT', 'Adj Close_AMZN',\n",
       "       'Close_DIS', 'Close_AAPL', 'Close_MSFT', 'Close_AMZN', 'High_DIS',\n",
       "       'High_AAPL', 'High_MSFT', 'High_AMZN', 'Low_DIS', 'Low_AAPL',\n",
       "       'Low_MSFT', 'Low_AMZN', 'Open_DIS', 'Open_AAPL', 'Open_MSFT',\n",
       "       'Open_AMZN', 'Volume_DIS', 'Volume_AAPL', 'Volume_MSFT', 'Volume_AMZN'],\n",
       "      dtype='object')"
      ]
     },
     "execution_count": 21,
     "metadata": {},
     "output_type": "execute_result"
    }
   ],
   "source": [
    "#The map() function calls the specified function for each item of an iterable \n",
    "        ###(such as string, list, tuple or dictionary) and returns a list of results.\n",
    "df_stocks.columns=df_stocks.columns.map('_'.join)\n",
    "df_stocks.columns"
   ]
  },
  {
   "cell_type": "code",
   "execution_count": 22,
   "metadata": {},
   "outputs": [
    {
     "data": {
      "text/html": [
       "<div>\n",
       "<style scoped>\n",
       "    .dataframe tbody tr th:only-of-type {\n",
       "        vertical-align: middle;\n",
       "    }\n",
       "\n",
       "    .dataframe tbody tr th {\n",
       "        vertical-align: top;\n",
       "    }\n",
       "\n",
       "    .dataframe thead th {\n",
       "        text-align: right;\n",
       "    }\n",
       "</style>\n",
       "<table border=\"1\" class=\"dataframe\">\n",
       "  <thead>\n",
       "    <tr style=\"text-align: right;\">\n",
       "      <th></th>\n",
       "      <th>Adj Close_DIS</th>\n",
       "      <th>Adj Close_AAPL</th>\n",
       "      <th>Adj Close_MSFT</th>\n",
       "      <th>Adj Close_AMZN</th>\n",
       "      <th>Close_DIS</th>\n",
       "      <th>Close_AAPL</th>\n",
       "      <th>Close_MSFT</th>\n",
       "      <th>Close_AMZN</th>\n",
       "      <th>High_DIS</th>\n",
       "      <th>High_AAPL</th>\n",
       "      <th>...</th>\n",
       "      <th>Low_MSFT</th>\n",
       "      <th>Low_AMZN</th>\n",
       "      <th>Open_DIS</th>\n",
       "      <th>Open_AAPL</th>\n",
       "      <th>Open_MSFT</th>\n",
       "      <th>Open_AMZN</th>\n",
       "      <th>Volume_DIS</th>\n",
       "      <th>Volume_AAPL</th>\n",
       "      <th>Volume_MSFT</th>\n",
       "      <th>Volume_AMZN</th>\n",
       "    </tr>\n",
       "    <tr>\n",
       "      <th>Date</th>\n",
       "      <th></th>\n",
       "      <th></th>\n",
       "      <th></th>\n",
       "      <th></th>\n",
       "      <th></th>\n",
       "      <th></th>\n",
       "      <th></th>\n",
       "      <th></th>\n",
       "      <th></th>\n",
       "      <th></th>\n",
       "      <th></th>\n",
       "      <th></th>\n",
       "      <th></th>\n",
       "      <th></th>\n",
       "      <th></th>\n",
       "      <th></th>\n",
       "      <th></th>\n",
       "      <th></th>\n",
       "      <th></th>\n",
       "      <th></th>\n",
       "      <th></th>\n",
       "    </tr>\n",
       "  </thead>\n",
       "  <tbody>\n",
       "    <tr>\n",
       "      <th>2020-01-02</th>\n",
       "      <td>148.199997</td>\n",
       "      <td>298.829956</td>\n",
       "      <td>159.737595</td>\n",
       "      <td>1898.010010</td>\n",
       "      <td>148.199997</td>\n",
       "      <td>300.350006</td>\n",
       "      <td>160.619995</td>\n",
       "      <td>1898.010010</td>\n",
       "      <td>148.199997</td>\n",
       "      <td>300.600006</td>\n",
       "      <td>...</td>\n",
       "      <td>158.330002</td>\n",
       "      <td>1864.150024</td>\n",
       "      <td>145.289993</td>\n",
       "      <td>296.239990</td>\n",
       "      <td>158.779999</td>\n",
       "      <td>1875.000000</td>\n",
       "      <td>9502100.0</td>\n",
       "      <td>33870100.0</td>\n",
       "      <td>22622100.0</td>\n",
       "      <td>4029000.0</td>\n",
       "    </tr>\n",
       "    <tr>\n",
       "      <th>2020-01-03</th>\n",
       "      <td>146.500000</td>\n",
       "      <td>295.924713</td>\n",
       "      <td>157.748581</td>\n",
       "      <td>1874.969971</td>\n",
       "      <td>146.500000</td>\n",
       "      <td>297.429993</td>\n",
       "      <td>158.619995</td>\n",
       "      <td>1874.969971</td>\n",
       "      <td>147.899994</td>\n",
       "      <td>300.579987</td>\n",
       "      <td>...</td>\n",
       "      <td>158.059998</td>\n",
       "      <td>1864.500000</td>\n",
       "      <td>146.399994</td>\n",
       "      <td>297.149994</td>\n",
       "      <td>158.320007</td>\n",
       "      <td>1864.500000</td>\n",
       "      <td>7320200.0</td>\n",
       "      <td>36580700.0</td>\n",
       "      <td>21116200.0</td>\n",
       "      <td>3764400.0</td>\n",
       "    </tr>\n",
       "    <tr>\n",
       "      <th>2020-01-06</th>\n",
       "      <td>145.649994</td>\n",
       "      <td>298.282715</td>\n",
       "      <td>158.156342</td>\n",
       "      <td>1902.880005</td>\n",
       "      <td>145.649994</td>\n",
       "      <td>299.799988</td>\n",
       "      <td>159.029999</td>\n",
       "      <td>1902.880005</td>\n",
       "      <td>146.029999</td>\n",
       "      <td>299.959991</td>\n",
       "      <td>...</td>\n",
       "      <td>156.509995</td>\n",
       "      <td>1860.000000</td>\n",
       "      <td>145.539993</td>\n",
       "      <td>293.790009</td>\n",
       "      <td>157.080002</td>\n",
       "      <td>1860.000000</td>\n",
       "      <td>8262500.0</td>\n",
       "      <td>29596800.0</td>\n",
       "      <td>20813700.0</td>\n",
       "      <td>4061800.0</td>\n",
       "    </tr>\n",
       "    <tr>\n",
       "      <th>2020-01-07</th>\n",
       "      <td>145.699997</td>\n",
       "      <td>296.879883</td>\n",
       "      <td>156.714310</td>\n",
       "      <td>1906.859985</td>\n",
       "      <td>145.699997</td>\n",
       "      <td>298.390015</td>\n",
       "      <td>157.580002</td>\n",
       "      <td>1906.859985</td>\n",
       "      <td>146.869995</td>\n",
       "      <td>300.899994</td>\n",
       "      <td>...</td>\n",
       "      <td>157.320007</td>\n",
       "      <td>1892.040039</td>\n",
       "      <td>145.990005</td>\n",
       "      <td>299.839996</td>\n",
       "      <td>159.320007</td>\n",
       "      <td>1904.500000</td>\n",
       "      <td>6906500.0</td>\n",
       "      <td>27218000.0</td>\n",
       "      <td>21634100.0</td>\n",
       "      <td>4044900.0</td>\n",
       "    </tr>\n",
       "    <tr>\n",
       "      <th>2020-01-08</th>\n",
       "      <td>145.399994</td>\n",
       "      <td>301.655548</td>\n",
       "      <td>159.210495</td>\n",
       "      <td>1891.969971</td>\n",
       "      <td>145.399994</td>\n",
       "      <td>303.190002</td>\n",
       "      <td>160.089996</td>\n",
       "      <td>1891.969971</td>\n",
       "      <td>146.130005</td>\n",
       "      <td>304.440002</td>\n",
       "      <td>...</td>\n",
       "      <td>157.949997</td>\n",
       "      <td>1886.439941</td>\n",
       "      <td>145.490005</td>\n",
       "      <td>297.160004</td>\n",
       "      <td>158.929993</td>\n",
       "      <td>1898.040039</td>\n",
       "      <td>6984200.0</td>\n",
       "      <td>33019800.0</td>\n",
       "      <td>27746500.0</td>\n",
       "      <td>3508000.0</td>\n",
       "    </tr>\n",
       "  </tbody>\n",
       "</table>\n",
       "<p>5 rows × 24 columns</p>\n",
       "</div>"
      ],
      "text/plain": [
       "            Adj Close_DIS  Adj Close_AAPL  Adj Close_MSFT  Adj Close_AMZN  \\\n",
       "Date                                                                        \n",
       "2020-01-02     148.199997      298.829956      159.737595     1898.010010   \n",
       "2020-01-03     146.500000      295.924713      157.748581     1874.969971   \n",
       "2020-01-06     145.649994      298.282715      158.156342     1902.880005   \n",
       "2020-01-07     145.699997      296.879883      156.714310     1906.859985   \n",
       "2020-01-08     145.399994      301.655548      159.210495     1891.969971   \n",
       "\n",
       "             Close_DIS  Close_AAPL  Close_MSFT   Close_AMZN    High_DIS  \\\n",
       "Date                                                                      \n",
       "2020-01-02  148.199997  300.350006  160.619995  1898.010010  148.199997   \n",
       "2020-01-03  146.500000  297.429993  158.619995  1874.969971  147.899994   \n",
       "2020-01-06  145.649994  299.799988  159.029999  1902.880005  146.029999   \n",
       "2020-01-07  145.699997  298.390015  157.580002  1906.859985  146.869995   \n",
       "2020-01-08  145.399994  303.190002  160.089996  1891.969971  146.130005   \n",
       "\n",
       "             High_AAPL  ...    Low_MSFT     Low_AMZN    Open_DIS   Open_AAPL  \\\n",
       "Date                    ...                                                    \n",
       "2020-01-02  300.600006  ...  158.330002  1864.150024  145.289993  296.239990   \n",
       "2020-01-03  300.579987  ...  158.059998  1864.500000  146.399994  297.149994   \n",
       "2020-01-06  299.959991  ...  156.509995  1860.000000  145.539993  293.790009   \n",
       "2020-01-07  300.899994  ...  157.320007  1892.040039  145.990005  299.839996   \n",
       "2020-01-08  304.440002  ...  157.949997  1886.439941  145.490005  297.160004   \n",
       "\n",
       "             Open_MSFT    Open_AMZN  Volume_DIS  Volume_AAPL  Volume_MSFT  \\\n",
       "Date                                                                        \n",
       "2020-01-02  158.779999  1875.000000   9502100.0   33870100.0   22622100.0   \n",
       "2020-01-03  158.320007  1864.500000   7320200.0   36580700.0   21116200.0   \n",
       "2020-01-06  157.080002  1860.000000   8262500.0   29596800.0   20813700.0   \n",
       "2020-01-07  159.320007  1904.500000   6906500.0   27218000.0   21634100.0   \n",
       "2020-01-08  158.929993  1898.040039   6984200.0   33019800.0   27746500.0   \n",
       "\n",
       "            Volume_AMZN  \n",
       "Date                     \n",
       "2020-01-02    4029000.0  \n",
       "2020-01-03    3764400.0  \n",
       "2020-01-06    4061800.0  \n",
       "2020-01-07    4044900.0  \n",
       "2020-01-08    3508000.0  \n",
       "\n",
       "[5 rows x 24 columns]"
      ]
     },
     "execution_count": 22,
     "metadata": {},
     "output_type": "execute_result"
    }
   ],
   "source": [
    "#let's look at data with new column names\n",
    "df_stocks.head()"
   ]
  },
  {
   "cell_type": "code",
   "execution_count": 23,
   "metadata": {},
   "outputs": [
    {
     "data": {
      "image/png": "[encoded data removed]",
      "text/plain": [
       "<Figure size 576x432 with 1 Axes>"
      ]
     },
     "metadata": {},
     "output_type": "display_data"
    }
   ],
   "source": [
    "#let's compare different stock close prices\n",
    "plt.figure(figsize=(8,6))\n",
    "\n",
    "sns.lineplot(data=df_stocks[['Adj Close_DIS', \n",
    "                             'Adj Close_AAPL', \n",
    "                             'Adj Close_MSFT', \n",
    "                             'Adj Close_AMZN']], \n",
    "             palette='tab10' #for better looking chart\n",
    "            )\n",
    "\n",
    "plt.show()"
   ]
  },
  {
   "cell_type": "markdown",
   "metadata": {},
   "source": [
    "# Plotly"
   ]
  },
  {
   "cell_type": "markdown",
   "metadata": {},
   "source": [
    "The plotly Python library is an interactive, open-source plotting library that supports over 40 unique chart types covering a wide range of statistical, financial, geographic, scientific, and 3-dimensional use-cases.\n",
    "\n",
    "Built on top of the Plotly JavaScript library (plotly.js), plotly enables Python users to create beautiful interactive web-based visualizations that can be displayed in Jupyter notebooks, saved to standalone HTML files, or served as part of pure Python-built web applications using Dash. The plotly Python library is sometimes referred to as \"plotly.py\" to differentiate it from the JavaScript library."
   ]
  },
  {
   "cell_type": "markdown",
   "metadata": {},
   "source": [
    "In Jupyter Notebook you can plot in Plotly via different ways:\n",
    "\n",
    "- Online\n",
    "    \n",
    "    - Inside JupyterNotebook (<code>from plotly.plotly import iplot</code>)\n",
    "    \n",
    "    - Not in JupyterNotebook (<code>from plotly.plotly import plot</code>)\n",
    "\n",
    "- Offline\n",
    "    - **Inside JupyterNotebook** (<code>from plotly.offline import iplot</code>)\n",
    "    - Not in JupyterNotebook (<code>from plotly.offline import plot</code>)\n",
    "    \n",
    "In case of plotting inside the Notebook (using iplot), the following line of code must be executed, to show the plot inline:\n",
    "- <code>from plotly.offline import init_notebook_mode</code>\n",
    "- <code>init_notebook_mode(connected=True)</code>"
   ]
  },
  {
   "cell_type": "markdown",
   "metadata": {},
   "source": [
    "Use <code>go.Scatter()</code> function to plot the data."
   ]
  },
  {
   "cell_type": "code",
   "execution_count": 24,
   "metadata": {
    "scrolled": false
   },
   "outputs": [],
   "source": [
    "#first, create a data that plotly will understand\n",
    "data_chart=go.Scatter(x=aapl.index,y=aapl.Close,\n",
    "                     mode='lines')"
   ]
  },
  {
   "cell_type": "markdown",
   "metadata": {},
   "source": [
    "Use <code>go.Figure()</code> function to visualise created data: data_chart"
   ]
  },
  {
   "cell_type": "code",
   "execution_count": 25,
   "metadata": {},
   "outputs": [
    {
     "data": {
      "application/vnd.plotly.v1+json": {
       "config": {
        "plotlyServerURL": "https://plot.ly"
       },
       "data": [
        {
         "mode": "lines",
         "type": "scatter",
         "x": [
          "2020-01-02T00:00:00",
          "2020-01-03T00:00:00",
          "2020-01-06T00:00:00",
          "2020-01-07T00:00:00",
          "2020-01-08T00:00:00",
          "2020-01-09T00:00:00",
          "2020-01-10T00:00:00",
          "2020-01-13T00:00:00",
          "2020-01-14T00:00:00",
          "2020-01-15T00:00:00",
          "2020-01-16T00:00:00",
          "2020-01-17T00:00:00",
          "2020-01-21T00:00:00",
          "2020-01-22T00:00:00",
          "2020-01-23T00:00:00",
          "2020-01-24T00:00:00",
          "2020-01-27T00:00:00",
          "2020-01-28T00:00:00",
          "2020-01-29T00:00:00",
          "2020-01-30T00:00:00",
          "2020-01-31T00:00:00",
          "2020-02-03T00:00:00",
          "2020-02-04T00:00:00",
          "2020-02-05T00:00:00",
          "2020-02-06T00:00:00",
          "2020-02-07T00:00:00",
          "2020-02-10T00:00:00",
          "2020-02-11T00:00:00",
          "2020-02-12T00:00:00",
          "2020-02-13T00:00:00",
          "2020-02-14T00:00:00",
          "2020-02-18T00:00:00",
          "2020-02-19T00:00:00",
          "2020-02-20T00:00:00",
          "2020-02-21T00:00:00",
          "2020-02-24T00:00:00",
          "2020-02-25T00:00:00",
          "2020-02-26T00:00:00",
          "2020-02-27T00:00:00",
          "2020-02-28T00:00:00",
          "2020-03-02T00:00:00",
          "2020-03-03T00:00:00",
          "2020-03-04T00:00:00",
          "2020-03-05T00:00:00",
          "2020-03-06T00:00:00",
          "2020-03-09T00:00:00",
          "2020-03-10T00:00:00",
          "2020-03-11T00:00:00",
          "2020-03-12T00:00:00",
          "2020-03-13T00:00:00",
          "2020-03-16T00:00:00",
          "2020-03-17T00:00:00",
          "2020-03-18T00:00:00",
          "2020-03-19T00:00:00",
          "2020-03-20T00:00:00",
          "2020-03-23T00:00:00",
          "2020-03-24T00:00:00",
          "2020-03-25T00:00:00",
          "2020-03-26T00:00:00",
          "2020-03-27T00:00:00",
          "2020-03-30T00:00:00",
          "2020-03-31T00:00:00",
          "2020-04-01T00:00:00",
          "2020-04-02T00:00:00",
          "2020-04-03T00:00:00",
          "2020-04-06T00:00:00",
          "2020-04-07T00:00:00",
          "2020-04-08T00:00:00",
          "2020-04-09T00:00:00",
          "2020-04-13T00:00:00",
          "2020-04-14T00:00:00",
          "2020-04-15T00:00:00",
          "2020-04-16T00:00:00",
          "2020-04-17T00:00:00",
          "2020-04-20T00:00:00",
          "2020-04-21T00:00:00",
          "2020-04-22T00:00:00",
          "2020-04-23T00:00:00",
          "2020-04-24T00:00:00",
          "2020-04-27T00:00:00",
          "2020-04-28T00:00:00",
          "2020-04-29T00:00:00",
          "2020-04-30T00:00:00",
          "2020-05-01T00:00:00",
          "2020-05-04T00:00:00",
          "2020-05-05T00:00:00",
          "2020-05-06T00:00:00",
          "2020-05-07T00:00:00",
          "2020-05-08T00:00:00",
          "2020-05-11T00:00:00",
          "2020-05-12T00:00:00",
          "2020-05-13T00:00:00",
          "2020-05-14T00:00:00",
          "2020-05-15T00:00:00",
          "2020-05-18T00:00:00",
          "2020-05-19T00:00:00",
          "2020-05-20T00:00:00",
          "2020-05-21T00:00:00",
          "2020-05-22T00:00:00",
          "2020-05-26T00:00:00",
          "2020-05-27T00:00:00",
          "2020-05-28T00:00:00",
          "2020-05-29T00:00:00",
          "2020-06-01T00:00:00",
          "2020-06-02T00:00:00",
          "2020-06-03T00:00:00",
          "2020-06-04T00:00:00",
          "2020-06-05T00:00:00",
          "2020-06-08T00:00:00",
          "2020-06-09T00:00:00",
          "2020-06-10T00:00:00",
          "2020-06-11T00:00:00",
          "2020-06-12T00:00:00",
          "2020-06-15T00:00:00",
          "2020-06-16T00:00:00",
          "2020-06-17T00:00:00",
          "2020-06-18T00:00:00",
          "2020-06-19T00:00:00",
          "2020-06-22T00:00:00",
          "2020-06-23T00:00:00",
          "2020-06-24T00:00:00",
          "2020-06-25T00:00:00",
          "2020-06-26T00:00:00",
          "2020-06-29T00:00:00",
          "2020-06-30T00:00:00",
          "2020-07-01T00:00:00",
          "2020-07-02T00:00:00",
          "2020-07-06T00:00:00",
          "2020-07-07T00:00:00",
          "2020-07-08T00:00:00",
          "2020-07-09T00:00:00",
          "2020-07-10T00:00:00",
          "2020-07-13T00:00:00",
          "2020-07-14T00:00:00",
          "2020-07-15T00:00:00"
         ],
         "y": [
          300.3500061035156,
          297.42999267578125,
          299.79998779296875,
          298.3900146484375,
          303.19000244140625,
          309.6300048828125,
          310.3299865722656,
          316.9599914550781,
          312.67999267578125,
          311.3399963378906,
          315.239990234375,
          318.7300109863281,
          316.57000732421875,
          317.70001220703125,
          319.2300109863281,
          318.30999755859375,
          308.95001220703125,
          317.69000244140625,
          324.3399963378906,
          323.8699951171875,
          309.510009765625,
          308.6600036621094,
          318.8500061035156,
          321.45001220703125,
          325.2099914550781,
          320.0299987792969,
          321.54998779296875,
          319.6099853515625,
          327.20001220703125,
          324.8699951171875,
          324.95001220703125,
          319,
          323.6199951171875,
          320.29998779296875,
          313.04998779296875,
          298.17999267578125,
          288.0799865722656,
          292.6499938964844,
          273.5199890136719,
          273.3599853515625,
          298.80999755859375,
          289.32000732421875,
          302.739990234375,
          292.9200134277344,
          289.0299987792969,
          266.1700134277344,
          285.3399963378906,
          275.42999267578125,
          248.22999572753906,
          277.9700012207031,
          242.2100067138672,
          252.86000061035156,
          246.6699981689453,
          244.77999877929688,
          229.24000549316406,
          224.3699951171875,
          246.8800048828125,
          245.52000427246094,
          258.44000244140625,
          247.74000549316406,
          254.80999755859375,
          254.2899932861328,
          240.91000366210938,
          244.92999267578125,
          241.41000366210938,
          262.4700012207031,
          259.42999267578125,
          266.07000732421875,
          267.989990234375,
          273.25,
          287.04998779296875,
          284.42999267578125,
          286.69000244140625,
          282.79998779296875,
          276.92999267578125,
          268.3699951171875,
          276.1000061035156,
          275.0299987792969,
          282.9700012207031,
          283.1700134277344,
          278.5799865722656,
          287.7300109863281,
          293.79998779296875,
          289.07000732421875,
          293.1600036621094,
          297.55999755859375,
          300.6300048828125,
          303.739990234375,
          310.1300048828125,
          315.010009765625,
          311.4100036621094,
          307.6499938964844,
          309.5400085449219,
          307.7099914550781,
          314.9599914550781,
          313.1400146484375,
          319.2300109863281,
          316.8500061035156,
          318.8900146484375,
          316.7300109863281,
          318.1099853515625,
          318.25,
          317.94000244140625,
          321.8500061035156,
          323.3399963378906,
          325.1199951171875,
          322.32000732421875,
          331.5,
          333.4599914550781,
          343.989990234375,
          352.8399963378906,
          335.8999938964844,
          338.79998779296875,
          342.989990234375,
          352.0799865722656,
          351.5899963378906,
          351.7300109863281,
          349.7200012207031,
          358.8699951171875,
          366.5299987792969,
          360.05999755859375,
          364.8399963378906,
          353.6300048828125,
          361.7799987792969,
          364.79998779296875,
          364.1099853515625,
          364.1099853515625,
          373.8500061035156,
          372.69000244140625,
          381.3699951171875,
          383.010009765625,
          383.67999267578125,
          381.9100036621094,
          388.2300109863281,
          390.8999938964844
         ]
        }
       ],
       "layout": {
        "template": {
         "data": {
          "bar": [
           {
            "error_x": {
             "color": "#2a3f5f"
            },
            "error_y": {
             "color": "#2a3f5f"
            },
            "marker": {
             "line": {
              "color": "#E5ECF6",
              "width": 0.5
             }
            },
            "type": "bar"
           }
          ],
          "barpolar": [
           {
            "marker": {
             "line": {
              "color": "#E5ECF6",
              "width": 0.5
             }
            },
            "type": "barpolar"
           }
          ],
          "carpet": [
           {
            "aaxis": {
             "endlinecolor": "#2a3f5f",
             "gridcolor": "white",
             "linecolor": "white",
             "minorgridcolor": "white",
             "startlinecolor": "#2a3f5f"
            },
            "baxis": {
             "endlinecolor": "#2a3f5f",
             "gridcolor": "white",
             "linecolor": "white",
             "minorgridcolor": "white",
             "startlinecolor": "#2a3f5f"
            },
            "type": "carpet"
           }
          ],
          "choropleth": [
           {
            "colorbar": {
             "outlinewidth": 0,
             "ticks": ""
            },
            "type": "choropleth"
           }
          ],
          "contour": [
           {
            "colorbar": {
             "outlinewidth": 0,
             "ticks": ""
            },
            "colorscale": [
             [
              0,
              "#0d0887"
             ],
             [
              0.1111111111111111,
              "#46039f"
             ],
             [
              0.2222222222222222,
              "#7201a8"
             ],
             [
              0.3333333333333333,
              "#9c179e"
             ],
             [
              0.4444444444444444,
              "#bd3786"
             ],
             [
              0.5555555555555556,
              "#d8576b"
             ],
             [
              0.6666666666666666,
              "#ed7953"
             ],
             [
              0.7777777777777778,
              "#fb9f3a"
             ],
             [
              0.8888888888888888,
              "#fdca26"
             ],
             [
              1,
              "#f0f921"
             ]
            ],
            "type": "contour"
           }
          ],
          "contourcarpet": [
           {
            "colorbar": {
             "outlinewidth": 0,
             "ticks": ""
            },
            "type": "contourcarpet"
           }
          ],
          "heatmap": [
           {
            "colorbar": {
             "outlinewidth": 0,
             "ticks": ""
            },
            "colorscale": [
             [
              0,
              "#0d0887"
             ],
             [
              0.1111111111111111,
              "#46039f"
             ],
             [
              0.2222222222222222,
              "#7201a8"
             ],
             [
              0.3333333333333333,
              "#9c179e"
             ],
             [
              0.4444444444444444,
              "#bd3786"
             ],
             [
              0.5555555555555556,
              "#d8576b"
             ],
             [
              0.6666666666666666,
              "#ed7953"
             ],
             [
              0.7777777777777778,
              "#fb9f3a"
             ],
             [
              0.8888888888888888,
              "#fdca26"
             ],
             [
              1,
              "#f0f921"
             ]
            ],
            "type": "heatmap"
           }
          ],
          "heatmapgl": [
           {
            "colorbar": {
             "outlinewidth": 0,
             "ticks": ""
            },
            "colorscale": [
             [
              0,
              "#0d0887"
             ],
             [
              0.1111111111111111,
              "#46039f"
             ],
             [
              0.2222222222222222,
              "#7201a8"
             ],
             [
              0.3333333333333333,
              "#9c179e"
             ],
             [
              0.4444444444444444,
              "#bd3786"
             ],
             [
              0.5555555555555556,
              "#d8576b"
             ],
             [
              0.6666666666666666,
              "#ed7953"
             ],
             [
              0.7777777777777778,
              "#fb9f3a"
             ],
             [
              0.8888888888888888,
              "#fdca26"
             ],
             [
              1,
              "#f0f921"
             ]
            ],
            "type": "heatmapgl"
           }
          ],
          "histogram": [
           {
            "marker": {
             "colorbar": {
              "outlinewidth": 0,
              "ticks": ""
             }
            },
            "type": "histogram"
           }
          ],
          "histogram2d": [
           {
            "colorbar": {
             "outlinewidth": 0,
             "ticks": ""
            },
            "colorscale": [
             [
              0,
              "#0d0887"
             ],
             [
              0.1111111111111111,
              "#46039f"
             ],
             [
              0.2222222222222222,
              "#7201a8"
             ],
             [
              0.3333333333333333,
              "#9c179e"
             ],
             [
              0.4444444444444444,
              "#bd3786"
             ],
             [
              0.5555555555555556,
              "#d8576b"
             ],
             [
              0.6666666666666666,
              "#ed7953"
             ],
             [
              0.7777777777777778,
              "#fb9f3a"
             ],
             [
              0.8888888888888888,
              "#fdca26"
             ],
             [
              1,
              "#f0f921"
             ]
            ],
            "type": "histogram2d"
           }
          ],
          "histogram2dcontour": [
           {
            "colorbar": {
             "outlinewidth": 0,
             "ticks": ""
            },
            "colorscale": [
             [
              0,
              "#0d0887"
             ],
             [
              0.1111111111111111,
              "#46039f"
             ],
             [
              0.2222222222222222,
              "#7201a8"
             ],
             [
              0.3333333333333333,
              "#9c179e"
             ],
             [
              0.4444444444444444,
              "#bd3786"
             ],
             [
              0.5555555555555556,
              "#d8576b"
             ],
             [
              0.6666666666666666,
              "#ed7953"
             ],
             [
              0.7777777777777778,
              "#fb9f3a"
             ],
             [
              0.8888888888888888,
              "#fdca26"
             ],
             [
              1,
              "#f0f921"
             ]
            ],
            "type": "histogram2dcontour"
           }
          ],
          "mesh3d": [
           {
            "colorbar": {
             "outlinewidth": 0,
             "ticks": ""
            },
            "type": "mesh3d"
           }
          ],
          "parcoords": [
           {
            "line": {
             "colorbar": {
              "outlinewidth": 0,
              "ticks": ""
             }
            },
            "type": "parcoords"
           }
          ],
          "pie": [
           {
            "automargin": true,
            "type": "pie"
           }
          ],
          "scatter": [
           {
            "marker": {
             "colorbar": {
              "outlinewidth": 0,
              "ticks": ""
             }
            },
            "type": "scatter"
           }
          ],
          "scatter3d": [
           {
            "line": {
             "colorbar": {
              "outlinewidth": 0,
              "ticks": ""
             }
            },
            "marker": {
             "colorbar": {
              "outlinewidth": 0,
              "ticks": ""
             }
            },
            "type": "scatter3d"
           }
          ],
          "scattercarpet": [
           {
            "marker": {
             "colorbar": {
              "outlinewidth": 0,
              "ticks": ""
             }
            },
            "type": "scattercarpet"
           }
          ],
          "scattergeo": [
           {
            "marker": {
             "colorbar": {
              "outlinewidth": 0,
              "ticks": ""
             }
            },
            "type": "scattergeo"
           }
          ],
          "scattergl": [
           {
            "marker": {
             "colorbar": {
              "outlinewidth": 0,
              "ticks": ""
             }
            },
            "type": "scattergl"
           }
          ],
          "scattermapbox": [
           {
            "marker": {
             "colorbar": {
              "outlinewidth": 0,
              "ticks": ""
             }
            },
            "type": "scattermapbox"
           }
          ],
          "scatterpolar": [
           {
            "marker": {
             "colorbar": {
              "outlinewidth": 0,
              "ticks": ""
             }
            },
            "type": "scatterpolar"
           }
          ],
          "scatterpolargl": [
           {
            "marker": {
             "colorbar": {
              "outlinewidth": 0,
              "ticks": ""
             }
            },
            "type": "scatterpolargl"
           }
          ],
          "scatterternary": [
           {
            "marker": {
             "colorbar": {
              "outlinewidth": 0,
              "ticks": ""
             }
            },
            "type": "scatterternary"
           }
          ],
          "surface": [
           {
            "colorbar": {
             "outlinewidth": 0,
             "ticks": ""
            },
            "colorscale": [
             [
              0,
              "#0d0887"
             ],
             [
              0.1111111111111111,
              "#46039f"
             ],
             [
              0.2222222222222222,
              "#7201a8"
             ],
             [
              0.3333333333333333,
              "#9c179e"
             ],
             [
              0.4444444444444444,
              "#bd3786"
             ],
             [
              0.5555555555555556,
              "#d8576b"
             ],
             [
              0.6666666666666666,
              "#ed7953"
             ],
             [
              0.7777777777777778,
              "#fb9f3a"
             ],
             [
              0.8888888888888888,
              "#fdca26"
             ],
             [
              1,
              "#f0f921"
             ]
            ],
            "type": "surface"
           }
          ],
          "table": [
           {
            "cells": {
             "fill": {
              "color": "#EBF0F8"
             },
             "line": {
              "color": "white"
             }
            },
            "header": {
             "fill": {
              "color": "#C8D4E3"
             },
             "line": {
              "color": "white"
             }
            },
            "type": "table"
           }
          ]
         },
         "layout": {
          "annotationdefaults": {
           "arrowcolor": "#2a3f5f",
           "arrowhead": 0,
           "arrowwidth": 1
          },
          "coloraxis": {
           "colorbar": {
            "outlinewidth": 0,
            "ticks": ""
           }
          },
          "colorscale": {
           "diverging": [
            [
             0,
             "#8e0152"
            ],
            [
             0.1,
             "#c51b7d"
            ],
            [
             0.2,
             "#de77ae"
            ],
            [
             0.3,
             "#f1b6da"
            ],
            [
             0.4,
             "#fde0ef"
            ],
            [
             0.5,
             "#f7f7f7"
            ],
            [
             0.6,
             "#e6f5d0"
            ],
            [
             0.7,
             "#b8e186"
            ],
            [
             0.8,
             "#7fbc41"
            ],
            [
             0.9,
             "#4d9221"
            ],
            [
             1,
             "#276419"
            ]
           ],
           "sequential": [
            [
             0,
             "#0d0887"
            ],
            [
             0.1111111111111111,
             "#46039f"
            ],
            [
             0.2222222222222222,
             "#7201a8"
            ],
            [
             0.3333333333333333,
             "#9c179e"
            ],
            [
             0.4444444444444444,
             "#bd3786"
            ],
            [
             0.5555555555555556,
             "#d8576b"
            ],
            [
             0.6666666666666666,
             "#ed7953"
            ],
            [
             0.7777777777777778,
             "#fb9f3a"
            ],
            [
             0.8888888888888888,
             "#fdca26"
            ],
            [
             1,
             "#f0f921"
            ]
           ],
           "sequentialminus": [
            [
             0,
             "#0d0887"
            ],
            [
             0.1111111111111111,
             "#46039f"
            ],
            [
             0.2222222222222222,
             "#7201a8"
            ],
            [
             0.3333333333333333,
             "#9c179e"
            ],
            [
             0.4444444444444444,
             "#bd3786"
            ],
            [
             0.5555555555555556,
             "#d8576b"
            ],
            [
             0.6666666666666666,
             "#ed7953"
            ],
            [
             0.7777777777777778,
             "#fb9f3a"
            ],
            [
             0.8888888888888888,
             "#fdca26"
            ],
            [
             1,
             "#f0f921"
            ]
           ]
          },
          "colorway": [
           "#636efa",
           "#EF553B",
           "#00cc96",
           "#ab63fa",
           "#FFA15A",
           "#19d3f3",
           "#FF6692",
           "#B6E880",
           "#FF97FF",
           "#FECB52"
          ],
          "font": {
           "color": "#2a3f5f"
          },
          "geo": {
           "bgcolor": "white",
           "lakecolor": "white",
           "landcolor": "#E5ECF6",
           "showlakes": true,
           "showland": true,
           "subunitcolor": "white"
          },
          "hoverlabel": {
           "align": "left"
          },
          "hovermode": "closest",
          "mapbox": {
           "style": "light"
          },
          "paper_bgcolor": "white",
          "plot_bgcolor": "#E5ECF6",
          "polar": {
           "angularaxis": {
            "gridcolor": "white",
            "linecolor": "white",
            "ticks": ""
           },
           "bgcolor": "#E5ECF6",
           "radialaxis": {
            "gridcolor": "white",
            "linecolor": "white",
            "ticks": ""
           }
          },
          "scene": {
           "xaxis": {
            "backgroundcolor": "#E5ECF6",
            "gridcolor": "white",
            "gridwidth": 2,
            "linecolor": "white",
            "showbackground": true,
            "ticks": "",
            "zerolinecolor": "white"
           },
           "yaxis": {
            "backgroundcolor": "#E5ECF6",
            "gridcolor": "white",
            "gridwidth": 2,
            "linecolor": "white",
            "showbackground": true,
            "ticks": "",
            "zerolinecolor": "white"
           },
           "zaxis": {
            "backgroundcolor": "#E5ECF6",
            "gridcolor": "white",
            "gridwidth": 2,
            "linecolor": "white",
            "showbackground": true,
            "ticks": "",
            "zerolinecolor": "white"
           }
          },
          "shapedefaults": {
           "line": {
            "color": "#2a3f5f"
           }
          },
          "ternary": {
           "aaxis": {
            "gridcolor": "white",
            "linecolor": "white",
            "ticks": ""
           },
           "baxis": {
            "gridcolor": "white",
            "linecolor": "white",
            "ticks": ""
           },
           "bgcolor": "#E5ECF6",
           "caxis": {
            "gridcolor": "white",
            "linecolor": "white",
            "ticks": ""
           }
          },
          "title": {
           "x": 0.05
          },
          "xaxis": {
           "automargin": true,
           "gridcolor": "white",
           "linecolor": "white",
           "ticks": "",
           "title": {
            "standoff": 15
           },
           "zerolinecolor": "white",
           "zerolinewidth": 2
          },
          "yaxis": {
           "automargin": true,
           "gridcolor": "white",
           "linecolor": "white",
           "ticks": "",
           "title": {
            "standoff": 15
           },
           "zerolinecolor": "white",
           "zerolinewidth": 2
          }
         }
        }
       }
      },
      "text/html": [
       "<div>\n",
       "        \n",
       "        \n",
       "            <div id=\"15dc1c56-be9e-41b7-97ac-a510b7a148f9\" class=\"plotly-graph-div\" style=\"height:525px; width:100%;\"></div>\n",
       "            <script type=\"text/javascript\">\n",
       "                require([\"plotly\"], function(Plotly) {\n",
       "                    window.PLOTLYENV=window.PLOTLYENV || {};\n",
       "                    \n",
       "                if (document.getElementById(\"15dc1c56-be9e-41b7-97ac-a510b7a148f9\")) {\n",
       "                    Plotly.newPlot(\n",
       "                        '15dc1c56-be9e-41b7-97ac-a510b7a148f9',\n",
       "                        [{\"mode\": \"lines\", \"type\": \"scatter\", \"x\": [\"2020-01-02T00:00:00\", \"2020-01-03T00:00:00\", \"2020-01-06T00:00:00\", \"2020-01-07T00:00:00\", \"2020-01-08T00:00:00\", \"2020-01-09T00:00:00\", \"2020-01-10T00:00:00\", \"2020-01-13T00:00:00\", \"2020-01-14T00:00:00\", \"2020-01-15T00:00:00\", \"2020-01-16T00:00:00\", \"2020-01-17T00:00:00\", \"2020-01-21T00:00:00\", \"2020-01-22T00:00:00\", \"2020-01-23T00:00:00\", \"2020-01-24T00:00:00\", \"2020-01-27T00:00:00\", \"2020-01-28T00:00:00\", \"2020-01-29T00:00:00\", \"2020-01-30T00:00:00\", \"2020-01-31T00:00:00\", \"2020-02-03T00:00:00\", \"2020-02-04T00:00:00\", \"2020-02-05T00:00:00\", \"2020-02-06T00:00:00\", \"2020-02-07T00:00:00\", \"2020-02-10T00:00:00\", \"2020-02-11T00:00:00\", \"2020-02-12T00:00:00\", \"2020-02-13T00:00:00\", \"2020-02-14T00:00:00\", \"2020-02-18T00:00:00\", \"2020-02-19T00:00:00\", \"2020-02-20T00:00:00\", \"2020-02-21T00:00:00\", \"2020-02-24T00:00:00\", \"2020-02-25T00:00:00\", \"2020-02-26T00:00:00\", \"2020-02-27T00:00:00\", \"2020-02-28T00:00:00\", \"2020-03-02T00:00:00\", \"2020-03-03T00:00:00\", \"2020-03-04T00:00:00\", \"2020-03-05T00:00:00\", \"2020-03-06T00:00:00\", \"2020-03-09T00:00:00\", \"2020-03-10T00:00:00\", \"2020-03-11T00:00:00\", \"2020-03-12T00:00:00\", \"2020-03-13T00:00:00\", \"2020-03-16T00:00:00\", \"2020-03-17T00:00:00\", \"2020-03-18T00:00:00\", \"2020-03-19T00:00:00\", \"2020-03-20T00:00:00\", \"2020-03-23T00:00:00\", \"2020-03-24T00:00:00\", \"2020-03-25T00:00:00\", \"2020-03-26T00:00:00\", \"2020-03-27T00:00:00\", \"2020-03-30T00:00:00\", \"2020-03-31T00:00:00\", \"2020-04-01T00:00:00\", \"2020-04-02T00:00:00\", \"2020-04-03T00:00:00\", \"2020-04-06T00:00:00\", \"2020-04-07T00:00:00\", \"2020-04-08T00:00:00\", \"2020-04-09T00:00:00\", \"2020-04-13T00:00:00\", \"2020-04-14T00:00:00\", \"2020-04-15T00:00:00\", \"2020-04-16T00:00:00\", \"2020-04-17T00:00:00\", \"2020-04-20T00:00:00\", \"2020-04-21T00:00:00\", \"2020-04-22T00:00:00\", \"2020-04-23T00:00:00\", \"2020-04-24T00:00:00\", \"2020-04-27T00:00:00\", \"2020-04-28T00:00:00\", \"2020-04-29T00:00:00\", \"2020-04-30T00:00:00\", \"2020-05-01T00:00:00\", \"2020-05-04T00:00:00\", \"2020-05-05T00:00:00\", \"2020-05-06T00:00:00\", \"2020-05-07T00:00:00\", \"2020-05-08T00:00:00\", \"2020-05-11T00:00:00\", \"2020-05-12T00:00:00\", \"2020-05-13T00:00:00\", \"2020-05-14T00:00:00\", \"2020-05-15T00:00:00\", \"2020-05-18T00:00:00\", \"2020-05-19T00:00:00\", \"2020-05-20T00:00:00\", \"2020-05-21T00:00:00\", \"2020-05-22T00:00:00\", \"2020-05-26T00:00:00\", \"2020-05-27T00:00:00\", \"2020-05-28T00:00:00\", \"2020-05-29T00:00:00\", \"2020-06-01T00:00:00\", \"2020-06-02T00:00:00\", \"2020-06-03T00:00:00\", \"2020-06-04T00:00:00\", \"2020-06-05T00:00:00\", \"2020-06-08T00:00:00\", \"2020-06-09T00:00:00\", \"2020-06-10T00:00:00\", \"2020-06-11T00:00:00\", \"2020-06-12T00:00:00\", \"2020-06-15T00:00:00\", \"2020-06-16T00:00:00\", \"2020-06-17T00:00:00\", \"2020-06-18T00:00:00\", \"2020-06-19T00:00:00\", \"2020-06-22T00:00:00\", \"2020-06-23T00:00:00\", \"2020-06-24T00:00:00\", \"2020-06-25T00:00:00\", \"2020-06-26T00:00:00\", \"2020-06-29T00:00:00\", \"2020-06-30T00:00:00\", \"2020-07-01T00:00:00\", \"2020-07-02T00:00:00\", \"2020-07-06T00:00:00\", \"2020-07-07T00:00:00\", \"2020-07-08T00:00:00\", \"2020-07-09T00:00:00\", \"2020-07-10T00:00:00\", \"2020-07-13T00:00:00\", \"2020-07-14T00:00:00\", \"2020-07-15T00:00:00\"], \"y\": [300.3500061035156, 297.42999267578125, 299.79998779296875, 298.3900146484375, 303.19000244140625, 309.6300048828125, 310.3299865722656, 316.9599914550781, 312.67999267578125, 311.3399963378906, 315.239990234375, 318.7300109863281, 316.57000732421875, 317.70001220703125, 319.2300109863281, 318.30999755859375, 308.95001220703125, 317.69000244140625, 324.3399963378906, 323.8699951171875, 309.510009765625, 308.6600036621094, 318.8500061035156, 321.45001220703125, 325.2099914550781, 320.0299987792969, 321.54998779296875, 319.6099853515625, 327.20001220703125, 324.8699951171875, 324.95001220703125, 319.0, 323.6199951171875, 320.29998779296875, 313.04998779296875, 298.17999267578125, 288.0799865722656, 292.6499938964844, 273.5199890136719, 273.3599853515625, 298.80999755859375, 289.32000732421875, 302.739990234375, 292.9200134277344, 289.0299987792969, 266.1700134277344, 285.3399963378906, 275.42999267578125, 248.22999572753906, 277.9700012207031, 242.2100067138672, 252.86000061035156, 246.6699981689453, 244.77999877929688, 229.24000549316406, 224.3699951171875, 246.8800048828125, 245.52000427246094, 258.44000244140625, 247.74000549316406, 254.80999755859375, 254.2899932861328, 240.91000366210938, 244.92999267578125, 241.41000366210938, 262.4700012207031, 259.42999267578125, 266.07000732421875, 267.989990234375, 273.25, 287.04998779296875, 284.42999267578125, 286.69000244140625, 282.79998779296875, 276.92999267578125, 268.3699951171875, 276.1000061035156, 275.0299987792969, 282.9700012207031, 283.1700134277344, 278.5799865722656, 287.7300109863281, 293.79998779296875, 289.07000732421875, 293.1600036621094, 297.55999755859375, 300.6300048828125, 303.739990234375, 310.1300048828125, 315.010009765625, 311.4100036621094, 307.6499938964844, 309.5400085449219, 307.7099914550781, 314.9599914550781, 313.1400146484375, 319.2300109863281, 316.8500061035156, 318.8900146484375, 316.7300109863281, 318.1099853515625, 318.25, 317.94000244140625, 321.8500061035156, 323.3399963378906, 325.1199951171875, 322.32000732421875, 331.5, 333.4599914550781, 343.989990234375, 352.8399963378906, 335.8999938964844, 338.79998779296875, 342.989990234375, 352.0799865722656, 351.5899963378906, 351.7300109863281, 349.7200012207031, 358.8699951171875, 366.5299987792969, 360.05999755859375, 364.8399963378906, 353.6300048828125, 361.7799987792969, 364.79998779296875, 364.1099853515625, 364.1099853515625, 373.8500061035156, 372.69000244140625, 381.3699951171875, 383.010009765625, 383.67999267578125, 381.9100036621094, 388.2300109863281, 390.8999938964844]}],\n",
       "                        {\"template\": {\"data\": {\"bar\": [{\"error_x\": {\"color\": \"#2a3f5f\"}, \"error_y\": {\"color\": \"#2a3f5f\"}, \"marker\": {\"line\": {\"color\": \"#E5ECF6\", \"width\": 0.5}}, \"type\": \"bar\"}], \"barpolar\": [{\"marker\": {\"line\": {\"color\": \"#E5ECF6\", \"width\": 0.5}}, \"type\": \"barpolar\"}], \"carpet\": [{\"aaxis\": {\"endlinecolor\": \"#2a3f5f\", \"gridcolor\": \"white\", \"linecolor\": \"white\", \"minorgridcolor\": \"white\", \"startlinecolor\": \"#2a3f5f\"}, \"baxis\": {\"endlinecolor\": \"#2a3f5f\", \"gridcolor\": \"white\", \"linecolor\": \"white\", \"minorgridcolor\": \"white\", \"startlinecolor\": \"#2a3f5f\"}, \"type\": \"carpet\"}], \"choropleth\": [{\"colorbar\": {\"outlinewidth\": 0, \"ticks\": \"\"}, \"type\": \"choropleth\"}], \"contour\": [{\"colorbar\": {\"outlinewidth\": 0, \"ticks\": \"\"}, \"colorscale\": [[0.0, \"#0d0887\"], [0.1111111111111111, \"#46039f\"], [0.2222222222222222, \"#7201a8\"], [0.3333333333333333, \"#9c179e\"], [0.4444444444444444, \"#bd3786\"], [0.5555555555555556, \"#d8576b\"], [0.6666666666666666, \"#ed7953\"], [0.7777777777777778, \"#fb9f3a\"], [0.8888888888888888, \"#fdca26\"], [1.0, \"#f0f921\"]], \"type\": \"contour\"}], \"contourcarpet\": [{\"colorbar\": {\"outlinewidth\": 0, \"ticks\": \"\"}, \"type\": \"contourcarpet\"}], \"heatmap\": [{\"colorbar\": {\"outlinewidth\": 0, \"ticks\": \"\"}, \"colorscale\": [[0.0, \"#0d0887\"], [0.1111111111111111, \"#46039f\"], [0.2222222222222222, \"#7201a8\"], [0.3333333333333333, \"#9c179e\"], [0.4444444444444444, \"#bd3786\"], [0.5555555555555556, \"#d8576b\"], [0.6666666666666666, \"#ed7953\"], [0.7777777777777778, \"#fb9f3a\"], [0.8888888888888888, \"#fdca26\"], [1.0, \"#f0f921\"]], \"type\": \"heatmap\"}], \"heatmapgl\": [{\"colorbar\": {\"outlinewidth\": 0, \"ticks\": \"\"}, \"colorscale\": [[0.0, \"#0d0887\"], [0.1111111111111111, \"#46039f\"], [0.2222222222222222, \"#7201a8\"], [0.3333333333333333, \"#9c179e\"], [0.4444444444444444, \"#bd3786\"], [0.5555555555555556, \"#d8576b\"], [0.6666666666666666, \"#ed7953\"], [0.7777777777777778, \"#fb9f3a\"], [0.8888888888888888, \"#fdca26\"], [1.0, \"#f0f921\"]], \"type\": \"heatmapgl\"}], \"histogram\": [{\"marker\": {\"colorbar\": {\"outlinewidth\": 0, \"ticks\": \"\"}}, \"type\": \"histogram\"}], \"histogram2d\": [{\"colorbar\": {\"outlinewidth\": 0, \"ticks\": \"\"}, \"colorscale\": [[0.0, \"#0d0887\"], [0.1111111111111111, \"#46039f\"], [0.2222222222222222, \"#7201a8\"], [0.3333333333333333, \"#9c179e\"], [0.4444444444444444, \"#bd3786\"], [0.5555555555555556, \"#d8576b\"], [0.6666666666666666, \"#ed7953\"], [0.7777777777777778, \"#fb9f3a\"], [0.8888888888888888, \"#fdca26\"], [1.0, \"#f0f921\"]], \"type\": \"histogram2d\"}], \"histogram2dcontour\": [{\"colorbar\": {\"outlinewidth\": 0, \"ticks\": \"\"}, \"colorscale\": [[0.0, \"#0d0887\"], [0.1111111111111111, \"#46039f\"], [0.2222222222222222, \"#7201a8\"], [0.3333333333333333, \"#9c179e\"], [0.4444444444444444, \"#bd3786\"], [0.5555555555555556, \"#d8576b\"], [0.6666666666666666, \"#ed7953\"], [0.7777777777777778, \"#fb9f3a\"], [0.8888888888888888, \"#fdca26\"], [1.0, \"#f0f921\"]], \"type\": \"histogram2dcontour\"}], \"mesh3d\": [{\"colorbar\": {\"outlinewidth\": 0, \"ticks\": \"\"}, \"type\": \"mesh3d\"}], \"parcoords\": [{\"line\": {\"colorbar\": {\"outlinewidth\": 0, \"ticks\": \"\"}}, \"type\": \"parcoords\"}], \"pie\": [{\"automargin\": true, \"type\": \"pie\"}], \"scatter\": [{\"marker\": {\"colorbar\": {\"outlinewidth\": 0, \"ticks\": \"\"}}, \"type\": \"scatter\"}], \"scatter3d\": [{\"line\": {\"colorbar\": {\"outlinewidth\": 0, \"ticks\": \"\"}}, \"marker\": {\"colorbar\": {\"outlinewidth\": 0, \"ticks\": \"\"}}, \"type\": \"scatter3d\"}], \"scattercarpet\": [{\"marker\": {\"colorbar\": {\"outlinewidth\": 0, \"ticks\": \"\"}}, \"type\": \"scattercarpet\"}], \"scattergeo\": [{\"marker\": {\"colorbar\": {\"outlinewidth\": 0, \"ticks\": \"\"}}, \"type\": \"scattergeo\"}], \"scattergl\": [{\"marker\": {\"colorbar\": {\"outlinewidth\": 0, \"ticks\": \"\"}}, \"type\": \"scattergl\"}], \"scattermapbox\": [{\"marker\": {\"colorbar\": {\"outlinewidth\": 0, \"ticks\": \"\"}}, \"type\": \"scattermapbox\"}], \"scatterpolar\": [{\"marker\": {\"colorbar\": {\"outlinewidth\": 0, \"ticks\": \"\"}}, \"type\": \"scatterpolar\"}], \"scatterpolargl\": [{\"marker\": {\"colorbar\": {\"outlinewidth\": 0, \"ticks\": \"\"}}, \"type\": \"scatterpolargl\"}], \"scatterternary\": [{\"marker\": {\"colorbar\": {\"outlinewidth\": 0, \"ticks\": \"\"}}, \"type\": \"scatterternary\"}], \"surface\": [{\"colorbar\": {\"outlinewidth\": 0, \"ticks\": \"\"}, \"colorscale\": [[0.0, \"#0d0887\"], [0.1111111111111111, \"#46039f\"], [0.2222222222222222, \"#7201a8\"], [0.3333333333333333, \"#9c179e\"], [0.4444444444444444, \"#bd3786\"], [0.5555555555555556, \"#d8576b\"], [0.6666666666666666, \"#ed7953\"], [0.7777777777777778, \"#fb9f3a\"], [0.8888888888888888, \"#fdca26\"], [1.0, \"#f0f921\"]], \"type\": \"surface\"}], \"table\": [{\"cells\": {\"fill\": {\"color\": \"#EBF0F8\"}, \"line\": {\"color\": \"white\"}}, \"header\": {\"fill\": {\"color\": \"#C8D4E3\"}, \"line\": {\"color\": \"white\"}}, \"type\": \"table\"}]}, \"layout\": {\"annotationdefaults\": {\"arrowcolor\": \"#2a3f5f\", \"arrowhead\": 0, \"arrowwidth\": 1}, \"coloraxis\": {\"colorbar\": {\"outlinewidth\": 0, \"ticks\": \"\"}}, \"colorscale\": {\"diverging\": [[0, \"#8e0152\"], [0.1, \"#c51b7d\"], [0.2, \"#de77ae\"], [0.3, \"#f1b6da\"], [0.4, \"#fde0ef\"], [0.5, \"#f7f7f7\"], [0.6, \"#e6f5d0\"], [0.7, \"#b8e186\"], [0.8, \"#7fbc41\"], [0.9, \"#4d9221\"], [1, \"#276419\"]], \"sequential\": [[0.0, \"#0d0887\"], [0.1111111111111111, \"#46039f\"], [0.2222222222222222, \"#7201a8\"], [0.3333333333333333, \"#9c179e\"], [0.4444444444444444, \"#bd3786\"], [0.5555555555555556, \"#d8576b\"], [0.6666666666666666, \"#ed7953\"], [0.7777777777777778, \"#fb9f3a\"], [0.8888888888888888, \"#fdca26\"], [1.0, \"#f0f921\"]], \"sequentialminus\": [[0.0, \"#0d0887\"], [0.1111111111111111, \"#46039f\"], [0.2222222222222222, \"#7201a8\"], [0.3333333333333333, \"#9c179e\"], [0.4444444444444444, \"#bd3786\"], [0.5555555555555556, \"#d8576b\"], [0.6666666666666666, \"#ed7953\"], [0.7777777777777778, \"#fb9f3a\"], [0.8888888888888888, \"#fdca26\"], [1.0, \"#f0f921\"]]}, \"colorway\": [\"#636efa\", \"#EF553B\", \"#00cc96\", \"#ab63fa\", \"#FFA15A\", \"#19d3f3\", \"#FF6692\", \"#B6E880\", \"#FF97FF\", \"#FECB52\"], \"font\": {\"color\": \"#2a3f5f\"}, \"geo\": {\"bgcolor\": \"white\", \"lakecolor\": \"white\", \"landcolor\": \"#E5ECF6\", \"showlakes\": true, \"showland\": true, \"subunitcolor\": \"white\"}, \"hoverlabel\": {\"align\": \"left\"}, \"hovermode\": \"closest\", \"mapbox\": {\"style\": \"light\"}, \"paper_bgcolor\": \"white\", \"plot_bgcolor\": \"#E5ECF6\", \"polar\": {\"angularaxis\": {\"gridcolor\": \"white\", \"linecolor\": \"white\", \"ticks\": \"\"}, \"bgcolor\": \"#E5ECF6\", \"radialaxis\": {\"gridcolor\": \"white\", \"linecolor\": \"white\", \"ticks\": \"\"}}, \"scene\": {\"xaxis\": {\"backgroundcolor\": \"#E5ECF6\", \"gridcolor\": \"white\", \"gridwidth\": 2, \"linecolor\": \"white\", \"showbackground\": true, \"ticks\": \"\", \"zerolinecolor\": \"white\"}, \"yaxis\": {\"backgroundcolor\": \"#E5ECF6\", \"gridcolor\": \"white\", \"gridwidth\": 2, \"linecolor\": \"white\", \"showbackground\": true, \"ticks\": \"\", \"zerolinecolor\": \"white\"}, \"zaxis\": {\"backgroundcolor\": \"#E5ECF6\", \"gridcolor\": \"white\", \"gridwidth\": 2, \"linecolor\": \"white\", \"showbackground\": true, \"ticks\": \"\", \"zerolinecolor\": \"white\"}}, \"shapedefaults\": {\"line\": {\"color\": \"#2a3f5f\"}}, \"ternary\": {\"aaxis\": {\"gridcolor\": \"white\", \"linecolor\": \"white\", \"ticks\": \"\"}, \"baxis\": {\"gridcolor\": \"white\", \"linecolor\": \"white\", \"ticks\": \"\"}, \"bgcolor\": \"#E5ECF6\", \"caxis\": {\"gridcolor\": \"white\", \"linecolor\": \"white\", \"ticks\": \"\"}}, \"title\": {\"x\": 0.05}, \"xaxis\": {\"automargin\": true, \"gridcolor\": \"white\", \"linecolor\": \"white\", \"ticks\": \"\", \"title\": {\"standoff\": 15}, \"zerolinecolor\": \"white\", \"zerolinewidth\": 2}, \"yaxis\": {\"automargin\": true, \"gridcolor\": \"white\", \"linecolor\": \"white\", \"ticks\": \"\", \"title\": {\"standoff\": 15}, \"zerolinecolor\": \"white\", \"zerolinewidth\": 2}}}},\n",
       "                        {\"responsive\": true}\n",
       "                    ).then(function(){\n",
       "                            \n",
       "var gd = document.getElementById('15dc1c56-be9e-41b7-97ac-a510b7a148f9');\n",
       "var x = new MutationObserver(function (mutations, observer) {{\n",
       "        var display = window.getComputedStyle(gd).display;\n",
       "        if (!display || display === 'none') {{\n",
       "            console.log([gd, 'removed!']);\n",
       "            Plotly.purge(gd);\n",
       "            observer.disconnect();\n",
       "        }}\n",
       "}});\n",
       "\n",
       "// Listen for the removal of the full notebook cells\n",
       "var notebookContainer = gd.closest('#notebook-container');\n",
       "if (notebookContainer) {{\n",
       "    x.observe(notebookContainer, {childList: true});\n",
       "}}\n",
       "\n",
       "// Listen for the clearing of the current output cell\n",
       "var outputEl = gd.closest('.output');\n",
       "if (outputEl) {{\n",
       "    x.observe(outputEl, {childList: true});\n",
       "}}\n",
       "\n",
       "                        })\n",
       "                };\n",
       "                });\n",
       "            </script>\n",
       "        </div>"
      ]
     },
     "metadata": {},
     "output_type": "display_data"
    }
   ],
   "source": [
    "#let's visualise the data_chart\n",
    "fig=go.Figure(data_chart) #to draw the chart\n",
    "\n",
    "fig.show() #to show the chart"
   ]
  },
  {
   "cell_type": "code",
   "execution_count": 26,
   "metadata": {},
   "outputs": [
    {
     "data": {
      "application/vnd.plotly.v1+json": {
       "config": {
        "plotlyServerURL": "https://plot.ly"
       },
       "data": [
        {
         "mode": "lines",
         "type": "scatter",
         "x": [
          "2020-01-02T00:00:00",
          "2020-01-03T00:00:00",
          "2020-01-06T00:00:00",
          "2020-01-07T00:00:00",
          "2020-01-08T00:00:00",
          "2020-01-09T00:00:00",
          "2020-01-10T00:00:00",
          "2020-01-13T00:00:00",
          "2020-01-14T00:00:00",
          "2020-01-15T00:00:00",
          "2020-01-16T00:00:00",
          "2020-01-17T00:00:00",
          "2020-01-21T00:00:00",
          "2020-01-22T00:00:00",
          "2020-01-23T00:00:00",
          "2020-01-24T00:00:00",
          "2020-01-27T00:00:00",
          "2020-01-28T00:00:00",
          "2020-01-29T00:00:00",
          "2020-01-30T00:00:00",
          "2020-01-31T00:00:00",
          "2020-02-03T00:00:00",
          "2020-02-04T00:00:00",
          "2020-02-05T00:00:00",
          "2020-02-06T00:00:00",
          "2020-02-07T00:00:00",
          "2020-02-10T00:00:00",
          "2020-02-11T00:00:00",
          "2020-02-12T00:00:00",
          "2020-02-13T00:00:00",
          "2020-02-14T00:00:00",
          "2020-02-18T00:00:00",
          "2020-02-19T00:00:00",
          "2020-02-20T00:00:00",
          "2020-02-21T00:00:00",
          "2020-02-24T00:00:00",
          "2020-02-25T00:00:00",
          "2020-02-26T00:00:00",
          "2020-02-27T00:00:00",
          "2020-02-28T00:00:00",
          "2020-03-02T00:00:00",
          "2020-03-03T00:00:00",
          "2020-03-04T00:00:00",
          "2020-03-05T00:00:00",
          "2020-03-06T00:00:00",
          "2020-03-09T00:00:00",
          "2020-03-10T00:00:00",
          "2020-03-11T00:00:00",
          "2020-03-12T00:00:00",
          "2020-03-13T00:00:00",
          "2020-03-16T00:00:00",
          "2020-03-17T00:00:00",
          "2020-03-18T00:00:00",
          "2020-03-19T00:00:00",
          "2020-03-20T00:00:00",
          "2020-03-23T00:00:00",
          "2020-03-24T00:00:00",
          "2020-03-25T00:00:00",
          "2020-03-26T00:00:00",
          "2020-03-27T00:00:00",
          "2020-03-30T00:00:00",
          "2020-03-31T00:00:00",
          "2020-04-01T00:00:00",
          "2020-04-02T00:00:00",
          "2020-04-03T00:00:00",
          "2020-04-06T00:00:00",
          "2020-04-07T00:00:00",
          "2020-04-08T00:00:00",
          "2020-04-09T00:00:00",
          "2020-04-13T00:00:00",
          "2020-04-14T00:00:00",
          "2020-04-15T00:00:00",
          "2020-04-16T00:00:00",
          "2020-04-17T00:00:00",
          "2020-04-20T00:00:00",
          "2020-04-21T00:00:00",
          "2020-04-22T00:00:00",
          "2020-04-23T00:00:00",
          "2020-04-24T00:00:00",
          "2020-04-27T00:00:00",
          "2020-04-28T00:00:00",
          "2020-04-29T00:00:00",
          "2020-04-30T00:00:00",
          "2020-05-01T00:00:00",
          "2020-05-04T00:00:00",
          "2020-05-05T00:00:00",
          "2020-05-06T00:00:00",
          "2020-05-07T00:00:00",
          "2020-05-08T00:00:00",
          "2020-05-11T00:00:00",
          "2020-05-12T00:00:00",
          "2020-05-13T00:00:00",
          "2020-05-14T00:00:00",
          "2020-05-15T00:00:00",
          "2020-05-18T00:00:00",
          "2020-05-19T00:00:00",
          "2020-05-20T00:00:00",
          "2020-05-21T00:00:00",
          "2020-05-22T00:00:00",
          "2020-05-26T00:00:00",
          "2020-05-27T00:00:00",
          "2020-05-28T00:00:00",
          "2020-05-29T00:00:00",
          "2020-06-01T00:00:00",
          "2020-06-02T00:00:00",
          "2020-06-03T00:00:00",
          "2020-06-04T00:00:00",
          "2020-06-05T00:00:00",
          "2020-06-08T00:00:00",
          "2020-06-09T00:00:00",
          "2020-06-10T00:00:00",
          "2020-06-11T00:00:00",
          "2020-06-12T00:00:00",
          "2020-06-15T00:00:00",
          "2020-06-16T00:00:00",
          "2020-06-17T00:00:00",
          "2020-06-18T00:00:00",
          "2020-06-19T00:00:00",
          "2020-06-22T00:00:00",
          "2020-06-23T00:00:00",
          "2020-06-24T00:00:00",
          "2020-06-25T00:00:00",
          "2020-06-26T00:00:00",
          "2020-06-29T00:00:00",
          "2020-06-30T00:00:00",
          "2020-07-01T00:00:00",
          "2020-07-02T00:00:00",
          "2020-07-06T00:00:00",
          "2020-07-07T00:00:00",
          "2020-07-08T00:00:00",
          "2020-07-09T00:00:00",
          "2020-07-10T00:00:00",
          "2020-07-13T00:00:00",
          "2020-07-14T00:00:00",
          "2020-07-15T00:00:00"
         ],
         "y": [
          148.1999969482422,
          146.5,
          145.64999389648438,
          145.6999969482422,
          145.39999389648438,
          144.8300018310547,
          144.6199951171875,
          143.8800048828125,
          145.1999969482422,
          144.32000732421875,
          145.1199951171875,
          144.3300018310547,
          143.55999755859375,
          144.00999450683594,
          142.1999969482422,
          140.0800018310547,
          135.89999389648438,
          138.3699951171875,
          136.05999755859375,
          137.80999755859375,
          138.30999755859375,
          141.32000732421875,
          144.72999572753906,
          141.3699951171875,
          142.6999969482422,
          141.02000427246094,
          142.58999633789062,
          141.00999450683594,
          141.85000610351562,
          140.89999389648438,
          139.5399932861328,
          139.13999938964844,
          141.3000030517578,
          140.3699951171875,
          138.97000122070312,
          133.00999450683594,
          128.19000244140625,
          123.36000061035156,
          118.04000091552734,
          117.6500015258789,
          119.9800033569336,
          116.44999694824219,
          119.18000030517578,
          113.9800033569336,
          115.2699966430664,
          104.3499984741211,
          111.45999908447266,
          105.51000213623047,
          91.80999755859375,
          102.5199966430664,
          95.01000213623047,
          93.52999877929688,
          88.80000305175781,
          94.93000030517578,
          85.9800033569336,
          85.76000213623047,
          98.12000274658203,
          100.7300033569336,
          105.36000061035156,
          96.4000015258789,
          99.80000305175781,
          96.5999984741211,
          94.91999816894531,
          96.97000122070312,
          93.87999725341797,
          99.58000183105469,
          101.23999786376953,
          101.06999969482422,
          104.5,
          103.5,
          106.02999877929688,
          103.37000274658203,
          102.0199966430664,
          106.62999725341797,
          102.26000213623047,
          100.54000091552734,
          100.98999786376953,
          101,
          101.19000244140625,
          106.05999755859375,
          106.20999908447266,
          112.25,
          108.1500015258789,
          105.5,
          103.18000030517578,
          101.05999755859375,
          100.87999725341797,
          105.56999969482422,
          109.16000366210938,
          107.7699966430664,
          104.55999755859375,
          102.91999816894531,
          105.91000366210938,
          109.05000305175781,
          116.8499984741211,
          114.37000274658203,
          119.91999816894531,
          117.83000183105469,
          118.0199966430664,
          120.94999694824219,
          121.52999877929688,
          116.75,
          117.30000305175781,
          118.7699966430664,
          118.75,
          122.18000030517578,
          123.69000244140625,
          124.81999969482422,
          127.27999877929688,
          123.88999938964844,
          122.18000030517578,
          112.63999938964844,
          115.48999786376953,
          117.08000183105469,
          118.44000244140625,
          117.6500015258789,
          118.37000274658203,
          114.3499984741211,
          115.91999816894531,
          116.58999633789062,
          112.06999969482422,
          111.36000061035156,
          109.0999984741211,
          111.5199966430664,
          111.51000213623047,
          113.01000213623047,
          112.18000030517578,
          114.43000030517578,
          113.62999725341797,
          116.66000366210938,
          116.80999755859375,
          119.33999633789062,
          116.22000122070312,
          118.66000366210938,
          120.9000015258789
         ]
        }
       ],
       "layout": {
        "height": 400,
        "template": {
         "data": {
          "bar": [
           {
            "error_x": {
             "color": "#2a3f5f"
            },
            "error_y": {
             "color": "#2a3f5f"
            },
            "marker": {
             "line": {
              "color": "#E5ECF6",
              "width": 0.5
             }
            },
            "type": "bar"
           }
          ],
          "barpolar": [
           {
            "marker": {
             "line": {
              "color": "#E5ECF6",
              "width": 0.5
             }
            },
            "type": "barpolar"
           }
          ],
          "carpet": [
           {
            "aaxis": {
             "endlinecolor": "#2a3f5f",
             "gridcolor": "white",
             "linecolor": "white",
             "minorgridcolor": "white",
             "startlinecolor": "#2a3f5f"
            },
            "baxis": {
             "endlinecolor": "#2a3f5f",
             "gridcolor": "white",
             "linecolor": "white",
             "minorgridcolor": "white",
             "startlinecolor": "#2a3f5f"
            },
            "type": "carpet"
           }
          ],
          "choropleth": [
           {
            "colorbar": {
             "outlinewidth": 0,
             "ticks": ""
            },
            "type": "choropleth"
           }
          ],
          "contour": [
           {
            "colorbar": {
             "outlinewidth": 0,
             "ticks": ""
            },
            "colorscale": [
             [
              0,
              "#0d0887"
             ],
             [
              0.1111111111111111,
              "#46039f"
             ],
             [
              0.2222222222222222,
              "#7201a8"
             ],
             [
              0.3333333333333333,
              "#9c179e"
             ],
             [
              0.4444444444444444,
              "#bd3786"
             ],
             [
              0.5555555555555556,
              "#d8576b"
             ],
             [
              0.6666666666666666,
              "#ed7953"
             ],
             [
              0.7777777777777778,
              "#fb9f3a"
             ],
             [
              0.8888888888888888,
              "#fdca26"
             ],
             [
              1,
              "#f0f921"
             ]
            ],
            "type": "contour"
           }
          ],
          "contourcarpet": [
           {
            "colorbar": {
             "outlinewidth": 0,
             "ticks": ""
            },
            "type": "contourcarpet"
           }
          ],
          "heatmap": [
           {
            "colorbar": {
             "outlinewidth": 0,
             "ticks": ""
            },
            "colorscale": [
             [
              0,
              "#0d0887"
             ],
             [
              0.1111111111111111,
              "#46039f"
             ],
             [
              0.2222222222222222,
              "#7201a8"
             ],
             [
              0.3333333333333333,
              "#9c179e"
             ],
             [
              0.4444444444444444,
              "#bd3786"
             ],
             [
              0.5555555555555556,
              "#d8576b"
             ],
             [
              0.6666666666666666,
              "#ed7953"
             ],
             [
              0.7777777777777778,
              "#fb9f3a"
             ],
             [
              0.8888888888888888,
              "#fdca26"
             ],
             [
              1,
              "#f0f921"
             ]
            ],
            "type": "heatmap"
           }
          ],
          "heatmapgl": [
           {
            "colorbar": {
             "outlinewidth": 0,
             "ticks": ""
            },
            "colorscale": [
             [
              0,
              "#0d0887"
             ],
             [
              0.1111111111111111,
              "#46039f"
             ],
             [
              0.2222222222222222,
              "#7201a8"
             ],
             [
              0.3333333333333333,
              "#9c179e"
             ],
             [
              0.4444444444444444,
              "#bd3786"
             ],
             [
              0.5555555555555556,
              "#d8576b"
             ],
             [
              0.6666666666666666,
              "#ed7953"
             ],
             [
              0.7777777777777778,
              "#fb9f3a"
             ],
             [
              0.8888888888888888,
              "#fdca26"
             ],
             [
              1,
              "#f0f921"
             ]
            ],
            "type": "heatmapgl"
           }
          ],
          "histogram": [
           {
            "marker": {
             "colorbar": {
              "outlinewidth": 0,
              "ticks": ""
             }
            },
            "type": "histogram"
           }
          ],
          "histogram2d": [
           {
            "colorbar": {
             "outlinewidth": 0,
             "ticks": ""
            },
            "colorscale": [
             [
              0,
              "#0d0887"
             ],
             [
              0.1111111111111111,
              "#46039f"
             ],
             [
              0.2222222222222222,
              "#7201a8"
             ],
             [
              0.3333333333333333,
              "#9c179e"
             ],
             [
              0.4444444444444444,
              "#bd3786"
             ],
             [
              0.5555555555555556,
              "#d8576b"
             ],
             [
              0.6666666666666666,
              "#ed7953"
             ],
             [
              0.7777777777777778,
              "#fb9f3a"
             ],
             [
              0.8888888888888888,
              "#fdca26"
             ],
             [
              1,
              "#f0f921"
             ]
            ],
            "type": "histogram2d"
           }
          ],
          "histogram2dcontour": [
           {
            "colorbar": {
             "outlinewidth": 0,
             "ticks": ""
            },
            "colorscale": [
             [
              0,
              "#0d0887"
             ],
             [
              0.1111111111111111,
              "#46039f"
             ],
             [
              0.2222222222222222,
              "#7201a8"
             ],
             [
              0.3333333333333333,
              "#9c179e"
             ],
             [
              0.4444444444444444,
              "#bd3786"
             ],
             [
              0.5555555555555556,
              "#d8576b"
             ],
             [
              0.6666666666666666,
              "#ed7953"
             ],
             [
              0.7777777777777778,
              "#fb9f3a"
             ],
             [
              0.8888888888888888,
              "#fdca26"
             ],
             [
              1,
              "#f0f921"
             ]
            ],
            "type": "histogram2dcontour"
           }
          ],
          "mesh3d": [
           {
            "colorbar": {
             "outlinewidth": 0,
             "ticks": ""
            },
            "type": "mesh3d"
           }
          ],
          "parcoords": [
           {
            "line": {
             "colorbar": {
              "outlinewidth": 0,
              "ticks": ""
             }
            },
            "type": "parcoords"
           }
          ],
          "pie": [
           {
            "automargin": true,
            "type": "pie"
           }
          ],
          "scatter": [
           {
            "marker": {
             "colorbar": {
              "outlinewidth": 0,
              "ticks": ""
             }
            },
            "type": "scatter"
           }
          ],
          "scatter3d": [
           {
            "line": {
             "colorbar": {
              "outlinewidth": 0,
              "ticks": ""
             }
            },
            "marker": {
             "colorbar": {
              "outlinewidth": 0,
              "ticks": ""
             }
            },
            "type": "scatter3d"
           }
          ],
          "scattercarpet": [
           {
            "marker": {
             "colorbar": {
              "outlinewidth": 0,
              "ticks": ""
             }
            },
            "type": "scattercarpet"
           }
          ],
          "scattergeo": [
           {
            "marker": {
             "colorbar": {
              "outlinewidth": 0,
              "ticks": ""
             }
            },
            "type": "scattergeo"
           }
          ],
          "scattergl": [
           {
            "marker": {
             "colorbar": {
              "outlinewidth": 0,
              "ticks": ""
             }
            },
            "type": "scattergl"
           }
          ],
          "scattermapbox": [
           {
            "marker": {
             "colorbar": {
              "outlinewidth": 0,
              "ticks": ""
             }
            },
            "type": "scattermapbox"
           }
          ],
          "scatterpolar": [
           {
            "marker": {
             "colorbar": {
              "outlinewidth": 0,
              "ticks": ""
             }
            },
            "type": "scatterpolar"
           }
          ],
          "scatterpolargl": [
           {
            "marker": {
             "colorbar": {
              "outlinewidth": 0,
              "ticks": ""
             }
            },
            "type": "scatterpolargl"
           }
          ],
          "scatterternary": [
           {
            "marker": {
             "colorbar": {
              "outlinewidth": 0,
              "ticks": ""
             }
            },
            "type": "scatterternary"
           }
          ],
          "surface": [
           {
            "colorbar": {
             "outlinewidth": 0,
             "ticks": ""
            },
            "colorscale": [
             [
              0,
              "#0d0887"
             ],
             [
              0.1111111111111111,
              "#46039f"
             ],
             [
              0.2222222222222222,
              "#7201a8"
             ],
             [
              0.3333333333333333,
              "#9c179e"
             ],
             [
              0.4444444444444444,
              "#bd3786"
             ],
             [
              0.5555555555555556,
              "#d8576b"
             ],
             [
              0.6666666666666666,
              "#ed7953"
             ],
             [
              0.7777777777777778,
              "#fb9f3a"
             ],
             [
              0.8888888888888888,
              "#fdca26"
             ],
             [
              1,
              "#f0f921"
             ]
            ],
            "type": "surface"
           }
          ],
          "table": [
           {
            "cells": {
             "fill": {
              "color": "#EBF0F8"
             },
             "line": {
              "color": "white"
             }
            },
            "header": {
             "fill": {
              "color": "#C8D4E3"
             },
             "line": {
              "color": "white"
             }
            },
            "type": "table"
           }
          ]
         },
         "layout": {
          "annotationdefaults": {
           "arrowcolor": "#2a3f5f",
           "arrowhead": 0,
           "arrowwidth": 1
          },
          "coloraxis": {
           "colorbar": {
            "outlinewidth": 0,
            "ticks": ""
           }
          },
          "colorscale": {
           "diverging": [
            [
             0,
             "#8e0152"
            ],
            [
             0.1,
             "#c51b7d"
            ],
            [
             0.2,
             "#de77ae"
            ],
            [
             0.3,
             "#f1b6da"
            ],
            [
             0.4,
             "#fde0ef"
            ],
            [
             0.5,
             "#f7f7f7"
            ],
            [
             0.6,
             "#e6f5d0"
            ],
            [
             0.7,
             "#b8e186"
            ],
            [
             0.8,
             "#7fbc41"
            ],
            [
             0.9,
             "#4d9221"
            ],
            [
             1,
             "#276419"
            ]
           ],
           "sequential": [
            [
             0,
             "#0d0887"
            ],
            [
             0.1111111111111111,
             "#46039f"
            ],
            [
             0.2222222222222222,
             "#7201a8"
            ],
            [
             0.3333333333333333,
             "#9c179e"
            ],
            [
             0.4444444444444444,
             "#bd3786"
            ],
            [
             0.5555555555555556,
             "#d8576b"
            ],
            [
             0.6666666666666666,
             "#ed7953"
            ],
            [
             0.7777777777777778,
             "#fb9f3a"
            ],
            [
             0.8888888888888888,
             "#fdca26"
            ],
            [
             1,
             "#f0f921"
            ]
           ],
           "sequentialminus": [
            [
             0,
             "#0d0887"
            ],
            [
             0.1111111111111111,
             "#46039f"
            ],
            [
             0.2222222222222222,
             "#7201a8"
            ],
            [
             0.3333333333333333,
             "#9c179e"
            ],
            [
             0.4444444444444444,
             "#bd3786"
            ],
            [
             0.5555555555555556,
             "#d8576b"
            ],
            [
             0.6666666666666666,
             "#ed7953"
            ],
            [
             0.7777777777777778,
             "#fb9f3a"
            ],
            [
             0.8888888888888888,
             "#fdca26"
            ],
            [
             1,
             "#f0f921"
            ]
           ]
          },
          "colorway": [
           "#636efa",
           "#EF553B",
           "#00cc96",
           "#ab63fa",
           "#FFA15A",
           "#19d3f3",
           "#FF6692",
           "#B6E880",
           "#FF97FF",
           "#FECB52"
          ],
          "font": {
           "color": "#2a3f5f"
          },
          "geo": {
           "bgcolor": "white",
           "lakecolor": "white",
           "landcolor": "#E5ECF6",
           "showlakes": true,
           "showland": true,
           "subunitcolor": "white"
          },
          "hoverlabel": {
           "align": "left"
          },
          "hovermode": "closest",
          "mapbox": {
           "style": "light"
          },
          "paper_bgcolor": "white",
          "plot_bgcolor": "#E5ECF6",
          "polar": {
           "angularaxis": {
            "gridcolor": "white",
            "linecolor": "white",
            "ticks": ""
           },
           "bgcolor": "#E5ECF6",
           "radialaxis": {
            "gridcolor": "white",
            "linecolor": "white",
            "ticks": ""
           }
          },
          "scene": {
           "xaxis": {
            "backgroundcolor": "#E5ECF6",
            "gridcolor": "white",
            "gridwidth": 2,
            "linecolor": "white",
            "showbackground": true,
            "ticks": "",
            "zerolinecolor": "white"
           },
           "yaxis": {
            "backgroundcolor": "#E5ECF6",
            "gridcolor": "white",
            "gridwidth": 2,
            "linecolor": "white",
            "showbackground": true,
            "ticks": "",
            "zerolinecolor": "white"
           },
           "zaxis": {
            "backgroundcolor": "#E5ECF6",
            "gridcolor": "white",
            "gridwidth": 2,
            "linecolor": "white",
            "showbackground": true,
            "ticks": "",
            "zerolinecolor": "white"
           }
          },
          "shapedefaults": {
           "line": {
            "color": "#2a3f5f"
           }
          },
          "ternary": {
           "aaxis": {
            "gridcolor": "white",
            "linecolor": "white",
            "ticks": ""
           },
           "baxis": {
            "gridcolor": "white",
            "linecolor": "white",
            "ticks": ""
           },
           "bgcolor": "#E5ECF6",
           "caxis": {
            "gridcolor": "white",
            "linecolor": "white",
            "ticks": ""
           }
          },
          "title": {
           "x": 0.05
          },
          "xaxis": {
           "automargin": true,
           "gridcolor": "white",
           "linecolor": "white",
           "ticks": "",
           "title": {
            "standoff": 15
           },
           "zerolinecolor": "white",
           "zerolinewidth": 2
          },
          "yaxis": {
           "automargin": true,
           "gridcolor": "white",
           "linecolor": "white",
           "ticks": "",
           "title": {
            "standoff": 15
           },
           "zerolinecolor": "white",
           "zerolinewidth": 2
          }
         }
        },
        "title": {
         "text": "Disney Stock Price"
        }
       }
      },
      "text/html": [
       "<div>\n",
       "        \n",
       "        \n",
       "            <div id=\"0d0da814-297c-446d-a1dc-718ff6045b1c\" class=\"plotly-graph-div\" style=\"height:400px; width:100%;\"></div>\n",
       "            <script type=\"text/javascript\">\n",
       "                require([\"plotly\"], function(Plotly) {\n",
       "                    window.PLOTLYENV=window.PLOTLYENV || {};\n",
       "                    \n",
       "                if (document.getElementById(\"0d0da814-297c-446d-a1dc-718ff6045b1c\")) {\n",
       "                    Plotly.newPlot(\n",
       "                        '0d0da814-297c-446d-a1dc-718ff6045b1c',\n",
       "                        [{\"mode\": \"lines\", \"type\": \"scatter\", \"x\": [\"2020-01-02T00:00:00\", \"2020-01-03T00:00:00\", \"2020-01-06T00:00:00\", \"2020-01-07T00:00:00\", \"2020-01-08T00:00:00\", \"2020-01-09T00:00:00\", \"2020-01-10T00:00:00\", \"2020-01-13T00:00:00\", \"2020-01-14T00:00:00\", \"2020-01-15T00:00:00\", \"2020-01-16T00:00:00\", \"2020-01-17T00:00:00\", \"2020-01-21T00:00:00\", \"2020-01-22T00:00:00\", \"2020-01-23T00:00:00\", \"2020-01-24T00:00:00\", \"2020-01-27T00:00:00\", \"2020-01-28T00:00:00\", \"2020-01-29T00:00:00\", \"2020-01-30T00:00:00\", \"2020-01-31T00:00:00\", \"2020-02-03T00:00:00\", \"2020-02-04T00:00:00\", \"2020-02-05T00:00:00\", \"2020-02-06T00:00:00\", \"2020-02-07T00:00:00\", \"2020-02-10T00:00:00\", \"2020-02-11T00:00:00\", \"2020-02-12T00:00:00\", \"2020-02-13T00:00:00\", \"2020-02-14T00:00:00\", \"2020-02-18T00:00:00\", \"2020-02-19T00:00:00\", \"2020-02-20T00:00:00\", \"2020-02-21T00:00:00\", \"2020-02-24T00:00:00\", \"2020-02-25T00:00:00\", \"2020-02-26T00:00:00\", \"2020-02-27T00:00:00\", \"2020-02-28T00:00:00\", \"2020-03-02T00:00:00\", \"2020-03-03T00:00:00\", \"2020-03-04T00:00:00\", \"2020-03-05T00:00:00\", \"2020-03-06T00:00:00\", \"2020-03-09T00:00:00\", \"2020-03-10T00:00:00\", \"2020-03-11T00:00:00\", \"2020-03-12T00:00:00\", \"2020-03-13T00:00:00\", \"2020-03-16T00:00:00\", \"2020-03-17T00:00:00\", \"2020-03-18T00:00:00\", \"2020-03-19T00:00:00\", \"2020-03-20T00:00:00\", \"2020-03-23T00:00:00\", \"2020-03-24T00:00:00\", \"2020-03-25T00:00:00\", \"2020-03-26T00:00:00\", \"2020-03-27T00:00:00\", \"2020-03-30T00:00:00\", \"2020-03-31T00:00:00\", \"2020-04-01T00:00:00\", \"2020-04-02T00:00:00\", \"2020-04-03T00:00:00\", \"2020-04-06T00:00:00\", \"2020-04-07T00:00:00\", \"2020-04-08T00:00:00\", \"2020-04-09T00:00:00\", \"2020-04-13T00:00:00\", \"2020-04-14T00:00:00\", \"2020-04-15T00:00:00\", \"2020-04-16T00:00:00\", \"2020-04-17T00:00:00\", \"2020-04-20T00:00:00\", \"2020-04-21T00:00:00\", \"2020-04-22T00:00:00\", \"2020-04-23T00:00:00\", \"2020-04-24T00:00:00\", \"2020-04-27T00:00:00\", \"2020-04-28T00:00:00\", \"2020-04-29T00:00:00\", \"2020-04-30T00:00:00\", \"2020-05-01T00:00:00\", \"2020-05-04T00:00:00\", \"2020-05-05T00:00:00\", \"2020-05-06T00:00:00\", \"2020-05-07T00:00:00\", \"2020-05-08T00:00:00\", \"2020-05-11T00:00:00\", \"2020-05-12T00:00:00\", \"2020-05-13T00:00:00\", \"2020-05-14T00:00:00\", \"2020-05-15T00:00:00\", \"2020-05-18T00:00:00\", \"2020-05-19T00:00:00\", \"2020-05-20T00:00:00\", \"2020-05-21T00:00:00\", \"2020-05-22T00:00:00\", \"2020-05-26T00:00:00\", \"2020-05-27T00:00:00\", \"2020-05-28T00:00:00\", \"2020-05-29T00:00:00\", \"2020-06-01T00:00:00\", \"2020-06-02T00:00:00\", \"2020-06-03T00:00:00\", \"2020-06-04T00:00:00\", \"2020-06-05T00:00:00\", \"2020-06-08T00:00:00\", \"2020-06-09T00:00:00\", \"2020-06-10T00:00:00\", \"2020-06-11T00:00:00\", \"2020-06-12T00:00:00\", \"2020-06-15T00:00:00\", \"2020-06-16T00:00:00\", \"2020-06-17T00:00:00\", \"2020-06-18T00:00:00\", \"2020-06-19T00:00:00\", \"2020-06-22T00:00:00\", \"2020-06-23T00:00:00\", \"2020-06-24T00:00:00\", \"2020-06-25T00:00:00\", \"2020-06-26T00:00:00\", \"2020-06-29T00:00:00\", \"2020-06-30T00:00:00\", \"2020-07-01T00:00:00\", \"2020-07-02T00:00:00\", \"2020-07-06T00:00:00\", \"2020-07-07T00:00:00\", \"2020-07-08T00:00:00\", \"2020-07-09T00:00:00\", \"2020-07-10T00:00:00\", \"2020-07-13T00:00:00\", \"2020-07-14T00:00:00\", \"2020-07-15T00:00:00\"], \"y\": [148.1999969482422, 146.5, 145.64999389648438, 145.6999969482422, 145.39999389648438, 144.8300018310547, 144.6199951171875, 143.8800048828125, 145.1999969482422, 144.32000732421875, 145.1199951171875, 144.3300018310547, 143.55999755859375, 144.00999450683594, 142.1999969482422, 140.0800018310547, 135.89999389648438, 138.3699951171875, 136.05999755859375, 137.80999755859375, 138.30999755859375, 141.32000732421875, 144.72999572753906, 141.3699951171875, 142.6999969482422, 141.02000427246094, 142.58999633789062, 141.00999450683594, 141.85000610351562, 140.89999389648438, 139.5399932861328, 139.13999938964844, 141.3000030517578, 140.3699951171875, 138.97000122070312, 133.00999450683594, 128.19000244140625, 123.36000061035156, 118.04000091552734, 117.6500015258789, 119.9800033569336, 116.44999694824219, 119.18000030517578, 113.9800033569336, 115.2699966430664, 104.3499984741211, 111.45999908447266, 105.51000213623047, 91.80999755859375, 102.5199966430664, 95.01000213623047, 93.52999877929688, 88.80000305175781, 94.93000030517578, 85.9800033569336, 85.76000213623047, 98.12000274658203, 100.7300033569336, 105.36000061035156, 96.4000015258789, 99.80000305175781, 96.5999984741211, 94.91999816894531, 96.97000122070312, 93.87999725341797, 99.58000183105469, 101.23999786376953, 101.06999969482422, 104.5, 103.5, 106.02999877929688, 103.37000274658203, 102.0199966430664, 106.62999725341797, 102.26000213623047, 100.54000091552734, 100.98999786376953, 101.0, 101.19000244140625, 106.05999755859375, 106.20999908447266, 112.25, 108.1500015258789, 105.5, 103.18000030517578, 101.05999755859375, 100.87999725341797, 105.56999969482422, 109.16000366210938, 107.7699966430664, 104.55999755859375, 102.91999816894531, 105.91000366210938, 109.05000305175781, 116.8499984741211, 114.37000274658203, 119.91999816894531, 117.83000183105469, 118.0199966430664, 120.94999694824219, 121.52999877929688, 116.75, 117.30000305175781, 118.7699966430664, 118.75, 122.18000030517578, 123.69000244140625, 124.81999969482422, 127.27999877929688, 123.88999938964844, 122.18000030517578, 112.63999938964844, 115.48999786376953, 117.08000183105469, 118.44000244140625, 117.6500015258789, 118.37000274658203, 114.3499984741211, 115.91999816894531, 116.58999633789062, 112.06999969482422, 111.36000061035156, 109.0999984741211, 111.5199966430664, 111.51000213623047, 113.01000213623047, 112.18000030517578, 114.43000030517578, 113.62999725341797, 116.66000366210938, 116.80999755859375, 119.33999633789062, 116.22000122070312, 118.66000366210938, 120.9000015258789]}],\n",
       "                        {\"height\": 400, \"template\": {\"data\": {\"bar\": [{\"error_x\": {\"color\": \"#2a3f5f\"}, \"error_y\": {\"color\": \"#2a3f5f\"}, \"marker\": {\"line\": {\"color\": \"#E5ECF6\", \"width\": 0.5}}, \"type\": \"bar\"}], \"barpolar\": [{\"marker\": {\"line\": {\"color\": \"#E5ECF6\", \"width\": 0.5}}, \"type\": \"barpolar\"}], \"carpet\": [{\"aaxis\": {\"endlinecolor\": \"#2a3f5f\", \"gridcolor\": \"white\", \"linecolor\": \"white\", \"minorgridcolor\": \"white\", \"startlinecolor\": \"#2a3f5f\"}, \"baxis\": {\"endlinecolor\": \"#2a3f5f\", \"gridcolor\": \"white\", \"linecolor\": \"white\", \"minorgridcolor\": \"white\", \"startlinecolor\": \"#2a3f5f\"}, \"type\": \"carpet\"}], \"choropleth\": [{\"colorbar\": {\"outlinewidth\": 0, \"ticks\": \"\"}, \"type\": \"choropleth\"}], \"contour\": [{\"colorbar\": {\"outlinewidth\": 0, \"ticks\": \"\"}, \"colorscale\": [[0.0, \"#0d0887\"], [0.1111111111111111, \"#46039f\"], [0.2222222222222222, \"#7201a8\"], [0.3333333333333333, \"#9c179e\"], [0.4444444444444444, \"#bd3786\"], [0.5555555555555556, \"#d8576b\"], [0.6666666666666666, \"#ed7953\"], [0.7777777777777778, \"#fb9f3a\"], [0.8888888888888888, \"#fdca26\"], [1.0, \"#f0f921\"]], \"type\": \"contour\"}], \"contourcarpet\": [{\"colorbar\": {\"outlinewidth\": 0, \"ticks\": \"\"}, \"type\": \"contourcarpet\"}], \"heatmap\": [{\"colorbar\": {\"outlinewidth\": 0, \"ticks\": \"\"}, \"colorscale\": [[0.0, \"#0d0887\"], [0.1111111111111111, \"#46039f\"], [0.2222222222222222, \"#7201a8\"], [0.3333333333333333, \"#9c179e\"], [0.4444444444444444, \"#bd3786\"], [0.5555555555555556, \"#d8576b\"], [0.6666666666666666, \"#ed7953\"], [0.7777777777777778, \"#fb9f3a\"], [0.8888888888888888, \"#fdca26\"], [1.0, \"#f0f921\"]], \"type\": \"heatmap\"}], \"heatmapgl\": [{\"colorbar\": {\"outlinewidth\": 0, \"ticks\": \"\"}, \"colorscale\": [[0.0, \"#0d0887\"], [0.1111111111111111, \"#46039f\"], [0.2222222222222222, \"#7201a8\"], [0.3333333333333333, \"#9c179e\"], [0.4444444444444444, \"#bd3786\"], [0.5555555555555556, \"#d8576b\"], [0.6666666666666666, \"#ed7953\"], [0.7777777777777778, \"#fb9f3a\"], [0.8888888888888888, \"#fdca26\"], [1.0, \"#f0f921\"]], \"type\": \"heatmapgl\"}], \"histogram\": [{\"marker\": {\"colorbar\": {\"outlinewidth\": 0, \"ticks\": \"\"}}, \"type\": \"histogram\"}], \"histogram2d\": [{\"colorbar\": {\"outlinewidth\": 0, \"ticks\": \"\"}, \"colorscale\": [[0.0, \"#0d0887\"], [0.1111111111111111, \"#46039f\"], [0.2222222222222222, \"#7201a8\"], [0.3333333333333333, \"#9c179e\"], [0.4444444444444444, \"#bd3786\"], [0.5555555555555556, \"#d8576b\"], [0.6666666666666666, \"#ed7953\"], [0.7777777777777778, \"#fb9f3a\"], [0.8888888888888888, \"#fdca26\"], [1.0, \"#f0f921\"]], \"type\": \"histogram2d\"}], \"histogram2dcontour\": [{\"colorbar\": {\"outlinewidth\": 0, \"ticks\": \"\"}, \"colorscale\": [[0.0, \"#0d0887\"], [0.1111111111111111, \"#46039f\"], [0.2222222222222222, \"#7201a8\"], [0.3333333333333333, \"#9c179e\"], [0.4444444444444444, \"#bd3786\"], [0.5555555555555556, \"#d8576b\"], [0.6666666666666666, \"#ed7953\"], [0.7777777777777778, \"#fb9f3a\"], [0.8888888888888888, \"#fdca26\"], [1.0, \"#f0f921\"]], \"type\": \"histogram2dcontour\"}], \"mesh3d\": [{\"colorbar\": {\"outlinewidth\": 0, \"ticks\": \"\"}, \"type\": \"mesh3d\"}], \"parcoords\": [{\"line\": {\"colorbar\": {\"outlinewidth\": 0, \"ticks\": \"\"}}, \"type\": \"parcoords\"}], \"pie\": [{\"automargin\": true, \"type\": \"pie\"}], \"scatter\": [{\"marker\": {\"colorbar\": {\"outlinewidth\": 0, \"ticks\": \"\"}}, \"type\": \"scatter\"}], \"scatter3d\": [{\"line\": {\"colorbar\": {\"outlinewidth\": 0, \"ticks\": \"\"}}, \"marker\": {\"colorbar\": {\"outlinewidth\": 0, \"ticks\": \"\"}}, \"type\": \"scatter3d\"}], \"scattercarpet\": [{\"marker\": {\"colorbar\": {\"outlinewidth\": 0, \"ticks\": \"\"}}, \"type\": \"scattercarpet\"}], \"scattergeo\": [{\"marker\": {\"colorbar\": {\"outlinewidth\": 0, \"ticks\": \"\"}}, \"type\": \"scattergeo\"}], \"scattergl\": [{\"marker\": {\"colorbar\": {\"outlinewidth\": 0, \"ticks\": \"\"}}, \"type\": \"scattergl\"}], \"scattermapbox\": [{\"marker\": {\"colorbar\": {\"outlinewidth\": 0, \"ticks\": \"\"}}, \"type\": \"scattermapbox\"}], \"scatterpolar\": [{\"marker\": {\"colorbar\": {\"outlinewidth\": 0, \"ticks\": \"\"}}, \"type\": \"scatterpolar\"}], \"scatterpolargl\": [{\"marker\": {\"colorbar\": {\"outlinewidth\": 0, \"ticks\": \"\"}}, \"type\": \"scatterpolargl\"}], \"scatterternary\": [{\"marker\": {\"colorbar\": {\"outlinewidth\": 0, \"ticks\": \"\"}}, \"type\": \"scatterternary\"}], \"surface\": [{\"colorbar\": {\"outlinewidth\": 0, \"ticks\": \"\"}, \"colorscale\": [[0.0, \"#0d0887\"], [0.1111111111111111, \"#46039f\"], [0.2222222222222222, \"#7201a8\"], [0.3333333333333333, \"#9c179e\"], [0.4444444444444444, \"#bd3786\"], [0.5555555555555556, \"#d8576b\"], [0.6666666666666666, \"#ed7953\"], [0.7777777777777778, \"#fb9f3a\"], [0.8888888888888888, \"#fdca26\"], [1.0, \"#f0f921\"]], \"type\": \"surface\"}], \"table\": [{\"cells\": {\"fill\": {\"color\": \"#EBF0F8\"}, \"line\": {\"color\": \"white\"}}, \"header\": {\"fill\": {\"color\": \"#C8D4E3\"}, \"line\": {\"color\": \"white\"}}, \"type\": \"table\"}]}, \"layout\": {\"annotationdefaults\": {\"arrowcolor\": \"#2a3f5f\", \"arrowhead\": 0, \"arrowwidth\": 1}, \"coloraxis\": {\"colorbar\": {\"outlinewidth\": 0, \"ticks\": \"\"}}, \"colorscale\": {\"diverging\": [[0, \"#8e0152\"], [0.1, \"#c51b7d\"], [0.2, \"#de77ae\"], [0.3, \"#f1b6da\"], [0.4, \"#fde0ef\"], [0.5, \"#f7f7f7\"], [0.6, \"#e6f5d0\"], [0.7, \"#b8e186\"], [0.8, \"#7fbc41\"], [0.9, \"#4d9221\"], [1, \"#276419\"]], \"sequential\": [[0.0, \"#0d0887\"], [0.1111111111111111, \"#46039f\"], [0.2222222222222222, \"#7201a8\"], [0.3333333333333333, \"#9c179e\"], [0.4444444444444444, \"#bd3786\"], [0.5555555555555556, \"#d8576b\"], [0.6666666666666666, \"#ed7953\"], [0.7777777777777778, \"#fb9f3a\"], [0.8888888888888888, \"#fdca26\"], [1.0, \"#f0f921\"]], \"sequentialminus\": [[0.0, \"#0d0887\"], [0.1111111111111111, \"#46039f\"], [0.2222222222222222, \"#7201a8\"], [0.3333333333333333, \"#9c179e\"], [0.4444444444444444, \"#bd3786\"], [0.5555555555555556, \"#d8576b\"], [0.6666666666666666, \"#ed7953\"], [0.7777777777777778, \"#fb9f3a\"], [0.8888888888888888, \"#fdca26\"], [1.0, \"#f0f921\"]]}, \"colorway\": [\"#636efa\", \"#EF553B\", \"#00cc96\", \"#ab63fa\", \"#FFA15A\", \"#19d3f3\", \"#FF6692\", \"#B6E880\", \"#FF97FF\", \"#FECB52\"], \"font\": {\"color\": \"#2a3f5f\"}, \"geo\": {\"bgcolor\": \"white\", \"lakecolor\": \"white\", \"landcolor\": \"#E5ECF6\", \"showlakes\": true, \"showland\": true, \"subunitcolor\": \"white\"}, \"hoverlabel\": {\"align\": \"left\"}, \"hovermode\": \"closest\", \"mapbox\": {\"style\": \"light\"}, \"paper_bgcolor\": \"white\", \"plot_bgcolor\": \"#E5ECF6\", \"polar\": {\"angularaxis\": {\"gridcolor\": \"white\", \"linecolor\": \"white\", \"ticks\": \"\"}, \"bgcolor\": \"#E5ECF6\", \"radialaxis\": {\"gridcolor\": \"white\", \"linecolor\": \"white\", \"ticks\": \"\"}}, \"scene\": {\"xaxis\": {\"backgroundcolor\": \"#E5ECF6\", \"gridcolor\": \"white\", \"gridwidth\": 2, \"linecolor\": \"white\", \"showbackground\": true, \"ticks\": \"\", \"zerolinecolor\": \"white\"}, \"yaxis\": {\"backgroundcolor\": \"#E5ECF6\", \"gridcolor\": \"white\", \"gridwidth\": 2, \"linecolor\": \"white\", \"showbackground\": true, \"ticks\": \"\", \"zerolinecolor\": \"white\"}, \"zaxis\": {\"backgroundcolor\": \"#E5ECF6\", \"gridcolor\": \"white\", \"gridwidth\": 2, \"linecolor\": \"white\", \"showbackground\": true, \"ticks\": \"\", \"zerolinecolor\": \"white\"}}, \"shapedefaults\": {\"line\": {\"color\": \"#2a3f5f\"}}, \"ternary\": {\"aaxis\": {\"gridcolor\": \"white\", \"linecolor\": \"white\", \"ticks\": \"\"}, \"baxis\": {\"gridcolor\": \"white\", \"linecolor\": \"white\", \"ticks\": \"\"}, \"bgcolor\": \"#E5ECF6\", \"caxis\": {\"gridcolor\": \"white\", \"linecolor\": \"white\", \"ticks\": \"\"}}, \"title\": {\"x\": 0.05}, \"xaxis\": {\"automargin\": true, \"gridcolor\": \"white\", \"linecolor\": \"white\", \"ticks\": \"\", \"title\": {\"standoff\": 15}, \"zerolinecolor\": \"white\", \"zerolinewidth\": 2}, \"yaxis\": {\"automargin\": true, \"gridcolor\": \"white\", \"linecolor\": \"white\", \"ticks\": \"\", \"title\": {\"standoff\": 15}, \"zerolinecolor\": \"white\", \"zerolinewidth\": 2}}}, \"title\": {\"text\": \"Disney Stock Price\"}},\n",
       "                        {\"responsive\": true}\n",
       "                    ).then(function(){\n",
       "                            \n",
       "var gd = document.getElementById('0d0da814-297c-446d-a1dc-718ff6045b1c');\n",
       "var x = new MutationObserver(function (mutations, observer) {{\n",
       "        var display = window.getComputedStyle(gd).display;\n",
       "        if (!display || display === 'none') {{\n",
       "            console.log([gd, 'removed!']);\n",
       "            Plotly.purge(gd);\n",
       "            observer.disconnect();\n",
       "        }}\n",
       "}});\n",
       "\n",
       "// Listen for the removal of the full notebook cells\n",
       "var notebookContainer = gd.closest('#notebook-container');\n",
       "if (notebookContainer) {{\n",
       "    x.observe(notebookContainer, {childList: true});\n",
       "}}\n",
       "\n",
       "// Listen for the clearing of the current output cell\n",
       "var outputEl = gd.closest('.output');\n",
       "if (outputEl) {{\n",
       "    x.observe(outputEl, {childList: true});\n",
       "}}\n",
       "\n",
       "                        })\n",
       "                };\n",
       "                });\n",
       "            </script>\n",
       "        </div>"
      ]
     },
     "metadata": {},
     "output_type": "display_data"
    }
   ],
   "source": [
    "#you can use go.Scatter() inside go.Figure()\n",
    "fig=go.Figure(go.Scatter(x=disney.index,y=disney.Close,\n",
    "                     mode='lines'))\n",
    "fig.update_layout(\n",
    "    title='Disney Stock Price',\n",
    "    height=400)\n",
    "fig.show()"
   ]
  },
  {
   "cell_type": "code",
   "execution_count": 27,
   "metadata": {},
   "outputs": [
    {
     "data": {
      "application/vnd.plotly.v1+json": {
       "config": {
        "plotlyServerURL": "https://plot.ly"
       },
       "data": [
        {
         "mode": "lines",
         "name": "AMZN",
         "type": "scatter",
         "x": [
          "2020-01-02T00:00:00",
          "2020-01-03T00:00:00",
          "2020-01-06T00:00:00",
          "2020-01-07T00:00:00",
          "2020-01-08T00:00:00",
          "2020-01-09T00:00:00",
          "2020-01-10T00:00:00",
          "2020-01-13T00:00:00",
          "2020-01-14T00:00:00",
          "2020-01-15T00:00:00",
          "2020-01-16T00:00:00",
          "2020-01-17T00:00:00",
          "2020-01-21T00:00:00",
          "2020-01-22T00:00:00",
          "2020-01-23T00:00:00",
          "2020-01-24T00:00:00",
          "2020-01-27T00:00:00",
          "2020-01-28T00:00:00",
          "2020-01-29T00:00:00",
          "2020-01-30T00:00:00",
          "2020-01-31T00:00:00",
          "2020-02-03T00:00:00",
          "2020-02-04T00:00:00",
          "2020-02-05T00:00:00",
          "2020-02-06T00:00:00",
          "2020-02-07T00:00:00",
          "2020-02-10T00:00:00",
          "2020-02-11T00:00:00",
          "2020-02-12T00:00:00",
          "2020-02-13T00:00:00",
          "2020-02-14T00:00:00",
          "2020-02-18T00:00:00",
          "2020-02-19T00:00:00",
          "2020-02-20T00:00:00",
          "2020-02-21T00:00:00",
          "2020-02-24T00:00:00",
          "2020-02-25T00:00:00",
          "2020-02-26T00:00:00",
          "2020-02-27T00:00:00",
          "2020-02-28T00:00:00",
          "2020-03-02T00:00:00",
          "2020-03-03T00:00:00",
          "2020-03-04T00:00:00",
          "2020-03-05T00:00:00",
          "2020-03-06T00:00:00",
          "2020-03-09T00:00:00",
          "2020-03-10T00:00:00",
          "2020-03-11T00:00:00",
          "2020-03-12T00:00:00",
          "2020-03-13T00:00:00",
          "2020-03-16T00:00:00",
          "2020-03-17T00:00:00",
          "2020-03-18T00:00:00",
          "2020-03-19T00:00:00",
          "2020-03-20T00:00:00",
          "2020-03-23T00:00:00",
          "2020-03-24T00:00:00",
          "2020-03-25T00:00:00",
          "2020-03-26T00:00:00",
          "2020-03-27T00:00:00",
          "2020-03-30T00:00:00",
          "2020-03-31T00:00:00",
          "2020-04-01T00:00:00",
          "2020-04-02T00:00:00",
          "2020-04-03T00:00:00",
          "2020-04-06T00:00:00",
          "2020-04-07T00:00:00",
          "2020-04-08T00:00:00",
          "2020-04-09T00:00:00",
          "2020-04-13T00:00:00",
          "2020-04-14T00:00:00",
          "2020-04-15T00:00:00",
          "2020-04-16T00:00:00",
          "2020-04-17T00:00:00",
          "2020-04-20T00:00:00",
          "2020-04-21T00:00:00",
          "2020-04-22T00:00:00",
          "2020-04-23T00:00:00",
          "2020-04-24T00:00:00",
          "2020-04-27T00:00:00",
          "2020-04-28T00:00:00",
          "2020-04-29T00:00:00",
          "2020-04-30T00:00:00",
          "2020-05-01T00:00:00",
          "2020-05-04T00:00:00",
          "2020-05-05T00:00:00",
          "2020-05-06T00:00:00",
          "2020-05-07T00:00:00",
          "2020-05-08T00:00:00",
          "2020-05-11T00:00:00",
          "2020-05-12T00:00:00",
          "2020-05-13T00:00:00",
          "2020-05-14T00:00:00",
          "2020-05-15T00:00:00",
          "2020-05-18T00:00:00",
          "2020-05-19T00:00:00",
          "2020-05-20T00:00:00",
          "2020-05-21T00:00:00",
          "2020-05-22T00:00:00",
          "2020-05-26T00:00:00",
          "2020-05-27T00:00:00",
          "2020-05-28T00:00:00",
          "2020-05-29T00:00:00",
          "2020-06-01T00:00:00",
          "2020-06-02T00:00:00",
          "2020-06-03T00:00:00",
          "2020-06-04T00:00:00",
          "2020-06-05T00:00:00",
          "2020-06-08T00:00:00",
          "2020-06-09T00:00:00",
          "2020-06-10T00:00:00",
          "2020-06-11T00:00:00",
          "2020-06-12T00:00:00",
          "2020-06-15T00:00:00",
          "2020-06-16T00:00:00",
          "2020-06-17T00:00:00",
          "2020-06-18T00:00:00",
          "2020-06-19T00:00:00",
          "2020-06-22T00:00:00",
          "2020-06-23T00:00:00",
          "2020-06-24T00:00:00",
          "2020-06-25T00:00:00",
          "2020-06-26T00:00:00",
          "2020-06-29T00:00:00",
          "2020-06-30T00:00:00",
          "2020-07-01T00:00:00",
          "2020-07-02T00:00:00",
          "2020-07-06T00:00:00",
          "2020-07-07T00:00:00",
          "2020-07-08T00:00:00",
          "2020-07-09T00:00:00",
          "2020-07-10T00:00:00",
          "2020-07-13T00:00:00",
          "2020-07-14T00:00:00",
          "2020-07-15T00:00:00",
          "2020-07-16T00:00:00"
         ],
         "y": [
          1898.010009765625,
          1874.969970703125,
          1902.8800048828125,
          1906.8599853515625,
          1891.969970703125,
          1901.050048828125,
          1883.1600341796875,
          1891.300048828125,
          1869.43994140625,
          1862.02001953125,
          1877.93994140625,
          1864.719970703125,
          1892,
          1887.4599609375,
          1884.5799560546875,
          1861.6400146484375,
          1828.3399658203125,
          1853.25,
          1858,
          1870.6800537109375,
          2008.719970703125,
          2004.199951171875,
          2049.669921875,
          2039.8699951171875,
          2050.22998046875,
          2079.280029296875,
          2133.909912109375,
          2150.800048828125,
          2160,
          2149.8701171875,
          2134.8701171875,
          2155.669921875,
          2170.219970703125,
          2153.10009765625,
          2095.969970703125,
          2009.2900390625,
          1972.739990234375,
          1979.5899658203125,
          1884.300048828125,
          1883.75,
          1953.949951171875,
          1908.989990234375,
          1975.8299560546875,
          1924.030029296875,
          1901.0899658203125,
          1800.6099853515625,
          1891.8199462890625,
          1820.8599853515625,
          1676.6099853515625,
          1785,
          1689.1500244140625,
          1807.8399658203125,
          1830,
          1880.9300537109375,
          1846.0899658203125,
          1902.8299560546875,
          1940.0999755859375,
          1885.8399658203125,
          1955.489990234375,
          1900.0999755859375,
          1963.949951171875,
          1949.719970703125,
          1907.699951171875,
          1918.8299560546875,
          1906.5899658203125,
          1997.5899658203125,
          2011.5999755859375,
          2043,
          2042.760009765625,
          2168.8701171875,
          2283.320068359375,
          2307.679931640625,
          2408.18994140625,
          2375,
          2393.610107421875,
          2328.1201171875,
          2363.489990234375,
          2399.449951171875,
          2410.219970703125,
          2376,
          2314.080078125,
          2372.7099609375,
          2474,
          2286.0400390625,
          2315.989990234375,
          2317.800048828125,
          2351.260009765625,
          2367.610107421875,
          2379.610107421875,
          2409,
          2356.949951171875,
          2367.919921875,
          2388.85009765625,
          2409.780029296875,
          2426.260009765625,
          2449.330078125,
          2497.93994140625,
          2446.739990234375,
          2436.8798828125,
          2421.860107421875,
          2410.389892578125,
          2401.10009765625,
          2442.3701171875,
          2471.0400390625,
          2472.409912109375,
          2478.39990234375,
          2460.60009765625,
          2483,
          2524.06005859375,
          2600.860107421875,
          2647.449951171875,
          2557.9599609375,
          2545.02001953125,
          2572.679931640625,
          2615.27001953125,
          2640.97998046875,
          2653.97998046875,
          2675.010009765625,
          2713.820068359375,
          2764.409912109375,
          2734.39990234375,
          2754.580078125,
          2692.8701171875,
          2680.3798828125,
          2758.820068359375,
          2878.699951171875,
          2890.300048828125,
          3057.0400390625,
          3000.1201171875,
          3081.110107421875,
          3182.6298828125,
          3200,
          3104,
          3084,
          3008.8701171875,
          2999.002197265625
         ]
        },
        {
         "mode": "lines",
         "name": "MSFT",
         "type": "scatter",
         "x": [
          "2020-01-02T00:00:00",
          "2020-01-03T00:00:00",
          "2020-01-06T00:00:00",
          "2020-01-07T00:00:00",
          "2020-01-08T00:00:00",
          "2020-01-09T00:00:00",
          "2020-01-10T00:00:00",
          "2020-01-13T00:00:00",
          "2020-01-14T00:00:00",
          "2020-01-15T00:00:00",
          "2020-01-16T00:00:00",
          "2020-01-17T00:00:00",
          "2020-01-21T00:00:00",
          "2020-01-22T00:00:00",
          "2020-01-23T00:00:00",
          "2020-01-24T00:00:00",
          "2020-01-27T00:00:00",
          "2020-01-28T00:00:00",
          "2020-01-29T00:00:00",
          "2020-01-30T00:00:00",
          "2020-01-31T00:00:00",
          "2020-02-03T00:00:00",
          "2020-02-04T00:00:00",
          "2020-02-05T00:00:00",
          "2020-02-06T00:00:00",
          "2020-02-07T00:00:00",
          "2020-02-10T00:00:00",
          "2020-02-11T00:00:00",
          "2020-02-12T00:00:00",
          "2020-02-13T00:00:00",
          "2020-02-14T00:00:00",
          "2020-02-18T00:00:00",
          "2020-02-19T00:00:00",
          "2020-02-20T00:00:00",
          "2020-02-21T00:00:00",
          "2020-02-24T00:00:00",
          "2020-02-25T00:00:00",
          "2020-02-26T00:00:00",
          "2020-02-27T00:00:00",
          "2020-02-28T00:00:00",
          "2020-03-02T00:00:00",
          "2020-03-03T00:00:00",
          "2020-03-04T00:00:00",
          "2020-03-05T00:00:00",
          "2020-03-06T00:00:00",
          "2020-03-09T00:00:00",
          "2020-03-10T00:00:00",
          "2020-03-11T00:00:00",
          "2020-03-12T00:00:00",
          "2020-03-13T00:00:00",
          "2020-03-16T00:00:00",
          "2020-03-17T00:00:00",
          "2020-03-18T00:00:00",
          "2020-03-19T00:00:00",
          "2020-03-20T00:00:00",
          "2020-03-23T00:00:00",
          "2020-03-24T00:00:00",
          "2020-03-25T00:00:00",
          "2020-03-26T00:00:00",
          "2020-03-27T00:00:00",
          "2020-03-30T00:00:00",
          "2020-03-31T00:00:00",
          "2020-04-01T00:00:00",
          "2020-04-02T00:00:00",
          "2020-04-03T00:00:00",
          "2020-04-06T00:00:00",
          "2020-04-07T00:00:00",
          "2020-04-08T00:00:00",
          "2020-04-09T00:00:00",
          "2020-04-13T00:00:00",
          "2020-04-14T00:00:00",
          "2020-04-15T00:00:00",
          "2020-04-16T00:00:00",
          "2020-04-17T00:00:00",
          "2020-04-20T00:00:00",
          "2020-04-21T00:00:00",
          "2020-04-22T00:00:00",
          "2020-04-23T00:00:00",
          "2020-04-24T00:00:00",
          "2020-04-27T00:00:00",
          "2020-04-28T00:00:00",
          "2020-04-29T00:00:00",
          "2020-04-30T00:00:00",
          "2020-05-01T00:00:00",
          "2020-05-04T00:00:00",
          "2020-05-05T00:00:00",
          "2020-05-06T00:00:00",
          "2020-05-07T00:00:00",
          "2020-05-08T00:00:00",
          "2020-05-11T00:00:00",
          "2020-05-12T00:00:00",
          "2020-05-13T00:00:00",
          "2020-05-14T00:00:00",
          "2020-05-15T00:00:00",
          "2020-05-18T00:00:00",
          "2020-05-19T00:00:00",
          "2020-05-20T00:00:00",
          "2020-05-21T00:00:00",
          "2020-05-22T00:00:00",
          "2020-05-26T00:00:00",
          "2020-05-27T00:00:00",
          "2020-05-28T00:00:00",
          "2020-05-29T00:00:00",
          "2020-06-01T00:00:00",
          "2020-06-02T00:00:00",
          "2020-06-03T00:00:00",
          "2020-06-04T00:00:00",
          "2020-06-05T00:00:00",
          "2020-06-08T00:00:00",
          "2020-06-09T00:00:00",
          "2020-06-10T00:00:00",
          "2020-06-11T00:00:00",
          "2020-06-12T00:00:00",
          "2020-06-15T00:00:00",
          "2020-06-16T00:00:00",
          "2020-06-17T00:00:00",
          "2020-06-18T00:00:00",
          "2020-06-19T00:00:00",
          "2020-06-22T00:00:00",
          "2020-06-23T00:00:00",
          "2020-06-24T00:00:00",
          "2020-06-25T00:00:00",
          "2020-06-26T00:00:00",
          "2020-06-29T00:00:00",
          "2020-06-30T00:00:00",
          "2020-07-01T00:00:00",
          "2020-07-02T00:00:00",
          "2020-07-06T00:00:00",
          "2020-07-07T00:00:00",
          "2020-07-08T00:00:00",
          "2020-07-09T00:00:00",
          "2020-07-10T00:00:00",
          "2020-07-13T00:00:00",
          "2020-07-14T00:00:00",
          "2020-07-15T00:00:00",
          "2020-07-16T00:00:00"
         ],
         "y": [
          160.6199951171875,
          158.6199951171875,
          159.02999877929688,
          157.5800018310547,
          160.08999633789062,
          162.08999633789062,
          161.33999633789062,
          163.27999877929688,
          162.1300048828125,
          163.17999267578125,
          166.1699981689453,
          167.10000610351562,
          166.5,
          165.6999969482422,
          166.72000122070312,
          165.0399932861328,
          162.27999877929688,
          165.4600067138672,
          168.0399932861328,
          172.77999877929688,
          170.22999572753906,
          174.3800048828125,
          180.1199951171875,
          179.89999389648438,
          183.6300048828125,
          183.88999938964844,
          188.6999969482422,
          184.44000244140625,
          184.7100067138672,
          183.7100067138672,
          185.35000610351562,
          187.22999572753906,
          187.27999877929688,
          184.4199981689453,
          178.58999633789062,
          170.88999938964844,
          168.07000732421875,
          170.1699981689453,
          158.17999267578125,
          162.00999450683594,
          172.7899932861328,
          164.50999450683594,
          170.5500030517578,
          166.27000427246094,
          161.57000732421875,
          150.6199951171875,
          160.9199981689453,
          153.6300048828125,
          139.05999755859375,
          158.8300018310547,
          135.4199981689453,
          146.57000732421875,
          140.39999389648438,
          142.7100067138672,
          137.35000610351562,
          135.97999572753906,
          148.33999633789062,
          146.9199981689453,
          156.11000061035156,
          149.6999969482422,
          160.22999572753906,
          157.7100067138672,
          152.11000061035156,
          155.25999450683594,
          153.8300018310547,
          165.27000427246094,
          163.49000549316406,
          165.1300048828125,
          165.13999938964844,
          165.50999450683594,
          173.6999969482422,
          171.8800048828125,
          177.0399932861328,
          178.60000610351562,
          175.05999755859375,
          167.82000732421875,
          173.52000427246094,
          171.4199981689453,
          174.5500030517578,
          174.0500030517578,
          169.80999755859375,
          177.42999267578125,
          179.2100067138672,
          174.57000732421875,
          178.83999633789062,
          180.75999450683594,
          182.5399932861328,
          183.60000610351562,
          184.67999267578125,
          186.74000549316406,
          182.50999450683594,
          179.75,
          180.52999877929688,
          183.16000366210938,
          184.91000366210938,
          183.6300048828125,
          185.66000366210938,
          183.42999267578125,
          183.50999450683594,
          181.57000732421875,
          181.80999755859375,
          181.39999389648438,
          183.25,
          182.8300018310547,
          184.91000366210938,
          185.36000061035156,
          182.9199981689453,
          187.1999969482422,
          188.36000061035156,
          189.8000030517578,
          196.83999633789062,
          186.27000427246094,
          187.74000549316406,
          188.94000244140625,
          193.57000732421875,
          194.24000549316406,
          196.32000732421875,
          195.14999389648438,
          200.57000732421875,
          201.91000366210938,
          197.83999633789062,
          200.33999633789062,
          196.3300018310547,
          198.44000244140625,
          203.50999450683594,
          204.6999969482422,
          206.25999450683594,
          210.6999969482422,
          208.25,
          212.8300018310547,
          214.32000732421875,
          213.6699981689453,
          207.07000732421875,
          208.35000610351562,
          208.0399932861328,
          204.02239990234375
         ]
        },
        {
         "mode": "lines",
         "name": "AAPL",
         "type": "scatter",
         "x": [
          "2020-01-02T00:00:00",
          "2020-01-03T00:00:00",
          "2020-01-06T00:00:00",
          "2020-01-07T00:00:00",
          "2020-01-08T00:00:00",
          "2020-01-09T00:00:00",
          "2020-01-10T00:00:00",
          "2020-01-13T00:00:00",
          "2020-01-14T00:00:00",
          "2020-01-15T00:00:00",
          "2020-01-16T00:00:00",
          "2020-01-17T00:00:00",
          "2020-01-21T00:00:00",
          "2020-01-22T00:00:00",
          "2020-01-23T00:00:00",
          "2020-01-24T00:00:00",
          "2020-01-27T00:00:00",
          "2020-01-28T00:00:00",
          "2020-01-29T00:00:00",
          "2020-01-30T00:00:00",
          "2020-01-31T00:00:00",
          "2020-02-03T00:00:00",
          "2020-02-04T00:00:00",
          "2020-02-05T00:00:00",
          "2020-02-06T00:00:00",
          "2020-02-07T00:00:00",
          "2020-02-10T00:00:00",
          "2020-02-11T00:00:00",
          "2020-02-12T00:00:00",
          "2020-02-13T00:00:00",
          "2020-02-14T00:00:00",
          "2020-02-18T00:00:00",
          "2020-02-19T00:00:00",
          "2020-02-20T00:00:00",
          "2020-02-21T00:00:00",
          "2020-02-24T00:00:00",
          "2020-02-25T00:00:00",
          "2020-02-26T00:00:00",
          "2020-02-27T00:00:00",
          "2020-02-28T00:00:00",
          "2020-03-02T00:00:00",
          "2020-03-03T00:00:00",
          "2020-03-04T00:00:00",
          "2020-03-05T00:00:00",
          "2020-03-06T00:00:00",
          "2020-03-09T00:00:00",
          "2020-03-10T00:00:00",
          "2020-03-11T00:00:00",
          "2020-03-12T00:00:00",
          "2020-03-13T00:00:00",
          "2020-03-16T00:00:00",
          "2020-03-17T00:00:00",
          "2020-03-18T00:00:00",
          "2020-03-19T00:00:00",
          "2020-03-20T00:00:00",
          "2020-03-23T00:00:00",
          "2020-03-24T00:00:00",
          "2020-03-25T00:00:00",
          "2020-03-26T00:00:00",
          "2020-03-27T00:00:00",
          "2020-03-30T00:00:00",
          "2020-03-31T00:00:00",
          "2020-04-01T00:00:00",
          "2020-04-02T00:00:00",
          "2020-04-03T00:00:00",
          "2020-04-06T00:00:00",
          "2020-04-07T00:00:00",
          "2020-04-08T00:00:00",
          "2020-04-09T00:00:00",
          "2020-04-13T00:00:00",
          "2020-04-14T00:00:00",
          "2020-04-15T00:00:00",
          "2020-04-16T00:00:00",
          "2020-04-17T00:00:00",
          "2020-04-20T00:00:00",
          "2020-04-21T00:00:00",
          "2020-04-22T00:00:00",
          "2020-04-23T00:00:00",
          "2020-04-24T00:00:00",
          "2020-04-27T00:00:00",
          "2020-04-28T00:00:00",
          "2020-04-29T00:00:00",
          "2020-04-30T00:00:00",
          "2020-05-01T00:00:00",
          "2020-05-04T00:00:00",
          "2020-05-05T00:00:00",
          "2020-05-06T00:00:00",
          "2020-05-07T00:00:00",
          "2020-05-08T00:00:00",
          "2020-05-11T00:00:00",
          "2020-05-12T00:00:00",
          "2020-05-13T00:00:00",
          "2020-05-14T00:00:00",
          "2020-05-15T00:00:00",
          "2020-05-18T00:00:00",
          "2020-05-19T00:00:00",
          "2020-05-20T00:00:00",
          "2020-05-21T00:00:00",
          "2020-05-22T00:00:00",
          "2020-05-26T00:00:00",
          "2020-05-27T00:00:00",
          "2020-05-28T00:00:00",
          "2020-05-29T00:00:00",
          "2020-06-01T00:00:00",
          "2020-06-02T00:00:00",
          "2020-06-03T00:00:00",
          "2020-06-04T00:00:00",
          "2020-06-05T00:00:00",
          "2020-06-08T00:00:00",
          "2020-06-09T00:00:00",
          "2020-06-10T00:00:00",
          "2020-06-11T00:00:00",
          "2020-06-12T00:00:00",
          "2020-06-15T00:00:00",
          "2020-06-16T00:00:00",
          "2020-06-17T00:00:00",
          "2020-06-18T00:00:00",
          "2020-06-19T00:00:00",
          "2020-06-22T00:00:00",
          "2020-06-23T00:00:00",
          "2020-06-24T00:00:00",
          "2020-06-25T00:00:00",
          "2020-06-26T00:00:00",
          "2020-06-29T00:00:00",
          "2020-06-30T00:00:00",
          "2020-07-01T00:00:00",
          "2020-07-02T00:00:00",
          "2020-07-06T00:00:00",
          "2020-07-07T00:00:00",
          "2020-07-08T00:00:00",
          "2020-07-09T00:00:00",
          "2020-07-10T00:00:00",
          "2020-07-13T00:00:00",
          "2020-07-14T00:00:00",
          "2020-07-15T00:00:00",
          "2020-07-16T00:00:00"
         ],
         "y": [
          300.3500061035156,
          297.42999267578125,
          299.79998779296875,
          298.3900146484375,
          303.19000244140625,
          309.6300048828125,
          310.3299865722656,
          316.9599914550781,
          312.67999267578125,
          311.3399963378906,
          315.239990234375,
          318.7300109863281,
          316.57000732421875,
          317.70001220703125,
          319.2300109863281,
          318.30999755859375,
          308.95001220703125,
          317.69000244140625,
          324.3399963378906,
          323.8699951171875,
          309.510009765625,
          308.6600036621094,
          318.8500061035156,
          321.45001220703125,
          325.2099914550781,
          320.0299987792969,
          321.54998779296875,
          319.6099853515625,
          327.20001220703125,
          324.8699951171875,
          324.95001220703125,
          319,
          323.6199951171875,
          320.29998779296875,
          313.04998779296875,
          298.17999267578125,
          288.0799865722656,
          292.6499938964844,
          273.5199890136719,
          273.3599853515625,
          298.80999755859375,
          289.32000732421875,
          302.739990234375,
          292.9200134277344,
          289.0299987792969,
          266.1700134277344,
          285.3399963378906,
          275.42999267578125,
          248.22999572753906,
          277.9700012207031,
          242.2100067138672,
          252.86000061035156,
          246.6699981689453,
          244.77999877929688,
          229.24000549316406,
          224.3699951171875,
          246.8800048828125,
          245.52000427246094,
          258.44000244140625,
          247.74000549316406,
          254.80999755859375,
          254.2899932861328,
          240.91000366210938,
          244.92999267578125,
          241.41000366210938,
          262.4700012207031,
          259.42999267578125,
          266.07000732421875,
          267.989990234375,
          273.25,
          287.04998779296875,
          284.42999267578125,
          286.69000244140625,
          282.79998779296875,
          276.92999267578125,
          268.3699951171875,
          276.1000061035156,
          275.0299987792969,
          282.9700012207031,
          283.1700134277344,
          278.5799865722656,
          287.7300109863281,
          293.79998779296875,
          289.07000732421875,
          293.1600036621094,
          297.55999755859375,
          300.6300048828125,
          303.739990234375,
          310.1300048828125,
          315.010009765625,
          311.4100036621094,
          307.6499938964844,
          309.5400085449219,
          307.7099914550781,
          314.9599914550781,
          313.1400146484375,
          319.2300109863281,
          316.8500061035156,
          318.8900146484375,
          316.7300109863281,
          318.1099853515625,
          318.25,
          317.94000244140625,
          321.8500061035156,
          323.3399963378906,
          325.1199951171875,
          322.32000732421875,
          331.5,
          333.4599914550781,
          343.989990234375,
          352.8399963378906,
          335.8999938964844,
          338.79998779296875,
          342.989990234375,
          352.0799865722656,
          351.5899963378906,
          351.7300109863281,
          349.7200012207031,
          358.8699951171875,
          366.5299987792969,
          360.05999755859375,
          364.8399963378906,
          353.6300048828125,
          361.7799987792969,
          364.79998779296875,
          364.1099853515625,
          364.1099853515625,
          373.8500061035156,
          372.69000244140625,
          381.3699951171875,
          383.010009765625,
          383.67999267578125,
          381.9100036621094,
          388.2300109863281,
          390.8999938964844,
          384.8500061035156
         ]
        },
        {
         "mode": "lines",
         "name": "DIS",
         "type": "scatter",
         "x": [
          "2020-01-02T00:00:00",
          "2020-01-03T00:00:00",
          "2020-01-06T00:00:00",
          "2020-01-07T00:00:00",
          "2020-01-08T00:00:00",
          "2020-01-09T00:00:00",
          "2020-01-10T00:00:00",
          "2020-01-13T00:00:00",
          "2020-01-14T00:00:00",
          "2020-01-15T00:00:00",
          "2020-01-16T00:00:00",
          "2020-01-17T00:00:00",
          "2020-01-21T00:00:00",
          "2020-01-22T00:00:00",
          "2020-01-23T00:00:00",
          "2020-01-24T00:00:00",
          "2020-01-27T00:00:00",
          "2020-01-28T00:00:00",
          "2020-01-29T00:00:00",
          "2020-01-30T00:00:00",
          "2020-01-31T00:00:00",
          "2020-02-03T00:00:00",
          "2020-02-04T00:00:00",
          "2020-02-05T00:00:00",
          "2020-02-06T00:00:00",
          "2020-02-07T00:00:00",
          "2020-02-10T00:00:00",
          "2020-02-11T00:00:00",
          "2020-02-12T00:00:00",
          "2020-02-13T00:00:00",
          "2020-02-14T00:00:00",
          "2020-02-18T00:00:00",
          "2020-02-19T00:00:00",
          "2020-02-20T00:00:00",
          "2020-02-21T00:00:00",
          "2020-02-24T00:00:00",
          "2020-02-25T00:00:00",
          "2020-02-26T00:00:00",
          "2020-02-27T00:00:00",
          "2020-02-28T00:00:00",
          "2020-03-02T00:00:00",
          "2020-03-03T00:00:00",
          "2020-03-04T00:00:00",
          "2020-03-05T00:00:00",
          "2020-03-06T00:00:00",
          "2020-03-09T00:00:00",
          "2020-03-10T00:00:00",
          "2020-03-11T00:00:00",
          "2020-03-12T00:00:00",
          "2020-03-13T00:00:00",
          "2020-03-16T00:00:00",
          "2020-03-17T00:00:00",
          "2020-03-18T00:00:00",
          "2020-03-19T00:00:00",
          "2020-03-20T00:00:00",
          "2020-03-23T00:00:00",
          "2020-03-24T00:00:00",
          "2020-03-25T00:00:00",
          "2020-03-26T00:00:00",
          "2020-03-27T00:00:00",
          "2020-03-30T00:00:00",
          "2020-03-31T00:00:00",
          "2020-04-01T00:00:00",
          "2020-04-02T00:00:00",
          "2020-04-03T00:00:00",
          "2020-04-06T00:00:00",
          "2020-04-07T00:00:00",
          "2020-04-08T00:00:00",
          "2020-04-09T00:00:00",
          "2020-04-13T00:00:00",
          "2020-04-14T00:00:00",
          "2020-04-15T00:00:00",
          "2020-04-16T00:00:00",
          "2020-04-17T00:00:00",
          "2020-04-20T00:00:00",
          "2020-04-21T00:00:00",
          "2020-04-22T00:00:00",
          "2020-04-23T00:00:00",
          "2020-04-24T00:00:00",
          "2020-04-27T00:00:00",
          "2020-04-28T00:00:00",
          "2020-04-29T00:00:00",
          "2020-04-30T00:00:00",
          "2020-05-01T00:00:00",
          "2020-05-04T00:00:00",
          "2020-05-05T00:00:00",
          "2020-05-06T00:00:00",
          "2020-05-07T00:00:00",
          "2020-05-08T00:00:00",
          "2020-05-11T00:00:00",
          "2020-05-12T00:00:00",
          "2020-05-13T00:00:00",
          "2020-05-14T00:00:00",
          "2020-05-15T00:00:00",
          "2020-05-18T00:00:00",
          "2020-05-19T00:00:00",
          "2020-05-20T00:00:00",
          "2020-05-21T00:00:00",
          "2020-05-22T00:00:00",
          "2020-05-26T00:00:00",
          "2020-05-27T00:00:00",
          "2020-05-28T00:00:00",
          "2020-05-29T00:00:00",
          "2020-06-01T00:00:00",
          "2020-06-02T00:00:00",
          "2020-06-03T00:00:00",
          "2020-06-04T00:00:00",
          "2020-06-05T00:00:00",
          "2020-06-08T00:00:00",
          "2020-06-09T00:00:00",
          "2020-06-10T00:00:00",
          "2020-06-11T00:00:00",
          "2020-06-12T00:00:00",
          "2020-06-15T00:00:00",
          "2020-06-16T00:00:00",
          "2020-06-17T00:00:00",
          "2020-06-18T00:00:00",
          "2020-06-19T00:00:00",
          "2020-06-22T00:00:00",
          "2020-06-23T00:00:00",
          "2020-06-24T00:00:00",
          "2020-06-25T00:00:00",
          "2020-06-26T00:00:00",
          "2020-06-29T00:00:00",
          "2020-06-30T00:00:00",
          "2020-07-01T00:00:00",
          "2020-07-02T00:00:00",
          "2020-07-06T00:00:00",
          "2020-07-07T00:00:00",
          "2020-07-08T00:00:00",
          "2020-07-09T00:00:00",
          "2020-07-10T00:00:00",
          "2020-07-13T00:00:00",
          "2020-07-14T00:00:00",
          "2020-07-15T00:00:00",
          "2020-07-16T00:00:00"
         ],
         "y": [
          148.1999969482422,
          146.5,
          145.64999389648438,
          145.6999969482422,
          145.39999389648438,
          144.8300018310547,
          144.6199951171875,
          143.8800048828125,
          145.1999969482422,
          144.32000732421875,
          145.1199951171875,
          144.3300018310547,
          143.55999755859375,
          144.00999450683594,
          142.1999969482422,
          140.0800018310547,
          135.89999389648438,
          138.3699951171875,
          136.05999755859375,
          137.80999755859375,
          138.30999755859375,
          141.32000732421875,
          144.72999572753906,
          141.3699951171875,
          142.6999969482422,
          141.02000427246094,
          142.58999633789062,
          141.00999450683594,
          141.85000610351562,
          140.89999389648438,
          139.5399932861328,
          139.13999938964844,
          141.3000030517578,
          140.3699951171875,
          138.97000122070312,
          133.00999450683594,
          128.19000244140625,
          123.36000061035156,
          118.04000091552734,
          117.6500015258789,
          119.9800033569336,
          116.44999694824219,
          119.18000030517578,
          113.9800033569336,
          115.2699966430664,
          104.3499984741211,
          111.45999908447266,
          105.51000213623047,
          91.80999755859375,
          102.5199966430664,
          95.01000213623047,
          93.52999877929688,
          88.80000305175781,
          94.93000030517578,
          85.9800033569336,
          85.76000213623047,
          98.12000274658203,
          100.7300033569336,
          105.36000061035156,
          96.4000015258789,
          99.80000305175781,
          96.5999984741211,
          94.91999816894531,
          96.97000122070312,
          93.87999725341797,
          99.58000183105469,
          101.23999786376953,
          101.06999969482422,
          104.5,
          103.5,
          106.02999877929688,
          103.37000274658203,
          102.0199966430664,
          106.62999725341797,
          102.26000213623047,
          100.54000091552734,
          100.98999786376953,
          101,
          101.19000244140625,
          106.05999755859375,
          106.20999908447266,
          112.25,
          108.1500015258789,
          105.5,
          103.18000030517578,
          101.05999755859375,
          100.87999725341797,
          105.56999969482422,
          109.16000366210938,
          107.7699966430664,
          104.55999755859375,
          102.91999816894531,
          105.91000366210938,
          109.05000305175781,
          116.8499984741211,
          114.37000274658203,
          119.91999816894531,
          117.83000183105469,
          118.0199966430664,
          120.94999694824219,
          121.52999877929688,
          116.75,
          117.30000305175781,
          118.7699966430664,
          118.75,
          122.18000030517578,
          123.69000244140625,
          124.81999969482422,
          127.27999877929688,
          123.88999938964844,
          122.18000030517578,
          112.63999938964844,
          115.48999786376953,
          117.08000183105469,
          118.44000244140625,
          117.6500015258789,
          118.37000274658203,
          114.3499984741211,
          115.91999816894531,
          116.58999633789062,
          112.06999969482422,
          111.36000061035156,
          109.0999984741211,
          111.5199966430664,
          111.51000213623047,
          113.01000213623047,
          112.18000030517578,
          114.43000030517578,
          113.62999725341797,
          116.66000366210938,
          116.80999755859375,
          119.33999633789062,
          116.22000122070312,
          118.66000366210938,
          120.9000015258789,
          119.5999984741211
         ]
        }
       ],
       "layout": {
        "template": {
         "data": {
          "bar": [
           {
            "error_x": {
             "color": "#2a3f5f"
            },
            "error_y": {
             "color": "#2a3f5f"
            },
            "marker": {
             "line": {
              "color": "#E5ECF6",
              "width": 0.5
             }
            },
            "type": "bar"
           }
          ],
          "barpolar": [
           {
            "marker": {
             "line": {
              "color": "#E5ECF6",
              "width": 0.5
             }
            },
            "type": "barpolar"
           }
          ],
          "carpet": [
           {
            "aaxis": {
             "endlinecolor": "#2a3f5f",
             "gridcolor": "white",
             "linecolor": "white",
             "minorgridcolor": "white",
             "startlinecolor": "#2a3f5f"
            },
            "baxis": {
             "endlinecolor": "#2a3f5f",
             "gridcolor": "white",
             "linecolor": "white",
             "minorgridcolor": "white",
             "startlinecolor": "#2a3f5f"
            },
            "type": "carpet"
           }
          ],
          "choropleth": [
           {
            "colorbar": {
             "outlinewidth": 0,
             "ticks": ""
            },
            "type": "choropleth"
           }
          ],
          "contour": [
           {
            "colorbar": {
             "outlinewidth": 0,
             "ticks": ""
            },
            "colorscale": [
             [
              0,
              "#0d0887"
             ],
             [
              0.1111111111111111,
              "#46039f"
             ],
             [
              0.2222222222222222,
              "#7201a8"
             ],
             [
              0.3333333333333333,
              "#9c179e"
             ],
             [
              0.4444444444444444,
              "#bd3786"
             ],
             [
              0.5555555555555556,
              "#d8576b"
             ],
             [
              0.6666666666666666,
              "#ed7953"
             ],
             [
              0.7777777777777778,
              "#fb9f3a"
             ],
             [
              0.8888888888888888,
              "#fdca26"
             ],
             [
              1,
              "#f0f921"
             ]
            ],
            "type": "contour"
           }
          ],
          "contourcarpet": [
           {
            "colorbar": {
             "outlinewidth": 0,
             "ticks": ""
            },
            "type": "contourcarpet"
           }
          ],
          "heatmap": [
           {
            "colorbar": {
             "outlinewidth": 0,
             "ticks": ""
            },
            "colorscale": [
             [
              0,
              "#0d0887"
             ],
             [
              0.1111111111111111,
              "#46039f"
             ],
             [
              0.2222222222222222,
              "#7201a8"
             ],
             [
              0.3333333333333333,
              "#9c179e"
             ],
             [
              0.4444444444444444,
              "#bd3786"
             ],
             [
              0.5555555555555556,
              "#d8576b"
             ],
             [
              0.6666666666666666,
              "#ed7953"
             ],
             [
              0.7777777777777778,
              "#fb9f3a"
             ],
             [
              0.8888888888888888,
              "#fdca26"
             ],
             [
              1,
              "#f0f921"
             ]
            ],
            "type": "heatmap"
           }
          ],
          "heatmapgl": [
           {
            "colorbar": {
             "outlinewidth": 0,
             "ticks": ""
            },
            "colorscale": [
             [
              0,
              "#0d0887"
             ],
             [
              0.1111111111111111,
              "#46039f"
             ],
             [
              0.2222222222222222,
              "#7201a8"
             ],
             [
              0.3333333333333333,
              "#9c179e"
             ],
             [
              0.4444444444444444,
              "#bd3786"
             ],
             [
              0.5555555555555556,
              "#d8576b"
             ],
             [
              0.6666666666666666,
              "#ed7953"
             ],
             [
              0.7777777777777778,
              "#fb9f3a"
             ],
             [
              0.8888888888888888,
              "#fdca26"
             ],
             [
              1,
              "#f0f921"
             ]
            ],
            "type": "heatmapgl"
           }
          ],
          "histogram": [
           {
            "marker": {
             "colorbar": {
              "outlinewidth": 0,
              "ticks": ""
             }
            },
            "type": "histogram"
           }
          ],
          "histogram2d": [
           {
            "colorbar": {
             "outlinewidth": 0,
             "ticks": ""
            },
            "colorscale": [
             [
              0,
              "#0d0887"
             ],
             [
              0.1111111111111111,
              "#46039f"
             ],
             [
              0.2222222222222222,
              "#7201a8"
             ],
             [
              0.3333333333333333,
              "#9c179e"
             ],
             [
              0.4444444444444444,
              "#bd3786"
             ],
             [
              0.5555555555555556,
              "#d8576b"
             ],
             [
              0.6666666666666666,
              "#ed7953"
             ],
             [
              0.7777777777777778,
              "#fb9f3a"
             ],
             [
              0.8888888888888888,
              "#fdca26"
             ],
             [
              1,
              "#f0f921"
             ]
            ],
            "type": "histogram2d"
           }
          ],
          "histogram2dcontour": [
           {
            "colorbar": {
             "outlinewidth": 0,
             "ticks": ""
            },
            "colorscale": [
             [
              0,
              "#0d0887"
             ],
             [
              0.1111111111111111,
              "#46039f"
             ],
             [
              0.2222222222222222,
              "#7201a8"
             ],
             [
              0.3333333333333333,
              "#9c179e"
             ],
             [
              0.4444444444444444,
              "#bd3786"
             ],
             [
              0.5555555555555556,
              "#d8576b"
             ],
             [
              0.6666666666666666,
              "#ed7953"
             ],
             [
              0.7777777777777778,
              "#fb9f3a"
             ],
             [
              0.8888888888888888,
              "#fdca26"
             ],
             [
              1,
              "#f0f921"
             ]
            ],
            "type": "histogram2dcontour"
           }
          ],
          "mesh3d": [
           {
            "colorbar": {
             "outlinewidth": 0,
             "ticks": ""
            },
            "type": "mesh3d"
           }
          ],
          "parcoords": [
           {
            "line": {
             "colorbar": {
              "outlinewidth": 0,
              "ticks": ""
             }
            },
            "type": "parcoords"
           }
          ],
          "pie": [
           {
            "automargin": true,
            "type": "pie"
           }
          ],
          "scatter": [
           {
            "marker": {
             "colorbar": {
              "outlinewidth": 0,
              "ticks": ""
             }
            },
            "type": "scatter"
           }
          ],
          "scatter3d": [
           {
            "line": {
             "colorbar": {
              "outlinewidth": 0,
              "ticks": ""
             }
            },
            "marker": {
             "colorbar": {
              "outlinewidth": 0,
              "ticks": ""
             }
            },
            "type": "scatter3d"
           }
          ],
          "scattercarpet": [
           {
            "marker": {
             "colorbar": {
              "outlinewidth": 0,
              "ticks": ""
             }
            },
            "type": "scattercarpet"
           }
          ],
          "scattergeo": [
           {
            "marker": {
             "colorbar": {
              "outlinewidth": 0,
              "ticks": ""
             }
            },
            "type": "scattergeo"
           }
          ],
          "scattergl": [
           {
            "marker": {
             "colorbar": {
              "outlinewidth": 0,
              "ticks": ""
             }
            },
            "type": "scattergl"
           }
          ],
          "scattermapbox": [
           {
            "marker": {
             "colorbar": {
              "outlinewidth": 0,
              "ticks": ""
             }
            },
            "type": "scattermapbox"
           }
          ],
          "scatterpolar": [
           {
            "marker": {
             "colorbar": {
              "outlinewidth": 0,
              "ticks": ""
             }
            },
            "type": "scatterpolar"
           }
          ],
          "scatterpolargl": [
           {
            "marker": {
             "colorbar": {
              "outlinewidth": 0,
              "ticks": ""
             }
            },
            "type": "scatterpolargl"
           }
          ],
          "scatterternary": [
           {
            "marker": {
             "colorbar": {
              "outlinewidth": 0,
              "ticks": ""
             }
            },
            "type": "scatterternary"
           }
          ],
          "surface": [
           {
            "colorbar": {
             "outlinewidth": 0,
             "ticks": ""
            },
            "colorscale": [
             [
              0,
              "#0d0887"
             ],
             [
              0.1111111111111111,
              "#46039f"
             ],
             [
              0.2222222222222222,
              "#7201a8"
             ],
             [
              0.3333333333333333,
              "#9c179e"
             ],
             [
              0.4444444444444444,
              "#bd3786"
             ],
             [
              0.5555555555555556,
              "#d8576b"
             ],
             [
              0.6666666666666666,
              "#ed7953"
             ],
             [
              0.7777777777777778,
              "#fb9f3a"
             ],
             [
              0.8888888888888888,
              "#fdca26"
             ],
             [
              1,
              "#f0f921"
             ]
            ],
            "type": "surface"
           }
          ],
          "table": [
           {
            "cells": {
             "fill": {
              "color": "#EBF0F8"
             },
             "line": {
              "color": "white"
             }
            },
            "header": {
             "fill": {
              "color": "#C8D4E3"
             },
             "line": {
              "color": "white"
             }
            },
            "type": "table"
           }
          ]
         },
         "layout": {
          "annotationdefaults": {
           "arrowcolor": "#2a3f5f",
           "arrowhead": 0,
           "arrowwidth": 1
          },
          "coloraxis": {
           "colorbar": {
            "outlinewidth": 0,
            "ticks": ""
           }
          },
          "colorscale": {
           "diverging": [
            [
             0,
             "#8e0152"
            ],
            [
             0.1,
             "#c51b7d"
            ],
            [
             0.2,
             "#de77ae"
            ],
            [
             0.3,
             "#f1b6da"
            ],
            [
             0.4,
             "#fde0ef"
            ],
            [
             0.5,
             "#f7f7f7"
            ],
            [
             0.6,
             "#e6f5d0"
            ],
            [
             0.7,
             "#b8e186"
            ],
            [
             0.8,
             "#7fbc41"
            ],
            [
             0.9,
             "#4d9221"
            ],
            [
             1,
             "#276419"
            ]
           ],
           "sequential": [
            [
             0,
             "#0d0887"
            ],
            [
             0.1111111111111111,
             "#46039f"
            ],
            [
             0.2222222222222222,
             "#7201a8"
            ],
            [
             0.3333333333333333,
             "#9c179e"
            ],
            [
             0.4444444444444444,
             "#bd3786"
            ],
            [
             0.5555555555555556,
             "#d8576b"
            ],
            [
             0.6666666666666666,
             "#ed7953"
            ],
            [
             0.7777777777777778,
             "#fb9f3a"
            ],
            [
             0.8888888888888888,
             "#fdca26"
            ],
            [
             1,
             "#f0f921"
            ]
           ],
           "sequentialminus": [
            [
             0,
             "#0d0887"
            ],
            [
             0.1111111111111111,
             "#46039f"
            ],
            [
             0.2222222222222222,
             "#7201a8"
            ],
            [
             0.3333333333333333,
             "#9c179e"
            ],
            [
             0.4444444444444444,
             "#bd3786"
            ],
            [
             0.5555555555555556,
             "#d8576b"
            ],
            [
             0.6666666666666666,
             "#ed7953"
            ],
            [
             0.7777777777777778,
             "#fb9f3a"
            ],
            [
             0.8888888888888888,
             "#fdca26"
            ],
            [
             1,
             "#f0f921"
            ]
           ]
          },
          "colorway": [
           "#636efa",
           "#EF553B",
           "#00cc96",
           "#ab63fa",
           "#FFA15A",
           "#19d3f3",
           "#FF6692",
           "#B6E880",
           "#FF97FF",
           "#FECB52"
          ],
          "font": {
           "color": "#2a3f5f"
          },
          "geo": {
           "bgcolor": "white",
           "lakecolor": "white",
           "landcolor": "#E5ECF6",
           "showlakes": true,
           "showland": true,
           "subunitcolor": "white"
          },
          "hoverlabel": {
           "align": "left"
          },
          "hovermode": "closest",
          "mapbox": {
           "style": "light"
          },
          "paper_bgcolor": "white",
          "plot_bgcolor": "#E5ECF6",
          "polar": {
           "angularaxis": {
            "gridcolor": "white",
            "linecolor": "white",
            "ticks": ""
           },
           "bgcolor": "#E5ECF6",
           "radialaxis": {
            "gridcolor": "white",
            "linecolor": "white",
            "ticks": ""
           }
          },
          "scene": {
           "xaxis": {
            "backgroundcolor": "#E5ECF6",
            "gridcolor": "white",
            "gridwidth": 2,
            "linecolor": "white",
            "showbackground": true,
            "ticks": "",
            "zerolinecolor": "white"
           },
           "yaxis": {
            "backgroundcolor": "#E5ECF6",
            "gridcolor": "white",
            "gridwidth": 2,
            "linecolor": "white",
            "showbackground": true,
            "ticks": "",
            "zerolinecolor": "white"
           },
           "zaxis": {
            "backgroundcolor": "#E5ECF6",
            "gridcolor": "white",
            "gridwidth": 2,
            "linecolor": "white",
            "showbackground": true,
            "ticks": "",
            "zerolinecolor": "white"
           }
          },
          "shapedefaults": {
           "line": {
            "color": "#2a3f5f"
           }
          },
          "ternary": {
           "aaxis": {
            "gridcolor": "white",
            "linecolor": "white",
            "ticks": ""
           },
           "baxis": {
            "gridcolor": "white",
            "linecolor": "white",
            "ticks": ""
           },
           "bgcolor": "#E5ECF6",
           "caxis": {
            "gridcolor": "white",
            "linecolor": "white",
            "ticks": ""
           }
          },
          "title": {
           "x": 0.05
          },
          "xaxis": {
           "automargin": true,
           "gridcolor": "white",
           "linecolor": "white",
           "ticks": "",
           "title": {
            "standoff": 15
           },
           "zerolinecolor": "white",
           "zerolinewidth": 2
          },
          "yaxis": {
           "automargin": true,
           "gridcolor": "white",
           "linecolor": "white",
           "ticks": "",
           "title": {
            "standoff": 15
           },
           "zerolinecolor": "white",
           "zerolinewidth": 2
          }
         }
        },
        "title": {
         "text": "Comparison between stocks"
        }
       }
      },
      "text/html": [
       "<div>\n",
       "        \n",
       "        \n",
       "            <div id=\"4e24c025-5637-4d8a-83ce-55e1d0682774\" class=\"plotly-graph-div\" style=\"height:525px; width:100%;\"></div>\n",
       "            <script type=\"text/javascript\">\n",
       "                require([\"plotly\"], function(Plotly) {\n",
       "                    window.PLOTLYENV=window.PLOTLYENV || {};\n",
       "                    \n",
       "                if (document.getElementById(\"4e24c025-5637-4d8a-83ce-55e1d0682774\")) {\n",
       "                    Plotly.newPlot(\n",
       "                        '4e24c025-5637-4d8a-83ce-55e1d0682774',\n",
       "                        [{\"mode\": \"lines\", \"name\": \"AMZN\", \"type\": \"scatter\", \"x\": [\"2020-01-02T00:00:00\", \"2020-01-03T00:00:00\", \"2020-01-06T00:00:00\", \"2020-01-07T00:00:00\", \"2020-01-08T00:00:00\", \"2020-01-09T00:00:00\", \"2020-01-10T00:00:00\", \"2020-01-13T00:00:00\", \"2020-01-14T00:00:00\", \"2020-01-15T00:00:00\", \"2020-01-16T00:00:00\", \"2020-01-17T00:00:00\", \"2020-01-21T00:00:00\", \"2020-01-22T00:00:00\", \"2020-01-23T00:00:00\", \"2020-01-24T00:00:00\", \"2020-01-27T00:00:00\", \"2020-01-28T00:00:00\", \"2020-01-29T00:00:00\", \"2020-01-30T00:00:00\", \"2020-01-31T00:00:00\", \"2020-02-03T00:00:00\", \"2020-02-04T00:00:00\", \"2020-02-05T00:00:00\", \"2020-02-06T00:00:00\", \"2020-02-07T00:00:00\", \"2020-02-10T00:00:00\", \"2020-02-11T00:00:00\", \"2020-02-12T00:00:00\", \"2020-02-13T00:00:00\", \"2020-02-14T00:00:00\", \"2020-02-18T00:00:00\", \"2020-02-19T00:00:00\", \"2020-02-20T00:00:00\", \"2020-02-21T00:00:00\", \"2020-02-24T00:00:00\", \"2020-02-25T00:00:00\", \"2020-02-26T00:00:00\", \"2020-02-27T00:00:00\", \"2020-02-28T00:00:00\", \"2020-03-02T00:00:00\", \"2020-03-03T00:00:00\", \"2020-03-04T00:00:00\", \"2020-03-05T00:00:00\", \"2020-03-06T00:00:00\", \"2020-03-09T00:00:00\", \"2020-03-10T00:00:00\", \"2020-03-11T00:00:00\", \"2020-03-12T00:00:00\", \"2020-03-13T00:00:00\", \"2020-03-16T00:00:00\", \"2020-03-17T00:00:00\", \"2020-03-18T00:00:00\", \"2020-03-19T00:00:00\", \"2020-03-20T00:00:00\", \"2020-03-23T00:00:00\", \"2020-03-24T00:00:00\", \"2020-03-25T00:00:00\", \"2020-03-26T00:00:00\", \"2020-03-27T00:00:00\", \"2020-03-30T00:00:00\", \"2020-03-31T00:00:00\", \"2020-04-01T00:00:00\", \"2020-04-02T00:00:00\", \"2020-04-03T00:00:00\", \"2020-04-06T00:00:00\", \"2020-04-07T00:00:00\", \"2020-04-08T00:00:00\", \"2020-04-09T00:00:00\", \"2020-04-13T00:00:00\", \"2020-04-14T00:00:00\", \"2020-04-15T00:00:00\", \"2020-04-16T00:00:00\", \"2020-04-17T00:00:00\", \"2020-04-20T00:00:00\", \"2020-04-21T00:00:00\", \"2020-04-22T00:00:00\", \"2020-04-23T00:00:00\", \"2020-04-24T00:00:00\", \"2020-04-27T00:00:00\", \"2020-04-28T00:00:00\", \"2020-04-29T00:00:00\", \"2020-04-30T00:00:00\", \"2020-05-01T00:00:00\", \"2020-05-04T00:00:00\", \"2020-05-05T00:00:00\", \"2020-05-06T00:00:00\", \"2020-05-07T00:00:00\", \"2020-05-08T00:00:00\", \"2020-05-11T00:00:00\", \"2020-05-12T00:00:00\", \"2020-05-13T00:00:00\", \"2020-05-14T00:00:00\", \"2020-05-15T00:00:00\", \"2020-05-18T00:00:00\", \"2020-05-19T00:00:00\", \"2020-05-20T00:00:00\", \"2020-05-21T00:00:00\", \"2020-05-22T00:00:00\", \"2020-05-26T00:00:00\", \"2020-05-27T00:00:00\", \"2020-05-28T00:00:00\", \"2020-05-29T00:00:00\", \"2020-06-01T00:00:00\", \"2020-06-02T00:00:00\", \"2020-06-03T00:00:00\", \"2020-06-04T00:00:00\", \"2020-06-05T00:00:00\", \"2020-06-08T00:00:00\", \"2020-06-09T00:00:00\", \"2020-06-10T00:00:00\", \"2020-06-11T00:00:00\", \"2020-06-12T00:00:00\", \"2020-06-15T00:00:00\", \"2020-06-16T00:00:00\", \"2020-06-17T00:00:00\", \"2020-06-18T00:00:00\", \"2020-06-19T00:00:00\", \"2020-06-22T00:00:00\", \"2020-06-23T00:00:00\", \"2020-06-24T00:00:00\", \"2020-06-25T00:00:00\", \"2020-06-26T00:00:00\", \"2020-06-29T00:00:00\", \"2020-06-30T00:00:00\", \"2020-07-01T00:00:00\", \"2020-07-02T00:00:00\", \"2020-07-06T00:00:00\", \"2020-07-07T00:00:00\", \"2020-07-08T00:00:00\", \"2020-07-09T00:00:00\", \"2020-07-10T00:00:00\", \"2020-07-13T00:00:00\", \"2020-07-14T00:00:00\", \"2020-07-15T00:00:00\", \"2020-07-16T00:00:00\"], \"y\": [1898.010009765625, 1874.969970703125, 1902.8800048828125, 1906.8599853515625, 1891.969970703125, 1901.050048828125, 1883.1600341796875, 1891.300048828125, 1869.43994140625, 1862.02001953125, 1877.93994140625, 1864.719970703125, 1892.0, 1887.4599609375, 1884.5799560546875, 1861.6400146484375, 1828.3399658203125, 1853.25, 1858.0, 1870.6800537109375, 2008.719970703125, 2004.199951171875, 2049.669921875, 2039.8699951171875, 2050.22998046875, 2079.280029296875, 2133.909912109375, 2150.800048828125, 2160.0, 2149.8701171875, 2134.8701171875, 2155.669921875, 2170.219970703125, 2153.10009765625, 2095.969970703125, 2009.2900390625, 1972.739990234375, 1979.5899658203125, 1884.300048828125, 1883.75, 1953.949951171875, 1908.989990234375, 1975.8299560546875, 1924.030029296875, 1901.0899658203125, 1800.6099853515625, 1891.8199462890625, 1820.8599853515625, 1676.6099853515625, 1785.0, 1689.1500244140625, 1807.8399658203125, 1830.0, 1880.9300537109375, 1846.0899658203125, 1902.8299560546875, 1940.0999755859375, 1885.8399658203125, 1955.489990234375, 1900.0999755859375, 1963.949951171875, 1949.719970703125, 1907.699951171875, 1918.8299560546875, 1906.5899658203125, 1997.5899658203125, 2011.5999755859375, 2043.0, 2042.760009765625, 2168.8701171875, 2283.320068359375, 2307.679931640625, 2408.18994140625, 2375.0, 2393.610107421875, 2328.1201171875, 2363.489990234375, 2399.449951171875, 2410.219970703125, 2376.0, 2314.080078125, 2372.7099609375, 2474.0, 2286.0400390625, 2315.989990234375, 2317.800048828125, 2351.260009765625, 2367.610107421875, 2379.610107421875, 2409.0, 2356.949951171875, 2367.919921875, 2388.85009765625, 2409.780029296875, 2426.260009765625, 2449.330078125, 2497.93994140625, 2446.739990234375, 2436.8798828125, 2421.860107421875, 2410.389892578125, 2401.10009765625, 2442.3701171875, 2471.0400390625, 2472.409912109375, 2478.39990234375, 2460.60009765625, 2483.0, 2524.06005859375, 2600.860107421875, 2647.449951171875, 2557.9599609375, 2545.02001953125, 2572.679931640625, 2615.27001953125, 2640.97998046875, 2653.97998046875, 2675.010009765625, 2713.820068359375, 2764.409912109375, 2734.39990234375, 2754.580078125, 2692.8701171875, 2680.3798828125, 2758.820068359375, 2878.699951171875, 2890.300048828125, 3057.0400390625, 3000.1201171875, 3081.110107421875, 3182.6298828125, 3200.0, 3104.0, 3084.0, 3008.8701171875, 2999.002197265625]}, {\"mode\": \"lines\", \"name\": \"MSFT\", \"type\": \"scatter\", \"x\": [\"2020-01-02T00:00:00\", \"2020-01-03T00:00:00\", \"2020-01-06T00:00:00\", \"2020-01-07T00:00:00\", \"2020-01-08T00:00:00\", \"2020-01-09T00:00:00\", \"2020-01-10T00:00:00\", \"2020-01-13T00:00:00\", \"2020-01-14T00:00:00\", \"2020-01-15T00:00:00\", \"2020-01-16T00:00:00\", \"2020-01-17T00:00:00\", \"2020-01-21T00:00:00\", \"2020-01-22T00:00:00\", \"2020-01-23T00:00:00\", \"2020-01-24T00:00:00\", \"2020-01-27T00:00:00\", \"2020-01-28T00:00:00\", \"2020-01-29T00:00:00\", \"2020-01-30T00:00:00\", \"2020-01-31T00:00:00\", \"2020-02-03T00:00:00\", \"2020-02-04T00:00:00\", \"2020-02-05T00:00:00\", \"2020-02-06T00:00:00\", \"2020-02-07T00:00:00\", \"2020-02-10T00:00:00\", \"2020-02-11T00:00:00\", \"2020-02-12T00:00:00\", \"2020-02-13T00:00:00\", \"2020-02-14T00:00:00\", \"2020-02-18T00:00:00\", \"2020-02-19T00:00:00\", \"2020-02-20T00:00:00\", \"2020-02-21T00:00:00\", \"2020-02-24T00:00:00\", \"2020-02-25T00:00:00\", \"2020-02-26T00:00:00\", \"2020-02-27T00:00:00\", \"2020-02-28T00:00:00\", \"2020-03-02T00:00:00\", \"2020-03-03T00:00:00\", \"2020-03-04T00:00:00\", \"2020-03-05T00:00:00\", \"2020-03-06T00:00:00\", \"2020-03-09T00:00:00\", \"2020-03-10T00:00:00\", \"2020-03-11T00:00:00\", \"2020-03-12T00:00:00\", \"2020-03-13T00:00:00\", \"2020-03-16T00:00:00\", \"2020-03-17T00:00:00\", \"2020-03-18T00:00:00\", \"2020-03-19T00:00:00\", \"2020-03-20T00:00:00\", \"2020-03-23T00:00:00\", \"2020-03-24T00:00:00\", \"2020-03-25T00:00:00\", \"2020-03-26T00:00:00\", \"2020-03-27T00:00:00\", \"2020-03-30T00:00:00\", \"2020-03-31T00:00:00\", \"2020-04-01T00:00:00\", \"2020-04-02T00:00:00\", \"2020-04-03T00:00:00\", \"2020-04-06T00:00:00\", \"2020-04-07T00:00:00\", \"2020-04-08T00:00:00\", \"2020-04-09T00:00:00\", \"2020-04-13T00:00:00\", \"2020-04-14T00:00:00\", \"2020-04-15T00:00:00\", \"2020-04-16T00:00:00\", \"2020-04-17T00:00:00\", \"2020-04-20T00:00:00\", \"2020-04-21T00:00:00\", \"2020-04-22T00:00:00\", \"2020-04-23T00:00:00\", \"2020-04-24T00:00:00\", \"2020-04-27T00:00:00\", \"2020-04-28T00:00:00\", \"2020-04-29T00:00:00\", \"2020-04-30T00:00:00\", \"2020-05-01T00:00:00\", \"2020-05-04T00:00:00\", \"2020-05-05T00:00:00\", \"2020-05-06T00:00:00\", \"2020-05-07T00:00:00\", \"2020-05-08T00:00:00\", \"2020-05-11T00:00:00\", \"2020-05-12T00:00:00\", \"2020-05-13T00:00:00\", \"2020-05-14T00:00:00\", \"2020-05-15T00:00:00\", \"2020-05-18T00:00:00\", \"2020-05-19T00:00:00\", \"2020-05-20T00:00:00\", \"2020-05-21T00:00:00\", \"2020-05-22T00:00:00\", \"2020-05-26T00:00:00\", \"2020-05-27T00:00:00\", \"2020-05-28T00:00:00\", \"2020-05-29T00:00:00\", \"2020-06-01T00:00:00\", \"2020-06-02T00:00:00\", \"2020-06-03T00:00:00\", \"2020-06-04T00:00:00\", \"2020-06-05T00:00:00\", \"2020-06-08T00:00:00\", \"2020-06-09T00:00:00\", \"2020-06-10T00:00:00\", \"2020-06-11T00:00:00\", \"2020-06-12T00:00:00\", \"2020-06-15T00:00:00\", \"2020-06-16T00:00:00\", \"2020-06-17T00:00:00\", \"2020-06-18T00:00:00\", \"2020-06-19T00:00:00\", \"2020-06-22T00:00:00\", \"2020-06-23T00:00:00\", \"2020-06-24T00:00:00\", \"2020-06-25T00:00:00\", \"2020-06-26T00:00:00\", \"2020-06-29T00:00:00\", \"2020-06-30T00:00:00\", \"2020-07-01T00:00:00\", \"2020-07-02T00:00:00\", \"2020-07-06T00:00:00\", \"2020-07-07T00:00:00\", \"2020-07-08T00:00:00\", \"2020-07-09T00:00:00\", \"2020-07-10T00:00:00\", \"2020-07-13T00:00:00\", \"2020-07-14T00:00:00\", \"2020-07-15T00:00:00\", \"2020-07-16T00:00:00\"], \"y\": [160.6199951171875, 158.6199951171875, 159.02999877929688, 157.5800018310547, 160.08999633789062, 162.08999633789062, 161.33999633789062, 163.27999877929688, 162.1300048828125, 163.17999267578125, 166.1699981689453, 167.10000610351562, 166.5, 165.6999969482422, 166.72000122070312, 165.0399932861328, 162.27999877929688, 165.4600067138672, 168.0399932861328, 172.77999877929688, 170.22999572753906, 174.3800048828125, 180.1199951171875, 179.89999389648438, 183.6300048828125, 183.88999938964844, 188.6999969482422, 184.44000244140625, 184.7100067138672, 183.7100067138672, 185.35000610351562, 187.22999572753906, 187.27999877929688, 184.4199981689453, 178.58999633789062, 170.88999938964844, 168.07000732421875, 170.1699981689453, 158.17999267578125, 162.00999450683594, 172.7899932861328, 164.50999450683594, 170.5500030517578, 166.27000427246094, 161.57000732421875, 150.6199951171875, 160.9199981689453, 153.6300048828125, 139.05999755859375, 158.8300018310547, 135.4199981689453, 146.57000732421875, 140.39999389648438, 142.7100067138672, 137.35000610351562, 135.97999572753906, 148.33999633789062, 146.9199981689453, 156.11000061035156, 149.6999969482422, 160.22999572753906, 157.7100067138672, 152.11000061035156, 155.25999450683594, 153.8300018310547, 165.27000427246094, 163.49000549316406, 165.1300048828125, 165.13999938964844, 165.50999450683594, 173.6999969482422, 171.8800048828125, 177.0399932861328, 178.60000610351562, 175.05999755859375, 167.82000732421875, 173.52000427246094, 171.4199981689453, 174.5500030517578, 174.0500030517578, 169.80999755859375, 177.42999267578125, 179.2100067138672, 174.57000732421875, 178.83999633789062, 180.75999450683594, 182.5399932861328, 183.60000610351562, 184.67999267578125, 186.74000549316406, 182.50999450683594, 179.75, 180.52999877929688, 183.16000366210938, 184.91000366210938, 183.6300048828125, 185.66000366210938, 183.42999267578125, 183.50999450683594, 181.57000732421875, 181.80999755859375, 181.39999389648438, 183.25, 182.8300018310547, 184.91000366210938, 185.36000061035156, 182.9199981689453, 187.1999969482422, 188.36000061035156, 189.8000030517578, 196.83999633789062, 186.27000427246094, 187.74000549316406, 188.94000244140625, 193.57000732421875, 194.24000549316406, 196.32000732421875, 195.14999389648438, 200.57000732421875, 201.91000366210938, 197.83999633789062, 200.33999633789062, 196.3300018310547, 198.44000244140625, 203.50999450683594, 204.6999969482422, 206.25999450683594, 210.6999969482422, 208.25, 212.8300018310547, 214.32000732421875, 213.6699981689453, 207.07000732421875, 208.35000610351562, 208.0399932861328, 204.02239990234375]}, {\"mode\": \"lines\", \"name\": \"AAPL\", \"type\": \"scatter\", \"x\": [\"2020-01-02T00:00:00\", \"2020-01-03T00:00:00\", \"2020-01-06T00:00:00\", \"2020-01-07T00:00:00\", \"2020-01-08T00:00:00\", \"2020-01-09T00:00:00\", \"2020-01-10T00:00:00\", \"2020-01-13T00:00:00\", \"2020-01-14T00:00:00\", \"2020-01-15T00:00:00\", \"2020-01-16T00:00:00\", \"2020-01-17T00:00:00\", \"2020-01-21T00:00:00\", \"2020-01-22T00:00:00\", \"2020-01-23T00:00:00\", \"2020-01-24T00:00:00\", \"2020-01-27T00:00:00\", \"2020-01-28T00:00:00\", \"2020-01-29T00:00:00\", \"2020-01-30T00:00:00\", \"2020-01-31T00:00:00\", \"2020-02-03T00:00:00\", \"2020-02-04T00:00:00\", \"2020-02-05T00:00:00\", \"2020-02-06T00:00:00\", \"2020-02-07T00:00:00\", \"2020-02-10T00:00:00\", \"2020-02-11T00:00:00\", \"2020-02-12T00:00:00\", \"2020-02-13T00:00:00\", \"2020-02-14T00:00:00\", \"2020-02-18T00:00:00\", \"2020-02-19T00:00:00\", \"2020-02-20T00:00:00\", \"2020-02-21T00:00:00\", \"2020-02-24T00:00:00\", \"2020-02-25T00:00:00\", \"2020-02-26T00:00:00\", \"2020-02-27T00:00:00\", \"2020-02-28T00:00:00\", \"2020-03-02T00:00:00\", \"2020-03-03T00:00:00\", \"2020-03-04T00:00:00\", \"2020-03-05T00:00:00\", \"2020-03-06T00:00:00\", \"2020-03-09T00:00:00\", \"2020-03-10T00:00:00\", \"2020-03-11T00:00:00\", \"2020-03-12T00:00:00\", \"2020-03-13T00:00:00\", \"2020-03-16T00:00:00\", \"2020-03-17T00:00:00\", \"2020-03-18T00:00:00\", \"2020-03-19T00:00:00\", \"2020-03-20T00:00:00\", \"2020-03-23T00:00:00\", \"2020-03-24T00:00:00\", \"2020-03-25T00:00:00\", \"2020-03-26T00:00:00\", \"2020-03-27T00:00:00\", \"2020-03-30T00:00:00\", \"2020-03-31T00:00:00\", \"2020-04-01T00:00:00\", \"2020-04-02T00:00:00\", \"2020-04-03T00:00:00\", \"2020-04-06T00:00:00\", \"2020-04-07T00:00:00\", \"2020-04-08T00:00:00\", \"2020-04-09T00:00:00\", \"2020-04-13T00:00:00\", \"2020-04-14T00:00:00\", \"2020-04-15T00:00:00\", \"2020-04-16T00:00:00\", \"2020-04-17T00:00:00\", \"2020-04-20T00:00:00\", \"2020-04-21T00:00:00\", \"2020-04-22T00:00:00\", \"2020-04-23T00:00:00\", \"2020-04-24T00:00:00\", \"2020-04-27T00:00:00\", \"2020-04-28T00:00:00\", \"2020-04-29T00:00:00\", \"2020-04-30T00:00:00\", \"2020-05-01T00:00:00\", \"2020-05-04T00:00:00\", \"2020-05-05T00:00:00\", \"2020-05-06T00:00:00\", \"2020-05-07T00:00:00\", \"2020-05-08T00:00:00\", \"2020-05-11T00:00:00\", \"2020-05-12T00:00:00\", \"2020-05-13T00:00:00\", \"2020-05-14T00:00:00\", \"2020-05-15T00:00:00\", \"2020-05-18T00:00:00\", \"2020-05-19T00:00:00\", \"2020-05-20T00:00:00\", \"2020-05-21T00:00:00\", \"2020-05-22T00:00:00\", \"2020-05-26T00:00:00\", \"2020-05-27T00:00:00\", \"2020-05-28T00:00:00\", \"2020-05-29T00:00:00\", \"2020-06-01T00:00:00\", \"2020-06-02T00:00:00\", \"2020-06-03T00:00:00\", \"2020-06-04T00:00:00\", \"2020-06-05T00:00:00\", \"2020-06-08T00:00:00\", \"2020-06-09T00:00:00\", \"2020-06-10T00:00:00\", \"2020-06-11T00:00:00\", \"2020-06-12T00:00:00\", \"2020-06-15T00:00:00\", \"2020-06-16T00:00:00\", \"2020-06-17T00:00:00\", \"2020-06-18T00:00:00\", \"2020-06-19T00:00:00\", \"2020-06-22T00:00:00\", \"2020-06-23T00:00:00\", \"2020-06-24T00:00:00\", \"2020-06-25T00:00:00\", \"2020-06-26T00:00:00\", \"2020-06-29T00:00:00\", \"2020-06-30T00:00:00\", \"2020-07-01T00:00:00\", \"2020-07-02T00:00:00\", \"2020-07-06T00:00:00\", \"2020-07-07T00:00:00\", \"2020-07-08T00:00:00\", \"2020-07-09T00:00:00\", \"2020-07-10T00:00:00\", \"2020-07-13T00:00:00\", \"2020-07-14T00:00:00\", \"2020-07-15T00:00:00\", \"2020-07-16T00:00:00\"], \"y\": [300.3500061035156, 297.42999267578125, 299.79998779296875, 298.3900146484375, 303.19000244140625, 309.6300048828125, 310.3299865722656, 316.9599914550781, 312.67999267578125, 311.3399963378906, 315.239990234375, 318.7300109863281, 316.57000732421875, 317.70001220703125, 319.2300109863281, 318.30999755859375, 308.95001220703125, 317.69000244140625, 324.3399963378906, 323.8699951171875, 309.510009765625, 308.6600036621094, 318.8500061035156, 321.45001220703125, 325.2099914550781, 320.0299987792969, 321.54998779296875, 319.6099853515625, 327.20001220703125, 324.8699951171875, 324.95001220703125, 319.0, 323.6199951171875, 320.29998779296875, 313.04998779296875, 298.17999267578125, 288.0799865722656, 292.6499938964844, 273.5199890136719, 273.3599853515625, 298.80999755859375, 289.32000732421875, 302.739990234375, 292.9200134277344, 289.0299987792969, 266.1700134277344, 285.3399963378906, 275.42999267578125, 248.22999572753906, 277.9700012207031, 242.2100067138672, 252.86000061035156, 246.6699981689453, 244.77999877929688, 229.24000549316406, 224.3699951171875, 246.8800048828125, 245.52000427246094, 258.44000244140625, 247.74000549316406, 254.80999755859375, 254.2899932861328, 240.91000366210938, 244.92999267578125, 241.41000366210938, 262.4700012207031, 259.42999267578125, 266.07000732421875, 267.989990234375, 273.25, 287.04998779296875, 284.42999267578125, 286.69000244140625, 282.79998779296875, 276.92999267578125, 268.3699951171875, 276.1000061035156, 275.0299987792969, 282.9700012207031, 283.1700134277344, 278.5799865722656, 287.7300109863281, 293.79998779296875, 289.07000732421875, 293.1600036621094, 297.55999755859375, 300.6300048828125, 303.739990234375, 310.1300048828125, 315.010009765625, 311.4100036621094, 307.6499938964844, 309.5400085449219, 307.7099914550781, 314.9599914550781, 313.1400146484375, 319.2300109863281, 316.8500061035156, 318.8900146484375, 316.7300109863281, 318.1099853515625, 318.25, 317.94000244140625, 321.8500061035156, 323.3399963378906, 325.1199951171875, 322.32000732421875, 331.5, 333.4599914550781, 343.989990234375, 352.8399963378906, 335.8999938964844, 338.79998779296875, 342.989990234375, 352.0799865722656, 351.5899963378906, 351.7300109863281, 349.7200012207031, 358.8699951171875, 366.5299987792969, 360.05999755859375, 364.8399963378906, 353.6300048828125, 361.7799987792969, 364.79998779296875, 364.1099853515625, 364.1099853515625, 373.8500061035156, 372.69000244140625, 381.3699951171875, 383.010009765625, 383.67999267578125, 381.9100036621094, 388.2300109863281, 390.8999938964844, 384.8500061035156]}, {\"mode\": \"lines\", \"name\": \"DIS\", \"type\": \"scatter\", \"x\": [\"2020-01-02T00:00:00\", \"2020-01-03T00:00:00\", \"2020-01-06T00:00:00\", \"2020-01-07T00:00:00\", \"2020-01-08T00:00:00\", \"2020-01-09T00:00:00\", \"2020-01-10T00:00:00\", \"2020-01-13T00:00:00\", \"2020-01-14T00:00:00\", \"2020-01-15T00:00:00\", \"2020-01-16T00:00:00\", \"2020-01-17T00:00:00\", \"2020-01-21T00:00:00\", \"2020-01-22T00:00:00\", \"2020-01-23T00:00:00\", \"2020-01-24T00:00:00\", \"2020-01-27T00:00:00\", \"2020-01-28T00:00:00\", \"2020-01-29T00:00:00\", \"2020-01-30T00:00:00\", \"2020-01-31T00:00:00\", \"2020-02-03T00:00:00\", \"2020-02-04T00:00:00\", \"2020-02-05T00:00:00\", \"2020-02-06T00:00:00\", \"2020-02-07T00:00:00\", \"2020-02-10T00:00:00\", \"2020-02-11T00:00:00\", \"2020-02-12T00:00:00\", \"2020-02-13T00:00:00\", \"2020-02-14T00:00:00\", \"2020-02-18T00:00:00\", \"2020-02-19T00:00:00\", \"2020-02-20T00:00:00\", \"2020-02-21T00:00:00\", \"2020-02-24T00:00:00\", \"2020-02-25T00:00:00\", \"2020-02-26T00:00:00\", \"2020-02-27T00:00:00\", \"2020-02-28T00:00:00\", \"2020-03-02T00:00:00\", \"2020-03-03T00:00:00\", \"2020-03-04T00:00:00\", \"2020-03-05T00:00:00\", \"2020-03-06T00:00:00\", \"2020-03-09T00:00:00\", \"2020-03-10T00:00:00\", \"2020-03-11T00:00:00\", \"2020-03-12T00:00:00\", \"2020-03-13T00:00:00\", \"2020-03-16T00:00:00\", \"2020-03-17T00:00:00\", \"2020-03-18T00:00:00\", \"2020-03-19T00:00:00\", \"2020-03-20T00:00:00\", \"2020-03-23T00:00:00\", \"2020-03-24T00:00:00\", \"2020-03-25T00:00:00\", \"2020-03-26T00:00:00\", \"2020-03-27T00:00:00\", \"2020-03-30T00:00:00\", \"2020-03-31T00:00:00\", \"2020-04-01T00:00:00\", \"2020-04-02T00:00:00\", \"2020-04-03T00:00:00\", \"2020-04-06T00:00:00\", \"2020-04-07T00:00:00\", \"2020-04-08T00:00:00\", \"2020-04-09T00:00:00\", \"2020-04-13T00:00:00\", \"2020-04-14T00:00:00\", \"2020-04-15T00:00:00\", \"2020-04-16T00:00:00\", \"2020-04-17T00:00:00\", \"2020-04-20T00:00:00\", \"2020-04-21T00:00:00\", \"2020-04-22T00:00:00\", \"2020-04-23T00:00:00\", \"2020-04-24T00:00:00\", \"2020-04-27T00:00:00\", \"2020-04-28T00:00:00\", \"2020-04-29T00:00:00\", \"2020-04-30T00:00:00\", \"2020-05-01T00:00:00\", \"2020-05-04T00:00:00\", \"2020-05-05T00:00:00\", \"2020-05-06T00:00:00\", \"2020-05-07T00:00:00\", \"2020-05-08T00:00:00\", \"2020-05-11T00:00:00\", \"2020-05-12T00:00:00\", \"2020-05-13T00:00:00\", \"2020-05-14T00:00:00\", \"2020-05-15T00:00:00\", \"2020-05-18T00:00:00\", \"2020-05-19T00:00:00\", \"2020-05-20T00:00:00\", \"2020-05-21T00:00:00\", \"2020-05-22T00:00:00\", \"2020-05-26T00:00:00\", \"2020-05-27T00:00:00\", \"2020-05-28T00:00:00\", \"2020-05-29T00:00:00\", \"2020-06-01T00:00:00\", \"2020-06-02T00:00:00\", \"2020-06-03T00:00:00\", \"2020-06-04T00:00:00\", \"2020-06-05T00:00:00\", \"2020-06-08T00:00:00\", \"2020-06-09T00:00:00\", \"2020-06-10T00:00:00\", \"2020-06-11T00:00:00\", \"2020-06-12T00:00:00\", \"2020-06-15T00:00:00\", \"2020-06-16T00:00:00\", \"2020-06-17T00:00:00\", \"2020-06-18T00:00:00\", \"2020-06-19T00:00:00\", \"2020-06-22T00:00:00\", \"2020-06-23T00:00:00\", \"2020-06-24T00:00:00\", \"2020-06-25T00:00:00\", \"2020-06-26T00:00:00\", \"2020-06-29T00:00:00\", \"2020-06-30T00:00:00\", \"2020-07-01T00:00:00\", \"2020-07-02T00:00:00\", \"2020-07-06T00:00:00\", \"2020-07-07T00:00:00\", \"2020-07-08T00:00:00\", \"2020-07-09T00:00:00\", \"2020-07-10T00:00:00\", \"2020-07-13T00:00:00\", \"2020-07-14T00:00:00\", \"2020-07-15T00:00:00\", \"2020-07-16T00:00:00\"], \"y\": [148.1999969482422, 146.5, 145.64999389648438, 145.6999969482422, 145.39999389648438, 144.8300018310547, 144.6199951171875, 143.8800048828125, 145.1999969482422, 144.32000732421875, 145.1199951171875, 144.3300018310547, 143.55999755859375, 144.00999450683594, 142.1999969482422, 140.0800018310547, 135.89999389648438, 138.3699951171875, 136.05999755859375, 137.80999755859375, 138.30999755859375, 141.32000732421875, 144.72999572753906, 141.3699951171875, 142.6999969482422, 141.02000427246094, 142.58999633789062, 141.00999450683594, 141.85000610351562, 140.89999389648438, 139.5399932861328, 139.13999938964844, 141.3000030517578, 140.3699951171875, 138.97000122070312, 133.00999450683594, 128.19000244140625, 123.36000061035156, 118.04000091552734, 117.6500015258789, 119.9800033569336, 116.44999694824219, 119.18000030517578, 113.9800033569336, 115.2699966430664, 104.3499984741211, 111.45999908447266, 105.51000213623047, 91.80999755859375, 102.5199966430664, 95.01000213623047, 93.52999877929688, 88.80000305175781, 94.93000030517578, 85.9800033569336, 85.76000213623047, 98.12000274658203, 100.7300033569336, 105.36000061035156, 96.4000015258789, 99.80000305175781, 96.5999984741211, 94.91999816894531, 96.97000122070312, 93.87999725341797, 99.58000183105469, 101.23999786376953, 101.06999969482422, 104.5, 103.5, 106.02999877929688, 103.37000274658203, 102.0199966430664, 106.62999725341797, 102.26000213623047, 100.54000091552734, 100.98999786376953, 101.0, 101.19000244140625, 106.05999755859375, 106.20999908447266, 112.25, 108.1500015258789, 105.5, 103.18000030517578, 101.05999755859375, 100.87999725341797, 105.56999969482422, 109.16000366210938, 107.7699966430664, 104.55999755859375, 102.91999816894531, 105.91000366210938, 109.05000305175781, 116.8499984741211, 114.37000274658203, 119.91999816894531, 117.83000183105469, 118.0199966430664, 120.94999694824219, 121.52999877929688, 116.75, 117.30000305175781, 118.7699966430664, 118.75, 122.18000030517578, 123.69000244140625, 124.81999969482422, 127.27999877929688, 123.88999938964844, 122.18000030517578, 112.63999938964844, 115.48999786376953, 117.08000183105469, 118.44000244140625, 117.6500015258789, 118.37000274658203, 114.3499984741211, 115.91999816894531, 116.58999633789062, 112.06999969482422, 111.36000061035156, 109.0999984741211, 111.5199966430664, 111.51000213623047, 113.01000213623047, 112.18000030517578, 114.43000030517578, 113.62999725341797, 116.66000366210938, 116.80999755859375, 119.33999633789062, 116.22000122070312, 118.66000366210938, 120.9000015258789, 119.5999984741211]}],\n",
       "                        {\"template\": {\"data\": {\"bar\": [{\"error_x\": {\"color\": \"#2a3f5f\"}, \"error_y\": {\"color\": \"#2a3f5f\"}, \"marker\": {\"line\": {\"color\": \"#E5ECF6\", \"width\": 0.5}}, \"type\": \"bar\"}], \"barpolar\": [{\"marker\": {\"line\": {\"color\": \"#E5ECF6\", \"width\": 0.5}}, \"type\": \"barpolar\"}], \"carpet\": [{\"aaxis\": {\"endlinecolor\": \"#2a3f5f\", \"gridcolor\": \"white\", \"linecolor\": \"white\", \"minorgridcolor\": \"white\", \"startlinecolor\": \"#2a3f5f\"}, \"baxis\": {\"endlinecolor\": \"#2a3f5f\", \"gridcolor\": \"white\", \"linecolor\": \"white\", \"minorgridcolor\": \"white\", \"startlinecolor\": \"#2a3f5f\"}, \"type\": \"carpet\"}], \"choropleth\": [{\"colorbar\": {\"outlinewidth\": 0, \"ticks\": \"\"}, \"type\": \"choropleth\"}], \"contour\": [{\"colorbar\": {\"outlinewidth\": 0, \"ticks\": \"\"}, \"colorscale\": [[0.0, \"#0d0887\"], [0.1111111111111111, \"#46039f\"], [0.2222222222222222, \"#7201a8\"], [0.3333333333333333, \"#9c179e\"], [0.4444444444444444, \"#bd3786\"], [0.5555555555555556, \"#d8576b\"], [0.6666666666666666, \"#ed7953\"], [0.7777777777777778, \"#fb9f3a\"], [0.8888888888888888, \"#fdca26\"], [1.0, \"#f0f921\"]], \"type\": \"contour\"}], \"contourcarpet\": [{\"colorbar\": {\"outlinewidth\": 0, \"ticks\": \"\"}, \"type\": \"contourcarpet\"}], \"heatmap\": [{\"colorbar\": {\"outlinewidth\": 0, \"ticks\": \"\"}, \"colorscale\": [[0.0, \"#0d0887\"], [0.1111111111111111, \"#46039f\"], [0.2222222222222222, \"#7201a8\"], [0.3333333333333333, \"#9c179e\"], [0.4444444444444444, \"#bd3786\"], [0.5555555555555556, \"#d8576b\"], [0.6666666666666666, \"#ed7953\"], [0.7777777777777778, \"#fb9f3a\"], [0.8888888888888888, \"#fdca26\"], [1.0, \"#f0f921\"]], \"type\": \"heatmap\"}], \"heatmapgl\": [{\"colorbar\": {\"outlinewidth\": 0, \"ticks\": \"\"}, \"colorscale\": [[0.0, \"#0d0887\"], [0.1111111111111111, \"#46039f\"], [0.2222222222222222, \"#7201a8\"], [0.3333333333333333, \"#9c179e\"], [0.4444444444444444, \"#bd3786\"], [0.5555555555555556, \"#d8576b\"], [0.6666666666666666, \"#ed7953\"], [0.7777777777777778, \"#fb9f3a\"], [0.8888888888888888, \"#fdca26\"], [1.0, \"#f0f921\"]], \"type\": \"heatmapgl\"}], \"histogram\": [{\"marker\": {\"colorbar\": {\"outlinewidth\": 0, \"ticks\": \"\"}}, \"type\": \"histogram\"}], \"histogram2d\": [{\"colorbar\": {\"outlinewidth\": 0, \"ticks\": \"\"}, \"colorscale\": [[0.0, \"#0d0887\"], [0.1111111111111111, \"#46039f\"], [0.2222222222222222, \"#7201a8\"], [0.3333333333333333, \"#9c179e\"], [0.4444444444444444, \"#bd3786\"], [0.5555555555555556, \"#d8576b\"], [0.6666666666666666, \"#ed7953\"], [0.7777777777777778, \"#fb9f3a\"], [0.8888888888888888, \"#fdca26\"], [1.0, \"#f0f921\"]], \"type\": \"histogram2d\"}], \"histogram2dcontour\": [{\"colorbar\": {\"outlinewidth\": 0, \"ticks\": \"\"}, \"colorscale\": [[0.0, \"#0d0887\"], [0.1111111111111111, \"#46039f\"], [0.2222222222222222, \"#7201a8\"], [0.3333333333333333, \"#9c179e\"], [0.4444444444444444, \"#bd3786\"], [0.5555555555555556, \"#d8576b\"], [0.6666666666666666, \"#ed7953\"], [0.7777777777777778, \"#fb9f3a\"], [0.8888888888888888, \"#fdca26\"], [1.0, \"#f0f921\"]], \"type\": \"histogram2dcontour\"}], \"mesh3d\": [{\"colorbar\": {\"outlinewidth\": 0, \"ticks\": \"\"}, \"type\": \"mesh3d\"}], \"parcoords\": [{\"line\": {\"colorbar\": {\"outlinewidth\": 0, \"ticks\": \"\"}}, \"type\": \"parcoords\"}], \"pie\": [{\"automargin\": true, \"type\": \"pie\"}], \"scatter\": [{\"marker\": {\"colorbar\": {\"outlinewidth\": 0, \"ticks\": \"\"}}, \"type\": \"scatter\"}], \"scatter3d\": [{\"line\": {\"colorbar\": {\"outlinewidth\": 0, \"ticks\": \"\"}}, \"marker\": {\"colorbar\": {\"outlinewidth\": 0, \"ticks\": \"\"}}, \"type\": \"scatter3d\"}], \"scattercarpet\": [{\"marker\": {\"colorbar\": {\"outlinewidth\": 0, \"ticks\": \"\"}}, \"type\": \"scattercarpet\"}], \"scattergeo\": [{\"marker\": {\"colorbar\": {\"outlinewidth\": 0, \"ticks\": \"\"}}, \"type\": \"scattergeo\"}], \"scattergl\": [{\"marker\": {\"colorbar\": {\"outlinewidth\": 0, \"ticks\": \"\"}}, \"type\": \"scattergl\"}], \"scattermapbox\": [{\"marker\": {\"colorbar\": {\"outlinewidth\": 0, \"ticks\": \"\"}}, \"type\": \"scattermapbox\"}], \"scatterpolar\": [{\"marker\": {\"colorbar\": {\"outlinewidth\": 0, \"ticks\": \"\"}}, \"type\": \"scatterpolar\"}], \"scatterpolargl\": [{\"marker\": {\"colorbar\": {\"outlinewidth\": 0, \"ticks\": \"\"}}, \"type\": \"scatterpolargl\"}], \"scatterternary\": [{\"marker\": {\"colorbar\": {\"outlinewidth\": 0, \"ticks\": \"\"}}, \"type\": \"scatterternary\"}], \"surface\": [{\"colorbar\": {\"outlinewidth\": 0, \"ticks\": \"\"}, \"colorscale\": [[0.0, \"#0d0887\"], [0.1111111111111111, \"#46039f\"], [0.2222222222222222, \"#7201a8\"], [0.3333333333333333, \"#9c179e\"], [0.4444444444444444, \"#bd3786\"], [0.5555555555555556, \"#d8576b\"], [0.6666666666666666, \"#ed7953\"], [0.7777777777777778, \"#fb9f3a\"], [0.8888888888888888, \"#fdca26\"], [1.0, \"#f0f921\"]], \"type\": \"surface\"}], \"table\": [{\"cells\": {\"fill\": {\"color\": \"#EBF0F8\"}, \"line\": {\"color\": \"white\"}}, \"header\": {\"fill\": {\"color\": \"#C8D4E3\"}, \"line\": {\"color\": \"white\"}}, \"type\": \"table\"}]}, \"layout\": {\"annotationdefaults\": {\"arrowcolor\": \"#2a3f5f\", \"arrowhead\": 0, \"arrowwidth\": 1}, \"coloraxis\": {\"colorbar\": {\"outlinewidth\": 0, \"ticks\": \"\"}}, \"colorscale\": {\"diverging\": [[0, \"#8e0152\"], [0.1, \"#c51b7d\"], [0.2, \"#de77ae\"], [0.3, \"#f1b6da\"], [0.4, \"#fde0ef\"], [0.5, \"#f7f7f7\"], [0.6, \"#e6f5d0\"], [0.7, \"#b8e186\"], [0.8, \"#7fbc41\"], [0.9, \"#4d9221\"], [1, \"#276419\"]], \"sequential\": [[0.0, \"#0d0887\"], [0.1111111111111111, \"#46039f\"], [0.2222222222222222, \"#7201a8\"], [0.3333333333333333, \"#9c179e\"], [0.4444444444444444, \"#bd3786\"], [0.5555555555555556, \"#d8576b\"], [0.6666666666666666, \"#ed7953\"], [0.7777777777777778, \"#fb9f3a\"], [0.8888888888888888, \"#fdca26\"], [1.0, \"#f0f921\"]], \"sequentialminus\": [[0.0, \"#0d0887\"], [0.1111111111111111, \"#46039f\"], [0.2222222222222222, \"#7201a8\"], [0.3333333333333333, \"#9c179e\"], [0.4444444444444444, \"#bd3786\"], [0.5555555555555556, \"#d8576b\"], [0.6666666666666666, \"#ed7953\"], [0.7777777777777778, \"#fb9f3a\"], [0.8888888888888888, \"#fdca26\"], [1.0, \"#f0f921\"]]}, \"colorway\": [\"#636efa\", \"#EF553B\", \"#00cc96\", \"#ab63fa\", \"#FFA15A\", \"#19d3f3\", \"#FF6692\", \"#B6E880\", \"#FF97FF\", \"#FECB52\"], \"font\": {\"color\": \"#2a3f5f\"}, \"geo\": {\"bgcolor\": \"white\", \"lakecolor\": \"white\", \"landcolor\": \"#E5ECF6\", \"showlakes\": true, \"showland\": true, \"subunitcolor\": \"white\"}, \"hoverlabel\": {\"align\": \"left\"}, \"hovermode\": \"closest\", \"mapbox\": {\"style\": \"light\"}, \"paper_bgcolor\": \"white\", \"plot_bgcolor\": \"#E5ECF6\", \"polar\": {\"angularaxis\": {\"gridcolor\": \"white\", \"linecolor\": \"white\", \"ticks\": \"\"}, \"bgcolor\": \"#E5ECF6\", \"radialaxis\": {\"gridcolor\": \"white\", \"linecolor\": \"white\", \"ticks\": \"\"}}, \"scene\": {\"xaxis\": {\"backgroundcolor\": \"#E5ECF6\", \"gridcolor\": \"white\", \"gridwidth\": 2, \"linecolor\": \"white\", \"showbackground\": true, \"ticks\": \"\", \"zerolinecolor\": \"white\"}, \"yaxis\": {\"backgroundcolor\": \"#E5ECF6\", \"gridcolor\": \"white\", \"gridwidth\": 2, \"linecolor\": \"white\", \"showbackground\": true, \"ticks\": \"\", \"zerolinecolor\": \"white\"}, \"zaxis\": {\"backgroundcolor\": \"#E5ECF6\", \"gridcolor\": \"white\", \"gridwidth\": 2, \"linecolor\": \"white\", \"showbackground\": true, \"ticks\": \"\", \"zerolinecolor\": \"white\"}}, \"shapedefaults\": {\"line\": {\"color\": \"#2a3f5f\"}}, \"ternary\": {\"aaxis\": {\"gridcolor\": \"white\", \"linecolor\": \"white\", \"ticks\": \"\"}, \"baxis\": {\"gridcolor\": \"white\", \"linecolor\": \"white\", \"ticks\": \"\"}, \"bgcolor\": \"#E5ECF6\", \"caxis\": {\"gridcolor\": \"white\", \"linecolor\": \"white\", \"ticks\": \"\"}}, \"title\": {\"x\": 0.05}, \"xaxis\": {\"automargin\": true, \"gridcolor\": \"white\", \"linecolor\": \"white\", \"ticks\": \"\", \"title\": {\"standoff\": 15}, \"zerolinecolor\": \"white\", \"zerolinewidth\": 2}, \"yaxis\": {\"automargin\": true, \"gridcolor\": \"white\", \"linecolor\": \"white\", \"ticks\": \"\", \"title\": {\"standoff\": 15}, \"zerolinecolor\": \"white\", \"zerolinewidth\": 2}}}, \"title\": {\"text\": \"Comparison between stocks\"}},\n",
       "                        {\"responsive\": true}\n",
       "                    ).then(function(){\n",
       "                            \n",
       "var gd = document.getElementById('4e24c025-5637-4d8a-83ce-55e1d0682774');\n",
       "var x = new MutationObserver(function (mutations, observer) {{\n",
       "        var display = window.getComputedStyle(gd).display;\n",
       "        if (!display || display === 'none') {{\n",
       "            console.log([gd, 'removed!']);\n",
       "            Plotly.purge(gd);\n",
       "            observer.disconnect();\n",
       "        }}\n",
       "}});\n",
       "\n",
       "// Listen for the removal of the full notebook cells\n",
       "var notebookContainer = gd.closest('#notebook-container');\n",
       "if (notebookContainer) {{\n",
       "    x.observe(notebookContainer, {childList: true});\n",
       "}}\n",
       "\n",
       "// Listen for the clearing of the current output cell\n",
       "var outputEl = gd.closest('.output');\n",
       "if (outputEl) {{\n",
       "    x.observe(outputEl, {childList: true});\n",
       "}}\n",
       "\n",
       "                        })\n",
       "                };\n",
       "                });\n",
       "            </script>\n",
       "        </div>"
      ]
     },
     "metadata": {},
     "output_type": "display_data"
    }
   ],
   "source": [
    "#use add_trace() to visualise different time series on one chart\n",
    "fig=go.Figure()\n",
    "\n",
    "fig.add_trace(go.Scatter(x=df_stocks.index,\n",
    "                        y=df_stocks.Close_AMZN,\n",
    "                        mode='lines',\n",
    "                        name='AMZN'))\n",
    "fig.add_trace(go.Scatter(x=df_stocks.index,\n",
    "                        y=df_stocks.Close_MSFT,\n",
    "                        mode='lines',\n",
    "                        name='MSFT'))\n",
    "fig.add_trace(go.Scatter(x=df_stocks.index,\n",
    "                        y=df_stocks.Close_AAPL,\n",
    "                        mode='lines',\n",
    "                        name='AAPL'))\n",
    "fig.add_trace(go.Scatter(x=df_stocks.index,\n",
    "                        y=df_stocks.Close_DIS,\n",
    "                        mode='lines',\n",
    "                        name='DIS'))\n",
    "fig.update_layout(\n",
    "    title='Comparison between stocks')\n",
    "\n",
    "fig.show()\n"
   ]
  },
  {
   "cell_type": "code",
   "execution_count": 28,
   "metadata": {},
   "outputs": [],
   "source": [
    "#use go.Candlestick() to create candlestick chart\n",
    "data_cand = go.Candlestick(x=df_stocks.index,\n",
    "                open=df_stocks.Open_AMZN,\n",
    "                high=df_stocks.High_AMZN,\n",
    "                low=df_stocks.Low_AMZN,\n",
    "                close=df_stocks.Close_AMZN,)"
   ]
  },
  {
   "cell_type": "code",
   "execution_count": 29,
   "metadata": {},
   "outputs": [
    {
     "data": {
      "application/vnd.plotly.v1+json": {
       "config": {
        "plotlyServerURL": "https://plot.ly"
       },
       "data": [
        {
         "close": [
          1898.010009765625,
          1874.969970703125,
          1902.8800048828125,
          1906.8599853515625,
          1891.969970703125,
          1901.050048828125,
          1883.1600341796875,
          1891.300048828125,
          1869.43994140625,
          1862.02001953125,
          1877.93994140625,
          1864.719970703125,
          1892,
          1887.4599609375,
          1884.5799560546875,
          1861.6400146484375,
          1828.3399658203125,
          1853.25,
          1858,
          1870.6800537109375,
          2008.719970703125,
          2004.199951171875,
          2049.669921875,
          2039.8699951171875,
          2050.22998046875,
          2079.280029296875,
          2133.909912109375,
          2150.800048828125,
          2160,
          2149.8701171875,
          2134.8701171875,
          2155.669921875,
          2170.219970703125,
          2153.10009765625,
          2095.969970703125,
          2009.2900390625,
          1972.739990234375,
          1979.5899658203125,
          1884.300048828125,
          1883.75,
          1953.949951171875,
          1908.989990234375,
          1975.8299560546875,
          1924.030029296875,
          1901.0899658203125,
          1800.6099853515625,
          1891.8199462890625,
          1820.8599853515625,
          1676.6099853515625,
          1785,
          1689.1500244140625,
          1807.8399658203125,
          1830,
          1880.9300537109375,
          1846.0899658203125,
          1902.8299560546875,
          1940.0999755859375,
          1885.8399658203125,
          1955.489990234375,
          1900.0999755859375,
          1963.949951171875,
          1949.719970703125,
          1907.699951171875,
          1918.8299560546875,
          1906.5899658203125,
          1997.5899658203125,
          2011.5999755859375,
          2043,
          2042.760009765625,
          2168.8701171875,
          2283.320068359375,
          2307.679931640625,
          2408.18994140625,
          2375,
          2393.610107421875,
          2328.1201171875,
          2363.489990234375,
          2399.449951171875,
          2410.219970703125,
          2376,
          2314.080078125,
          2372.7099609375,
          2474,
          2286.0400390625,
          2315.989990234375,
          2317.800048828125,
          2351.260009765625,
          2367.610107421875,
          2379.610107421875,
          2409,
          2356.949951171875,
          2367.919921875,
          2388.85009765625,
          2409.780029296875,
          2426.260009765625,
          2449.330078125,
          2497.93994140625,
          2446.739990234375,
          2436.8798828125,
          2421.860107421875,
          2410.389892578125,
          2401.10009765625,
          2442.3701171875,
          2471.0400390625,
          2472.409912109375,
          2478.39990234375,
          2460.60009765625,
          2483,
          2524.06005859375,
          2600.860107421875,
          2647.449951171875,
          2557.9599609375,
          2545.02001953125,
          2572.679931640625,
          2615.27001953125,
          2640.97998046875,
          2653.97998046875,
          2675.010009765625,
          2713.820068359375,
          2764.409912109375,
          2734.39990234375,
          2754.580078125,
          2692.8701171875,
          2680.3798828125,
          2758.820068359375,
          2878.699951171875,
          2890.300048828125,
          3057.0400390625,
          3000.1201171875,
          3081.110107421875,
          3182.6298828125,
          3200,
          3104,
          3084,
          3008.8701171875,
          2999.002197265625
         ],
         "high": [
          1898.010009765625,
          1886.199951171875,
          1903.68994140625,
          1913.8900146484375,
          1911,
          1917.8199462890625,
          1906.93994140625,
          1898,
          1887.1099853515625,
          1878.8599853515625,
          1885.5899658203125,
          1886.6400146484375,
          1894.27001953125,
          1902.5,
          1889.97998046875,
          1894.989990234375,
          1841,
          1858.1099853515625,
          1874.75,
          1872.8699951171875,
          2055.719970703125,
          2048.5,
          2059.800048828125,
          2071.02001953125,
          2056.300048828125,
          2098.530029296875,
          2135.60009765625,
          2185.949951171875,
          2180.25,
          2170.280029296875,
          2159.0400390625,
          2166.070068359375,
          2185.10009765625,
          2176.7900390625,
          2144.550048828125,
          2039.300048828125,
          2034.5999755859375,
          2014.6700439453125,
          1975,
          1889.760009765625,
          1954.510009765625,
          1996.3299560546875,
          1978,
          1960.719970703125,
          1910.8699951171875,
          1862.77001953125,
          1894.27001953125,
          1871.3199462890625,
          1765,
          1786.31005859375,
          1759.449951171875,
          1857.780029296875,
          1841.6600341796875,
          1945,
          1957,
          1919.4000244140625,
          1955,
          1950.260009765625,
          1956.489990234375,
          1939.7900390625,
          1973.6300048828125,
          1993.02001953125,
          1944.9599609375,
          1927.530029296875,
          1926.3299560546875,
          1998.52001953125,
          2035.719970703125,
          2044,
          2053,
          2180,
          2292,
          2333.3701171875,
          2461,
          2400,
          2444.97998046875,
          2428.31005859375,
          2394,
          2424.219970703125,
          2420.429931640625,
          2444.8798828125,
          2373.5,
          2391.889892578125,
          2475,
          2362.43994140625,
          2326.97998046875,
          2351,
          2357.449951171875,
          2376,
          2387.239990234375,
          2419.669921875,
          2419,
          2407.699951171875,
          2391.3701171875,
          2411,
          2433,
          2485,
          2500.010009765625,
          2525.449951171875,
          2469.85009765625,
          2462,
          2413.580078125,
          2436.969970703125,
          2442.3701171875,
          2476.929931640625,
          2473.530029296875,
          2488,
          2507.5400390625,
          2488.64990234375,
          2530,
          2626.429931640625,
          2722.35009765625,
          2671.3798828125,
          2621.47998046875,
          2584,
          2620,
          2655,
          2659.639892578125,
          2697.429931640625,
          2715,
          2783.110107421875,
          2796,
          2756.22998046875,
          2782.570068359375,
          2696.800048828125,
          2769.6298828125,
          2895,
          2955.56005859375,
          3059.8798828125,
          3069.550048828125,
          3083.969970703125,
          3193.8798828125,
          3215,
          3344.2900390625,
          3127.3798828125,
          3098.35009765625,
          3032
         ],
         "low": [
          1864.1500244140625,
          1864.5,
          1860,
          1892.0400390625,
          1886.43994140625,
          1895.800048828125,
          1880,
          1880.800048828125,
          1858.550048828125,
          1855.0899658203125,
          1866.02001953125,
          1857.25,
          1860,
          1883.3399658203125,
          1872.760009765625,
          1847.43994140625,
          1815.3399658203125,
          1830.02001953125,
          1855.02001953125,
          1850.6099853515625,
          2002.27001953125,
          2000.25,
          2015.3699951171875,
          2032,
          2024.800048828125,
          2038.0999755859375,
          2084.9599609375,
          2136,
          2155.2900390625,
          2142,
          2125.889892578125,
          2124.110107421875,
          2161.1201171875,
          2127.449951171875,
          2088,
          1987.969970703125,
          1958.4200439453125,
          1960.449951171875,
          1882.760009765625,
          1811.1300048828125,
          1870,
          1888.0899658203125,
          1922,
          1910,
          1869.5,
          1761.2900390625,
          1818.1700439453125,
          1801.5,
          1675,
          1680.6199951171875,
          1626.030029296875,
          1689.239990234375,
          1745,
          1832.6500244140625,
          1820.72998046875,
          1812,
          1900.3399658203125,
          1885.780029296875,
          1889.2900390625,
          1899.9200439453125,
          1912.3399658203125,
          1944.010009765625,
          1893,
          1890,
          1889.1500244140625,
          1930.02001953125,
          1997.6199951171875,
          2011.1500244140625,
          2017.6600341796875,
          2038,
          2186.2099609375,
          2245,
          2335,
          2316.02001953125,
          2386.050048828125,
          2279.659912109375,
          2351,
          2382.080078125,
          2382,
          2363,
          2306,
          2310,
          2396.010009765625,
          2258.18994140625,
          2256.3798828125,
          2307.1298828125,
          2320,
          2343.110107421875,
          2357,
          2372.110107421875,
          2355,
          2337.800048828125,
          2353.2099609375,
          2356.3701171875,
          2384.010009765625,
          2428.969970703125,
          2467.27001953125,
          2442.5400390625,
          2430.1298828125,
          2414.06005859375,
          2330,
          2378.22998046875,
          2398.199951171875,
          2444.169921875,
          2445.31005859375,
          2461.169921875,
          2450.010009765625,
          2437.1298828125,
          2487.340087890625,
          2525,
          2626.260009765625,
          2536.22998046875,
          2503.35009765625,
          2508,
          2576,
          2631.820068359375,
          2636.110107421875,
          2659,
          2669,
          2718.0400390625,
          2721,
          2712.139892578125,
          2688,
          2630.080078125,
          2675.030029296875,
          2754,
          2871.10009765625,
          2930,
          2990,
          3012.429931640625,
          3074,
          3135.699951171875,
          3068.389892578125,
          2950,
          2973.179931640625,
          2920
         ],
         "open": [
          1875,
          1864.5,
          1860,
          1904.5,
          1898.0400390625,
          1909.8900146484375,
          1905.3699951171875,
          1891.31005859375,
          1885.8800048828125,
          1872.25,
          1882.989990234375,
          1885.8900146484375,
          1865,
          1896.0899658203125,
          1885.1099853515625,
          1891.3699951171875,
          1820,
          1840.5,
          1864,
          1858,
          2051.469970703125,
          2010.5999755859375,
          2029.8800048828125,
          2071.02001953125,
          2041.02001953125,
          2041.989990234375,
          2085.010009765625,
          2150.89990234375,
          2163.199951171875,
          2144.989990234375,
          2155.679931640625,
          2125.02001953125,
          2167.800048828125,
          2173.070068359375,
          2142.14990234375,
          2003.1800537109375,
          2026.4200439453125,
          1970.280029296875,
          1934.3800048828125,
          1814.6300048828125,
          1906.489990234375,
          1975.3699951171875,
          1946.5699462890625,
          1933,
          1875,
          1773.8599853515625,
          1870.8800048828125,
          1857.8499755859375,
          1721.97998046875,
          1755,
          1641.510009765625,
          1775.469970703125,
          1750,
          1860,
          1926.31005859375,
          1827.75,
          1951.5,
          1920.68994140625,
          1902,
          1930.8599853515625,
          1922.8299560546875,
          1964.3499755859375,
          1932.969970703125,
          1901.6400146484375,
          1911.1500244140625,
          1936,
          2017.1099853515625,
          2021,
          2044.300048828125,
          2040,
          2200.469970703125,
          2257.679931640625,
          2346,
          2372.330078125,
          2389.949951171875,
          2416.610107421875,
          2369,
          2399.97998046875,
          2417,
          2443.199951171875,
          2372.10009765625,
          2330.010009765625,
          2419.840087890625,
          2336.800048828125,
          2256.3798828125,
          2340,
          2329.43994140625,
          2374.780029296875,
          2372.139892578125,
          2374.699951171875,
          2411.85009765625,
          2366.800048828125,
          2361.010009765625,
          2368.52001953125,
          2404.35009765625,
          2429.830078125,
          2477.8701171875,
          2500,
          2455.010009765625,
          2458,
          2404.989990234375,
          2384.330078125,
          2415.93994140625,
          2448,
          2467,
          2468.010009765625,
          2477.429931640625,
          2444.510009765625,
          2500.199951171875,
          2529.43994140625,
          2645,
          2603.5,
          2601.2099609375,
          2526.60009765625,
          2620,
          2647.5,
          2647.010009765625,
          2678.080078125,
          2684.5,
          2726.02001953125,
          2780,
          2739.550048828125,
          2775.06005859375,
          2690.010009765625,
          2685.070068359375,
          2757.989990234375,
          2912.010009765625,
          2934.969970703125,
          3058.550048828125,
          3022.610107421875,
          3115.989990234375,
          3191.760009765625,
          3251.06005859375,
          3089,
          3080.22998046875,
          2971.06005859375
         ],
         "type": "candlestick",
         "x": [
          "2020-01-02T00:00:00",
          "2020-01-03T00:00:00",
          "2020-01-06T00:00:00",
          "2020-01-07T00:00:00",
          "2020-01-08T00:00:00",
          "2020-01-09T00:00:00",
          "2020-01-10T00:00:00",
          "2020-01-13T00:00:00",
          "2020-01-14T00:00:00",
          "2020-01-15T00:00:00",
          "2020-01-16T00:00:00",
          "2020-01-17T00:00:00",
          "2020-01-21T00:00:00",
          "2020-01-22T00:00:00",
          "2020-01-23T00:00:00",
          "2020-01-24T00:00:00",
          "2020-01-27T00:00:00",
          "2020-01-28T00:00:00",
          "2020-01-29T00:00:00",
          "2020-01-30T00:00:00",
          "2020-01-31T00:00:00",
          "2020-02-03T00:00:00",
          "2020-02-04T00:00:00",
          "2020-02-05T00:00:00",
          "2020-02-06T00:00:00",
          "2020-02-07T00:00:00",
          "2020-02-10T00:00:00",
          "2020-02-11T00:00:00",
          "2020-02-12T00:00:00",
          "2020-02-13T00:00:00",
          "2020-02-14T00:00:00",
          "2020-02-18T00:00:00",
          "2020-02-19T00:00:00",
          "2020-02-20T00:00:00",
          "2020-02-21T00:00:00",
          "2020-02-24T00:00:00",
          "2020-02-25T00:00:00",
          "2020-02-26T00:00:00",
          "2020-02-27T00:00:00",
          "2020-02-28T00:00:00",
          "2020-03-02T00:00:00",
          "2020-03-03T00:00:00",
          "2020-03-04T00:00:00",
          "2020-03-05T00:00:00",
          "2020-03-06T00:00:00",
          "2020-03-09T00:00:00",
          "2020-03-10T00:00:00",
          "2020-03-11T00:00:00",
          "2020-03-12T00:00:00",
          "2020-03-13T00:00:00",
          "2020-03-16T00:00:00",
          "2020-03-17T00:00:00",
          "2020-03-18T00:00:00",
          "2020-03-19T00:00:00",
          "2020-03-20T00:00:00",
          "2020-03-23T00:00:00",
          "2020-03-24T00:00:00",
          "2020-03-25T00:00:00",
          "2020-03-26T00:00:00",
          "2020-03-27T00:00:00",
          "2020-03-30T00:00:00",
          "2020-03-31T00:00:00",
          "2020-04-01T00:00:00",
          "2020-04-02T00:00:00",
          "2020-04-03T00:00:00",
          "2020-04-06T00:00:00",
          "2020-04-07T00:00:00",
          "2020-04-08T00:00:00",
          "2020-04-09T00:00:00",
          "2020-04-13T00:00:00",
          "2020-04-14T00:00:00",
          "2020-04-15T00:00:00",
          "2020-04-16T00:00:00",
          "2020-04-17T00:00:00",
          "2020-04-20T00:00:00",
          "2020-04-21T00:00:00",
          "2020-04-22T00:00:00",
          "2020-04-23T00:00:00",
          "2020-04-24T00:00:00",
          "2020-04-27T00:00:00",
          "2020-04-28T00:00:00",
          "2020-04-29T00:00:00",
          "2020-04-30T00:00:00",
          "2020-05-01T00:00:00",
          "2020-05-04T00:00:00",
          "2020-05-05T00:00:00",
          "2020-05-06T00:00:00",
          "2020-05-07T00:00:00",
          "2020-05-08T00:00:00",
          "2020-05-11T00:00:00",
          "2020-05-12T00:00:00",
          "2020-05-13T00:00:00",
          "2020-05-14T00:00:00",
          "2020-05-15T00:00:00",
          "2020-05-18T00:00:00",
          "2020-05-19T00:00:00",
          "2020-05-20T00:00:00",
          "2020-05-21T00:00:00",
          "2020-05-22T00:00:00",
          "2020-05-26T00:00:00",
          "2020-05-27T00:00:00",
          "2020-05-28T00:00:00",
          "2020-05-29T00:00:00",
          "2020-06-01T00:00:00",
          "2020-06-02T00:00:00",
          "2020-06-03T00:00:00",
          "2020-06-04T00:00:00",
          "2020-06-05T00:00:00",
          "2020-06-08T00:00:00",
          "2020-06-09T00:00:00",
          "2020-06-10T00:00:00",
          "2020-06-11T00:00:00",
          "2020-06-12T00:00:00",
          "2020-06-15T00:00:00",
          "2020-06-16T00:00:00",
          "2020-06-17T00:00:00",
          "2020-06-18T00:00:00",
          "2020-06-19T00:00:00",
          "2020-06-22T00:00:00",
          "2020-06-23T00:00:00",
          "2020-06-24T00:00:00",
          "2020-06-25T00:00:00",
          "2020-06-26T00:00:00",
          "2020-06-29T00:00:00",
          "2020-06-30T00:00:00",
          "2020-07-01T00:00:00",
          "2020-07-02T00:00:00",
          "2020-07-06T00:00:00",
          "2020-07-07T00:00:00",
          "2020-07-08T00:00:00",
          "2020-07-09T00:00:00",
          "2020-07-10T00:00:00",
          "2020-07-13T00:00:00",
          "2020-07-14T00:00:00",
          "2020-07-15T00:00:00",
          "2020-07-16T00:00:00"
         ]
        }
       ],
       "layout": {
        "height": 400,
        "template": {
         "data": {
          "bar": [
           {
            "error_x": {
             "color": "#2a3f5f"
            },
            "error_y": {
             "color": "#2a3f5f"
            },
            "marker": {
             "line": {
              "color": "#E5ECF6",
              "width": 0.5
             }
            },
            "type": "bar"
           }
          ],
          "barpolar": [
           {
            "marker": {
             "line": {
              "color": "#E5ECF6",
              "width": 0.5
             }
            },
            "type": "barpolar"
           }
          ],
          "carpet": [
           {
            "aaxis": {
             "endlinecolor": "#2a3f5f",
             "gridcolor": "white",
             "linecolor": "white",
             "minorgridcolor": "white",
             "startlinecolor": "#2a3f5f"
            },
            "baxis": {
             "endlinecolor": "#2a3f5f",
             "gridcolor": "white",
             "linecolor": "white",
             "minorgridcolor": "white",
             "startlinecolor": "#2a3f5f"
            },
            "type": "carpet"
           }
          ],
          "choropleth": [
           {
            "colorbar": {
             "outlinewidth": 0,
             "ticks": ""
            },
            "type": "choropleth"
           }
          ],
          "contour": [
           {
            "colorbar": {
             "outlinewidth": 0,
             "ticks": ""
            },
            "colorscale": [
             [
              0,
              "#0d0887"
             ],
             [
              0.1111111111111111,
              "#46039f"
             ],
             [
              0.2222222222222222,
              "#7201a8"
             ],
             [
              0.3333333333333333,
              "#9c179e"
             ],
             [
              0.4444444444444444,
              "#bd3786"
             ],
             [
              0.5555555555555556,
              "#d8576b"
             ],
             [
              0.6666666666666666,
              "#ed7953"
             ],
             [
              0.7777777777777778,
              "#fb9f3a"
             ],
             [
              0.8888888888888888,
              "#fdca26"
             ],
             [
              1,
              "#f0f921"
             ]
            ],
            "type": "contour"
           }
          ],
          "contourcarpet": [
           {
            "colorbar": {
             "outlinewidth": 0,
             "ticks": ""
            },
            "type": "contourcarpet"
           }
          ],
          "heatmap": [
           {
            "colorbar": {
             "outlinewidth": 0,
             "ticks": ""
            },
            "colorscale": [
             [
              0,
              "#0d0887"
             ],
             [
              0.1111111111111111,
              "#46039f"
             ],
             [
              0.2222222222222222,
              "#7201a8"
             ],
             [
              0.3333333333333333,
              "#9c179e"
             ],
             [
              0.4444444444444444,
              "#bd3786"
             ],
             [
              0.5555555555555556,
              "#d8576b"
             ],
             [
              0.6666666666666666,
              "#ed7953"
             ],
             [
              0.7777777777777778,
              "#fb9f3a"
             ],
             [
              0.8888888888888888,
              "#fdca26"
             ],
             [
              1,
              "#f0f921"
             ]
            ],
            "type": "heatmap"
           }
          ],
          "heatmapgl": [
           {
            "colorbar": {
             "outlinewidth": 0,
             "ticks": ""
            },
            "colorscale": [
             [
              0,
              "#0d0887"
             ],
             [
              0.1111111111111111,
              "#46039f"
             ],
             [
              0.2222222222222222,
              "#7201a8"
             ],
             [
              0.3333333333333333,
              "#9c179e"
             ],
             [
              0.4444444444444444,
              "#bd3786"
             ],
             [
              0.5555555555555556,
              "#d8576b"
             ],
             [
              0.6666666666666666,
              "#ed7953"
             ],
             [
              0.7777777777777778,
              "#fb9f3a"
             ],
             [
              0.8888888888888888,
              "#fdca26"
             ],
             [
              1,
              "#f0f921"
             ]
            ],
            "type": "heatmapgl"
           }
          ],
          "histogram": [
           {
            "marker": {
             "colorbar": {
              "outlinewidth": 0,
              "ticks": ""
             }
            },
            "type": "histogram"
           }
          ],
          "histogram2d": [
           {
            "colorbar": {
             "outlinewidth": 0,
             "ticks": ""
            },
            "colorscale": [
             [
              0,
              "#0d0887"
             ],
             [
              0.1111111111111111,
              "#46039f"
             ],
             [
              0.2222222222222222,
              "#7201a8"
             ],
             [
              0.3333333333333333,
              "#9c179e"
             ],
             [
              0.4444444444444444,
              "#bd3786"
             ],
             [
              0.5555555555555556,
              "#d8576b"
             ],
             [
              0.6666666666666666,
              "#ed7953"
             ],
             [
              0.7777777777777778,
              "#fb9f3a"
             ],
             [
              0.8888888888888888,
              "#fdca26"
             ],
             [
              1,
              "#f0f921"
             ]
            ],
            "type": "histogram2d"
           }
          ],
          "histogram2dcontour": [
           {
            "colorbar": {
             "outlinewidth": 0,
             "ticks": ""
            },
            "colorscale": [
             [
              0,
              "#0d0887"
             ],
             [
              0.1111111111111111,
              "#46039f"
             ],
             [
              0.2222222222222222,
              "#7201a8"
             ],
             [
              0.3333333333333333,
              "#9c179e"
             ],
             [
              0.4444444444444444,
              "#bd3786"
             ],
             [
              0.5555555555555556,
              "#d8576b"
             ],
             [
              0.6666666666666666,
              "#ed7953"
             ],
             [
              0.7777777777777778,
              "#fb9f3a"
             ],
             [
              0.8888888888888888,
              "#fdca26"
             ],
             [
              1,
              "#f0f921"
             ]
            ],
            "type": "histogram2dcontour"
           }
          ],
          "mesh3d": [
           {
            "colorbar": {
             "outlinewidth": 0,
             "ticks": ""
            },
            "type": "mesh3d"
           }
          ],
          "parcoords": [
           {
            "line": {
             "colorbar": {
              "outlinewidth": 0,
              "ticks": ""
             }
            },
            "type": "parcoords"
           }
          ],
          "pie": [
           {
            "automargin": true,
            "type": "pie"
           }
          ],
          "scatter": [
           {
            "marker": {
             "colorbar": {
              "outlinewidth": 0,
              "ticks": ""
             }
            },
            "type": "scatter"
           }
          ],
          "scatter3d": [
           {
            "line": {
             "colorbar": {
              "outlinewidth": 0,
              "ticks": ""
             }
            },
            "marker": {
             "colorbar": {
              "outlinewidth": 0,
              "ticks": ""
             }
            },
            "type": "scatter3d"
           }
          ],
          "scattercarpet": [
           {
            "marker": {
             "colorbar": {
              "outlinewidth": 0,
              "ticks": ""
             }
            },
            "type": "scattercarpet"
           }
          ],
          "scattergeo": [
           {
            "marker": {
             "colorbar": {
              "outlinewidth": 0,
              "ticks": ""
             }
            },
            "type": "scattergeo"
           }
          ],
          "scattergl": [
           {
            "marker": {
             "colorbar": {
              "outlinewidth": 0,
              "ticks": ""
             }
            },
            "type": "scattergl"
           }
          ],
          "scattermapbox": [
           {
            "marker": {
             "colorbar": {
              "outlinewidth": 0,
              "ticks": ""
             }
            },
            "type": "scattermapbox"
           }
          ],
          "scatterpolar": [
           {
            "marker": {
             "colorbar": {
              "outlinewidth": 0,
              "ticks": ""
             }
            },
            "type": "scatterpolar"
           }
          ],
          "scatterpolargl": [
           {
            "marker": {
             "colorbar": {
              "outlinewidth": 0,
              "ticks": ""
             }
            },
            "type": "scatterpolargl"
           }
          ],
          "scatterternary": [
           {
            "marker": {
             "colorbar": {
              "outlinewidth": 0,
              "ticks": ""
             }
            },
            "type": "scatterternary"
           }
          ],
          "surface": [
           {
            "colorbar": {
             "outlinewidth": 0,
             "ticks": ""
            },
            "colorscale": [
             [
              0,
              "#0d0887"
             ],
             [
              0.1111111111111111,
              "#46039f"
             ],
             [
              0.2222222222222222,
              "#7201a8"
             ],
             [
              0.3333333333333333,
              "#9c179e"
             ],
             [
              0.4444444444444444,
              "#bd3786"
             ],
             [
              0.5555555555555556,
              "#d8576b"
             ],
             [
              0.6666666666666666,
              "#ed7953"
             ],
             [
              0.7777777777777778,
              "#fb9f3a"
             ],
             [
              0.8888888888888888,
              "#fdca26"
             ],
             [
              1,
              "#f0f921"
             ]
            ],
            "type": "surface"
           }
          ],
          "table": [
           {
            "cells": {
             "fill": {
              "color": "#EBF0F8"
             },
             "line": {
              "color": "white"
             }
            },
            "header": {
             "fill": {
              "color": "#C8D4E3"
             },
             "line": {
              "color": "white"
             }
            },
            "type": "table"
           }
          ]
         },
         "layout": {
          "annotationdefaults": {
           "arrowcolor": "#2a3f5f",
           "arrowhead": 0,
           "arrowwidth": 1
          },
          "coloraxis": {
           "colorbar": {
            "outlinewidth": 0,
            "ticks": ""
           }
          },
          "colorscale": {
           "diverging": [
            [
             0,
             "#8e0152"
            ],
            [
             0.1,
             "#c51b7d"
            ],
            [
             0.2,
             "#de77ae"
            ],
            [
             0.3,
             "#f1b6da"
            ],
            [
             0.4,
             "#fde0ef"
            ],
            [
             0.5,
             "#f7f7f7"
            ],
            [
             0.6,
             "#e6f5d0"
            ],
            [
             0.7,
             "#b8e186"
            ],
            [
             0.8,
             "#7fbc41"
            ],
            [
             0.9,
             "#4d9221"
            ],
            [
             1,
             "#276419"
            ]
           ],
           "sequential": [
            [
             0,
             "#0d0887"
            ],
            [
             0.1111111111111111,
             "#46039f"
            ],
            [
             0.2222222222222222,
             "#7201a8"
            ],
            [
             0.3333333333333333,
             "#9c179e"
            ],
            [
             0.4444444444444444,
             "#bd3786"
            ],
            [
             0.5555555555555556,
             "#d8576b"
            ],
            [
             0.6666666666666666,
             "#ed7953"
            ],
            [
             0.7777777777777778,
             "#fb9f3a"
            ],
            [
             0.8888888888888888,
             "#fdca26"
            ],
            [
             1,
             "#f0f921"
            ]
           ],
           "sequentialminus": [
            [
             0,
             "#0d0887"
            ],
            [
             0.1111111111111111,
             "#46039f"
            ],
            [
             0.2222222222222222,
             "#7201a8"
            ],
            [
             0.3333333333333333,
             "#9c179e"
            ],
            [
             0.4444444444444444,
             "#bd3786"
            ],
            [
             0.5555555555555556,
             "#d8576b"
            ],
            [
             0.6666666666666666,
             "#ed7953"
            ],
            [
             0.7777777777777778,
             "#fb9f3a"
            ],
            [
             0.8888888888888888,
             "#fdca26"
            ],
            [
             1,
             "#f0f921"
            ]
           ]
          },
          "colorway": [
           "#636efa",
           "#EF553B",
           "#00cc96",
           "#ab63fa",
           "#FFA15A",
           "#19d3f3",
           "#FF6692",
           "#B6E880",
           "#FF97FF",
           "#FECB52"
          ],
          "font": {
           "color": "#2a3f5f"
          },
          "geo": {
           "bgcolor": "white",
           "lakecolor": "white",
           "landcolor": "#E5ECF6",
           "showlakes": true,
           "showland": true,
           "subunitcolor": "white"
          },
          "hoverlabel": {
           "align": "left"
          },
          "hovermode": "closest",
          "mapbox": {
           "style": "light"
          },
          "paper_bgcolor": "white",
          "plot_bgcolor": "#E5ECF6",
          "polar": {
           "angularaxis": {
            "gridcolor": "white",
            "linecolor": "white",
            "ticks": ""
           },
           "bgcolor": "#E5ECF6",
           "radialaxis": {
            "gridcolor": "white",
            "linecolor": "white",
            "ticks": ""
           }
          },
          "scene": {
           "xaxis": {
            "backgroundcolor": "#E5ECF6",
            "gridcolor": "white",
            "gridwidth": 2,
            "linecolor": "white",
            "showbackground": true,
            "ticks": "",
            "zerolinecolor": "white"
           },
           "yaxis": {
            "backgroundcolor": "#E5ECF6",
            "gridcolor": "white",
            "gridwidth": 2,
            "linecolor": "white",
            "showbackground": true,
            "ticks": "",
            "zerolinecolor": "white"
           },
           "zaxis": {
            "backgroundcolor": "#E5ECF6",
            "gridcolor": "white",
            "gridwidth": 2,
            "linecolor": "white",
            "showbackground": true,
            "ticks": "",
            "zerolinecolor": "white"
           }
          },
          "shapedefaults": {
           "line": {
            "color": "#2a3f5f"
           }
          },
          "ternary": {
           "aaxis": {
            "gridcolor": "white",
            "linecolor": "white",
            "ticks": ""
           },
           "baxis": {
            "gridcolor": "white",
            "linecolor": "white",
            "ticks": ""
           },
           "bgcolor": "#E5ECF6",
           "caxis": {
            "gridcolor": "white",
            "linecolor": "white",
            "ticks": ""
           }
          },
          "title": {
           "x": 0.05
          },
          "xaxis": {
           "automargin": true,
           "gridcolor": "white",
           "linecolor": "white",
           "ticks": "",
           "title": {
            "standoff": 15
           },
           "zerolinecolor": "white",
           "zerolinewidth": 2
          },
          "yaxis": {
           "automargin": true,
           "gridcolor": "white",
           "linecolor": "white",
           "ticks": "",
           "title": {
            "standoff": 15
           },
           "zerolinecolor": "white",
           "zerolinewidth": 2
          }
         }
        },
        "title": {
         "text": "Candlestick Chart for AMZN Close Stock Price"
        }
       }
      },
      "text/html": [
       "<div>\n",
       "        \n",
       "        \n",
       "            <div id=\"420d8618-b7dd-4dfd-8647-68d37d7ae218\" class=\"plotly-graph-div\" style=\"height:400px; width:100%;\"></div>\n",
       "            <script type=\"text/javascript\">\n",
       "                require([\"plotly\"], function(Plotly) {\n",
       "                    window.PLOTLYENV=window.PLOTLYENV || {};\n",
       "                    \n",
       "                if (document.getElementById(\"420d8618-b7dd-4dfd-8647-68d37d7ae218\")) {\n",
       "                    Plotly.newPlot(\n",
       "                        '420d8618-b7dd-4dfd-8647-68d37d7ae218',\n",
       "                        [{\"close\": [1898.010009765625, 1874.969970703125, 1902.8800048828125, 1906.8599853515625, 1891.969970703125, 1901.050048828125, 1883.1600341796875, 1891.300048828125, 1869.43994140625, 1862.02001953125, 1877.93994140625, 1864.719970703125, 1892.0, 1887.4599609375, 1884.5799560546875, 1861.6400146484375, 1828.3399658203125, 1853.25, 1858.0, 1870.6800537109375, 2008.719970703125, 2004.199951171875, 2049.669921875, 2039.8699951171875, 2050.22998046875, 2079.280029296875, 2133.909912109375, 2150.800048828125, 2160.0, 2149.8701171875, 2134.8701171875, 2155.669921875, 2170.219970703125, 2153.10009765625, 2095.969970703125, 2009.2900390625, 1972.739990234375, 1979.5899658203125, 1884.300048828125, 1883.75, 1953.949951171875, 1908.989990234375, 1975.8299560546875, 1924.030029296875, 1901.0899658203125, 1800.6099853515625, 1891.8199462890625, 1820.8599853515625, 1676.6099853515625, 1785.0, 1689.1500244140625, 1807.8399658203125, 1830.0, 1880.9300537109375, 1846.0899658203125, 1902.8299560546875, 1940.0999755859375, 1885.8399658203125, 1955.489990234375, 1900.0999755859375, 1963.949951171875, 1949.719970703125, 1907.699951171875, 1918.8299560546875, 1906.5899658203125, 1997.5899658203125, 2011.5999755859375, 2043.0, 2042.760009765625, 2168.8701171875, 2283.320068359375, 2307.679931640625, 2408.18994140625, 2375.0, 2393.610107421875, 2328.1201171875, 2363.489990234375, 2399.449951171875, 2410.219970703125, 2376.0, 2314.080078125, 2372.7099609375, 2474.0, 2286.0400390625, 2315.989990234375, 2317.800048828125, 2351.260009765625, 2367.610107421875, 2379.610107421875, 2409.0, 2356.949951171875, 2367.919921875, 2388.85009765625, 2409.780029296875, 2426.260009765625, 2449.330078125, 2497.93994140625, 2446.739990234375, 2436.8798828125, 2421.860107421875, 2410.389892578125, 2401.10009765625, 2442.3701171875, 2471.0400390625, 2472.409912109375, 2478.39990234375, 2460.60009765625, 2483.0, 2524.06005859375, 2600.860107421875, 2647.449951171875, 2557.9599609375, 2545.02001953125, 2572.679931640625, 2615.27001953125, 2640.97998046875, 2653.97998046875, 2675.010009765625, 2713.820068359375, 2764.409912109375, 2734.39990234375, 2754.580078125, 2692.8701171875, 2680.3798828125, 2758.820068359375, 2878.699951171875, 2890.300048828125, 3057.0400390625, 3000.1201171875, 3081.110107421875, 3182.6298828125, 3200.0, 3104.0, 3084.0, 3008.8701171875, 2999.002197265625], \"high\": [1898.010009765625, 1886.199951171875, 1903.68994140625, 1913.8900146484375, 1911.0, 1917.8199462890625, 1906.93994140625, 1898.0, 1887.1099853515625, 1878.8599853515625, 1885.5899658203125, 1886.6400146484375, 1894.27001953125, 1902.5, 1889.97998046875, 1894.989990234375, 1841.0, 1858.1099853515625, 1874.75, 1872.8699951171875, 2055.719970703125, 2048.5, 2059.800048828125, 2071.02001953125, 2056.300048828125, 2098.530029296875, 2135.60009765625, 2185.949951171875, 2180.25, 2170.280029296875, 2159.0400390625, 2166.070068359375, 2185.10009765625, 2176.7900390625, 2144.550048828125, 2039.300048828125, 2034.5999755859375, 2014.6700439453125, 1975.0, 1889.760009765625, 1954.510009765625, 1996.3299560546875, 1978.0, 1960.719970703125, 1910.8699951171875, 1862.77001953125, 1894.27001953125, 1871.3199462890625, 1765.0, 1786.31005859375, 1759.449951171875, 1857.780029296875, 1841.6600341796875, 1945.0, 1957.0, 1919.4000244140625, 1955.0, 1950.260009765625, 1956.489990234375, 1939.7900390625, 1973.6300048828125, 1993.02001953125, 1944.9599609375, 1927.530029296875, 1926.3299560546875, 1998.52001953125, 2035.719970703125, 2044.0, 2053.0, 2180.0, 2292.0, 2333.3701171875, 2461.0, 2400.0, 2444.97998046875, 2428.31005859375, 2394.0, 2424.219970703125, 2420.429931640625, 2444.8798828125, 2373.5, 2391.889892578125, 2475.0, 2362.43994140625, 2326.97998046875, 2351.0, 2357.449951171875, 2376.0, 2387.239990234375, 2419.669921875, 2419.0, 2407.699951171875, 2391.3701171875, 2411.0, 2433.0, 2485.0, 2500.010009765625, 2525.449951171875, 2469.85009765625, 2462.0, 2413.580078125, 2436.969970703125, 2442.3701171875, 2476.929931640625, 2473.530029296875, 2488.0, 2507.5400390625, 2488.64990234375, 2530.0, 2626.429931640625, 2722.35009765625, 2671.3798828125, 2621.47998046875, 2584.0, 2620.0, 2655.0, 2659.639892578125, 2697.429931640625, 2715.0, 2783.110107421875, 2796.0, 2756.22998046875, 2782.570068359375, 2696.800048828125, 2769.6298828125, 2895.0, 2955.56005859375, 3059.8798828125, 3069.550048828125, 3083.969970703125, 3193.8798828125, 3215.0, 3344.2900390625, 3127.3798828125, 3098.35009765625, 3032.0], \"low\": [1864.1500244140625, 1864.5, 1860.0, 1892.0400390625, 1886.43994140625, 1895.800048828125, 1880.0, 1880.800048828125, 1858.550048828125, 1855.0899658203125, 1866.02001953125, 1857.25, 1860.0, 1883.3399658203125, 1872.760009765625, 1847.43994140625, 1815.3399658203125, 1830.02001953125, 1855.02001953125, 1850.6099853515625, 2002.27001953125, 2000.25, 2015.3699951171875, 2032.0, 2024.800048828125, 2038.0999755859375, 2084.9599609375, 2136.0, 2155.2900390625, 2142.0, 2125.889892578125, 2124.110107421875, 2161.1201171875, 2127.449951171875, 2088.0, 1987.969970703125, 1958.4200439453125, 1960.449951171875, 1882.760009765625, 1811.1300048828125, 1870.0, 1888.0899658203125, 1922.0, 1910.0, 1869.5, 1761.2900390625, 1818.1700439453125, 1801.5, 1675.0, 1680.6199951171875, 1626.030029296875, 1689.239990234375, 1745.0, 1832.6500244140625, 1820.72998046875, 1812.0, 1900.3399658203125, 1885.780029296875, 1889.2900390625, 1899.9200439453125, 1912.3399658203125, 1944.010009765625, 1893.0, 1890.0, 1889.1500244140625, 1930.02001953125, 1997.6199951171875, 2011.1500244140625, 2017.6600341796875, 2038.0, 2186.2099609375, 2245.0, 2335.0, 2316.02001953125, 2386.050048828125, 2279.659912109375, 2351.0, 2382.080078125, 2382.0, 2363.0, 2306.0, 2310.0, 2396.010009765625, 2258.18994140625, 2256.3798828125, 2307.1298828125, 2320.0, 2343.110107421875, 2357.0, 2372.110107421875, 2355.0, 2337.800048828125, 2353.2099609375, 2356.3701171875, 2384.010009765625, 2428.969970703125, 2467.27001953125, 2442.5400390625, 2430.1298828125, 2414.06005859375, 2330.0, 2378.22998046875, 2398.199951171875, 2444.169921875, 2445.31005859375, 2461.169921875, 2450.010009765625, 2437.1298828125, 2487.340087890625, 2525.0, 2626.260009765625, 2536.22998046875, 2503.35009765625, 2508.0, 2576.0, 2631.820068359375, 2636.110107421875, 2659.0, 2669.0, 2718.0400390625, 2721.0, 2712.139892578125, 2688.0, 2630.080078125, 2675.030029296875, 2754.0, 2871.10009765625, 2930.0, 2990.0, 3012.429931640625, 3074.0, 3135.699951171875, 3068.389892578125, 2950.0, 2973.179931640625, 2920.0], \"open\": [1875.0, 1864.5, 1860.0, 1904.5, 1898.0400390625, 1909.8900146484375, 1905.3699951171875, 1891.31005859375, 1885.8800048828125, 1872.25, 1882.989990234375, 1885.8900146484375, 1865.0, 1896.0899658203125, 1885.1099853515625, 1891.3699951171875, 1820.0, 1840.5, 1864.0, 1858.0, 2051.469970703125, 2010.5999755859375, 2029.8800048828125, 2071.02001953125, 2041.02001953125, 2041.989990234375, 2085.010009765625, 2150.89990234375, 2163.199951171875, 2144.989990234375, 2155.679931640625, 2125.02001953125, 2167.800048828125, 2173.070068359375, 2142.14990234375, 2003.1800537109375, 2026.4200439453125, 1970.280029296875, 1934.3800048828125, 1814.6300048828125, 1906.489990234375, 1975.3699951171875, 1946.5699462890625, 1933.0, 1875.0, 1773.8599853515625, 1870.8800048828125, 1857.8499755859375, 1721.97998046875, 1755.0, 1641.510009765625, 1775.469970703125, 1750.0, 1860.0, 1926.31005859375, 1827.75, 1951.5, 1920.68994140625, 1902.0, 1930.8599853515625, 1922.8299560546875, 1964.3499755859375, 1932.969970703125, 1901.6400146484375, 1911.1500244140625, 1936.0, 2017.1099853515625, 2021.0, 2044.300048828125, 2040.0, 2200.469970703125, 2257.679931640625, 2346.0, 2372.330078125, 2389.949951171875, 2416.610107421875, 2369.0, 2399.97998046875, 2417.0, 2443.199951171875, 2372.10009765625, 2330.010009765625, 2419.840087890625, 2336.800048828125, 2256.3798828125, 2340.0, 2329.43994140625, 2374.780029296875, 2372.139892578125, 2374.699951171875, 2411.85009765625, 2366.800048828125, 2361.010009765625, 2368.52001953125, 2404.35009765625, 2429.830078125, 2477.8701171875, 2500.0, 2455.010009765625, 2458.0, 2404.989990234375, 2384.330078125, 2415.93994140625, 2448.0, 2467.0, 2468.010009765625, 2477.429931640625, 2444.510009765625, 2500.199951171875, 2529.43994140625, 2645.0, 2603.5, 2601.2099609375, 2526.60009765625, 2620.0, 2647.5, 2647.010009765625, 2678.080078125, 2684.5, 2726.02001953125, 2780.0, 2739.550048828125, 2775.06005859375, 2690.010009765625, 2685.070068359375, 2757.989990234375, 2912.010009765625, 2934.969970703125, 3058.550048828125, 3022.610107421875, 3115.989990234375, 3191.760009765625, 3251.06005859375, 3089.0, 3080.22998046875, 2971.06005859375], \"type\": \"candlestick\", \"x\": [\"2020-01-02T00:00:00\", \"2020-01-03T00:00:00\", \"2020-01-06T00:00:00\", \"2020-01-07T00:00:00\", \"2020-01-08T00:00:00\", \"2020-01-09T00:00:00\", \"2020-01-10T00:00:00\", \"2020-01-13T00:00:00\", \"2020-01-14T00:00:00\", \"2020-01-15T00:00:00\", \"2020-01-16T00:00:00\", \"2020-01-17T00:00:00\", \"2020-01-21T00:00:00\", \"2020-01-22T00:00:00\", \"2020-01-23T00:00:00\", \"2020-01-24T00:00:00\", \"2020-01-27T00:00:00\", \"2020-01-28T00:00:00\", \"2020-01-29T00:00:00\", \"2020-01-30T00:00:00\", \"2020-01-31T00:00:00\", \"2020-02-03T00:00:00\", \"2020-02-04T00:00:00\", \"2020-02-05T00:00:00\", \"2020-02-06T00:00:00\", \"2020-02-07T00:00:00\", \"2020-02-10T00:00:00\", \"2020-02-11T00:00:00\", \"2020-02-12T00:00:00\", \"2020-02-13T00:00:00\", \"2020-02-14T00:00:00\", \"2020-02-18T00:00:00\", \"2020-02-19T00:00:00\", \"2020-02-20T00:00:00\", \"2020-02-21T00:00:00\", \"2020-02-24T00:00:00\", \"2020-02-25T00:00:00\", \"2020-02-26T00:00:00\", \"2020-02-27T00:00:00\", \"2020-02-28T00:00:00\", \"2020-03-02T00:00:00\", \"2020-03-03T00:00:00\", \"2020-03-04T00:00:00\", \"2020-03-05T00:00:00\", \"2020-03-06T00:00:00\", \"2020-03-09T00:00:00\", \"2020-03-10T00:00:00\", \"2020-03-11T00:00:00\", \"2020-03-12T00:00:00\", \"2020-03-13T00:00:00\", \"2020-03-16T00:00:00\", \"2020-03-17T00:00:00\", \"2020-03-18T00:00:00\", \"2020-03-19T00:00:00\", \"2020-03-20T00:00:00\", \"2020-03-23T00:00:00\", \"2020-03-24T00:00:00\", \"2020-03-25T00:00:00\", \"2020-03-26T00:00:00\", \"2020-03-27T00:00:00\", \"2020-03-30T00:00:00\", \"2020-03-31T00:00:00\", \"2020-04-01T00:00:00\", \"2020-04-02T00:00:00\", \"2020-04-03T00:00:00\", \"2020-04-06T00:00:00\", \"2020-04-07T00:00:00\", \"2020-04-08T00:00:00\", \"2020-04-09T00:00:00\", \"2020-04-13T00:00:00\", \"2020-04-14T00:00:00\", \"2020-04-15T00:00:00\", \"2020-04-16T00:00:00\", \"2020-04-17T00:00:00\", \"2020-04-20T00:00:00\", \"2020-04-21T00:00:00\", \"2020-04-22T00:00:00\", \"2020-04-23T00:00:00\", \"2020-04-24T00:00:00\", \"2020-04-27T00:00:00\", \"2020-04-28T00:00:00\", \"2020-04-29T00:00:00\", \"2020-04-30T00:00:00\", \"2020-05-01T00:00:00\", \"2020-05-04T00:00:00\", \"2020-05-05T00:00:00\", \"2020-05-06T00:00:00\", \"2020-05-07T00:00:00\", \"2020-05-08T00:00:00\", \"2020-05-11T00:00:00\", \"2020-05-12T00:00:00\", \"2020-05-13T00:00:00\", \"2020-05-14T00:00:00\", \"2020-05-15T00:00:00\", \"2020-05-18T00:00:00\", \"2020-05-19T00:00:00\", \"2020-05-20T00:00:00\", \"2020-05-21T00:00:00\", \"2020-05-22T00:00:00\", \"2020-05-26T00:00:00\", \"2020-05-27T00:00:00\", \"2020-05-28T00:00:00\", \"2020-05-29T00:00:00\", \"2020-06-01T00:00:00\", \"2020-06-02T00:00:00\", \"2020-06-03T00:00:00\", \"2020-06-04T00:00:00\", \"2020-06-05T00:00:00\", \"2020-06-08T00:00:00\", \"2020-06-09T00:00:00\", \"2020-06-10T00:00:00\", \"2020-06-11T00:00:00\", \"2020-06-12T00:00:00\", \"2020-06-15T00:00:00\", \"2020-06-16T00:00:00\", \"2020-06-17T00:00:00\", \"2020-06-18T00:00:00\", \"2020-06-19T00:00:00\", \"2020-06-22T00:00:00\", \"2020-06-23T00:00:00\", \"2020-06-24T00:00:00\", \"2020-06-25T00:00:00\", \"2020-06-26T00:00:00\", \"2020-06-29T00:00:00\", \"2020-06-30T00:00:00\", \"2020-07-01T00:00:00\", \"2020-07-02T00:00:00\", \"2020-07-06T00:00:00\", \"2020-07-07T00:00:00\", \"2020-07-08T00:00:00\", \"2020-07-09T00:00:00\", \"2020-07-10T00:00:00\", \"2020-07-13T00:00:00\", \"2020-07-14T00:00:00\", \"2020-07-15T00:00:00\", \"2020-07-16T00:00:00\"]}],\n",
       "                        {\"height\": 400, \"template\": {\"data\": {\"bar\": [{\"error_x\": {\"color\": \"#2a3f5f\"}, \"error_y\": {\"color\": \"#2a3f5f\"}, \"marker\": {\"line\": {\"color\": \"#E5ECF6\", \"width\": 0.5}}, \"type\": \"bar\"}], \"barpolar\": [{\"marker\": {\"line\": {\"color\": \"#E5ECF6\", \"width\": 0.5}}, \"type\": \"barpolar\"}], \"carpet\": [{\"aaxis\": {\"endlinecolor\": \"#2a3f5f\", \"gridcolor\": \"white\", \"linecolor\": \"white\", \"minorgridcolor\": \"white\", \"startlinecolor\": \"#2a3f5f\"}, \"baxis\": {\"endlinecolor\": \"#2a3f5f\", \"gridcolor\": \"white\", \"linecolor\": \"white\", \"minorgridcolor\": \"white\", \"startlinecolor\": \"#2a3f5f\"}, \"type\": \"carpet\"}], \"choropleth\": [{\"colorbar\": {\"outlinewidth\": 0, \"ticks\": \"\"}, \"type\": \"choropleth\"}], \"contour\": [{\"colorbar\": {\"outlinewidth\": 0, \"ticks\": \"\"}, \"colorscale\": [[0.0, \"#0d0887\"], [0.1111111111111111, \"#46039f\"], [0.2222222222222222, \"#7201a8\"], [0.3333333333333333, \"#9c179e\"], [0.4444444444444444, \"#bd3786\"], [0.5555555555555556, \"#d8576b\"], [0.6666666666666666, \"#ed7953\"], [0.7777777777777778, \"#fb9f3a\"], [0.8888888888888888, \"#fdca26\"], [1.0, \"#f0f921\"]], \"type\": \"contour\"}], \"contourcarpet\": [{\"colorbar\": {\"outlinewidth\": 0, \"ticks\": \"\"}, \"type\": \"contourcarpet\"}], \"heatmap\": [{\"colorbar\": {\"outlinewidth\": 0, \"ticks\": \"\"}, \"colorscale\": [[0.0, \"#0d0887\"], [0.1111111111111111, \"#46039f\"], [0.2222222222222222, \"#7201a8\"], [0.3333333333333333, \"#9c179e\"], [0.4444444444444444, \"#bd3786\"], [0.5555555555555556, \"#d8576b\"], [0.6666666666666666, \"#ed7953\"], [0.7777777777777778, \"#fb9f3a\"], [0.8888888888888888, \"#fdca26\"], [1.0, \"#f0f921\"]], \"type\": \"heatmap\"}], \"heatmapgl\": [{\"colorbar\": {\"outlinewidth\": 0, \"ticks\": \"\"}, \"colorscale\": [[0.0, \"#0d0887\"], [0.1111111111111111, \"#46039f\"], [0.2222222222222222, \"#7201a8\"], [0.3333333333333333, \"#9c179e\"], [0.4444444444444444, \"#bd3786\"], [0.5555555555555556, \"#d8576b\"], [0.6666666666666666, \"#ed7953\"], [0.7777777777777778, \"#fb9f3a\"], [0.8888888888888888, \"#fdca26\"], [1.0, \"#f0f921\"]], \"type\": \"heatmapgl\"}], \"histogram\": [{\"marker\": {\"colorbar\": {\"outlinewidth\": 0, \"ticks\": \"\"}}, \"type\": \"histogram\"}], \"histogram2d\": [{\"colorbar\": {\"outlinewidth\": 0, \"ticks\": \"\"}, \"colorscale\": [[0.0, \"#0d0887\"], [0.1111111111111111, \"#46039f\"], [0.2222222222222222, \"#7201a8\"], [0.3333333333333333, \"#9c179e\"], [0.4444444444444444, \"#bd3786\"], [0.5555555555555556, \"#d8576b\"], [0.6666666666666666, \"#ed7953\"], [0.7777777777777778, \"#fb9f3a\"], [0.8888888888888888, \"#fdca26\"], [1.0, \"#f0f921\"]], \"type\": \"histogram2d\"}], \"histogram2dcontour\": [{\"colorbar\": {\"outlinewidth\": 0, \"ticks\": \"\"}, \"colorscale\": [[0.0, \"#0d0887\"], [0.1111111111111111, \"#46039f\"], [0.2222222222222222, \"#7201a8\"], [0.3333333333333333, \"#9c179e\"], [0.4444444444444444, \"#bd3786\"], [0.5555555555555556, \"#d8576b\"], [0.6666666666666666, \"#ed7953\"], [0.7777777777777778, \"#fb9f3a\"], [0.8888888888888888, \"#fdca26\"], [1.0, \"#f0f921\"]], \"type\": \"histogram2dcontour\"}], \"mesh3d\": [{\"colorbar\": {\"outlinewidth\": 0, \"ticks\": \"\"}, \"type\": \"mesh3d\"}], \"parcoords\": [{\"line\": {\"colorbar\": {\"outlinewidth\": 0, \"ticks\": \"\"}}, \"type\": \"parcoords\"}], \"pie\": [{\"automargin\": true, \"type\": \"pie\"}], \"scatter\": [{\"marker\": {\"colorbar\": {\"outlinewidth\": 0, \"ticks\": \"\"}}, \"type\": \"scatter\"}], \"scatter3d\": [{\"line\": {\"colorbar\": {\"outlinewidth\": 0, \"ticks\": \"\"}}, \"marker\": {\"colorbar\": {\"outlinewidth\": 0, \"ticks\": \"\"}}, \"type\": \"scatter3d\"}], \"scattercarpet\": [{\"marker\": {\"colorbar\": {\"outlinewidth\": 0, \"ticks\": \"\"}}, \"type\": \"scattercarpet\"}], \"scattergeo\": [{\"marker\": {\"colorbar\": {\"outlinewidth\": 0, \"ticks\": \"\"}}, \"type\": \"scattergeo\"}], \"scattergl\": [{\"marker\": {\"colorbar\": {\"outlinewidth\": 0, \"ticks\": \"\"}}, \"type\": \"scattergl\"}], \"scattermapbox\": [{\"marker\": {\"colorbar\": {\"outlinewidth\": 0, \"ticks\": \"\"}}, \"type\": \"scattermapbox\"}], \"scatterpolar\": [{\"marker\": {\"colorbar\": {\"outlinewidth\": 0, \"ticks\": \"\"}}, \"type\": \"scatterpolar\"}], \"scatterpolargl\": [{\"marker\": {\"colorbar\": {\"outlinewidth\": 0, \"ticks\": \"\"}}, \"type\": \"scatterpolargl\"}], \"scatterternary\": [{\"marker\": {\"colorbar\": {\"outlinewidth\": 0, \"ticks\": \"\"}}, \"type\": \"scatterternary\"}], \"surface\": [{\"colorbar\": {\"outlinewidth\": 0, \"ticks\": \"\"}, \"colorscale\": [[0.0, \"#0d0887\"], [0.1111111111111111, \"#46039f\"], [0.2222222222222222, \"#7201a8\"], [0.3333333333333333, \"#9c179e\"], [0.4444444444444444, \"#bd3786\"], [0.5555555555555556, \"#d8576b\"], [0.6666666666666666, \"#ed7953\"], [0.7777777777777778, \"#fb9f3a\"], [0.8888888888888888, \"#fdca26\"], [1.0, \"#f0f921\"]], \"type\": \"surface\"}], \"table\": [{\"cells\": {\"fill\": {\"color\": \"#EBF0F8\"}, \"line\": {\"color\": \"white\"}}, \"header\": {\"fill\": {\"color\": \"#C8D4E3\"}, \"line\": {\"color\": \"white\"}}, \"type\": \"table\"}]}, \"layout\": {\"annotationdefaults\": {\"arrowcolor\": \"#2a3f5f\", \"arrowhead\": 0, \"arrowwidth\": 1}, \"coloraxis\": {\"colorbar\": {\"outlinewidth\": 0, \"ticks\": \"\"}}, \"colorscale\": {\"diverging\": [[0, \"#8e0152\"], [0.1, \"#c51b7d\"], [0.2, \"#de77ae\"], [0.3, \"#f1b6da\"], [0.4, \"#fde0ef\"], [0.5, \"#f7f7f7\"], [0.6, \"#e6f5d0\"], [0.7, \"#b8e186\"], [0.8, \"#7fbc41\"], [0.9, \"#4d9221\"], [1, \"#276419\"]], \"sequential\": [[0.0, \"#0d0887\"], [0.1111111111111111, \"#46039f\"], [0.2222222222222222, \"#7201a8\"], [0.3333333333333333, \"#9c179e\"], [0.4444444444444444, \"#bd3786\"], [0.5555555555555556, \"#d8576b\"], [0.6666666666666666, \"#ed7953\"], [0.7777777777777778, \"#fb9f3a\"], [0.8888888888888888, \"#fdca26\"], [1.0, \"#f0f921\"]], \"sequentialminus\": [[0.0, \"#0d0887\"], [0.1111111111111111, \"#46039f\"], [0.2222222222222222, \"#7201a8\"], [0.3333333333333333, \"#9c179e\"], [0.4444444444444444, \"#bd3786\"], [0.5555555555555556, \"#d8576b\"], [0.6666666666666666, \"#ed7953\"], [0.7777777777777778, \"#fb9f3a\"], [0.8888888888888888, \"#fdca26\"], [1.0, \"#f0f921\"]]}, \"colorway\": [\"#636efa\", \"#EF553B\", \"#00cc96\", \"#ab63fa\", \"#FFA15A\", \"#19d3f3\", \"#FF6692\", \"#B6E880\", \"#FF97FF\", \"#FECB52\"], \"font\": {\"color\": \"#2a3f5f\"}, \"geo\": {\"bgcolor\": \"white\", \"lakecolor\": \"white\", \"landcolor\": \"#E5ECF6\", \"showlakes\": true, \"showland\": true, \"subunitcolor\": \"white\"}, \"hoverlabel\": {\"align\": \"left\"}, \"hovermode\": \"closest\", \"mapbox\": {\"style\": \"light\"}, \"paper_bgcolor\": \"white\", \"plot_bgcolor\": \"#E5ECF6\", \"polar\": {\"angularaxis\": {\"gridcolor\": \"white\", \"linecolor\": \"white\", \"ticks\": \"\"}, \"bgcolor\": \"#E5ECF6\", \"radialaxis\": {\"gridcolor\": \"white\", \"linecolor\": \"white\", \"ticks\": \"\"}}, \"scene\": {\"xaxis\": {\"backgroundcolor\": \"#E5ECF6\", \"gridcolor\": \"white\", \"gridwidth\": 2, \"linecolor\": \"white\", \"showbackground\": true, \"ticks\": \"\", \"zerolinecolor\": \"white\"}, \"yaxis\": {\"backgroundcolor\": \"#E5ECF6\", \"gridcolor\": \"white\", \"gridwidth\": 2, \"linecolor\": \"white\", \"showbackground\": true, \"ticks\": \"\", \"zerolinecolor\": \"white\"}, \"zaxis\": {\"backgroundcolor\": \"#E5ECF6\", \"gridcolor\": \"white\", \"gridwidth\": 2, \"linecolor\": \"white\", \"showbackground\": true, \"ticks\": \"\", \"zerolinecolor\": \"white\"}}, \"shapedefaults\": {\"line\": {\"color\": \"#2a3f5f\"}}, \"ternary\": {\"aaxis\": {\"gridcolor\": \"white\", \"linecolor\": \"white\", \"ticks\": \"\"}, \"baxis\": {\"gridcolor\": \"white\", \"linecolor\": \"white\", \"ticks\": \"\"}, \"bgcolor\": \"#E5ECF6\", \"caxis\": {\"gridcolor\": \"white\", \"linecolor\": \"white\", \"ticks\": \"\"}}, \"title\": {\"x\": 0.05}, \"xaxis\": {\"automargin\": true, \"gridcolor\": \"white\", \"linecolor\": \"white\", \"ticks\": \"\", \"title\": {\"standoff\": 15}, \"zerolinecolor\": \"white\", \"zerolinewidth\": 2}, \"yaxis\": {\"automargin\": true, \"gridcolor\": \"white\", \"linecolor\": \"white\", \"ticks\": \"\", \"title\": {\"standoff\": 15}, \"zerolinecolor\": \"white\", \"zerolinewidth\": 2}}}, \"title\": {\"text\": \"Candlestick Chart for AMZN Close Stock Price\"}},\n",
       "                        {\"responsive\": true}\n",
       "                    ).then(function(){\n",
       "                            \n",
       "var gd = document.getElementById('420d8618-b7dd-4dfd-8647-68d37d7ae218');\n",
       "var x = new MutationObserver(function (mutations, observer) {{\n",
       "        var display = window.getComputedStyle(gd).display;\n",
       "        if (!display || display === 'none') {{\n",
       "            console.log([gd, 'removed!']);\n",
       "            Plotly.purge(gd);\n",
       "            observer.disconnect();\n",
       "        }}\n",
       "}});\n",
       "\n",
       "// Listen for the removal of the full notebook cells\n",
       "var notebookContainer = gd.closest('#notebook-container');\n",
       "if (notebookContainer) {{\n",
       "    x.observe(notebookContainer, {childList: true});\n",
       "}}\n",
       "\n",
       "// Listen for the clearing of the current output cell\n",
       "var outputEl = gd.closest('.output');\n",
       "if (outputEl) {{\n",
       "    x.observe(outputEl, {childList: true});\n",
       "}}\n",
       "\n",
       "                        })\n",
       "                };\n",
       "                });\n",
       "            </script>\n",
       "        </div>"
      ]
     },
     "metadata": {},
     "output_type": "display_data"
    }
   ],
   "source": [
    "# draw the chart\n",
    "fig_cand=go.Figure(data=data_cand)\n",
    "\n",
    "fig_cand.update_layout(\n",
    "    title='Candlestick Chart for AMZN Close Stock Price',\n",
    "    height=400,\n",
    ")\n",
    "\n",
    "fig_cand.show()"
   ]
  },
  {
   "cell_type": "code",
   "execution_count": 30,
   "metadata": {},
   "outputs": [
    {
     "data": {
      "application/vnd.plotly.v1+json": {
       "config": {
        "plotlyServerURL": "https://plot.ly"
       },
       "data": [
        {
         "close": [
          148.1999969482422,
          146.5,
          145.64999389648438,
          145.6999969482422,
          145.39999389648438,
          144.8300018310547,
          144.6199951171875,
          143.8800048828125,
          145.1999969482422,
          144.32000732421875,
          145.1199951171875,
          144.3300018310547,
          143.55999755859375,
          144.00999450683594,
          142.1999969482422,
          140.0800018310547,
          135.89999389648438,
          138.3699951171875,
          136.05999755859375,
          137.80999755859375,
          138.30999755859375,
          141.32000732421875,
          144.72999572753906,
          141.3699951171875,
          142.6999969482422,
          141.02000427246094,
          142.58999633789062,
          141.00999450683594,
          141.85000610351562,
          140.89999389648438,
          139.5399932861328,
          139.13999938964844,
          141.3000030517578,
          140.3699951171875,
          138.97000122070312,
          133.00999450683594,
          128.19000244140625,
          123.36000061035156,
          118.04000091552734,
          117.6500015258789,
          119.9800033569336,
          116.44999694824219,
          119.18000030517578,
          113.9800033569336,
          115.2699966430664,
          104.3499984741211,
          111.45999908447266,
          105.51000213623047,
          91.80999755859375,
          102.5199966430664,
          95.01000213623047,
          93.52999877929688,
          88.80000305175781,
          94.93000030517578,
          85.9800033569336,
          85.76000213623047,
          98.12000274658203,
          100.7300033569336,
          105.36000061035156,
          96.4000015258789,
          99.80000305175781,
          96.5999984741211,
          94.91999816894531,
          96.97000122070312,
          93.87999725341797,
          99.58000183105469,
          101.23999786376953,
          101.06999969482422,
          104.5,
          103.5,
          106.02999877929688,
          103.37000274658203,
          102.0199966430664,
          106.62999725341797,
          102.26000213623047,
          100.54000091552734,
          100.98999786376953,
          101,
          101.19000244140625,
          106.05999755859375,
          106.20999908447266,
          112.25,
          108.1500015258789,
          105.5,
          103.18000030517578,
          101.05999755859375,
          100.87999725341797,
          105.56999969482422,
          109.16000366210938,
          107.7699966430664,
          104.55999755859375,
          102.91999816894531,
          105.91000366210938,
          109.05000305175781,
          116.8499984741211,
          114.37000274658203,
          119.91999816894531,
          117.83000183105469,
          118.0199966430664,
          120.94999694824219,
          121.52999877929688,
          116.75,
          117.30000305175781,
          118.7699966430664,
          118.75,
          122.18000030517578,
          123.69000244140625,
          124.81999969482422,
          127.27999877929688,
          123.88999938964844,
          122.18000030517578,
          112.63999938964844,
          115.48999786376953,
          117.08000183105469,
          118.44000244140625,
          117.6500015258789,
          118.37000274658203,
          114.3499984741211,
          115.91999816894531,
          116.58999633789062,
          112.06999969482422,
          111.36000061035156,
          109.0999984741211,
          111.5199966430664,
          111.51000213623047,
          113.01000213623047,
          112.18000030517578,
          114.43000030517578,
          113.62999725341797,
          116.66000366210938,
          116.80999755859375,
          119.33999633789062,
          116.22000122070312,
          118.66000366210938,
          120.9000015258789,
          119.5999984741211
         ],
         "high": [
          148.1999969482422,
          147.89999389648438,
          146.02999877929688,
          146.8699951171875,
          146.1300048828125,
          146.6300048828125,
          145.5,
          144.75,
          146.72000122070312,
          145.7100067138672,
          145.42999267578125,
          145.63999938964844,
          144.58999633789062,
          144.7899932861328,
          143.61000061035156,
          142.25,
          137.72999572753906,
          138.92999267578125,
          138.67999267578125,
          137.85000610351562,
          138.6699981689453,
          141.82000732421875,
          145.58999633789062,
          147.3000030517578,
          143.9499969482422,
          141.99000549316406,
          142.58999633789062,
          142.99000549316406,
          142.22000122070312,
          141.89999389648438,
          141.27999877929688,
          139.66000366210938,
          141.8699951171875,
          141.6300048828125,
          139.8800048828125,
          134.44000244140625,
          133.94000244140625,
          128.3699951171875,
          122.9000015258789,
          118.30999755859375,
          119.9800033569336,
          121.77999877929688,
          119.23999786376953,
          116.95999908447266,
          115.87000274658203,
          110.43000030517578,
          111.58000183105469,
          108.9000015258789,
          100,
          102.87000274658203,
          98.27999877929688,
          97.45999908447266,
          89.33999633789062,
          97.4000015258789,
          96.98999786376953,
          87.27999877929688,
          99.16999816894531,
          105.91999816894531,
          107.7300033569336,
          101.48999786376953,
          100.45999908447266,
          103.16000366210938,
          97.4000015258789,
          97.26000213623047,
          96.91999816894531,
          100.19000244140625,
          105.88999938964844,
          102.3499984741211,
          107.98999786376953,
          104.87000274658203,
          107.63999938964844,
          104.87999725341797,
          103.72000122070312,
          106.79000091552734,
          104.86000061035156,
          101.51000213623047,
          102.62999725341797,
          102.52999877929688,
          101.91999816894531,
          106.5199966430664,
          110.05999755859375,
          112.69999694824219,
          110.30999755859375,
          106.91000366210938,
          103.83000183105469,
          105.18000030517578,
          105.2699966430664,
          105.61000061035156,
          109.18000030517578,
          108.80999755859375,
          109.44000244140625,
          104.54000091552734,
          105.91999816894531,
          109.37999725341797,
          119.77999877929688,
          116.47000122070312,
          120.87000274658203,
          120.30000305175781,
          118.56999969482422,
          122.51000213623047,
          123.77999877929688,
          121.9800033569336,
          117.75,
          119.6500015258789,
          119.8499984741211,
          122.44999694824219,
          124.5,
          127.81999969482422,
          127.44000244140625,
          125.79000091552734,
          124.0999984741211,
          118,
          117,
          118.12000274658203,
          121.5,
          119.2300033569336,
          118.52999877929688,
          120.12000274658203,
          116.19000244140625,
          117.44999694824219,
          116,
          111.51000213623047,
          111.19999694824219,
          111.56999969482422,
          112.05000305175781,
          115.5999984741211,
          115.0999984741211,
          114.52999877929688,
          115.08000183105469,
          117.12999725341797,
          117.8499984741211,
          119.44000244140625,
          120.12999725341797,
          119.08000183105469,
          122.08999633789062,
          119.87999725341797
         ],
         "low": [
          145.10000610351562,
          146.0500030517578,
          144.30999755859375,
          145.4199981689453,
          144.82000732421875,
          144.61000061035156,
          144.25999450683594,
          143.36000061035156,
          142.2899932861328,
          143.92999267578125,
          144.44000244140625,
          144.00999450683594,
          143.00999450683594,
          143.5399932861328,
          140.64999389648438,
          139.1999969482422,
          135,
          135.86000061035156,
          135.7899932861328,
          134.8300018310547,
          137.05999755859375,
          139.75,
          143.25,
          138.57000732421875,
          141.22000122070312,
          140.1199951171875,
          140.4600067138672,
          140.4600067138672,
          140.8699951171875,
          140.82000732421875,
          139.1300048828125,
          138.10000610351562,
          139.22999572753906,
          138.85000610351562,
          138.5800018310547,
          131.2100067138672,
          127.9800033569336,
          122.12999725341797,
          117.91999816894531,
          113.20999908447266,
          116.02999877929688,
          115.1500015258789,
          115.4800033569336,
          112.11000061035156,
          110.31999969482422,
          104.27999877929688,
          102.43000030517578,
          102.86000061035156,
          91.63999938964844,
          92.25,
          90,
          91.1500015258789,
          79.06999969482422,
          85.11000061035156,
          85.83999633789062,
          81.08999633789062,
          91.80000305175781,
          95.51000213623047,
          100.80000305175781,
          95.54000091552734,
          92.0999984741211,
          96.16000366210938,
          92.55999755859375,
          94.19999694824219,
          92.70999908447266,
          94.5199966430664,
          100.25,
          98.6500015258789,
          103.52999877929688,
          99.61000061035156,
          103.9000015258789,
          102.69999694824219,
          100.88999938964844,
          104.3499984741211,
          102,
          99.12999725341797,
          100.88999938964844,
          99.45999908447266,
          99.5199966430664,
          101.61000061035156,
          105.9800033569336,
          108.55999755859375,
          106.86000061035156,
          104.47000122070312,
          100.55000305175781,
          100.9000015258789,
          98.86000061035156,
          101.83000183105469,
          106.62999725341797,
          106.41000366210938,
          104.48999786376953,
          101.5999984741211,
          99.66000366210938,
          104.2699966430664,
          114.47000122070312,
          113.41999816894531,
          116.04000091552734,
          116.5,
          116.83000183105469,
          120.43000030517578,
          119.70999908447266,
          116,
          114.12000274658203,
          116.93000030517578,
          117.83000183105469,
          119.31999969482422,
          121.8499984741211,
          124.27999877929688,
          123.94000244140625,
          123.51000213623047,
          120.93000030517578,
          112.25,
          112.88999938964844,
          111.70999908447266,
          116.05000305175781,
          117.13999938964844,
          115.93000030517578,
          114.3499984741211,
          113.11000061035156,
          115.97000122070312,
          110.02999877929688,
          108.5,
          108.0199966430664,
          108.0999984741211,
          109.93000030517578,
          112.29000091552734,
          112,
          112.9000015258789,
          112.61000061035156,
          112.80999755859375,
          115.37999725341797,
          116.20999908447266,
          115.88999938964844,
          114.54000091552734,
          119.69999694824219,
          117.5999984741211
         ],
         "open": [
          145.2899932861328,
          146.39999389648438,
          145.5399932861328,
          145.99000549316406,
          145.49000549316406,
          146.47000122070312,
          145.3000030517578,
          144.75,
          143.41000366210938,
          145.7100067138672,
          145.08999633789062,
          145.5399932861328,
          144.24000549316406,
          144.4499969482422,
          143.60000610351562,
          141.39999389648438,
          135.86000061035156,
          136.5,
          138.60000610351562,
          135.08999633789062,
          138.39999389648438,
          139.7899932861328,
          145.49000549316406,
          146.60000610351562,
          141.9199981689453,
          141.88999938964844,
          141.02999877929688,
          142.85000610351562,
          141.33999633789062,
          141.1699981689453,
          141.10000610351562,
          139.02000427246094,
          139.6300048828125,
          141.6300048828125,
          139.86000061035156,
          132.89999389648438,
          133.75,
          126.12000274658203,
          119.80999755859375,
          114.51000213623047,
          119.12999725341797,
          121.1500015258789,
          118.95999908447266,
          116.86000061035156,
          110.76000213623047,
          108.69000244140625,
          108.0999984741211,
          108.41999816894531,
          97.62000274658203,
          100.77999877929688,
          91.80000305175781,
          95.80000305175781,
          87.58999633789062,
          88,
          95.98999786376953,
          84.48999786376953,
          92.33000183105469,
          100.66000366210938,
          100.83000183105469,
          100.44999694824219,
          96,
          100.22000122070312,
          93.5,
          94.19999694824219,
          96.30999755859375,
          97.26000213623047,
          104.86000061035156,
          100.52999877929688,
          107.91999816894531,
          104.70999908447266,
          105.5,
          104.38999938964844,
          103.52999877929688,
          106.20999908447266,
          103.58000183105469,
          100.01000213623047,
          101.80000305175781,
          100.6500015258789,
          101.77999877929688,
          102,
          108.79000091552734,
          109.94000244140625,
          109.44000244140625,
          106.36000061035156,
          102.01000213623047,
          101.51000213623047,
          101.4800033569336,
          101.8499984741211,
          109.05000305175781,
          108.4000015258789,
          109.05999755859375,
          104.5,
          101.9800033569336,
          104.9800033569336,
          114.47000122070312,
          115.0999984741211,
          116.41999816894531,
          119.33999633789062,
          117.5,
          121.05000305175781,
          123.68000030517578,
          121.5999984741211,
          116.19000244140625,
          117.26000213623047,
          119,
          119.98999786376953,
          121.94999694824219,
          126.30999755859375,
          125.0999984741211,
          125.62999725341797,
          124.0199966430664,
          117.5999984741211,
          115.16999816894531,
          112.08000183105469,
          121.23999786376953,
          118.63999938964844,
          116.87999725341797,
          119.9800033569336,
          114.19000244140625,
          116.95999908447266,
          115.8499984741211,
          108.98999786376953,
          110.94999694824219,
          109,
          111.5,
          112.81999969482422,
          115,
          113.83000183105469,
          113.62999725341797,
          113.4800033569336,
          116.51000213623047,
          116.83000183105469,
          119.94000244140625,
          115.2300033569336,
          121.62999725341797,
          117.72000122070312
         ],
         "type": "candlestick",
         "x": [
          "2020-01-02T00:00:00",
          "2020-01-03T00:00:00",
          "2020-01-06T00:00:00",
          "2020-01-07T00:00:00",
          "2020-01-08T00:00:00",
          "2020-01-09T00:00:00",
          "2020-01-10T00:00:00",
          "2020-01-13T00:00:00",
          "2020-01-14T00:00:00",
          "2020-01-15T00:00:00",
          "2020-01-16T00:00:00",
          "2020-01-17T00:00:00",
          "2020-01-21T00:00:00",
          "2020-01-22T00:00:00",
          "2020-01-23T00:00:00",
          "2020-01-24T00:00:00",
          "2020-01-27T00:00:00",
          "2020-01-28T00:00:00",
          "2020-01-29T00:00:00",
          "2020-01-30T00:00:00",
          "2020-01-31T00:00:00",
          "2020-02-03T00:00:00",
          "2020-02-04T00:00:00",
          "2020-02-05T00:00:00",
          "2020-02-06T00:00:00",
          "2020-02-07T00:00:00",
          "2020-02-10T00:00:00",
          "2020-02-11T00:00:00",
          "2020-02-12T00:00:00",
          "2020-02-13T00:00:00",
          "2020-02-14T00:00:00",
          "2020-02-18T00:00:00",
          "2020-02-19T00:00:00",
          "2020-02-20T00:00:00",
          "2020-02-21T00:00:00",
          "2020-02-24T00:00:00",
          "2020-02-25T00:00:00",
          "2020-02-26T00:00:00",
          "2020-02-27T00:00:00",
          "2020-02-28T00:00:00",
          "2020-03-02T00:00:00",
          "2020-03-03T00:00:00",
          "2020-03-04T00:00:00",
          "2020-03-05T00:00:00",
          "2020-03-06T00:00:00",
          "2020-03-09T00:00:00",
          "2020-03-10T00:00:00",
          "2020-03-11T00:00:00",
          "2020-03-12T00:00:00",
          "2020-03-13T00:00:00",
          "2020-03-16T00:00:00",
          "2020-03-17T00:00:00",
          "2020-03-18T00:00:00",
          "2020-03-19T00:00:00",
          "2020-03-20T00:00:00",
          "2020-03-23T00:00:00",
          "2020-03-24T00:00:00",
          "2020-03-25T00:00:00",
          "2020-03-26T00:00:00",
          "2020-03-27T00:00:00",
          "2020-03-30T00:00:00",
          "2020-03-31T00:00:00",
          "2020-04-01T00:00:00",
          "2020-04-02T00:00:00",
          "2020-04-03T00:00:00",
          "2020-04-06T00:00:00",
          "2020-04-07T00:00:00",
          "2020-04-08T00:00:00",
          "2020-04-09T00:00:00",
          "2020-04-13T00:00:00",
          "2020-04-14T00:00:00",
          "2020-04-15T00:00:00",
          "2020-04-16T00:00:00",
          "2020-04-17T00:00:00",
          "2020-04-20T00:00:00",
          "2020-04-21T00:00:00",
          "2020-04-22T00:00:00",
          "2020-04-23T00:00:00",
          "2020-04-24T00:00:00",
          "2020-04-27T00:00:00",
          "2020-04-28T00:00:00",
          "2020-04-29T00:00:00",
          "2020-04-30T00:00:00",
          "2020-05-01T00:00:00",
          "2020-05-04T00:00:00",
          "2020-05-05T00:00:00",
          "2020-05-06T00:00:00",
          "2020-05-07T00:00:00",
          "2020-05-08T00:00:00",
          "2020-05-11T00:00:00",
          "2020-05-12T00:00:00",
          "2020-05-13T00:00:00",
          "2020-05-14T00:00:00",
          "2020-05-15T00:00:00",
          "2020-05-18T00:00:00",
          "2020-05-19T00:00:00",
          "2020-05-20T00:00:00",
          "2020-05-21T00:00:00",
          "2020-05-22T00:00:00",
          "2020-05-26T00:00:00",
          "2020-05-27T00:00:00",
          "2020-05-28T00:00:00",
          "2020-05-29T00:00:00",
          "2020-06-01T00:00:00",
          "2020-06-02T00:00:00",
          "2020-06-03T00:00:00",
          "2020-06-04T00:00:00",
          "2020-06-05T00:00:00",
          "2020-06-08T00:00:00",
          "2020-06-09T00:00:00",
          "2020-06-10T00:00:00",
          "2020-06-11T00:00:00",
          "2020-06-12T00:00:00",
          "2020-06-15T00:00:00",
          "2020-06-16T00:00:00",
          "2020-06-17T00:00:00",
          "2020-06-18T00:00:00",
          "2020-06-19T00:00:00",
          "2020-06-22T00:00:00",
          "2020-06-23T00:00:00",
          "2020-06-24T00:00:00",
          "2020-06-25T00:00:00",
          "2020-06-26T00:00:00",
          "2020-06-29T00:00:00",
          "2020-06-30T00:00:00",
          "2020-07-01T00:00:00",
          "2020-07-02T00:00:00",
          "2020-07-06T00:00:00",
          "2020-07-07T00:00:00",
          "2020-07-08T00:00:00",
          "2020-07-09T00:00:00",
          "2020-07-10T00:00:00",
          "2020-07-13T00:00:00",
          "2020-07-14T00:00:00",
          "2020-07-15T00:00:00",
          "2020-07-16T00:00:00"
         ]
        }
       ],
       "layout": {
        "height": 800,
        "template": {
         "data": {
          "bar": [
           {
            "error_x": {
             "color": "#2a3f5f"
            },
            "error_y": {
             "color": "#2a3f5f"
            },
            "marker": {
             "line": {
              "color": "#E5ECF6",
              "width": 0.5
             }
            },
            "type": "bar"
           }
          ],
          "barpolar": [
           {
            "marker": {
             "line": {
              "color": "#E5ECF6",
              "width": 0.5
             }
            },
            "type": "barpolar"
           }
          ],
          "carpet": [
           {
            "aaxis": {
             "endlinecolor": "#2a3f5f",
             "gridcolor": "white",
             "linecolor": "white",
             "minorgridcolor": "white",
             "startlinecolor": "#2a3f5f"
            },
            "baxis": {
             "endlinecolor": "#2a3f5f",
             "gridcolor": "white",
             "linecolor": "white",
             "minorgridcolor": "white",
             "startlinecolor": "#2a3f5f"
            },
            "type": "carpet"
           }
          ],
          "choropleth": [
           {
            "colorbar": {
             "outlinewidth": 0,
             "ticks": ""
            },
            "type": "choropleth"
           }
          ],
          "contour": [
           {
            "colorbar": {
             "outlinewidth": 0,
             "ticks": ""
            },
            "colorscale": [
             [
              0,
              "#0d0887"
             ],
             [
              0.1111111111111111,
              "#46039f"
             ],
             [
              0.2222222222222222,
              "#7201a8"
             ],
             [
              0.3333333333333333,
              "#9c179e"
             ],
             [
              0.4444444444444444,
              "#bd3786"
             ],
             [
              0.5555555555555556,
              "#d8576b"
             ],
             [
              0.6666666666666666,
              "#ed7953"
             ],
             [
              0.7777777777777778,
              "#fb9f3a"
             ],
             [
              0.8888888888888888,
              "#fdca26"
             ],
             [
              1,
              "#f0f921"
             ]
            ],
            "type": "contour"
           }
          ],
          "contourcarpet": [
           {
            "colorbar": {
             "outlinewidth": 0,
             "ticks": ""
            },
            "type": "contourcarpet"
           }
          ],
          "heatmap": [
           {
            "colorbar": {
             "outlinewidth": 0,
             "ticks": ""
            },
            "colorscale": [
             [
              0,
              "#0d0887"
             ],
             [
              0.1111111111111111,
              "#46039f"
             ],
             [
              0.2222222222222222,
              "#7201a8"
             ],
             [
              0.3333333333333333,
              "#9c179e"
             ],
             [
              0.4444444444444444,
              "#bd3786"
             ],
             [
              0.5555555555555556,
              "#d8576b"
             ],
             [
              0.6666666666666666,
              "#ed7953"
             ],
             [
              0.7777777777777778,
              "#fb9f3a"
             ],
             [
              0.8888888888888888,
              "#fdca26"
             ],
             [
              1,
              "#f0f921"
             ]
            ],
            "type": "heatmap"
           }
          ],
          "heatmapgl": [
           {
            "colorbar": {
             "outlinewidth": 0,
             "ticks": ""
            },
            "colorscale": [
             [
              0,
              "#0d0887"
             ],
             [
              0.1111111111111111,
              "#46039f"
             ],
             [
              0.2222222222222222,
              "#7201a8"
             ],
             [
              0.3333333333333333,
              "#9c179e"
             ],
             [
              0.4444444444444444,
              "#bd3786"
             ],
             [
              0.5555555555555556,
              "#d8576b"
             ],
             [
              0.6666666666666666,
              "#ed7953"
             ],
             [
              0.7777777777777778,
              "#fb9f3a"
             ],
             [
              0.8888888888888888,
              "#fdca26"
             ],
             [
              1,
              "#f0f921"
             ]
            ],
            "type": "heatmapgl"
           }
          ],
          "histogram": [
           {
            "marker": {
             "colorbar": {
              "outlinewidth": 0,
              "ticks": ""
             }
            },
            "type": "histogram"
           }
          ],
          "histogram2d": [
           {
            "colorbar": {
             "outlinewidth": 0,
             "ticks": ""
            },
            "colorscale": [
             [
              0,
              "#0d0887"
             ],
             [
              0.1111111111111111,
              "#46039f"
             ],
             [
              0.2222222222222222,
              "#7201a8"
             ],
             [
              0.3333333333333333,
              "#9c179e"
             ],
             [
              0.4444444444444444,
              "#bd3786"
             ],
             [
              0.5555555555555556,
              "#d8576b"
             ],
             [
              0.6666666666666666,
              "#ed7953"
             ],
             [
              0.7777777777777778,
              "#fb9f3a"
             ],
             [
              0.8888888888888888,
              "#fdca26"
             ],
             [
              1,
              "#f0f921"
             ]
            ],
            "type": "histogram2d"
           }
          ],
          "histogram2dcontour": [
           {
            "colorbar": {
             "outlinewidth": 0,
             "ticks": ""
            },
            "colorscale": [
             [
              0,
              "#0d0887"
             ],
             [
              0.1111111111111111,
              "#46039f"
             ],
             [
              0.2222222222222222,
              "#7201a8"
             ],
             [
              0.3333333333333333,
              "#9c179e"
             ],
             [
              0.4444444444444444,
              "#bd3786"
             ],
             [
              0.5555555555555556,
              "#d8576b"
             ],
             [
              0.6666666666666666,
              "#ed7953"
             ],
             [
              0.7777777777777778,
              "#fb9f3a"
             ],
             [
              0.8888888888888888,
              "#fdca26"
             ],
             [
              1,
              "#f0f921"
             ]
            ],
            "type": "histogram2dcontour"
           }
          ],
          "mesh3d": [
           {
            "colorbar": {
             "outlinewidth": 0,
             "ticks": ""
            },
            "type": "mesh3d"
           }
          ],
          "parcoords": [
           {
            "line": {
             "colorbar": {
              "outlinewidth": 0,
              "ticks": ""
             }
            },
            "type": "parcoords"
           }
          ],
          "pie": [
           {
            "automargin": true,
            "type": "pie"
           }
          ],
          "scatter": [
           {
            "marker": {
             "colorbar": {
              "outlinewidth": 0,
              "ticks": ""
             }
            },
            "type": "scatter"
           }
          ],
          "scatter3d": [
           {
            "line": {
             "colorbar": {
              "outlinewidth": 0,
              "ticks": ""
             }
            },
            "marker": {
             "colorbar": {
              "outlinewidth": 0,
              "ticks": ""
             }
            },
            "type": "scatter3d"
           }
          ],
          "scattercarpet": [
           {
            "marker": {
             "colorbar": {
              "outlinewidth": 0,
              "ticks": ""
             }
            },
            "type": "scattercarpet"
           }
          ],
          "scattergeo": [
           {
            "marker": {
             "colorbar": {
              "outlinewidth": 0,
              "ticks": ""
             }
            },
            "type": "scattergeo"
           }
          ],
          "scattergl": [
           {
            "marker": {
             "colorbar": {
              "outlinewidth": 0,
              "ticks": ""
             }
            },
            "type": "scattergl"
           }
          ],
          "scattermapbox": [
           {
            "marker": {
             "colorbar": {
              "outlinewidth": 0,
              "ticks": ""
             }
            },
            "type": "scattermapbox"
           }
          ],
          "scatterpolar": [
           {
            "marker": {
             "colorbar": {
              "outlinewidth": 0,
              "ticks": ""
             }
            },
            "type": "scatterpolar"
           }
          ],
          "scatterpolargl": [
           {
            "marker": {
             "colorbar": {
              "outlinewidth": 0,
              "ticks": ""
             }
            },
            "type": "scatterpolargl"
           }
          ],
          "scatterternary": [
           {
            "marker": {
             "colorbar": {
              "outlinewidth": 0,
              "ticks": ""
             }
            },
            "type": "scatterternary"
           }
          ],
          "surface": [
           {
            "colorbar": {
             "outlinewidth": 0,
             "ticks": ""
            },
            "colorscale": [
             [
              0,
              "#0d0887"
             ],
             [
              0.1111111111111111,
              "#46039f"
             ],
             [
              0.2222222222222222,
              "#7201a8"
             ],
             [
              0.3333333333333333,
              "#9c179e"
             ],
             [
              0.4444444444444444,
              "#bd3786"
             ],
             [
              0.5555555555555556,
              "#d8576b"
             ],
             [
              0.6666666666666666,
              "#ed7953"
             ],
             [
              0.7777777777777778,
              "#fb9f3a"
             ],
             [
              0.8888888888888888,
              "#fdca26"
             ],
             [
              1,
              "#f0f921"
             ]
            ],
            "type": "surface"
           }
          ],
          "table": [
           {
            "cells": {
             "fill": {
              "color": "#EBF0F8"
             },
             "line": {
              "color": "white"
             }
            },
            "header": {
             "fill": {
              "color": "#C8D4E3"
             },
             "line": {
              "color": "white"
             }
            },
            "type": "table"
           }
          ]
         },
         "layout": {
          "annotationdefaults": {
           "arrowcolor": "#2a3f5f",
           "arrowhead": 0,
           "arrowwidth": 1
          },
          "coloraxis": {
           "colorbar": {
            "outlinewidth": 0,
            "ticks": ""
           }
          },
          "colorscale": {
           "diverging": [
            [
             0,
             "#8e0152"
            ],
            [
             0.1,
             "#c51b7d"
            ],
            [
             0.2,
             "#de77ae"
            ],
            [
             0.3,
             "#f1b6da"
            ],
            [
             0.4,
             "#fde0ef"
            ],
            [
             0.5,
             "#f7f7f7"
            ],
            [
             0.6,
             "#e6f5d0"
            ],
            [
             0.7,
             "#b8e186"
            ],
            [
             0.8,
             "#7fbc41"
            ],
            [
             0.9,
             "#4d9221"
            ],
            [
             1,
             "#276419"
            ]
           ],
           "sequential": [
            [
             0,
             "#0d0887"
            ],
            [
             0.1111111111111111,
             "#46039f"
            ],
            [
             0.2222222222222222,
             "#7201a8"
            ],
            [
             0.3333333333333333,
             "#9c179e"
            ],
            [
             0.4444444444444444,
             "#bd3786"
            ],
            [
             0.5555555555555556,
             "#d8576b"
            ],
            [
             0.6666666666666666,
             "#ed7953"
            ],
            [
             0.7777777777777778,
             "#fb9f3a"
            ],
            [
             0.8888888888888888,
             "#fdca26"
            ],
            [
             1,
             "#f0f921"
            ]
           ],
           "sequentialminus": [
            [
             0,
             "#0d0887"
            ],
            [
             0.1111111111111111,
             "#46039f"
            ],
            [
             0.2222222222222222,
             "#7201a8"
            ],
            [
             0.3333333333333333,
             "#9c179e"
            ],
            [
             0.4444444444444444,
             "#bd3786"
            ],
            [
             0.5555555555555556,
             "#d8576b"
            ],
            [
             0.6666666666666666,
             "#ed7953"
            ],
            [
             0.7777777777777778,
             "#fb9f3a"
            ],
            [
             0.8888888888888888,
             "#fdca26"
            ],
            [
             1,
             "#f0f921"
            ]
           ]
          },
          "colorway": [
           "#636efa",
           "#EF553B",
           "#00cc96",
           "#ab63fa",
           "#FFA15A",
           "#19d3f3",
           "#FF6692",
           "#B6E880",
           "#FF97FF",
           "#FECB52"
          ],
          "font": {
           "color": "#2a3f5f"
          },
          "geo": {
           "bgcolor": "white",
           "lakecolor": "white",
           "landcolor": "#E5ECF6",
           "showlakes": true,
           "showland": true,
           "subunitcolor": "white"
          },
          "hoverlabel": {
           "align": "left"
          },
          "hovermode": "closest",
          "mapbox": {
           "style": "light"
          },
          "paper_bgcolor": "white",
          "plot_bgcolor": "#E5ECF6",
          "polar": {
           "angularaxis": {
            "gridcolor": "white",
            "linecolor": "white",
            "ticks": ""
           },
           "bgcolor": "#E5ECF6",
           "radialaxis": {
            "gridcolor": "white",
            "linecolor": "white",
            "ticks": ""
           }
          },
          "scene": {
           "xaxis": {
            "backgroundcolor": "#E5ECF6",
            "gridcolor": "white",
            "gridwidth": 2,
            "linecolor": "white",
            "showbackground": true,
            "ticks": "",
            "zerolinecolor": "white"
           },
           "yaxis": {
            "backgroundcolor": "#E5ECF6",
            "gridcolor": "white",
            "gridwidth": 2,
            "linecolor": "white",
            "showbackground": true,
            "ticks": "",
            "zerolinecolor": "white"
           },
           "zaxis": {
            "backgroundcolor": "#E5ECF6",
            "gridcolor": "white",
            "gridwidth": 2,
            "linecolor": "white",
            "showbackground": true,
            "ticks": "",
            "zerolinecolor": "white"
           }
          },
          "shapedefaults": {
           "line": {
            "color": "#2a3f5f"
           }
          },
          "ternary": {
           "aaxis": {
            "gridcolor": "white",
            "linecolor": "white",
            "ticks": ""
           },
           "baxis": {
            "gridcolor": "white",
            "linecolor": "white",
            "ticks": ""
           },
           "bgcolor": "#E5ECF6",
           "caxis": {
            "gridcolor": "white",
            "linecolor": "white",
            "ticks": ""
           }
          },
          "title": {
           "x": 0.05
          },
          "xaxis": {
           "automargin": true,
           "gridcolor": "white",
           "linecolor": "white",
           "ticks": "",
           "title": {
            "standoff": 15
           },
           "zerolinecolor": "white",
           "zerolinewidth": 2
          },
          "yaxis": {
           "automargin": true,
           "gridcolor": "white",
           "linecolor": "white",
           "ticks": "",
           "title": {
            "standoff": 15
           },
           "zerolinecolor": "white",
           "zerolinewidth": 2
          }
         }
        },
        "title": {
         "text": "Candlestick Chart for Disney"
        }
       }
      },
      "text/html": [
       "<div>\n",
       "        \n",
       "        \n",
       "            <div id=\"79a9ff31-ef5f-49d3-bdd5-92613549c864\" class=\"plotly-graph-div\" style=\"height:800px; width:100%;\"></div>\n",
       "            <script type=\"text/javascript\">\n",
       "                require([\"plotly\"], function(Plotly) {\n",
       "                    window.PLOTLYENV=window.PLOTLYENV || {};\n",
       "                    \n",
       "                if (document.getElementById(\"79a9ff31-ef5f-49d3-bdd5-92613549c864\")) {\n",
       "                    Plotly.newPlot(\n",
       "                        '79a9ff31-ef5f-49d3-bdd5-92613549c864',\n",
       "                        [{\"close\": [148.1999969482422, 146.5, 145.64999389648438, 145.6999969482422, 145.39999389648438, 144.8300018310547, 144.6199951171875, 143.8800048828125, 145.1999969482422, 144.32000732421875, 145.1199951171875, 144.3300018310547, 143.55999755859375, 144.00999450683594, 142.1999969482422, 140.0800018310547, 135.89999389648438, 138.3699951171875, 136.05999755859375, 137.80999755859375, 138.30999755859375, 141.32000732421875, 144.72999572753906, 141.3699951171875, 142.6999969482422, 141.02000427246094, 142.58999633789062, 141.00999450683594, 141.85000610351562, 140.89999389648438, 139.5399932861328, 139.13999938964844, 141.3000030517578, 140.3699951171875, 138.97000122070312, 133.00999450683594, 128.19000244140625, 123.36000061035156, 118.04000091552734, 117.6500015258789, 119.9800033569336, 116.44999694824219, 119.18000030517578, 113.9800033569336, 115.2699966430664, 104.3499984741211, 111.45999908447266, 105.51000213623047, 91.80999755859375, 102.5199966430664, 95.01000213623047, 93.52999877929688, 88.80000305175781, 94.93000030517578, 85.9800033569336, 85.76000213623047, 98.12000274658203, 100.7300033569336, 105.36000061035156, 96.4000015258789, 99.80000305175781, 96.5999984741211, 94.91999816894531, 96.97000122070312, 93.87999725341797, 99.58000183105469, 101.23999786376953, 101.06999969482422, 104.5, 103.5, 106.02999877929688, 103.37000274658203, 102.0199966430664, 106.62999725341797, 102.26000213623047, 100.54000091552734, 100.98999786376953, 101.0, 101.19000244140625, 106.05999755859375, 106.20999908447266, 112.25, 108.1500015258789, 105.5, 103.18000030517578, 101.05999755859375, 100.87999725341797, 105.56999969482422, 109.16000366210938, 107.7699966430664, 104.55999755859375, 102.91999816894531, 105.91000366210938, 109.05000305175781, 116.8499984741211, 114.37000274658203, 119.91999816894531, 117.83000183105469, 118.0199966430664, 120.94999694824219, 121.52999877929688, 116.75, 117.30000305175781, 118.7699966430664, 118.75, 122.18000030517578, 123.69000244140625, 124.81999969482422, 127.27999877929688, 123.88999938964844, 122.18000030517578, 112.63999938964844, 115.48999786376953, 117.08000183105469, 118.44000244140625, 117.6500015258789, 118.37000274658203, 114.3499984741211, 115.91999816894531, 116.58999633789062, 112.06999969482422, 111.36000061035156, 109.0999984741211, 111.5199966430664, 111.51000213623047, 113.01000213623047, 112.18000030517578, 114.43000030517578, 113.62999725341797, 116.66000366210938, 116.80999755859375, 119.33999633789062, 116.22000122070312, 118.66000366210938, 120.9000015258789, 119.5999984741211], \"high\": [148.1999969482422, 147.89999389648438, 146.02999877929688, 146.8699951171875, 146.1300048828125, 146.6300048828125, 145.5, 144.75, 146.72000122070312, 145.7100067138672, 145.42999267578125, 145.63999938964844, 144.58999633789062, 144.7899932861328, 143.61000061035156, 142.25, 137.72999572753906, 138.92999267578125, 138.67999267578125, 137.85000610351562, 138.6699981689453, 141.82000732421875, 145.58999633789062, 147.3000030517578, 143.9499969482422, 141.99000549316406, 142.58999633789062, 142.99000549316406, 142.22000122070312, 141.89999389648438, 141.27999877929688, 139.66000366210938, 141.8699951171875, 141.6300048828125, 139.8800048828125, 134.44000244140625, 133.94000244140625, 128.3699951171875, 122.9000015258789, 118.30999755859375, 119.9800033569336, 121.77999877929688, 119.23999786376953, 116.95999908447266, 115.87000274658203, 110.43000030517578, 111.58000183105469, 108.9000015258789, 100.0, 102.87000274658203, 98.27999877929688, 97.45999908447266, 89.33999633789062, 97.4000015258789, 96.98999786376953, 87.27999877929688, 99.16999816894531, 105.91999816894531, 107.7300033569336, 101.48999786376953, 100.45999908447266, 103.16000366210938, 97.4000015258789, 97.26000213623047, 96.91999816894531, 100.19000244140625, 105.88999938964844, 102.3499984741211, 107.98999786376953, 104.87000274658203, 107.63999938964844, 104.87999725341797, 103.72000122070312, 106.79000091552734, 104.86000061035156, 101.51000213623047, 102.62999725341797, 102.52999877929688, 101.91999816894531, 106.5199966430664, 110.05999755859375, 112.69999694824219, 110.30999755859375, 106.91000366210938, 103.83000183105469, 105.18000030517578, 105.2699966430664, 105.61000061035156, 109.18000030517578, 108.80999755859375, 109.44000244140625, 104.54000091552734, 105.91999816894531, 109.37999725341797, 119.77999877929688, 116.47000122070312, 120.87000274658203, 120.30000305175781, 118.56999969482422, 122.51000213623047, 123.77999877929688, 121.9800033569336, 117.75, 119.6500015258789, 119.8499984741211, 122.44999694824219, 124.5, 127.81999969482422, 127.44000244140625, 125.79000091552734, 124.0999984741211, 118.0, 117.0, 118.12000274658203, 121.5, 119.2300033569336, 118.52999877929688, 120.12000274658203, 116.19000244140625, 117.44999694824219, 116.0, 111.51000213623047, 111.19999694824219, 111.56999969482422, 112.05000305175781, 115.5999984741211, 115.0999984741211, 114.52999877929688, 115.08000183105469, 117.12999725341797, 117.8499984741211, 119.44000244140625, 120.12999725341797, 119.08000183105469, 122.08999633789062, 119.87999725341797], \"low\": [145.10000610351562, 146.0500030517578, 144.30999755859375, 145.4199981689453, 144.82000732421875, 144.61000061035156, 144.25999450683594, 143.36000061035156, 142.2899932861328, 143.92999267578125, 144.44000244140625, 144.00999450683594, 143.00999450683594, 143.5399932861328, 140.64999389648438, 139.1999969482422, 135.0, 135.86000061035156, 135.7899932861328, 134.8300018310547, 137.05999755859375, 139.75, 143.25, 138.57000732421875, 141.22000122070312, 140.1199951171875, 140.4600067138672, 140.4600067138672, 140.8699951171875, 140.82000732421875, 139.1300048828125, 138.10000610351562, 139.22999572753906, 138.85000610351562, 138.5800018310547, 131.2100067138672, 127.9800033569336, 122.12999725341797, 117.91999816894531, 113.20999908447266, 116.02999877929688, 115.1500015258789, 115.4800033569336, 112.11000061035156, 110.31999969482422, 104.27999877929688, 102.43000030517578, 102.86000061035156, 91.63999938964844, 92.25, 90.0, 91.1500015258789, 79.06999969482422, 85.11000061035156, 85.83999633789062, 81.08999633789062, 91.80000305175781, 95.51000213623047, 100.80000305175781, 95.54000091552734, 92.0999984741211, 96.16000366210938, 92.55999755859375, 94.19999694824219, 92.70999908447266, 94.5199966430664, 100.25, 98.6500015258789, 103.52999877929688, 99.61000061035156, 103.9000015258789, 102.69999694824219, 100.88999938964844, 104.3499984741211, 102.0, 99.12999725341797, 100.88999938964844, 99.45999908447266, 99.5199966430664, 101.61000061035156, 105.9800033569336, 108.55999755859375, 106.86000061035156, 104.47000122070312, 100.55000305175781, 100.9000015258789, 98.86000061035156, 101.83000183105469, 106.62999725341797, 106.41000366210938, 104.48999786376953, 101.5999984741211, 99.66000366210938, 104.2699966430664, 114.47000122070312, 113.41999816894531, 116.04000091552734, 116.5, 116.83000183105469, 120.43000030517578, 119.70999908447266, 116.0, 114.12000274658203, 116.93000030517578, 117.83000183105469, 119.31999969482422, 121.8499984741211, 124.27999877929688, 123.94000244140625, 123.51000213623047, 120.93000030517578, 112.25, 112.88999938964844, 111.70999908447266, 116.05000305175781, 117.13999938964844, 115.93000030517578, 114.3499984741211, 113.11000061035156, 115.97000122070312, 110.02999877929688, 108.5, 108.0199966430664, 108.0999984741211, 109.93000030517578, 112.29000091552734, 112.0, 112.9000015258789, 112.61000061035156, 112.80999755859375, 115.37999725341797, 116.20999908447266, 115.88999938964844, 114.54000091552734, 119.69999694824219, 117.5999984741211], \"open\": [145.2899932861328, 146.39999389648438, 145.5399932861328, 145.99000549316406, 145.49000549316406, 146.47000122070312, 145.3000030517578, 144.75, 143.41000366210938, 145.7100067138672, 145.08999633789062, 145.5399932861328, 144.24000549316406, 144.4499969482422, 143.60000610351562, 141.39999389648438, 135.86000061035156, 136.5, 138.60000610351562, 135.08999633789062, 138.39999389648438, 139.7899932861328, 145.49000549316406, 146.60000610351562, 141.9199981689453, 141.88999938964844, 141.02999877929688, 142.85000610351562, 141.33999633789062, 141.1699981689453, 141.10000610351562, 139.02000427246094, 139.6300048828125, 141.6300048828125, 139.86000061035156, 132.89999389648438, 133.75, 126.12000274658203, 119.80999755859375, 114.51000213623047, 119.12999725341797, 121.1500015258789, 118.95999908447266, 116.86000061035156, 110.76000213623047, 108.69000244140625, 108.0999984741211, 108.41999816894531, 97.62000274658203, 100.77999877929688, 91.80000305175781, 95.80000305175781, 87.58999633789062, 88.0, 95.98999786376953, 84.48999786376953, 92.33000183105469, 100.66000366210938, 100.83000183105469, 100.44999694824219, 96.0, 100.22000122070312, 93.5, 94.19999694824219, 96.30999755859375, 97.26000213623047, 104.86000061035156, 100.52999877929688, 107.91999816894531, 104.70999908447266, 105.5, 104.38999938964844, 103.52999877929688, 106.20999908447266, 103.58000183105469, 100.01000213623047, 101.80000305175781, 100.6500015258789, 101.77999877929688, 102.0, 108.79000091552734, 109.94000244140625, 109.44000244140625, 106.36000061035156, 102.01000213623047, 101.51000213623047, 101.4800033569336, 101.8499984741211, 109.05000305175781, 108.4000015258789, 109.05999755859375, 104.5, 101.9800033569336, 104.9800033569336, 114.47000122070312, 115.0999984741211, 116.41999816894531, 119.33999633789062, 117.5, 121.05000305175781, 123.68000030517578, 121.5999984741211, 116.19000244140625, 117.26000213623047, 119.0, 119.98999786376953, 121.94999694824219, 126.30999755859375, 125.0999984741211, 125.62999725341797, 124.0199966430664, 117.5999984741211, 115.16999816894531, 112.08000183105469, 121.23999786376953, 118.63999938964844, 116.87999725341797, 119.9800033569336, 114.19000244140625, 116.95999908447266, 115.8499984741211, 108.98999786376953, 110.94999694824219, 109.0, 111.5, 112.81999969482422, 115.0, 113.83000183105469, 113.62999725341797, 113.4800033569336, 116.51000213623047, 116.83000183105469, 119.94000244140625, 115.2300033569336, 121.62999725341797, 117.72000122070312], \"type\": \"candlestick\", \"x\": [\"2020-01-02T00:00:00\", \"2020-01-03T00:00:00\", \"2020-01-06T00:00:00\", \"2020-01-07T00:00:00\", \"2020-01-08T00:00:00\", \"2020-01-09T00:00:00\", \"2020-01-10T00:00:00\", \"2020-01-13T00:00:00\", \"2020-01-14T00:00:00\", \"2020-01-15T00:00:00\", \"2020-01-16T00:00:00\", \"2020-01-17T00:00:00\", \"2020-01-21T00:00:00\", \"2020-01-22T00:00:00\", \"2020-01-23T00:00:00\", \"2020-01-24T00:00:00\", \"2020-01-27T00:00:00\", \"2020-01-28T00:00:00\", \"2020-01-29T00:00:00\", \"2020-01-30T00:00:00\", \"2020-01-31T00:00:00\", \"2020-02-03T00:00:00\", \"2020-02-04T00:00:00\", \"2020-02-05T00:00:00\", \"2020-02-06T00:00:00\", \"2020-02-07T00:00:00\", \"2020-02-10T00:00:00\", \"2020-02-11T00:00:00\", \"2020-02-12T00:00:00\", \"2020-02-13T00:00:00\", \"2020-02-14T00:00:00\", \"2020-02-18T00:00:00\", \"2020-02-19T00:00:00\", \"2020-02-20T00:00:00\", \"2020-02-21T00:00:00\", \"2020-02-24T00:00:00\", \"2020-02-25T00:00:00\", \"2020-02-26T00:00:00\", \"2020-02-27T00:00:00\", \"2020-02-28T00:00:00\", \"2020-03-02T00:00:00\", \"2020-03-03T00:00:00\", \"2020-03-04T00:00:00\", \"2020-03-05T00:00:00\", \"2020-03-06T00:00:00\", \"2020-03-09T00:00:00\", \"2020-03-10T00:00:00\", \"2020-03-11T00:00:00\", \"2020-03-12T00:00:00\", \"2020-03-13T00:00:00\", \"2020-03-16T00:00:00\", \"2020-03-17T00:00:00\", \"2020-03-18T00:00:00\", \"2020-03-19T00:00:00\", \"2020-03-20T00:00:00\", \"2020-03-23T00:00:00\", \"2020-03-24T00:00:00\", \"2020-03-25T00:00:00\", \"2020-03-26T00:00:00\", \"2020-03-27T00:00:00\", \"2020-03-30T00:00:00\", \"2020-03-31T00:00:00\", \"2020-04-01T00:00:00\", \"2020-04-02T00:00:00\", \"2020-04-03T00:00:00\", \"2020-04-06T00:00:00\", \"2020-04-07T00:00:00\", \"2020-04-08T00:00:00\", \"2020-04-09T00:00:00\", \"2020-04-13T00:00:00\", \"2020-04-14T00:00:00\", \"2020-04-15T00:00:00\", \"2020-04-16T00:00:00\", \"2020-04-17T00:00:00\", \"2020-04-20T00:00:00\", \"2020-04-21T00:00:00\", \"2020-04-22T00:00:00\", \"2020-04-23T00:00:00\", \"2020-04-24T00:00:00\", \"2020-04-27T00:00:00\", \"2020-04-28T00:00:00\", \"2020-04-29T00:00:00\", \"2020-04-30T00:00:00\", \"2020-05-01T00:00:00\", \"2020-05-04T00:00:00\", \"2020-05-05T00:00:00\", \"2020-05-06T00:00:00\", \"2020-05-07T00:00:00\", \"2020-05-08T00:00:00\", \"2020-05-11T00:00:00\", \"2020-05-12T00:00:00\", \"2020-05-13T00:00:00\", \"2020-05-14T00:00:00\", \"2020-05-15T00:00:00\", \"2020-05-18T00:00:00\", \"2020-05-19T00:00:00\", \"2020-05-20T00:00:00\", \"2020-05-21T00:00:00\", \"2020-05-22T00:00:00\", \"2020-05-26T00:00:00\", \"2020-05-27T00:00:00\", \"2020-05-28T00:00:00\", \"2020-05-29T00:00:00\", \"2020-06-01T00:00:00\", \"2020-06-02T00:00:00\", \"2020-06-03T00:00:00\", \"2020-06-04T00:00:00\", \"2020-06-05T00:00:00\", \"2020-06-08T00:00:00\", \"2020-06-09T00:00:00\", \"2020-06-10T00:00:00\", \"2020-06-11T00:00:00\", \"2020-06-12T00:00:00\", \"2020-06-15T00:00:00\", \"2020-06-16T00:00:00\", \"2020-06-17T00:00:00\", \"2020-06-18T00:00:00\", \"2020-06-19T00:00:00\", \"2020-06-22T00:00:00\", \"2020-06-23T00:00:00\", \"2020-06-24T00:00:00\", \"2020-06-25T00:00:00\", \"2020-06-26T00:00:00\", \"2020-06-29T00:00:00\", \"2020-06-30T00:00:00\", \"2020-07-01T00:00:00\", \"2020-07-02T00:00:00\", \"2020-07-06T00:00:00\", \"2020-07-07T00:00:00\", \"2020-07-08T00:00:00\", \"2020-07-09T00:00:00\", \"2020-07-10T00:00:00\", \"2020-07-13T00:00:00\", \"2020-07-14T00:00:00\", \"2020-07-15T00:00:00\", \"2020-07-16T00:00:00\"]}],\n",
       "                        {\"height\": 800, \"template\": {\"data\": {\"bar\": [{\"error_x\": {\"color\": \"#2a3f5f\"}, \"error_y\": {\"color\": \"#2a3f5f\"}, \"marker\": {\"line\": {\"color\": \"#E5ECF6\", \"width\": 0.5}}, \"type\": \"bar\"}], \"barpolar\": [{\"marker\": {\"line\": {\"color\": \"#E5ECF6\", \"width\": 0.5}}, \"type\": \"barpolar\"}], \"carpet\": [{\"aaxis\": {\"endlinecolor\": \"#2a3f5f\", \"gridcolor\": \"white\", \"linecolor\": \"white\", \"minorgridcolor\": \"white\", \"startlinecolor\": \"#2a3f5f\"}, \"baxis\": {\"endlinecolor\": \"#2a3f5f\", \"gridcolor\": \"white\", \"linecolor\": \"white\", \"minorgridcolor\": \"white\", \"startlinecolor\": \"#2a3f5f\"}, \"type\": \"carpet\"}], \"choropleth\": [{\"colorbar\": {\"outlinewidth\": 0, \"ticks\": \"\"}, \"type\": \"choropleth\"}], \"contour\": [{\"colorbar\": {\"outlinewidth\": 0, \"ticks\": \"\"}, \"colorscale\": [[0.0, \"#0d0887\"], [0.1111111111111111, \"#46039f\"], [0.2222222222222222, \"#7201a8\"], [0.3333333333333333, \"#9c179e\"], [0.4444444444444444, \"#bd3786\"], [0.5555555555555556, \"#d8576b\"], [0.6666666666666666, \"#ed7953\"], [0.7777777777777778, \"#fb9f3a\"], [0.8888888888888888, \"#fdca26\"], [1.0, \"#f0f921\"]], \"type\": \"contour\"}], \"contourcarpet\": [{\"colorbar\": {\"outlinewidth\": 0, \"ticks\": \"\"}, \"type\": \"contourcarpet\"}], \"heatmap\": [{\"colorbar\": {\"outlinewidth\": 0, \"ticks\": \"\"}, \"colorscale\": [[0.0, \"#0d0887\"], [0.1111111111111111, \"#46039f\"], [0.2222222222222222, \"#7201a8\"], [0.3333333333333333, \"#9c179e\"], [0.4444444444444444, \"#bd3786\"], [0.5555555555555556, \"#d8576b\"], [0.6666666666666666, \"#ed7953\"], [0.7777777777777778, \"#fb9f3a\"], [0.8888888888888888, \"#fdca26\"], [1.0, \"#f0f921\"]], \"type\": \"heatmap\"}], \"heatmapgl\": [{\"colorbar\": {\"outlinewidth\": 0, \"ticks\": \"\"}, \"colorscale\": [[0.0, \"#0d0887\"], [0.1111111111111111, \"#46039f\"], [0.2222222222222222, \"#7201a8\"], [0.3333333333333333, \"#9c179e\"], [0.4444444444444444, \"#bd3786\"], [0.5555555555555556, \"#d8576b\"], [0.6666666666666666, \"#ed7953\"], [0.7777777777777778, \"#fb9f3a\"], [0.8888888888888888, \"#fdca26\"], [1.0, \"#f0f921\"]], \"type\": \"heatmapgl\"}], \"histogram\": [{\"marker\": {\"colorbar\": {\"outlinewidth\": 0, \"ticks\": \"\"}}, \"type\": \"histogram\"}], \"histogram2d\": [{\"colorbar\": {\"outlinewidth\": 0, \"ticks\": \"\"}, \"colorscale\": [[0.0, \"#0d0887\"], [0.1111111111111111, \"#46039f\"], [0.2222222222222222, \"#7201a8\"], [0.3333333333333333, \"#9c179e\"], [0.4444444444444444, \"#bd3786\"], [0.5555555555555556, \"#d8576b\"], [0.6666666666666666, \"#ed7953\"], [0.7777777777777778, \"#fb9f3a\"], [0.8888888888888888, \"#fdca26\"], [1.0, \"#f0f921\"]], \"type\": \"histogram2d\"}], \"histogram2dcontour\": [{\"colorbar\": {\"outlinewidth\": 0, \"ticks\": \"\"}, \"colorscale\": [[0.0, \"#0d0887\"], [0.1111111111111111, \"#46039f\"], [0.2222222222222222, \"#7201a8\"], [0.3333333333333333, \"#9c179e\"], [0.4444444444444444, \"#bd3786\"], [0.5555555555555556, \"#d8576b\"], [0.6666666666666666, \"#ed7953\"], [0.7777777777777778, \"#fb9f3a\"], [0.8888888888888888, \"#fdca26\"], [1.0, \"#f0f921\"]], \"type\": \"histogram2dcontour\"}], \"mesh3d\": [{\"colorbar\": {\"outlinewidth\": 0, \"ticks\": \"\"}, \"type\": \"mesh3d\"}], \"parcoords\": [{\"line\": {\"colorbar\": {\"outlinewidth\": 0, \"ticks\": \"\"}}, \"type\": \"parcoords\"}], \"pie\": [{\"automargin\": true, \"type\": \"pie\"}], \"scatter\": [{\"marker\": {\"colorbar\": {\"outlinewidth\": 0, \"ticks\": \"\"}}, \"type\": \"scatter\"}], \"scatter3d\": [{\"line\": {\"colorbar\": {\"outlinewidth\": 0, \"ticks\": \"\"}}, \"marker\": {\"colorbar\": {\"outlinewidth\": 0, \"ticks\": \"\"}}, \"type\": \"scatter3d\"}], \"scattercarpet\": [{\"marker\": {\"colorbar\": {\"outlinewidth\": 0, \"ticks\": \"\"}}, \"type\": \"scattercarpet\"}], \"scattergeo\": [{\"marker\": {\"colorbar\": {\"outlinewidth\": 0, \"ticks\": \"\"}}, \"type\": \"scattergeo\"}], \"scattergl\": [{\"marker\": {\"colorbar\": {\"outlinewidth\": 0, \"ticks\": \"\"}}, \"type\": \"scattergl\"}], \"scattermapbox\": [{\"marker\": {\"colorbar\": {\"outlinewidth\": 0, \"ticks\": \"\"}}, \"type\": \"scattermapbox\"}], \"scatterpolar\": [{\"marker\": {\"colorbar\": {\"outlinewidth\": 0, \"ticks\": \"\"}}, \"type\": \"scatterpolar\"}], \"scatterpolargl\": [{\"marker\": {\"colorbar\": {\"outlinewidth\": 0, \"ticks\": \"\"}}, \"type\": \"scatterpolargl\"}], \"scatterternary\": [{\"marker\": {\"colorbar\": {\"outlinewidth\": 0, \"ticks\": \"\"}}, \"type\": \"scatterternary\"}], \"surface\": [{\"colorbar\": {\"outlinewidth\": 0, \"ticks\": \"\"}, \"colorscale\": [[0.0, \"#0d0887\"], [0.1111111111111111, \"#46039f\"], [0.2222222222222222, \"#7201a8\"], [0.3333333333333333, \"#9c179e\"], [0.4444444444444444, \"#bd3786\"], [0.5555555555555556, \"#d8576b\"], [0.6666666666666666, \"#ed7953\"], [0.7777777777777778, \"#fb9f3a\"], [0.8888888888888888, \"#fdca26\"], [1.0, \"#f0f921\"]], \"type\": \"surface\"}], \"table\": [{\"cells\": {\"fill\": {\"color\": \"#EBF0F8\"}, \"line\": {\"color\": \"white\"}}, \"header\": {\"fill\": {\"color\": \"#C8D4E3\"}, \"line\": {\"color\": \"white\"}}, \"type\": \"table\"}]}, \"layout\": {\"annotationdefaults\": {\"arrowcolor\": \"#2a3f5f\", \"arrowhead\": 0, \"arrowwidth\": 1}, \"coloraxis\": {\"colorbar\": {\"outlinewidth\": 0, \"ticks\": \"\"}}, \"colorscale\": {\"diverging\": [[0, \"#8e0152\"], [0.1, \"#c51b7d\"], [0.2, \"#de77ae\"], [0.3, \"#f1b6da\"], [0.4, \"#fde0ef\"], [0.5, \"#f7f7f7\"], [0.6, \"#e6f5d0\"], [0.7, \"#b8e186\"], [0.8, \"#7fbc41\"], [0.9, \"#4d9221\"], [1, \"#276419\"]], \"sequential\": [[0.0, \"#0d0887\"], [0.1111111111111111, \"#46039f\"], [0.2222222222222222, \"#7201a8\"], [0.3333333333333333, \"#9c179e\"], [0.4444444444444444, \"#bd3786\"], [0.5555555555555556, \"#d8576b\"], [0.6666666666666666, \"#ed7953\"], [0.7777777777777778, \"#fb9f3a\"], [0.8888888888888888, \"#fdca26\"], [1.0, \"#f0f921\"]], \"sequentialminus\": [[0.0, \"#0d0887\"], [0.1111111111111111, \"#46039f\"], [0.2222222222222222, \"#7201a8\"], [0.3333333333333333, \"#9c179e\"], [0.4444444444444444, \"#bd3786\"], [0.5555555555555556, \"#d8576b\"], [0.6666666666666666, \"#ed7953\"], [0.7777777777777778, \"#fb9f3a\"], [0.8888888888888888, \"#fdca26\"], [1.0, \"#f0f921\"]]}, \"colorway\": [\"#636efa\", \"#EF553B\", \"#00cc96\", \"#ab63fa\", \"#FFA15A\", \"#19d3f3\", \"#FF6692\", \"#B6E880\", \"#FF97FF\", \"#FECB52\"], \"font\": {\"color\": \"#2a3f5f\"}, \"geo\": {\"bgcolor\": \"white\", \"lakecolor\": \"white\", \"landcolor\": \"#E5ECF6\", \"showlakes\": true, \"showland\": true, \"subunitcolor\": \"white\"}, \"hoverlabel\": {\"align\": \"left\"}, \"hovermode\": \"closest\", \"mapbox\": {\"style\": \"light\"}, \"paper_bgcolor\": \"white\", \"plot_bgcolor\": \"#E5ECF6\", \"polar\": {\"angularaxis\": {\"gridcolor\": \"white\", \"linecolor\": \"white\", \"ticks\": \"\"}, \"bgcolor\": \"#E5ECF6\", \"radialaxis\": {\"gridcolor\": \"white\", \"linecolor\": \"white\", \"ticks\": \"\"}}, \"scene\": {\"xaxis\": {\"backgroundcolor\": \"#E5ECF6\", \"gridcolor\": \"white\", \"gridwidth\": 2, \"linecolor\": \"white\", \"showbackground\": true, \"ticks\": \"\", \"zerolinecolor\": \"white\"}, \"yaxis\": {\"backgroundcolor\": \"#E5ECF6\", \"gridcolor\": \"white\", \"gridwidth\": 2, \"linecolor\": \"white\", \"showbackground\": true, \"ticks\": \"\", \"zerolinecolor\": \"white\"}, \"zaxis\": {\"backgroundcolor\": \"#E5ECF6\", \"gridcolor\": \"white\", \"gridwidth\": 2, \"linecolor\": \"white\", \"showbackground\": true, \"ticks\": \"\", \"zerolinecolor\": \"white\"}}, \"shapedefaults\": {\"line\": {\"color\": \"#2a3f5f\"}}, \"ternary\": {\"aaxis\": {\"gridcolor\": \"white\", \"linecolor\": \"white\", \"ticks\": \"\"}, \"baxis\": {\"gridcolor\": \"white\", \"linecolor\": \"white\", \"ticks\": \"\"}, \"bgcolor\": \"#E5ECF6\", \"caxis\": {\"gridcolor\": \"white\", \"linecolor\": \"white\", \"ticks\": \"\"}}, \"title\": {\"x\": 0.05}, \"xaxis\": {\"automargin\": true, \"gridcolor\": \"white\", \"linecolor\": \"white\", \"ticks\": \"\", \"title\": {\"standoff\": 15}, \"zerolinecolor\": \"white\", \"zerolinewidth\": 2}, \"yaxis\": {\"automargin\": true, \"gridcolor\": \"white\", \"linecolor\": \"white\", \"ticks\": \"\", \"title\": {\"standoff\": 15}, \"zerolinecolor\": \"white\", \"zerolinewidth\": 2}}}, \"title\": {\"text\": \"Candlestick Chart for Disney\"}},\n",
       "                        {\"responsive\": true}\n",
       "                    ).then(function(){\n",
       "                            \n",
       "var gd = document.getElementById('79a9ff31-ef5f-49d3-bdd5-92613549c864');\n",
       "var x = new MutationObserver(function (mutations, observer) {{\n",
       "        var display = window.getComputedStyle(gd).display;\n",
       "        if (!display || display === 'none') {{\n",
       "            console.log([gd, 'removed!']);\n",
       "            Plotly.purge(gd);\n",
       "            observer.disconnect();\n",
       "        }}\n",
       "}});\n",
       "\n",
       "// Listen for the removal of the full notebook cells\n",
       "var notebookContainer = gd.closest('#notebook-container');\n",
       "if (notebookContainer) {{\n",
       "    x.observe(notebookContainer, {childList: true});\n",
       "}}\n",
       "\n",
       "// Listen for the clearing of the current output cell\n",
       "var outputEl = gd.closest('.output');\n",
       "if (outputEl) {{\n",
       "    x.observe(outputEl, {childList: true});\n",
       "}}\n",
       "\n",
       "                        })\n",
       "                };\n",
       "                });\n",
       "            </script>\n",
       "        </div>"
      ]
     },
     "metadata": {},
     "output_type": "display_data"
    }
   ],
   "source": [
    "fig_cand2=go.Figure(data=go.Candlestick(x=df_stocks.index,\n",
    "                        open=df_stocks.Open_DIS,\n",
    "                        close=df_stocks.Close_DIS,\n",
    "                        low=df_stocks.Low_DIS,\n",
    "                        high=df_stocks.High_DIS))\n",
    "\n",
    "fig_cand2.update_layout(\n",
    "    title='Candlestick Chart for Disney',\n",
    "    height=800)\n",
    "\n",
    "fig_cand2.show()"
   ]
  }
 ],
 "metadata": {
  "kernelspec": {
   "display_name": "Python 3",
   "language": "python",
   "name": "python3"
  },
  "language_info": {
   "codemirror_mode": {
    "name": "ipython",
    "version": 3
   },
   "file_extension": ".py",
   "mimetype": "text/x-python",
   "name": "python",
   "nbconvert_exporter": "python",
   "pygments_lexer": "ipython3",
   "version": "3.7.6"
  }
 },
 "nbformat": 4,
 "nbformat_minor": 4
}
