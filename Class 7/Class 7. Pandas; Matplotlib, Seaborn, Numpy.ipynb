{
 "cells": [
  {
   "cell_type": "markdown",
   "metadata": {},
   "source": [
    "# Importing all libraries"
   ]
  },
  {
   "cell_type": "code",
   "execution_count": 1,
   "metadata": {},
   "outputs": [],
   "source": [
    "import pandas as pd #to work with dataframes\n",
    "import numpy as np #to work with arrays,matrices,includes large collection of math functions\n",
    "import matplotlib.pyplot as plt #library for data visualizations in Python\n",
    "import seaborn as sns #data visualization library with a high-level interface"
   ]
  },
  {
   "cell_type": "markdown",
   "metadata": {},
   "source": [
    "# Data Cleaning, Data Transformation and Descriptive Statistics"
   ]
  },
  {
   "cell_type": "markdown",
   "metadata": {},
   "source": [
    "## Pandas"
   ]
  },
  {
   "cell_type": "markdown",
   "metadata": {},
   "source": [
    "[**Pandas**](https://pandas.pydata.org/) is an open source library providing high-performance, easy-to-use data structures and data analysis tools for the Python programming."
   ]
  },
  {
   "cell_type": "code",
   "execution_count": 2,
   "metadata": {},
   "outputs": [],
   "source": [
    "#reading data\n",
    "data=pd.read_excel(\"Bank_data.xlsx\")"
   ]
  },
  {
   "cell_type": "code",
   "execution_count": 3,
   "metadata": {},
   "outputs": [
    {
     "data": {
      "text/html": [
       "<div>\n",
       "<style scoped>\n",
       "    .dataframe tbody tr th:only-of-type {\n",
       "        vertical-align: middle;\n",
       "    }\n",
       "\n",
       "    .dataframe tbody tr th {\n",
       "        vertical-align: top;\n",
       "    }\n",
       "\n",
       "    .dataframe thead th {\n",
       "        text-align: right;\n",
       "    }\n",
       "</style>\n",
       "<table border=\"1\" class=\"dataframe\">\n",
       "  <thead>\n",
       "    <tr style=\"text-align: right;\">\n",
       "      <th></th>\n",
       "      <th>age</th>\n",
       "      <th>job</th>\n",
       "      <th>marital</th>\n",
       "      <th>education</th>\n",
       "      <th>default</th>\n",
       "      <th>housing</th>\n",
       "      <th>loan</th>\n",
       "      <th>contact</th>\n",
       "      <th>month</th>\n",
       "      <th>day_of week</th>\n",
       "      <th>...</th>\n",
       "      <th>campaign</th>\n",
       "      <th>pdays</th>\n",
       "      <th>previous</th>\n",
       "      <th>poutcome</th>\n",
       "      <th>emp_var_rate</th>\n",
       "      <th>cons_price_idx</th>\n",
       "      <th>cons_conf_idx2</th>\n",
       "      <th>euribor3m</th>\n",
       "      <th>nr_employed</th>\n",
       "      <th>term_deposit</th>\n",
       "    </tr>\n",
       "  </thead>\n",
       "  <tbody>\n",
       "    <tr>\n",
       "      <th>0</th>\n",
       "      <td>30</td>\n",
       "      <td>blue-collar</td>\n",
       "      <td>married</td>\n",
       "      <td>basic.9y</td>\n",
       "      <td>no</td>\n",
       "      <td>yes</td>\n",
       "      <td>no</td>\n",
       "      <td>cellular</td>\n",
       "      <td>may</td>\n",
       "      <td>fri</td>\n",
       "      <td>...</td>\n",
       "      <td>2</td>\n",
       "      <td>999</td>\n",
       "      <td>0</td>\n",
       "      <td>nonexistent</td>\n",
       "      <td>-1.8</td>\n",
       "      <td>92.893</td>\n",
       "      <td>46.2</td>\n",
       "      <td>1.313</td>\n",
       "      <td>5099.1</td>\n",
       "      <td>no</td>\n",
       "    </tr>\n",
       "    <tr>\n",
       "      <th>1</th>\n",
       "      <td>39</td>\n",
       "      <td>services</td>\n",
       "      <td>single</td>\n",
       "      <td>high.school</td>\n",
       "      <td>no</td>\n",
       "      <td>no</td>\n",
       "      <td>no</td>\n",
       "      <td>telephone</td>\n",
       "      <td>may</td>\n",
       "      <td>fri</td>\n",
       "      <td>...</td>\n",
       "      <td>4</td>\n",
       "      <td>999</td>\n",
       "      <td>0</td>\n",
       "      <td>nonexistent</td>\n",
       "      <td>1.1</td>\n",
       "      <td>93.994</td>\n",
       "      <td>36.4</td>\n",
       "      <td>4.855</td>\n",
       "      <td>5191.0</td>\n",
       "      <td>no</td>\n",
       "    </tr>\n",
       "    <tr>\n",
       "      <th>2</th>\n",
       "      <td>25</td>\n",
       "      <td>services</td>\n",
       "      <td>married</td>\n",
       "      <td>high.school</td>\n",
       "      <td>no</td>\n",
       "      <td>yes</td>\n",
       "      <td>no</td>\n",
       "      <td>telephone</td>\n",
       "      <td>jun</td>\n",
       "      <td>wed</td>\n",
       "      <td>...</td>\n",
       "      <td>1</td>\n",
       "      <td>999</td>\n",
       "      <td>0</td>\n",
       "      <td>nonexistent</td>\n",
       "      <td>1.4</td>\n",
       "      <td>94.465</td>\n",
       "      <td>41.8</td>\n",
       "      <td>4.962</td>\n",
       "      <td>5228.1</td>\n",
       "      <td>no</td>\n",
       "    </tr>\n",
       "    <tr>\n",
       "      <th>3</th>\n",
       "      <td>47</td>\n",
       "      <td>admin.</td>\n",
       "      <td>married</td>\n",
       "      <td>university.degree</td>\n",
       "      <td>no</td>\n",
       "      <td>yes</td>\n",
       "      <td>no</td>\n",
       "      <td>cellular</td>\n",
       "      <td>nov</td>\n",
       "      <td>mon</td>\n",
       "      <td>...</td>\n",
       "      <td>1</td>\n",
       "      <td>999</td>\n",
       "      <td>0</td>\n",
       "      <td>nonexistent</td>\n",
       "      <td>-0.1</td>\n",
       "      <td>93.200</td>\n",
       "      <td>42.0</td>\n",
       "      <td>4.191</td>\n",
       "      <td>5195.8</td>\n",
       "      <td>no</td>\n",
       "    </tr>\n",
       "    <tr>\n",
       "      <th>4</th>\n",
       "      <td>32</td>\n",
       "      <td>services</td>\n",
       "      <td>single</td>\n",
       "      <td>university.degree</td>\n",
       "      <td>no</td>\n",
       "      <td>no</td>\n",
       "      <td>no</td>\n",
       "      <td>cellular</td>\n",
       "      <td>sep</td>\n",
       "      <td>thu</td>\n",
       "      <td>...</td>\n",
       "      <td>3</td>\n",
       "      <td>999</td>\n",
       "      <td>2</td>\n",
       "      <td>failure</td>\n",
       "      <td>-1.1</td>\n",
       "      <td>94.199</td>\n",
       "      <td>37.5</td>\n",
       "      <td>0.884</td>\n",
       "      <td>4963.6</td>\n",
       "      <td>no</td>\n",
       "    </tr>\n",
       "  </tbody>\n",
       "</table>\n",
       "<p>5 rows × 21 columns</p>\n",
       "</div>"
      ],
      "text/plain": [
       "   age          job  marital          education default housing loan  \\\n",
       "0   30  blue-collar  married           basic.9y      no     yes   no   \n",
       "1   39     services   single        high.school      no      no   no   \n",
       "2   25     services  married        high.school      no     yes   no   \n",
       "3   47       admin.  married  university.degree      no     yes   no   \n",
       "4   32     services   single  university.degree      no      no   no   \n",
       "\n",
       "     contact month day_of week  ...  campaign  pdays  previous     poutcome  \\\n",
       "0   cellular   may         fri  ...         2    999         0  nonexistent   \n",
       "1  telephone   may         fri  ...         4    999         0  nonexistent   \n",
       "2  telephone   jun         wed  ...         1    999         0  nonexistent   \n",
       "3   cellular   nov         mon  ...         1    999         0  nonexistent   \n",
       "4   cellular   sep         thu  ...         3    999         2      failure   \n",
       "\n",
       "  emp_var_rate  cons_price_idx  cons_conf_idx2  euribor3m  nr_employed  \\\n",
       "0         -1.8          92.893            46.2      1.313       5099.1   \n",
       "1          1.1          93.994            36.4      4.855       5191.0   \n",
       "2          1.4          94.465            41.8      4.962       5228.1   \n",
       "3         -0.1          93.200            42.0      4.191       5195.8   \n",
       "4         -1.1          94.199            37.5      0.884       4963.6   \n",
       "\n",
       "   term_deposit  \n",
       "0            no  \n",
       "1            no  \n",
       "2            no  \n",
       "3            no  \n",
       "4            no  \n",
       "\n",
       "[5 rows x 21 columns]"
      ]
     },
     "execution_count": 3,
     "metadata": {},
     "output_type": "execute_result"
    }
   ],
   "source": [
    "#lets see how the data looks \n",
    "data.head()"
   ]
  },
  {
   "cell_type": "code",
   "execution_count": 4,
   "metadata": {},
   "outputs": [
    {
     "name": "stdout",
     "output_type": "stream",
     "text": [
      "<class 'pandas.core.frame.DataFrame'>\n",
      "RangeIndex: 3235 entries, 0 to 3234\n",
      "Data columns (total 21 columns):\n",
      " #   Column          Non-Null Count  Dtype  \n",
      "---  ------          --------------  -----  \n",
      " 0   age             3235 non-null   int64  \n",
      " 1   job             3232 non-null   object \n",
      " 2   marital         3235 non-null   object \n",
      " 3   education       3235 non-null   object \n",
      " 4   default         3235 non-null   object \n",
      " 5   housing         3232 non-null   object \n",
      " 6   loan            3235 non-null   object \n",
      " 7   contact         3235 non-null   object \n",
      " 8   month           3235 non-null   object \n",
      " 9   day_of week     3235 non-null   object \n",
      " 10  duration        3235 non-null   int64  \n",
      " 11  campaign        3235 non-null   int64  \n",
      " 12  pdays           3235 non-null   int64  \n",
      " 13  previous        3235 non-null   int64  \n",
      " 14  poutcome        3235 non-null   object \n",
      " 15  emp_var_rate    3235 non-null   float64\n",
      " 16  cons_price_idx  3235 non-null   float64\n",
      " 17  cons_conf_idx2  3235 non-null   float64\n",
      " 18  euribor3m       3235 non-null   float64\n",
      " 19  nr_employed     3235 non-null   float64\n",
      " 20  term_deposit    3235 non-null   object \n",
      "dtypes: float64(5), int64(5), object(11)\n",
      "memory usage: 530.9+ KB\n"
     ]
    }
   ],
   "source": [
    "#let's look at all the variables and their types\n",
    "data.info()"
   ]
  },
  {
   "cell_type": "code",
   "execution_count": 5,
   "metadata": {},
   "outputs": [
    {
     "data": {
      "text/plain": [
       "(3235, 21)"
      ]
     },
     "execution_count": 5,
     "metadata": {},
     "output_type": "execute_result"
    }
   ],
   "source": [
    "#shape attribute can be used to get number of rows and columns in the data\n",
    "data.shape"
   ]
  },
  {
   "cell_type": "code",
   "execution_count": 6,
   "metadata": {},
   "outputs": [
    {
     "data": {
      "text/plain": [
       "True"
      ]
     },
     "execution_count": 6,
     "metadata": {},
     "output_type": "execute_result"
    }
   ],
   "source": [
    "#let's check for NA's in another way\n",
    "data.isnull().values.any()"
   ]
  },
  {
   "cell_type": "code",
   "execution_count": 7,
   "metadata": {},
   "outputs": [
    {
     "data": {
      "text/plain": [
       "age               0\n",
       "job               3\n",
       "marital           0\n",
       "education         0\n",
       "default           0\n",
       "housing           3\n",
       "loan              0\n",
       "contact           0\n",
       "month             0\n",
       "day_of week       0\n",
       "duration          0\n",
       "campaign          0\n",
       "pdays             0\n",
       "previous          0\n",
       "poutcome          0\n",
       "emp_var_rate      0\n",
       "cons_price_idx    0\n",
       "cons_conf_idx2    0\n",
       "euribor3m         0\n",
       "nr_employed       0\n",
       "term_deposit      0\n",
       "dtype: int64"
      ]
     },
     "execution_count": 7,
     "metadata": {},
     "output_type": "execute_result"
    }
   ],
   "source": [
    "#let's see which variables have missing values and how many \n",
    "data.isnull().sum()"
   ]
  },
  {
   "cell_type": "code",
   "execution_count": 8,
   "metadata": {},
   "outputs": [
    {
     "data": {
      "text/html": [
       "<div>\n",
       "<style scoped>\n",
       "    .dataframe tbody tr th:only-of-type {\n",
       "        vertical-align: middle;\n",
       "    }\n",
       "\n",
       "    .dataframe tbody tr th {\n",
       "        vertical-align: top;\n",
       "    }\n",
       "\n",
       "    .dataframe thead th {\n",
       "        text-align: right;\n",
       "    }\n",
       "</style>\n",
       "<table border=\"1\" class=\"dataframe\">\n",
       "  <thead>\n",
       "    <tr style=\"text-align: right;\">\n",
       "      <th></th>\n",
       "      <th>age</th>\n",
       "      <th>duration</th>\n",
       "      <th>campaign</th>\n",
       "      <th>pdays</th>\n",
       "      <th>previous</th>\n",
       "      <th>emp_var_rate</th>\n",
       "      <th>cons_price_idx</th>\n",
       "      <th>cons_conf_idx2</th>\n",
       "      <th>euribor3m</th>\n",
       "      <th>nr_employed</th>\n",
       "    </tr>\n",
       "  </thead>\n",
       "  <tbody>\n",
       "    <tr>\n",
       "      <th>count</th>\n",
       "      <td>3235.000000</td>\n",
       "      <td>3235.000000</td>\n",
       "      <td>3235.000000</td>\n",
       "      <td>3235.000000</td>\n",
       "      <td>3235.000000</td>\n",
       "      <td>3235.000000</td>\n",
       "      <td>3235.000000</td>\n",
       "      <td>3235.000000</td>\n",
       "      <td>3235.000000</td>\n",
       "      <td>3235.000000</td>\n",
       "    </tr>\n",
       "    <tr>\n",
       "      <th>mean</th>\n",
       "      <td>39.311901</td>\n",
       "      <td>259.800927</td>\n",
       "      <td>2.509428</td>\n",
       "      <td>952.026584</td>\n",
       "      <td>0.212056</td>\n",
       "      <td>-0.061206</td>\n",
       "      <td>93.531650</td>\n",
       "      <td>40.558887</td>\n",
       "      <td>3.466875</td>\n",
       "      <td>5160.250974</td>\n",
       "    </tr>\n",
       "    <tr>\n",
       "      <th>std</th>\n",
       "      <td>10.303260</td>\n",
       "      <td>262.956331</td>\n",
       "      <td>2.585368</td>\n",
       "      <td>210.859618</td>\n",
       "      <td>0.572653</td>\n",
       "      <td>1.604765</td>\n",
       "      <td>0.587567</td>\n",
       "      <td>4.755493</td>\n",
       "      <td>1.777472</td>\n",
       "      <td>76.953731</td>\n",
       "    </tr>\n",
       "    <tr>\n",
       "      <th>min</th>\n",
       "      <td>18.000000</td>\n",
       "      <td>0.000000</td>\n",
       "      <td>1.000000</td>\n",
       "      <td>0.000000</td>\n",
       "      <td>0.000000</td>\n",
       "      <td>-3.400000</td>\n",
       "      <td>92.201000</td>\n",
       "      <td>26.900000</td>\n",
       "      <td>0.635000</td>\n",
       "      <td>4963.600000</td>\n",
       "    </tr>\n",
       "    <tr>\n",
       "      <th>25%</th>\n",
       "      <td>31.500000</td>\n",
       "      <td>105.000000</td>\n",
       "      <td>1.000000</td>\n",
       "      <td>999.000000</td>\n",
       "      <td>0.000000</td>\n",
       "      <td>-1.800000</td>\n",
       "      <td>93.075000</td>\n",
       "      <td>36.400000</td>\n",
       "      <td>1.313000</td>\n",
       "      <td>5099.100000</td>\n",
       "    </tr>\n",
       "    <tr>\n",
       "      <th>50%</th>\n",
       "      <td>37.000000</td>\n",
       "      <td>182.000000</td>\n",
       "      <td>2.000000</td>\n",
       "      <td>999.000000</td>\n",
       "      <td>0.000000</td>\n",
       "      <td>1.100000</td>\n",
       "      <td>93.444000</td>\n",
       "      <td>41.800000</td>\n",
       "      <td>4.856000</td>\n",
       "      <td>5191.000000</td>\n",
       "    </tr>\n",
       "    <tr>\n",
       "      <th>75%</th>\n",
       "      <td>46.000000</td>\n",
       "      <td>316.000000</td>\n",
       "      <td>3.000000</td>\n",
       "      <td>999.000000</td>\n",
       "      <td>0.000000</td>\n",
       "      <td>1.400000</td>\n",
       "      <td>93.994000</td>\n",
       "      <td>42.700000</td>\n",
       "      <td>4.961000</td>\n",
       "      <td>5228.100000</td>\n",
       "    </tr>\n",
       "    <tr>\n",
       "      <th>max</th>\n",
       "      <td>88.000000</td>\n",
       "      <td>3643.000000</td>\n",
       "      <td>35.000000</td>\n",
       "      <td>999.000000</td>\n",
       "      <td>6.000000</td>\n",
       "      <td>1.400000</td>\n",
       "      <td>94.767000</td>\n",
       "      <td>50.800000</td>\n",
       "      <td>5.045000</td>\n",
       "      <td>5228.100000</td>\n",
       "    </tr>\n",
       "  </tbody>\n",
       "</table>\n",
       "</div>"
      ],
      "text/plain": [
       "               age     duration     campaign        pdays     previous  \\\n",
       "count  3235.000000  3235.000000  3235.000000  3235.000000  3235.000000   \n",
       "mean     39.311901   259.800927     2.509428   952.026584     0.212056   \n",
       "std      10.303260   262.956331     2.585368   210.859618     0.572653   \n",
       "min      18.000000     0.000000     1.000000     0.000000     0.000000   \n",
       "25%      31.500000   105.000000     1.000000   999.000000     0.000000   \n",
       "50%      37.000000   182.000000     2.000000   999.000000     0.000000   \n",
       "75%      46.000000   316.000000     3.000000   999.000000     0.000000   \n",
       "max      88.000000  3643.000000    35.000000   999.000000     6.000000   \n",
       "\n",
       "       emp_var_rate  cons_price_idx  cons_conf_idx2    euribor3m  nr_employed  \n",
       "count   3235.000000     3235.000000     3235.000000  3235.000000  3235.000000  \n",
       "mean      -0.061206       93.531650       40.558887     3.466875  5160.250974  \n",
       "std        1.604765        0.587567        4.755493     1.777472    76.953731  \n",
       "min       -3.400000       92.201000       26.900000     0.635000  4963.600000  \n",
       "25%       -1.800000       93.075000       36.400000     1.313000  5099.100000  \n",
       "50%        1.100000       93.444000       41.800000     4.856000  5191.000000  \n",
       "75%        1.400000       93.994000       42.700000     4.961000  5228.100000  \n",
       "max        1.400000       94.767000       50.800000     5.045000  5228.100000  "
      ]
     },
     "execution_count": 8,
     "metadata": {},
     "output_type": "execute_result"
    }
   ],
   "source": [
    "#getting description of numeric data\n",
    "data.describe()"
   ]
  },
  {
   "cell_type": "code",
   "execution_count": 9,
   "metadata": {},
   "outputs": [],
   "source": [
    "#let's drop NAs\n",
    "data.dropna(inplace=True)"
   ]
  },
  {
   "cell_type": "code",
   "execution_count": 10,
   "metadata": {},
   "outputs": [
    {
     "data": {
      "text/plain": [
       "False"
      ]
     },
     "execution_count": 10,
     "metadata": {},
     "output_type": "execute_result"
    }
   ],
   "source": [
    "#let's check again for missing values\n",
    "data.isnull().values.any()"
   ]
  },
  {
   "cell_type": "markdown",
   "metadata": {},
   "source": [
    "    There are no missing values anymore."
   ]
  },
  {
   "cell_type": "code",
   "execution_count": 11,
   "metadata": {},
   "outputs": [],
   "source": [
    "#you can drop a column also \n",
    "data.drop(\"pdays\",\n",
    "          axis=1, #=0 if you wnat to dorp row, and =1 if you drop column\n",
    "          inplace=True) #use this to save changes in the data"
   ]
  },
  {
   "cell_type": "code",
   "execution_count": 12,
   "metadata": {},
   "outputs": [
    {
     "data": {
      "text/plain": [
       "(3229, 20)"
      ]
     },
     "execution_count": 12,
     "metadata": {},
     "output_type": "execute_result"
    }
   ],
   "source": [
    "data.shape #now there are 20 variables"
   ]
  },
  {
   "cell_type": "code",
   "execution_count": 13,
   "metadata": {},
   "outputs": [
    {
     "data": {
      "text/html": [
       "<div>\n",
       "<style scoped>\n",
       "    .dataframe tbody tr th:only-of-type {\n",
       "        vertical-align: middle;\n",
       "    }\n",
       "\n",
       "    .dataframe tbody tr th {\n",
       "        vertical-align: top;\n",
       "    }\n",
       "\n",
       "    .dataframe thead th {\n",
       "        text-align: right;\n",
       "    }\n",
       "</style>\n",
       "<table border=\"1\" class=\"dataframe\">\n",
       "  <thead>\n",
       "    <tr style=\"text-align: right;\">\n",
       "      <th></th>\n",
       "      <th>age</th>\n",
       "      <th>job</th>\n",
       "    </tr>\n",
       "  </thead>\n",
       "  <tbody>\n",
       "    <tr>\n",
       "      <th>932</th>\n",
       "      <td>88</td>\n",
       "      <td>retired</td>\n",
       "    </tr>\n",
       "    <tr>\n",
       "      <th>120</th>\n",
       "      <td>82</td>\n",
       "      <td>housemaid</td>\n",
       "    </tr>\n",
       "    <tr>\n",
       "      <th>2780</th>\n",
       "      <td>82</td>\n",
       "      <td>housemaid</td>\n",
       "    </tr>\n",
       "    <tr>\n",
       "      <th>3196</th>\n",
       "      <td>81</td>\n",
       "      <td>retired</td>\n",
       "    </tr>\n",
       "    <tr>\n",
       "      <th>3195</th>\n",
       "      <td>81</td>\n",
       "      <td>retired</td>\n",
       "    </tr>\n",
       "    <tr>\n",
       "      <th>262</th>\n",
       "      <td>81</td>\n",
       "      <td>retired</td>\n",
       "    </tr>\n",
       "    <tr>\n",
       "      <th>2508</th>\n",
       "      <td>80</td>\n",
       "      <td>retired</td>\n",
       "    </tr>\n",
       "    <tr>\n",
       "      <th>2866</th>\n",
       "      <td>80</td>\n",
       "      <td>retired</td>\n",
       "    </tr>\n",
       "    <tr>\n",
       "      <th>2376</th>\n",
       "      <td>80</td>\n",
       "      <td>retired</td>\n",
       "    </tr>\n",
       "    <tr>\n",
       "      <th>1218</th>\n",
       "      <td>80</td>\n",
       "      <td>retired</td>\n",
       "    </tr>\n",
       "  </tbody>\n",
       "</table>\n",
       "</div>"
      ],
      "text/plain": [
       "      age        job\n",
       "932    88    retired\n",
       "120    82  housemaid\n",
       "2780   82  housemaid\n",
       "3196   81    retired\n",
       "3195   81    retired\n",
       "262    81    retired\n",
       "2508   80    retired\n",
       "2866   80    retired\n",
       "2376   80    retired\n",
       "1218   80    retired"
      ]
     },
     "execution_count": 13,
     "metadata": {},
     "output_type": "execute_result"
    }
   ],
   "source": [
    "#sorting the data\n",
    "data[[\"age\",\"job\"]].sort_values(by=\"age\", ascending=False).head(10)"
   ]
  },
  {
   "cell_type": "code",
   "execution_count": 14,
   "metadata": {},
   "outputs": [],
   "source": [
    "#let's separate numeric and object variables and save them as separate dataframes\n",
    "data_numeric = data.select_dtypes(exclude=[\"object\"])\n",
    "data_object = data.select_dtypes(include=[\"object\"])"
   ]
  },
  {
   "cell_type": "code",
   "execution_count": 15,
   "metadata": {},
   "outputs": [
    {
     "data": {
      "text/plain": [
       "array(['blue-collar', 'services', 'admin.', 'self-employed', 'technician',\n",
       "       'management', 'student', 'retired', 'entrepreneur', 'housemaid',\n",
       "       'unemployed', 'unknown'], dtype=object)"
      ]
     },
     "execution_count": 15,
     "metadata": {},
     "output_type": "execute_result"
    }
   ],
   "source": [
    "#let's see how many categories are inside job variable\n",
    "data.job.unique()"
   ]
  },
  {
   "cell_type": "code",
   "execution_count": 16,
   "metadata": {
    "scrolled": true
   },
   "outputs": [
    {
     "data": {
      "text/plain": [
       "admin.           874\n",
       "technician       590\n",
       "blue-collar      577\n",
       "services         288\n",
       "management       277\n",
       "self-employed    130\n",
       "retired          124\n",
       "entrepreneur     110\n",
       "unemployed        90\n",
       "housemaid         78\n",
       "student           70\n",
       "unknown           21\n",
       "Name: job, dtype: int64"
      ]
     },
     "execution_count": 16,
     "metadata": {},
     "output_type": "execute_result"
    }
   ],
   "source": [
    "#let's see how many categories are inside job variable with number of observations\n",
    "data[\"job\"].value_counts()"
   ]
  },
  {
   "cell_type": "code",
   "execution_count": 17,
   "metadata": {
    "scrolled": true
   },
   "outputs": [
    {
     "name": "stdout",
     "output_type": "stream",
     "text": [
      "job \n",
      " admin.           874\n",
      "technician       590\n",
      "blue-collar      577\n",
      "services         288\n",
      "management       277\n",
      "self-employed    130\n",
      "retired          124\n",
      "entrepreneur     110\n",
      "unemployed        90\n",
      "housemaid         78\n",
      "student           70\n",
      "unknown           21\n",
      "Name: job, dtype: int64 \n",
      " \n",
      "\n",
      "--------------------\n",
      "marital \n",
      " married     1862\n",
      "single       996\n",
      "divorced     361\n",
      "unknown       10\n",
      "Name: marital, dtype: int64 \n",
      " \n",
      "\n",
      "--------------------\n",
      "education \n",
      " university.degree      1112\n",
      "high.school             731\n",
      "professional.course     455\n",
      "basic.9y                412\n",
      "basic.4y                249\n",
      "basic.6y                151\n",
      "unknown                 118\n",
      "illiterate                1\n",
      "Name: education, dtype: int64 \n",
      " \n",
      "\n",
      "--------------------\n",
      "default \n",
      " no     3228\n",
      "yes       1\n",
      "Name: default, dtype: int64 \n",
      " \n",
      "\n",
      "--------------------\n",
      "housing \n",
      " yes    1759\n",
      "no     1470\n",
      "Name: housing, dtype: int64 \n",
      " \n",
      "\n",
      "--------------------\n",
      "loan \n",
      " no     2698\n",
      "yes     531\n",
      "Name: loan, dtype: int64 \n",
      " \n",
      "\n",
      "--------------------\n",
      "contact \n",
      " cellular     2201\n",
      "telephone    1028\n",
      "Name: contact, dtype: int64 \n",
      " \n",
      "\n",
      "--------------------\n",
      "month \n",
      " may    1025\n",
      "jul     536\n",
      "aug     518\n",
      "nov     397\n",
      "jun     382\n",
      "apr     179\n",
      "oct      65\n",
      "sep      60\n",
      "mar      45\n",
      "dec      22\n",
      "Name: month, dtype: int64 \n",
      " \n",
      "\n",
      "--------------------\n",
      "day_of week \n",
      " mon    665\n",
      "thu    664\n",
      "tue    648\n",
      "wed    647\n",
      "fri    605\n",
      "Name: day_of week, dtype: int64 \n",
      " \n",
      "\n",
      "--------------------\n",
      "poutcome \n",
      " nonexistent    2713\n",
      "failure         379\n",
      "success         137\n",
      "Name: poutcome, dtype: int64 \n",
      " \n",
      "\n",
      "--------------------\n",
      "term_deposit \n",
      " no     2836\n",
      "yes     393\n",
      "Name: term_deposit, dtype: int64 \n",
      " \n",
      "\n",
      "--------------------\n"
     ]
    }
   ],
   "source": [
    "#let's see categories and number of observations in each category for all object variables\n",
    "for i in data_object.columns:\n",
    "    j=data[i].value_counts()\n",
    "    print(i,\"\\n\",j,\"\\n\",\"\\n\")\n",
    "    print(\"--------------------\")"
   ]
  },
  {
   "cell_type": "markdown",
   "metadata": {},
   "source": [
    "    We can use max(), min(), mean(), median() functions to get respective statistics."
   ]
  },
  {
   "cell_type": "code",
   "execution_count": 18,
   "metadata": {},
   "outputs": [
    {
     "name": "stdout",
     "output_type": "stream",
     "text": [
      "39.31\n",
      "37.0\n",
      "18\n",
      "88\n"
     ]
    }
   ],
   "source": [
    "print(round(data.age.mean(),2))\n",
    "print(data.age.median())\n",
    "print(data.age.min())\n",
    "print(data.age.max())"
   ]
  },
  {
   "cell_type": "code",
   "execution_count": 19,
   "metadata": {},
   "outputs": [
    {
     "data": {
      "text/html": [
       "<div>\n",
       "<style scoped>\n",
       "    .dataframe tbody tr th:only-of-type {\n",
       "        vertical-align: middle;\n",
       "    }\n",
       "\n",
       "    .dataframe tbody tr th {\n",
       "        vertical-align: top;\n",
       "    }\n",
       "\n",
       "    .dataframe thead th {\n",
       "        text-align: right;\n",
       "    }\n",
       "</style>\n",
       "<table border=\"1\" class=\"dataframe\">\n",
       "  <thead>\n",
       "    <tr style=\"text-align: right;\">\n",
       "      <th></th>\n",
       "      <th>age</th>\n",
       "      <th>duration</th>\n",
       "      <th>campaign</th>\n",
       "      <th>previous</th>\n",
       "      <th>emp_var_rate</th>\n",
       "      <th>cons_price_idx</th>\n",
       "      <th>cons_conf_idx2</th>\n",
       "      <th>euribor3m</th>\n",
       "      <th>nr_employed</th>\n",
       "    </tr>\n",
       "  </thead>\n",
       "  <tbody>\n",
       "    <tr>\n",
       "      <th>age</th>\n",
       "      <td>1.000000</td>\n",
       "      <td>0.044858</td>\n",
       "      <td>-0.029626</td>\n",
       "      <td>0.058073</td>\n",
       "      <td>-0.054664</td>\n",
       "      <td>-0.035728</td>\n",
       "      <td>-0.090506</td>\n",
       "      <td>-0.045577</td>\n",
       "      <td>-0.065841</td>\n",
       "    </tr>\n",
       "    <tr>\n",
       "      <th>duration</th>\n",
       "      <td>0.044858</td>\n",
       "      <td>1.000000</td>\n",
       "      <td>-0.079278</td>\n",
       "      <td>0.025069</td>\n",
       "      <td>-0.027002</td>\n",
       "      <td>0.021428</td>\n",
       "      <td>0.035923</td>\n",
       "      <td>-0.029031</td>\n",
       "      <td>-0.041507</td>\n",
       "    </tr>\n",
       "    <tr>\n",
       "      <th>campaign</th>\n",
       "      <td>-0.029626</td>\n",
       "      <td>-0.079278</td>\n",
       "      <td>1.000000</td>\n",
       "      <td>-0.090459</td>\n",
       "      <td>0.187738</td>\n",
       "      <td>0.147877</td>\n",
       "      <td>-0.016136</td>\n",
       "      <td>0.170208</td>\n",
       "      <td>0.166976</td>\n",
       "    </tr>\n",
       "    <tr>\n",
       "      <th>previous</th>\n",
       "      <td>0.058073</td>\n",
       "      <td>0.025069</td>\n",
       "      <td>-0.090459</td>\n",
       "      <td>1.000000</td>\n",
       "      <td>-0.395866</td>\n",
       "      <td>-0.134847</td>\n",
       "      <td>0.025911</td>\n",
       "      <td>-0.442237</td>\n",
       "      <td>-0.500778</td>\n",
       "    </tr>\n",
       "    <tr>\n",
       "      <th>emp_var_rate</th>\n",
       "      <td>-0.054664</td>\n",
       "      <td>-0.027002</td>\n",
       "      <td>0.187738</td>\n",
       "      <td>-0.395866</td>\n",
       "      <td>1.000000</td>\n",
       "      <td>0.741630</td>\n",
       "      <td>-0.146936</td>\n",
       "      <td>0.967338</td>\n",
       "      <td>0.890293</td>\n",
       "    </tr>\n",
       "    <tr>\n",
       "      <th>cons_price_idx</th>\n",
       "      <td>-0.035728</td>\n",
       "      <td>0.021428</td>\n",
       "      <td>0.147877</td>\n",
       "      <td>-0.134847</td>\n",
       "      <td>0.741630</td>\n",
       "      <td>1.000000</td>\n",
       "      <td>-0.000226</td>\n",
       "      <td>0.630315</td>\n",
       "      <td>0.432986</td>\n",
       "    </tr>\n",
       "    <tr>\n",
       "      <th>cons_conf_idx2</th>\n",
       "      <td>-0.090506</td>\n",
       "      <td>0.035923</td>\n",
       "      <td>-0.016136</td>\n",
       "      <td>0.025911</td>\n",
       "      <td>-0.146936</td>\n",
       "      <td>-0.000226</td>\n",
       "      <td>1.000000</td>\n",
       "      <td>-0.234182</td>\n",
       "      <td>-0.077460</td>\n",
       "    </tr>\n",
       "    <tr>\n",
       "      <th>euribor3m</th>\n",
       "      <td>-0.045577</td>\n",
       "      <td>-0.029031</td>\n",
       "      <td>0.170208</td>\n",
       "      <td>-0.442237</td>\n",
       "      <td>0.967338</td>\n",
       "      <td>0.630315</td>\n",
       "      <td>-0.234182</td>\n",
       "      <td>1.000000</td>\n",
       "      <td>0.942587</td>\n",
       "    </tr>\n",
       "    <tr>\n",
       "      <th>nr_employed</th>\n",
       "      <td>-0.065841</td>\n",
       "      <td>-0.041507</td>\n",
       "      <td>0.166976</td>\n",
       "      <td>-0.500778</td>\n",
       "      <td>0.890293</td>\n",
       "      <td>0.432986</td>\n",
       "      <td>-0.077460</td>\n",
       "      <td>0.942587</td>\n",
       "      <td>1.000000</td>\n",
       "    </tr>\n",
       "  </tbody>\n",
       "</table>\n",
       "</div>"
      ],
      "text/plain": [
       "                     age  duration  campaign  previous  emp_var_rate  \\\n",
       "age             1.000000  0.044858 -0.029626  0.058073     -0.054664   \n",
       "duration        0.044858  1.000000 -0.079278  0.025069     -0.027002   \n",
       "campaign       -0.029626 -0.079278  1.000000 -0.090459      0.187738   \n",
       "previous        0.058073  0.025069 -0.090459  1.000000     -0.395866   \n",
       "emp_var_rate   -0.054664 -0.027002  0.187738 -0.395866      1.000000   \n",
       "cons_price_idx -0.035728  0.021428  0.147877 -0.134847      0.741630   \n",
       "cons_conf_idx2 -0.090506  0.035923 -0.016136  0.025911     -0.146936   \n",
       "euribor3m      -0.045577 -0.029031  0.170208 -0.442237      0.967338   \n",
       "nr_employed    -0.065841 -0.041507  0.166976 -0.500778      0.890293   \n",
       "\n",
       "                cons_price_idx  cons_conf_idx2  euribor3m  nr_employed  \n",
       "age                  -0.035728       -0.090506  -0.045577    -0.065841  \n",
       "duration              0.021428        0.035923  -0.029031    -0.041507  \n",
       "campaign              0.147877       -0.016136   0.170208     0.166976  \n",
       "previous             -0.134847        0.025911  -0.442237    -0.500778  \n",
       "emp_var_rate          0.741630       -0.146936   0.967338     0.890293  \n",
       "cons_price_idx        1.000000       -0.000226   0.630315     0.432986  \n",
       "cons_conf_idx2       -0.000226        1.000000  -0.234182    -0.077460  \n",
       "euribor3m             0.630315       -0.234182   1.000000     0.942587  \n",
       "nr_employed           0.432986       -0.077460   0.942587     1.000000  "
      ]
     },
     "execution_count": 19,
     "metadata": {},
     "output_type": "execute_result"
    }
   ],
   "source": [
    "#let's check correlations between numeric variables\n",
    "data_numeric.corr()"
   ]
  },
  {
   "cell_type": "code",
   "execution_count": 20,
   "metadata": {},
   "outputs": [
    {
     "data": {
      "text/html": [
       "<div>\n",
       "<style scoped>\n",
       "    .dataframe tbody tr th:only-of-type {\n",
       "        vertical-align: middle;\n",
       "    }\n",
       "\n",
       "    .dataframe tbody tr th {\n",
       "        vertical-align: top;\n",
       "    }\n",
       "\n",
       "    .dataframe thead th {\n",
       "        text-align: right;\n",
       "    }\n",
       "</style>\n",
       "<table border=\"1\" class=\"dataframe\">\n",
       "  <thead>\n",
       "    <tr style=\"text-align: right;\">\n",
       "      <th></th>\n",
       "      <th>age</th>\n",
       "      <th>duration</th>\n",
       "      <th>campaign</th>\n",
       "      <th>previous</th>\n",
       "      <th>emp_var_rate</th>\n",
       "      <th>cons_price_idx</th>\n",
       "      <th>cons_conf_idx2</th>\n",
       "      <th>euribor3m</th>\n",
       "      <th>nr_employed</th>\n",
       "    </tr>\n",
       "    <tr>\n",
       "      <th>education</th>\n",
       "      <th></th>\n",
       "      <th></th>\n",
       "      <th></th>\n",
       "      <th></th>\n",
       "      <th></th>\n",
       "      <th></th>\n",
       "      <th></th>\n",
       "      <th></th>\n",
       "      <th></th>\n",
       "    </tr>\n",
       "  </thead>\n",
       "  <tbody>\n",
       "    <tr>\n",
       "      <th>basic.4y</th>\n",
       "      <td>46.618474</td>\n",
       "      <td>249.662651</td>\n",
       "      <td>2.377510</td>\n",
       "      <td>0.176707</td>\n",
       "      <td>-0.106426</td>\n",
       "      <td>93.546582</td>\n",
       "      <td>41.007631</td>\n",
       "      <td>3.393394</td>\n",
       "      <td>5158.395984</td>\n",
       "    </tr>\n",
       "    <tr>\n",
       "      <th>basic.6y</th>\n",
       "      <td>40.019868</td>\n",
       "      <td>247.629139</td>\n",
       "      <td>2.635762</td>\n",
       "      <td>0.145695</td>\n",
       "      <td>0.135762</td>\n",
       "      <td>93.628861</td>\n",
       "      <td>41.905298</td>\n",
       "      <td>3.671305</td>\n",
       "      <td>5171.972185</td>\n",
       "    </tr>\n",
       "    <tr>\n",
       "      <th>basic.9y</th>\n",
       "      <td>38.398058</td>\n",
       "      <td>259.652913</td>\n",
       "      <td>2.320388</td>\n",
       "      <td>0.182039</td>\n",
       "      <td>0.042476</td>\n",
       "      <td>93.586803</td>\n",
       "      <td>41.715049</td>\n",
       "      <td>3.573184</td>\n",
       "      <td>5168.049757</td>\n",
       "    </tr>\n",
       "    <tr>\n",
       "      <th>high.school</th>\n",
       "      <td>37.796170</td>\n",
       "      <td>263.954856</td>\n",
       "      <td>2.615595</td>\n",
       "      <td>0.233926</td>\n",
       "      <td>-0.155814</td>\n",
       "      <td>93.520720</td>\n",
       "      <td>41.035841</td>\n",
       "      <td>3.346104</td>\n",
       "      <td>5156.301231</td>\n",
       "    </tr>\n",
       "    <tr>\n",
       "      <th>illiterate</th>\n",
       "      <td>42.000000</td>\n",
       "      <td>146.000000</td>\n",
       "      <td>4.000000</td>\n",
       "      <td>0.000000</td>\n",
       "      <td>-2.900000</td>\n",
       "      <td>92.201000</td>\n",
       "      <td>31.400000</td>\n",
       "      <td>0.834000</td>\n",
       "      <td>5076.200000</td>\n",
       "    </tr>\n",
       "    <tr>\n",
       "      <th>professional.course</th>\n",
       "      <td>39.520879</td>\n",
       "      <td>281.063736</td>\n",
       "      <td>2.373626</td>\n",
       "      <td>0.204396</td>\n",
       "      <td>0.100879</td>\n",
       "      <td>93.580121</td>\n",
       "      <td>40.117582</td>\n",
       "      <td>3.631765</td>\n",
       "      <td>5164.241758</td>\n",
       "    </tr>\n",
       "    <tr>\n",
       "      <th>university.degree</th>\n",
       "      <td>38.611511</td>\n",
       "      <td>251.276978</td>\n",
       "      <td>2.573741</td>\n",
       "      <td>0.221223</td>\n",
       "      <td>-0.089388</td>\n",
       "      <td>93.480507</td>\n",
       "      <td>39.878867</td>\n",
       "      <td>3.461815</td>\n",
       "      <td>5159.339209</td>\n",
       "    </tr>\n",
       "    <tr>\n",
       "      <th>unknown</th>\n",
       "      <td>41.279661</td>\n",
       "      <td>268.059322</td>\n",
       "      <td>2.593220</td>\n",
       "      <td>0.296610</td>\n",
       "      <td>-0.383051</td>\n",
       "      <td>93.537085</td>\n",
       "      <td>39.150000</td>\n",
       "      <td>3.101339</td>\n",
       "      <td>5138.088136</td>\n",
       "    </tr>\n",
       "  </tbody>\n",
       "</table>\n",
       "</div>"
      ],
      "text/plain": [
       "                           age    duration  campaign  previous  emp_var_rate  \\\n",
       "education                                                                      \n",
       "basic.4y             46.618474  249.662651  2.377510  0.176707     -0.106426   \n",
       "basic.6y             40.019868  247.629139  2.635762  0.145695      0.135762   \n",
       "basic.9y             38.398058  259.652913  2.320388  0.182039      0.042476   \n",
       "high.school          37.796170  263.954856  2.615595  0.233926     -0.155814   \n",
       "illiterate           42.000000  146.000000  4.000000  0.000000     -2.900000   \n",
       "professional.course  39.520879  281.063736  2.373626  0.204396      0.100879   \n",
       "university.degree    38.611511  251.276978  2.573741  0.221223     -0.089388   \n",
       "unknown              41.279661  268.059322  2.593220  0.296610     -0.383051   \n",
       "\n",
       "                     cons_price_idx  cons_conf_idx2  euribor3m  nr_employed  \n",
       "education                                                                    \n",
       "basic.4y                  93.546582       41.007631   3.393394  5158.395984  \n",
       "basic.6y                  93.628861       41.905298   3.671305  5171.972185  \n",
       "basic.9y                  93.586803       41.715049   3.573184  5168.049757  \n",
       "high.school               93.520720       41.035841   3.346104  5156.301231  \n",
       "illiterate                92.201000       31.400000   0.834000  5076.200000  \n",
       "professional.course       93.580121       40.117582   3.631765  5164.241758  \n",
       "university.degree         93.480507       39.878867   3.461815  5159.339209  \n",
       "unknown                   93.537085       39.150000   3.101339  5138.088136  "
      ]
     },
     "execution_count": 20,
     "metadata": {},
     "output_type": "execute_result"
    }
   ],
   "source": [
    "#groupby() function\n",
    "data.groupby([\"education\"]).mean()"
   ]
  },
  {
   "cell_type": "code",
   "execution_count": 21,
   "metadata": {},
   "outputs": [
    {
     "data": {
      "text/plain": [
       "education\n",
       "basic.4y               46.618474\n",
       "basic.6y               40.019868\n",
       "basic.9y               38.398058\n",
       "high.school            37.796170\n",
       "illiterate             42.000000\n",
       "professional.course    39.520879\n",
       "university.degree      38.611511\n",
       "unknown                41.279661\n",
       "Name: age, dtype: float64"
      ]
     },
     "execution_count": 21,
     "metadata": {},
     "output_type": "execute_result"
    }
   ],
   "source": [
    "data.groupby([\"education\"])[\"age\"].mean()"
   ]
  },
  {
   "cell_type": "code",
   "execution_count": 22,
   "metadata": {},
   "outputs": [
    {
     "data": {
      "image/png": "[encoded data removed]",
      "text/plain": [
       "<Figure size 432x288 with 1 Axes>"
      ]
     },
     "metadata": {
      "needs_background": "light"
     },
     "output_type": "display_data"
    }
   ],
   "source": [
    "#groupby() function and plotting in pandas\n",
    "data.groupby([\"education\"])[\"age\"].mean().plot(kind='bar')\n",
    "plt.show()"
   ]
  },
  {
   "cell_type": "code",
   "execution_count": 23,
   "metadata": {},
   "outputs": [
    {
     "data": {
      "text/html": [
       "<div>\n",
       "<style scoped>\n",
       "    .dataframe tbody tr th:only-of-type {\n",
       "        vertical-align: middle;\n",
       "    }\n",
       "\n",
       "    .dataframe tbody tr th {\n",
       "        vertical-align: top;\n",
       "    }\n",
       "\n",
       "    .dataframe thead th {\n",
       "        text-align: right;\n",
       "    }\n",
       "</style>\n",
       "<table border=\"1\" class=\"dataframe\">\n",
       "  <thead>\n",
       "    <tr style=\"text-align: right;\">\n",
       "      <th>education</th>\n",
       "      <th>basic.4y</th>\n",
       "      <th>basic.6y</th>\n",
       "      <th>basic.9y</th>\n",
       "      <th>high.school</th>\n",
       "      <th>illiterate</th>\n",
       "      <th>professional.course</th>\n",
       "      <th>university.degree</th>\n",
       "      <th>unknown</th>\n",
       "    </tr>\n",
       "    <tr>\n",
       "      <th>job</th>\n",
       "      <th></th>\n",
       "      <th></th>\n",
       "      <th></th>\n",
       "      <th></th>\n",
       "      <th></th>\n",
       "      <th></th>\n",
       "      <th></th>\n",
       "      <th></th>\n",
       "    </tr>\n",
       "  </thead>\n",
       "  <tbody>\n",
       "    <tr>\n",
       "      <th>admin.</th>\n",
       "      <td>44.500000</td>\n",
       "      <td>42.625000</td>\n",
       "      <td>40.580645</td>\n",
       "      <td>38.402299</td>\n",
       "      <td>NaN</td>\n",
       "      <td>41.212121</td>\n",
       "      <td>37.025490</td>\n",
       "      <td>43.421053</td>\n",
       "    </tr>\n",
       "    <tr>\n",
       "      <th>blue-collar</th>\n",
       "      <td>41.429752</td>\n",
       "      <td>37.710000</td>\n",
       "      <td>35.671171</td>\n",
       "      <td>35.476923</td>\n",
       "      <td>NaN</td>\n",
       "      <td>37.560976</td>\n",
       "      <td>36.500000</td>\n",
       "      <td>38.791667</td>\n",
       "    </tr>\n",
       "    <tr>\n",
       "      <th>entrepreneur</th>\n",
       "      <td>40.363636</td>\n",
       "      <td>39.000000</td>\n",
       "      <td>43.733333</td>\n",
       "      <td>37.000000</td>\n",
       "      <td>NaN</td>\n",
       "      <td>44.181818</td>\n",
       "      <td>41.333333</td>\n",
       "      <td>48.750000</td>\n",
       "    </tr>\n",
       "    <tr>\n",
       "      <th>housemaid</th>\n",
       "      <td>47.483871</td>\n",
       "      <td>45.666667</td>\n",
       "      <td>41.000000</td>\n",
       "      <td>40.375000</td>\n",
       "      <td>NaN</td>\n",
       "      <td>51.285714</td>\n",
       "      <td>41.400000</td>\n",
       "      <td>54.000000</td>\n",
       "    </tr>\n",
       "    <tr>\n",
       "      <th>management</th>\n",
       "      <td>49.000000</td>\n",
       "      <td>47.166667</td>\n",
       "      <td>44.437500</td>\n",
       "      <td>40.558824</td>\n",
       "      <td>NaN</td>\n",
       "      <td>44.200000</td>\n",
       "      <td>41.436548</td>\n",
       "      <td>43.750000</td>\n",
       "    </tr>\n",
       "    <tr>\n",
       "      <th>retired</th>\n",
       "      <td>64.525000</td>\n",
       "      <td>57.500000</td>\n",
       "      <td>59.250000</td>\n",
       "      <td>59.681818</td>\n",
       "      <td>42.0</td>\n",
       "      <td>59.666667</td>\n",
       "      <td>62.888889</td>\n",
       "      <td>63.666667</td>\n",
       "    </tr>\n",
       "    <tr>\n",
       "      <th>self-employed</th>\n",
       "      <td>42.250000</td>\n",
       "      <td>NaN</td>\n",
       "      <td>43.695652</td>\n",
       "      <td>42.363636</td>\n",
       "      <td>NaN</td>\n",
       "      <td>37.900000</td>\n",
       "      <td>38.835443</td>\n",
       "      <td>32.000000</td>\n",
       "    </tr>\n",
       "    <tr>\n",
       "      <th>services</th>\n",
       "      <td>42.000000</td>\n",
       "      <td>42.857143</td>\n",
       "      <td>38.190476</td>\n",
       "      <td>37.016216</td>\n",
       "      <td>NaN</td>\n",
       "      <td>36.000000</td>\n",
       "      <td>35.733333</td>\n",
       "      <td>43.727273</td>\n",
       "    </tr>\n",
       "    <tr>\n",
       "      <th>student</th>\n",
       "      <td>24.000000</td>\n",
       "      <td>NaN</td>\n",
       "      <td>27.000000</td>\n",
       "      <td>24.935484</td>\n",
       "      <td>NaN</td>\n",
       "      <td>26.750000</td>\n",
       "      <td>30.000000</td>\n",
       "      <td>26.000000</td>\n",
       "    </tr>\n",
       "    <tr>\n",
       "      <th>technician</th>\n",
       "      <td>53.600000</td>\n",
       "      <td>44.000000</td>\n",
       "      <td>40.000000</td>\n",
       "      <td>36.679012</td>\n",
       "      <td>NaN</td>\n",
       "      <td>38.191638</td>\n",
       "      <td>36.325301</td>\n",
       "      <td>44.941176</td>\n",
       "    </tr>\n",
       "    <tr>\n",
       "      <th>unemployed</th>\n",
       "      <td>40.300000</td>\n",
       "      <td>48.500000</td>\n",
       "      <td>41.125000</td>\n",
       "      <td>36.882353</td>\n",
       "      <td>NaN</td>\n",
       "      <td>39.833333</td>\n",
       "      <td>35.600000</td>\n",
       "      <td>34.666667</td>\n",
       "    </tr>\n",
       "    <tr>\n",
       "      <th>unknown</th>\n",
       "      <td>58.600000</td>\n",
       "      <td>52.000000</td>\n",
       "      <td>47.400000</td>\n",
       "      <td>45.000000</td>\n",
       "      <td>NaN</td>\n",
       "      <td>41.500000</td>\n",
       "      <td>36.000000</td>\n",
       "      <td>51.750000</td>\n",
       "    </tr>\n",
       "  </tbody>\n",
       "</table>\n",
       "</div>"
      ],
      "text/plain": [
       "education       basic.4y   basic.6y   basic.9y  high.school  illiterate  \\\n",
       "job                                                                       \n",
       "admin.         44.500000  42.625000  40.580645    38.402299         NaN   \n",
       "blue-collar    41.429752  37.710000  35.671171    35.476923         NaN   \n",
       "entrepreneur   40.363636  39.000000  43.733333    37.000000         NaN   \n",
       "housemaid      47.483871  45.666667  41.000000    40.375000         NaN   \n",
       "management     49.000000  47.166667  44.437500    40.558824         NaN   \n",
       "retired        64.525000  57.500000  59.250000    59.681818        42.0   \n",
       "self-employed  42.250000        NaN  43.695652    42.363636         NaN   \n",
       "services       42.000000  42.857143  38.190476    37.016216         NaN   \n",
       "student        24.000000        NaN  27.000000    24.935484         NaN   \n",
       "technician     53.600000  44.000000  40.000000    36.679012         NaN   \n",
       "unemployed     40.300000  48.500000  41.125000    36.882353         NaN   \n",
       "unknown        58.600000  52.000000  47.400000    45.000000         NaN   \n",
       "\n",
       "education      professional.course  university.degree    unknown  \n",
       "job                                                               \n",
       "admin.                   41.212121          37.025490  43.421053  \n",
       "blue-collar              37.560976          36.500000  38.791667  \n",
       "entrepreneur             44.181818          41.333333  48.750000  \n",
       "housemaid                51.285714          41.400000  54.000000  \n",
       "management               44.200000          41.436548  43.750000  \n",
       "retired                  59.666667          62.888889  63.666667  \n",
       "self-employed            37.900000          38.835443  32.000000  \n",
       "services                 36.000000          35.733333  43.727273  \n",
       "student                  26.750000          30.000000  26.000000  \n",
       "technician               38.191638          36.325301  44.941176  \n",
       "unemployed               39.833333          35.600000  34.666667  \n",
       "unknown                  41.500000          36.000000  51.750000  "
      ]
     },
     "execution_count": 23,
     "metadata": {},
     "output_type": "execute_result"
    }
   ],
   "source": [
    "#creating pivot table with pandas\n",
    "pd.pivot_table(data,columns='education',index='job',values='age', aggfunc='mean')"
   ]
  },
  {
   "cell_type": "markdown",
   "metadata": {},
   "source": [
    "## Numpy"
   ]
  },
  {
   "cell_type": "markdown",
   "metadata": {},
   "source": [
    "[**Numpy**](https://numpy.org/) is the fundamental package for scientific computing with Python."
   ]
  },
  {
   "cell_type": "code",
   "execution_count": 33,
   "metadata": {},
   "outputs": [
    {
     "name": "stdout",
     "output_type": "stream",
     "text": [
      "39.31\n",
      "88\n",
      "18\n",
      "10.31\n",
      "37.0\n"
     ]
    }
   ],
   "source": [
    "print(round(np.mean(data[\"age\"]),2))\n",
    "print(np.max(data[\"age\"]))\n",
    "print(np.min(data[\"age\"]))\n",
    "print(round(np.std(data[\"age\"]),2))\n",
    "print(np.median(data[\"age\"]))"
   ]
  },
  {
   "cell_type": "code",
   "execution_count": 25,
   "metadata": {},
   "outputs": [],
   "source": [
    "age_array=np.array(data[\"age\"])"
   ]
  },
  {
   "cell_type": "code",
   "execution_count": 26,
   "metadata": {},
   "outputs": [
    {
     "data": {
      "text/plain": [
       "array([30, 39, 25, 47, 32, 32, 31, 36, 29, 27], dtype=int64)"
      ]
     },
     "execution_count": 26,
     "metadata": {},
     "output_type": "execute_result"
    }
   ],
   "source": [
    "age_array[0:10]"
   ]
  },
  {
   "cell_type": "code",
   "execution_count": 27,
   "metadata": {},
   "outputs": [
    {
     "data": {
      "text/plain": [
       "numpy.ndarray"
      ]
     },
     "execution_count": 27,
     "metadata": {},
     "output_type": "execute_result"
    }
   ],
   "source": [
    "type(age_array)"
   ]
  },
  {
   "cell_type": "markdown",
   "metadata": {},
   "source": [
    "## Matplotlib"
   ]
  },
  {
   "cell_type": "markdown",
   "metadata": {},
   "source": [
    "[**Matplotlib**](https://matplotlib.org/tutorials/index.html) is a Python 2D plotting library. It is used in the Python scripts and shells, as well as in the IPython shells and Jupyter Notebook to generate figures and plots in a different formats. One of the advantages of the library is being open-source and free. Its pyplot module is an MATLAB-like interface which is very easy to use for simple plotting. It lets you to customize a figure by having control on line, axes, font styles, etc."
   ]
  },
  {
   "cell_type": "code",
   "execution_count": 28,
   "metadata": {},
   "outputs": [
    {
     "data": {
      "text/plain": [
       "education\n",
       "basic.4y               46.618474\n",
       "basic.6y               40.019868\n",
       "basic.9y               38.398058\n",
       "high.school            37.796170\n",
       "illiterate             42.000000\n",
       "professional.course    39.520879\n",
       "university.degree      38.611511\n",
       "unknown                41.279661\n",
       "Name: age, dtype: float64"
      ]
     },
     "execution_count": 28,
     "metadata": {},
     "output_type": "execute_result"
    }
   ],
   "source": [
    "data.groupby('education')['age'].mean()"
   ]
  },
  {
   "cell_type": "code",
   "execution_count": 29,
   "metadata": {},
   "outputs": [
    {
     "data": {
      "image/png": "[encoded data removed]",
      "text/plain": [
       "<Figure size 864x360 with 1 Axes>"
      ]
     },
     "metadata": {
      "needs_background": "light"
     },
     "output_type": "display_data"
    }
   ],
   "source": [
    "plt.figure(figsize=(12,5))#making the plot bigger\n",
    "#draw plot\n",
    "plt.bar(data.education.unique(), \n",
    "        data.groupby('education')['age'].mean()) #defining x and y variables\n",
    "\n",
    "#giving titles\n",
    "plt.title(\"Education by Mean Age\")\n",
    "plt.xlabel(\"Education\")\n",
    "plt.ylabel(\"Mean Age\")\n",
    "\n",
    "#showing the plot\n",
    "plt.show()"
   ]
  },
  {
   "cell_type": "code",
   "execution_count": 30,
   "metadata": {
    "scrolled": false
   },
   "outputs": [
    {
     "data": {
      "image/png": "[encoded data removed]",
      "text/plain": [
       "<Figure size 576x432 with 1 Axes>"
      ]
     },
     "metadata": {
      "needs_background": "light"
     },
     "output_type": "display_data"
    }
   ],
   "source": [
    "plt.figure(figsize=(8,6)) #making the plot bigger\n",
    "#draw plot\n",
    "plt.hist(data.age, \n",
    "         bins=5, #defining number of bins\n",
    "         color=\"#58508d\" #changing color\n",
    ")\n",
    "plt.title(\"Age distribution\") #giving a title to the graph\n",
    "plt.ylabel(\"Frequencies\")#giving title to y axis\n",
    "plt.xlabel(\"Age\")#giving title to x axis\n",
    "plt.show()#showing the plot\n"
   ]
  },
  {
   "cell_type": "markdown",
   "metadata": {},
   "source": [
    "## Seaborn"
   ]
  },
  {
   "cell_type": "markdown",
   "metadata": {},
   "source": [
    "    Seaborn ia a data visualization library with a high-level interface."
   ]
  },
  {
   "cell_type": "code",
   "execution_count": 31,
   "metadata": {},
   "outputs": [
    {
     "data": {
      "image/png": "[encoded data removed]",
      "text/plain": [
       "<Figure size 1008x432 with 1 Axes>"
      ]
     },
     "metadata": {
      "needs_background": "light"
     },
     "output_type": "display_data"
    }
   ],
   "source": [
    "plt.figure(figsize=(14,6)) #making the plot bigger\n",
    "\n",
    "#plotting the figure\n",
    "sns.barplot(data.education.unique(), \n",
    "        data.groupby('education')['age'].mean())\n",
    "plt.show()"
   ]
  },
  {
   "cell_type": "code",
   "execution_count": 32,
   "metadata": {},
   "outputs": [
    {
     "data": {
      "image/png": "[encoded data removed]",
      "text/plain": [
       "<Figure size 432x288 with 2 Axes>"
      ]
     },
     "metadata": {
      "needs_background": "light"
     },
     "output_type": "display_data"
    }
   ],
   "source": [
    "#let's visualise correlations between variables by heatmap\n",
    "sns.heatmap(data_numeric.corr().abs().round(2),annot=True)\n",
    "plt.show()"
   ]
  }
 ],
 "metadata": {
  "kernelspec": {
   "display_name": "Python 3",
   "language": "python",
   "name": "python3"
  },
  "language_info": {
   "codemirror_mode": {
    "name": "ipython",
    "version": 3
   },
   "file_extension": ".py",
   "mimetype": "text/x-python",
   "name": "python",
   "nbconvert_exporter": "python",
   "pygments_lexer": "ipython3",
   "version": "3.7.6"
  }
 },
 "nbformat": 4,
 "nbformat_minor": 4
}
