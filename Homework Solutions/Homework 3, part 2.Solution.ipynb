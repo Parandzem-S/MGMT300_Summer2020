{
 "cells": [
  {
   "cell_type": "markdown",
   "metadata": {},
   "source": [
    "# Importing necessary libraries"
   ]
  },
  {
   "cell_type": "code",
   "execution_count": 1,
   "metadata": {},
   "outputs": [],
   "source": [
    "import pandas as pd\n",
    "import matplotlib.pyplot as plt"
   ]
  },
  {
   "cell_type": "markdown",
   "metadata": {},
   "source": [
    "# Problem 1"
   ]
  },
  {
   "cell_type": "code",
   "execution_count": 2,
   "metadata": {},
   "outputs": [
    {
     "data": {
      "text/html": [
       "<div>\n",
       "<style scoped>\n",
       "    .dataframe tbody tr th:only-of-type {\n",
       "        vertical-align: middle;\n",
       "    }\n",
       "\n",
       "    .dataframe tbody tr th {\n",
       "        vertical-align: top;\n",
       "    }\n",
       "\n",
       "    .dataframe thead th {\n",
       "        text-align: right;\n",
       "    }\n",
       "</style>\n",
       "<table border=\"1\" class=\"dataframe\">\n",
       "  <thead>\n",
       "    <tr style=\"text-align: right;\">\n",
       "      <th></th>\n",
       "      <th>Order ID</th>\n",
       "      <th>Order Date</th>\n",
       "      <th>Order Quantity</th>\n",
       "      <th>Sales</th>\n",
       "      <th>Ship Mode</th>\n",
       "      <th>Profit</th>\n",
       "      <th>Unit Price</th>\n",
       "      <th>Customer Name</th>\n",
       "      <th>Customer Segment</th>\n",
       "      <th>Product Category</th>\n",
       "    </tr>\n",
       "  </thead>\n",
       "  <tbody>\n",
       "    <tr>\n",
       "      <th>0</th>\n",
       "      <td>3</td>\n",
       "      <td>2010-10-13</td>\n",
       "      <td>6</td>\n",
       "      <td>261.5400</td>\n",
       "      <td>Regular Air</td>\n",
       "      <td>-213.250</td>\n",
       "      <td>38.94</td>\n",
       "      <td>Muhammed MacIntyre</td>\n",
       "      <td>Small Business</td>\n",
       "      <td>Office Supplies</td>\n",
       "    </tr>\n",
       "    <tr>\n",
       "      <th>1</th>\n",
       "      <td>6</td>\n",
       "      <td>2012-02-20</td>\n",
       "      <td>2</td>\n",
       "      <td>6.9300</td>\n",
       "      <td>Regular Air</td>\n",
       "      <td>-4.640</td>\n",
       "      <td>2.08</td>\n",
       "      <td>Ruben Dartt</td>\n",
       "      <td>Corporate</td>\n",
       "      <td>Office Supplies</td>\n",
       "    </tr>\n",
       "    <tr>\n",
       "      <th>2</th>\n",
       "      <td>32</td>\n",
       "      <td>2011-07-15</td>\n",
       "      <td>26</td>\n",
       "      <td>2808.0800</td>\n",
       "      <td>Regular Air</td>\n",
       "      <td>1054.820</td>\n",
       "      <td>107.53</td>\n",
       "      <td>Liz Pelletier</td>\n",
       "      <td>Corporate</td>\n",
       "      <td>Furniture</td>\n",
       "    </tr>\n",
       "    <tr>\n",
       "      <th>3</th>\n",
       "      <td>32</td>\n",
       "      <td>2011-07-15</td>\n",
       "      <td>24</td>\n",
       "      <td>1761.4000</td>\n",
       "      <td>Delivery Truck</td>\n",
       "      <td>-1748.560</td>\n",
       "      <td>70.89</td>\n",
       "      <td>Liz Pelletier</td>\n",
       "      <td>Corporate</td>\n",
       "      <td>Furniture</td>\n",
       "    </tr>\n",
       "    <tr>\n",
       "      <th>4</th>\n",
       "      <td>32</td>\n",
       "      <td>2011-07-15</td>\n",
       "      <td>23</td>\n",
       "      <td>160.2335</td>\n",
       "      <td>Regular Air</td>\n",
       "      <td>-85.129</td>\n",
       "      <td>7.99</td>\n",
       "      <td>Liz Pelletier</td>\n",
       "      <td>Corporate</td>\n",
       "      <td>Technology</td>\n",
       "    </tr>\n",
       "  </tbody>\n",
       "</table>\n",
       "</div>"
      ],
      "text/plain": [
       "   Order ID Order Date  Order Quantity      Sales       Ship Mode    Profit  \\\n",
       "0         3 2010-10-13               6   261.5400     Regular Air  -213.250   \n",
       "1         6 2012-02-20               2     6.9300     Regular Air    -4.640   \n",
       "2        32 2011-07-15              26  2808.0800     Regular Air  1054.820   \n",
       "3        32 2011-07-15              24  1761.4000  Delivery Truck -1748.560   \n",
       "4        32 2011-07-15              23   160.2335     Regular Air   -85.129   \n",
       "\n",
       "   Unit Price       Customer Name Customer Segment Product Category  \n",
       "0       38.94  Muhammed MacIntyre   Small Business  Office Supplies  \n",
       "1        2.08         Ruben Dartt        Corporate  Office Supplies  \n",
       "2      107.53       Liz Pelletier        Corporate        Furniture  \n",
       "3       70.89       Liz Pelletier        Corporate        Furniture  \n",
       "4        7.99       Liz Pelletier        Corporate       Technology  "
      ]
     },
     "execution_count": 2,
     "metadata": {},
     "output_type": "execute_result"
    }
   ],
   "source": [
    "#Reading data\n",
    "data=pd.read_excel(\"Orders.xlsx\")\n",
    "data.head()"
   ]
  },
  {
   "cell_type": "markdown",
   "metadata": {},
   "source": [
    "# Problem 2.1"
   ]
  },
  {
   "cell_type": "code",
   "execution_count": 3,
   "metadata": {},
   "outputs": [
    {
     "data": {
      "text/plain": [
       "(1007, 10)"
      ]
     },
     "execution_count": 3,
     "metadata": {},
     "output_type": "execute_result"
    }
   ],
   "source": [
    "data.shape"
   ]
  },
  {
   "cell_type": "markdown",
   "metadata": {},
   "source": [
    "**There are 1007 rows and 10 columns in the data.**"
   ]
  },
  {
   "cell_type": "markdown",
   "metadata": {},
   "source": [
    "# Problem 2.2"
   ]
  },
  {
   "cell_type": "code",
   "execution_count": 4,
   "metadata": {},
   "outputs": [
    {
     "data": {
      "text/plain": [
       "Order ID            False\n",
       "Order Date          False\n",
       "Order Quantity      False\n",
       "Sales                True\n",
       "Ship Mode           False\n",
       "Profit               True\n",
       "Unit Price          False\n",
       "Customer Name       False\n",
       "Customer Segment    False\n",
       "Product Category    False\n",
       "dtype: bool"
      ]
     },
     "execution_count": 4,
     "metadata": {},
     "output_type": "execute_result"
    }
   ],
   "source": [
    "data.isnull().any()"
   ]
  },
  {
   "cell_type": "markdown",
   "metadata": {},
   "source": [
    "**There are two variables that have missing values: *Sales* and *Profit*.**"
   ]
  },
  {
   "cell_type": "markdown",
   "metadata": {},
   "source": [
    "# Problem 2.3"
   ]
  },
  {
   "cell_type": "code",
   "execution_count": 5,
   "metadata": {},
   "outputs": [
    {
     "data": {
      "text/plain": [
       "Order ID            0\n",
       "Order Date          0\n",
       "Order Quantity      0\n",
       "Sales               8\n",
       "Ship Mode           0\n",
       "Profit              8\n",
       "Unit Price          0\n",
       "Customer Name       0\n",
       "Customer Segment    0\n",
       "Product Category    0\n",
       "dtype: int64"
      ]
     },
     "execution_count": 5,
     "metadata": {},
     "output_type": "execute_result"
    }
   ],
   "source": [
    "data.isnull().sum()"
   ]
  },
  {
   "cell_type": "markdown",
   "metadata": {},
   "source": [
    "**There are 8 missing values under \"Sales\" and another 8 missing values ander \"Ship Mode\".**"
   ]
  },
  {
   "cell_type": "markdown",
   "metadata": {},
   "source": [
    "# Problem 2.4"
   ]
  },
  {
   "cell_type": "code",
   "execution_count": 6,
   "metadata": {},
   "outputs": [
    {
     "name": "stdout",
     "output_type": "stream",
     "text": [
      "<class 'pandas.core.frame.DataFrame'>\n",
      "RangeIndex: 1007 entries, 0 to 1006\n",
      "Data columns (total 10 columns):\n",
      " #   Column            Non-Null Count  Dtype         \n",
      "---  ------            --------------  -----         \n",
      " 0   Order ID          1007 non-null   int64         \n",
      " 1   Order Date        1007 non-null   datetime64[ns]\n",
      " 2   Order Quantity    1007 non-null   int64         \n",
      " 3   Sales             999 non-null    float64       \n",
      " 4   Ship Mode         1007 non-null   object        \n",
      " 5   Profit            999 non-null    float64       \n",
      " 6   Unit Price        1007 non-null   float64       \n",
      " 7   Customer Name     1007 non-null   object        \n",
      " 8   Customer Segment  1007 non-null   object        \n",
      " 9   Product Category  1007 non-null   object        \n",
      "dtypes: datetime64[ns](1), float64(3), int64(2), object(4)\n",
      "memory usage: 78.8+ KB\n"
     ]
    }
   ],
   "source": [
    "data.info()"
   ]
  },
  {
   "cell_type": "markdown",
   "metadata": {},
   "source": [
    "**There are 5 numeric variables and 5 non-numeric(date included).**"
   ]
  },
  {
   "cell_type": "markdown",
   "metadata": {},
   "source": [
    "# Problem 2.5"
   ]
  },
  {
   "cell_type": "code",
   "execution_count": 7,
   "metadata": {},
   "outputs": [
    {
     "name": "stdout",
     "output_type": "stream",
     "text": [
      "The order number of the last row of the dataset is 7239.\n"
     ]
    }
   ],
   "source": [
    "print(\"The order number of the last row of the dataset is %s.\" %data['Order ID'].iloc[-1])"
   ]
  },
  {
   "cell_type": "markdown",
   "metadata": {},
   "source": [
    "### ! Since many of you thought that I'm asking for number of orders (Order Quantity), I considered those answers as correct. Below is the solution for that option also:"
   ]
  },
  {
   "cell_type": "code",
   "execution_count": 8,
   "metadata": {},
   "outputs": [
    {
     "name": "stdout",
     "output_type": "stream",
     "text": [
      "The number of orders for the last row of the dataset is 50.\n"
     ]
    }
   ],
   "source": [
    "print(\"The number of orders for the last row of the dataset is %s.\" %data['Order Quantity'].iloc[-1])"
   ]
  },
  {
   "cell_type": "markdown",
   "metadata": {},
   "source": [
    "# Problem 3.1"
   ]
  },
  {
   "cell_type": "code",
   "execution_count": 9,
   "metadata": {},
   "outputs": [
    {
     "name": "stdout",
     "output_type": "stream",
     "text": [
      "Average order quantity is 24.83\n"
     ]
    }
   ],
   "source": [
    "print(\"Average order quantity is %s\" %round(data['Order Quantity'].mean(),2))"
   ]
  },
  {
   "cell_type": "markdown",
   "metadata": {},
   "source": [
    "# Problem 3.2"
   ]
  },
  {
   "cell_type": "code",
   "execution_count": 10,
   "metadata": {},
   "outputs": [
    {
     "name": "stdout",
     "output_type": "stream",
     "text": [
      "Median order quantity is 25.0\n"
     ]
    }
   ],
   "source": [
    "print(\"Median order quantity is %s\" %data['Order Quantity'].median())"
   ]
  },
  {
   "cell_type": "markdown",
   "metadata": {},
   "source": [
    "# Problem 3.3"
   ]
  },
  {
   "cell_type": "code",
   "execution_count": 11,
   "metadata": {},
   "outputs": [
    {
     "name": "stdout",
     "output_type": "stream",
     "text": [
      "75th percentile of the sales is 1695.52\n"
     ]
    }
   ],
   "source": [
    "print(\"75th percentile of the sales is %s\" %round(data['Sales'].quantile(0.75),2))"
   ]
  },
  {
   "cell_type": "markdown",
   "metadata": {},
   "source": [
    "# Problem 3.4"
   ]
  },
  {
   "cell_type": "code",
   "execution_count": 12,
   "metadata": {},
   "outputs": [
    {
     "name": "stdout",
     "output_type": "stream",
     "text": [
      "Minimum unit price is 1.26\n"
     ]
    }
   ],
   "source": [
    "print(\"Minimum unit price is %s\" %round(data['Unit Price'].min(),2))"
   ]
  },
  {
   "cell_type": "markdown",
   "metadata": {},
   "source": [
    "# Problem 4.1 "
   ]
  },
  {
   "cell_type": "code",
   "execution_count": 13,
   "metadata": {},
   "outputs": [],
   "source": [
    "#Defining a function that will print number of observations of each category of object type variables\n",
    "def value_counter(data_name,var_name): #first argument is the data name, the second one is the variable name\n",
    "    return data_name[var_name].value_counts()"
   ]
  },
  {
   "cell_type": "code",
   "execution_count": 14,
   "metadata": {},
   "outputs": [
    {
     "data": {
      "text/plain": [
       "Regular Air       768\n",
       "Delivery Truck    132\n",
       "Express Air       107\n",
       "Name: Ship Mode, dtype: int64"
      ]
     },
     "execution_count": 14,
     "metadata": {},
     "output_type": "execute_result"
    }
   ],
   "source": [
    "#let's look at example\n",
    "value_counter(data,'Ship Mode')"
   ]
  },
  {
   "cell_type": "markdown",
   "metadata": {},
   "source": [
    "# Problem 4.2"
   ]
  },
  {
   "cell_type": "code",
   "execution_count": 15,
   "metadata": {},
   "outputs": [
    {
     "name": "stdout",
     "output_type": "stream",
     "text": [
      "['Regular Air', 'Delivery Truck', 'Express Air']\n",
      "['Corporate', 'Home Office', 'Consumer', 'Small Business']\n",
      "['Office Supplies', 'Technology', 'Furniture']\n"
     ]
    }
   ],
   "source": [
    "#printing the unique categories for the following variables: Ship Mode, Customer Segment, Product Category.\n",
    "for i in [\"Ship Mode\",\"Customer Segment\",\"Product Category\"]:\n",
    "    print(value_counter(data,i).index.tolist())"
   ]
  },
  {
   "cell_type": "markdown",
   "metadata": {},
   "source": [
    "# Problem 5.1"
   ]
  },
  {
   "cell_type": "code",
   "execution_count": 16,
   "metadata": {},
   "outputs": [],
   "source": [
    "#dropping all the missing values\n",
    "data.dropna(inplace=True)"
   ]
  },
  {
   "cell_type": "code",
   "execution_count": 17,
   "metadata": {},
   "outputs": [
    {
     "data": {
      "text/plain": [
       "0"
      ]
     },
     "execution_count": 17,
     "metadata": {},
     "output_type": "execute_result"
    }
   ],
   "source": [
    "data.isna().any().sum()"
   ]
  },
  {
   "cell_type": "markdown",
   "metadata": {},
   "source": [
    "Now there are 0 missing values."
   ]
  },
  {
   "cell_type": "markdown",
   "metadata": {},
   "source": [
    "# Problem 5.2"
   ]
  },
  {
   "cell_type": "code",
   "execution_count": 18,
   "metadata": {},
   "outputs": [
    {
     "data": {
      "text/html": [
       "<div>\n",
       "<style scoped>\n",
       "    .dataframe tbody tr th:only-of-type {\n",
       "        vertical-align: middle;\n",
       "    }\n",
       "\n",
       "    .dataframe tbody tr th {\n",
       "        vertical-align: top;\n",
       "    }\n",
       "\n",
       "    .dataframe thead th {\n",
       "        text-align: right;\n",
       "    }\n",
       "</style>\n",
       "<table border=\"1\" class=\"dataframe\">\n",
       "  <thead>\n",
       "    <tr style=\"text-align: right;\">\n",
       "      <th></th>\n",
       "      <th>Order Date</th>\n",
       "      <th>Order Quantity</th>\n",
       "      <th>Sales</th>\n",
       "      <th>Ship Mode</th>\n",
       "      <th>Profit</th>\n",
       "      <th>Unit Price</th>\n",
       "      <th>Customer Name</th>\n",
       "      <th>Customer Segment</th>\n",
       "      <th>Product Category</th>\n",
       "    </tr>\n",
       "  </thead>\n",
       "  <tbody>\n",
       "    <tr>\n",
       "      <th>0</th>\n",
       "      <td>2010-10-13</td>\n",
       "      <td>6</td>\n",
       "      <td>261.54</td>\n",
       "      <td>Regular Air</td>\n",
       "      <td>-213.25</td>\n",
       "      <td>38.94</td>\n",
       "      <td>Muhammed MacIntyre</td>\n",
       "      <td>Small Business</td>\n",
       "      <td>Office Supplies</td>\n",
       "    </tr>\n",
       "    <tr>\n",
       "      <th>1</th>\n",
       "      <td>2012-02-20</td>\n",
       "      <td>2</td>\n",
       "      <td>6.93</td>\n",
       "      <td>Regular Air</td>\n",
       "      <td>-4.64</td>\n",
       "      <td>2.08</td>\n",
       "      <td>Ruben Dartt</td>\n",
       "      <td>Corporate</td>\n",
       "      <td>Office Supplies</td>\n",
       "    </tr>\n",
       "    <tr>\n",
       "      <th>2</th>\n",
       "      <td>2011-07-15</td>\n",
       "      <td>26</td>\n",
       "      <td>2808.08</td>\n",
       "      <td>Regular Air</td>\n",
       "      <td>1054.82</td>\n",
       "      <td>107.53</td>\n",
       "      <td>Liz Pelletier</td>\n",
       "      <td>Corporate</td>\n",
       "      <td>Furniture</td>\n",
       "    </tr>\n",
       "  </tbody>\n",
       "</table>\n",
       "</div>"
      ],
      "text/plain": [
       "  Order Date  Order Quantity    Sales    Ship Mode   Profit  Unit Price  \\\n",
       "0 2010-10-13               6   261.54  Regular Air  -213.25       38.94   \n",
       "1 2012-02-20               2     6.93  Regular Air    -4.64        2.08   \n",
       "2 2011-07-15              26  2808.08  Regular Air  1054.82      107.53   \n",
       "\n",
       "        Customer Name Customer Segment Product Category  \n",
       "0  Muhammed MacIntyre   Small Business  Office Supplies  \n",
       "1         Ruben Dartt        Corporate  Office Supplies  \n",
       "2       Liz Pelletier        Corporate        Furniture  "
      ]
     },
     "execution_count": 18,
     "metadata": {},
     "output_type": "execute_result"
    }
   ],
   "source": [
    "#dropping Order ID column\n",
    "data.drop('Order ID',inplace=True, axis=1)\n",
    "data.head(3)"
   ]
  },
  {
   "cell_type": "markdown",
   "metadata": {},
   "source": [
    "# Problem 5.3"
   ]
  },
  {
   "cell_type": "code",
   "execution_count": 19,
   "metadata": {},
   "outputs": [
    {
     "name": "stdout",
     "output_type": "stream",
     "text": [
      "New shape of data is  (999, 9)\n"
     ]
    }
   ],
   "source": [
    "print(\"New shape of data is \", data.shape)"
   ]
  },
  {
   "cell_type": "markdown",
   "metadata": {},
   "source": [
    "# Problem 5.4"
   ]
  },
  {
   "cell_type": "code",
   "execution_count": 20,
   "metadata": {},
   "outputs": [
    {
     "name": "stdout",
     "output_type": "stream",
     "text": [
      "New names of the columns are: ['Order_Date', 'Order_Quantity', 'Sales', 'Ship_Mode', 'Profit', 'Unit_Price', 'Customer_Name', 'Customer_Segment', 'Product_Category']\n"
     ]
    }
   ],
   "source": [
    "#removing spaces in variable names\n",
    "data.columns=data.columns.str.replace(\" \",\"_\")\n",
    "print(\"New names of the columns are: %s\" %data.columns.tolist())"
   ]
  },
  {
   "cell_type": "markdown",
   "metadata": {},
   "source": [
    "# Problem 5.5"
   ]
  },
  {
   "cell_type": "code",
   "execution_count": 21,
   "metadata": {},
   "outputs": [],
   "source": [
    "data_num=data.select_dtypes([\"number\"])\n",
    "data_obj=data.select_dtypes([\"object\"])"
   ]
  },
  {
   "cell_type": "code",
   "execution_count": 22,
   "metadata": {},
   "outputs": [
    {
     "name": "stdout",
     "output_type": "stream",
     "text": [
      "<class 'pandas.core.frame.DataFrame'>\n",
      "Int64Index: 999 entries, 0 to 1006\n",
      "Data columns (total 4 columns):\n",
      " #   Column          Non-Null Count  Dtype  \n",
      "---  ------          --------------  -----  \n",
      " 0   Order_Quantity  999 non-null    int64  \n",
      " 1   Sales           999 non-null    float64\n",
      " 2   Profit          999 non-null    float64\n",
      " 3   Unit_Price      999 non-null    float64\n",
      "dtypes: float64(3), int64(1)\n",
      "memory usage: 39.0 KB\n",
      "None\n",
      "\n",
      "\n",
      "--------------------------------------\n",
      "<class 'pandas.core.frame.DataFrame'>\n",
      "Int64Index: 999 entries, 0 to 1006\n",
      "Data columns (total 4 columns):\n",
      " #   Column            Non-Null Count  Dtype \n",
      "---  ------            --------------  ----- \n",
      " 0   Ship_Mode         999 non-null    object\n",
      " 1   Customer_Name     999 non-null    object\n",
      " 2   Customer_Segment  999 non-null    object\n",
      " 3   Product_Category  999 non-null    object\n",
      "dtypes: object(4)\n",
      "memory usage: 39.0+ KB\n",
      "None\n"
     ]
    }
   ],
   "source": [
    "print(data_num.info())\n",
    "print('\\n')\n",
    "print('--------------------------------------')\n",
    "print(data_obj.info())"
   ]
  },
  {
   "cell_type": "markdown",
   "metadata": {},
   "source": [
    "# Problem 6.1"
   ]
  },
  {
   "cell_type": "code",
   "execution_count": 23,
   "metadata": {},
   "outputs": [
    {
     "data": {
      "image/png": "[encoded data removed]",
      "text/plain": [
       "<Figure size 648x360 with 1 Axes>"
      ]
     },
     "metadata": {
      "needs_background": "light"
     },
     "output_type": "display_data"
    }
   ],
   "source": [
    "plt.figure(figsize=(9,5)) #setting chart size\n",
    "plt.style.use('bmh') #setting style\n",
    "\n",
    "plt.bar(data.Product_Category.unique(),\n",
    "        data.groupby([\"Product_Category\"])[\"Unit_Price\"].mean()) #creating chart\n",
    "\n",
    "plt.title(\"Average Unit Price by Product Type\") #giving heading\n",
    "plt.xlabel(\"Product Category\") #Name of X-axis\n",
    "plt.ylabel(\"Mean Unit Price\") #Name of Y-axis\n",
    "\n",
    "plt.show()"
   ]
  },
  {
   "cell_type": "markdown",
   "metadata": {},
   "source": [
    "# Problem 6.2"
   ]
  },
  {
   "cell_type": "code",
   "execution_count": 24,
   "metadata": {},
   "outputs": [
    {
     "data": {
      "image/png": "[encoded data removed]",
      "text/plain": [
       "<Figure size 648x360 with 1 Axes>"
      ]
     },
     "metadata": {
      "needs_background": "light"
     },
     "output_type": "display_data"
    },
    {
     "data": {
      "image/png": "[encoded data removed]",
      "text/plain": [
       "<Figure size 648x360 with 1 Axes>"
      ]
     },
     "metadata": {},
     "output_type": "display_data"
    },
    {
     "data": {
      "image/png": "[encoded data removed]",
      "text/plain": [
       "<Figure size 648x360 with 1 Axes>"
      ]
     },
     "metadata": {},
     "output_type": "display_data"
    },
    {
     "data": {
      "image/png": "[encoded data removed]",
      "text/plain": [
       "<Figure size 648x360 with 1 Axes>"
      ]
     },
     "metadata": {},
     "output_type": "display_data"
    }
   ],
   "source": [
    "for i in data_num.columns:\n",
    "    plt.figure(figsize=(9,5))\n",
    "    plt.style.use('fivethirtyeight') \n",
    "    plt.hist(data_num[i],\n",
    "             bins=12)\n",
    "    plt.xlabel(i)\n",
    "    plt.ylabel(\"Frequiencies\")\n",
    "    plt.show()"
   ]
  }
 ],
 "metadata": {
  "kernelspec": {
   "display_name": "Python 3",
   "language": "python",
   "name": "python3"
  },
  "language_info": {
   "codemirror_mode": {
    "name": "ipython",
    "version": 3
   },
   "file_extension": ".py",
   "mimetype": "text/x-python",
   "name": "python",
   "nbconvert_exporter": "python",
   "pygments_lexer": "ipython3",
   "version": "3.7.6"
  }
 },
 "nbformat": 4,
 "nbformat_minor": 4
}
