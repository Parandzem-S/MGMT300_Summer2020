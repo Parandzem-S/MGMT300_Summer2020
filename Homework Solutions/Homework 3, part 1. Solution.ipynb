{
 "cells": [
  {
   "cell_type": "markdown",
   "metadata": {},
   "source": [
    "# Problem 1"
   ]
  },
  {
   "cell_type": "code",
   "execution_count": 1,
   "metadata": {},
   "outputs": [],
   "source": [
    "#let's create movie list of 5 elements\n",
    "movie=[\"A Beautiful Mind\",\"The Taming of the Scoundrel\",\"Deja Vu\", \"Law Abiding Citizen\", \"The Pursuit of Happyness\"]"
   ]
  },
  {
   "cell_type": "code",
   "execution_count": 2,
   "metadata": {},
   "outputs": [
    {
     "data": {
      "text/plain": [
       "5"
      ]
     },
     "execution_count": 2,
     "metadata": {},
     "output_type": "execute_result"
    }
   ],
   "source": [
    "len(movie)"
   ]
  },
  {
   "cell_type": "code",
   "execution_count": 3,
   "metadata": {},
   "outputs": [
    {
     "name": "stdout",
     "output_type": "stream",
     "text": [
      "['A', 'The', 'Deja', 'Law', 'The']\n"
     ]
    }
   ],
   "source": [
    "#creating new list from the first elements\n",
    "first_parts=[]\n",
    "for i in movie:\n",
    "        first_parts.append(i.split(\" \")[0])\n",
    "print(first_parts)"
   ]
  },
  {
   "cell_type": "markdown",
   "metadata": {},
   "source": [
    "# Problem 2"
   ]
  },
  {
   "cell_type": "code",
   "execution_count": 4,
   "metadata": {},
   "outputs": [
    {
     "name": "stdout",
     "output_type": "stream",
     "text": [
      "['A']\n",
      "['A', 'The']\n",
      "['A Beautiful Mind', 'The Taming of the Scoundrel', 'Deja Vu', 'Law Abiding Citizen', 'The Pursuit of Happyness']\n",
      "['A', 'The', 'Law']\n",
      "['A', 'The', 'Law', 'The']\n"
     ]
    }
   ],
   "source": [
    "movie_new=[] #create empty list\n",
    "for i in movie:\n",
    "    if len(i)>=12:\n",
    "        movie_new.append(i.split(\" \")[0]) \n",
    "        print(movie_new)\n",
    "    else:\n",
    "        print (movie)"
   ]
  },
  {
   "cell_type": "markdown",
   "metadata": {},
   "source": [
    "# Problem 3"
   ]
  },
  {
   "cell_type": "code",
   "execution_count": 5,
   "metadata": {},
   "outputs": [
    {
     "name": "stdout",
     "output_type": "stream",
     "text": [
      "['A Beautiful Mind', 'The Taming of the Scoundrel', 'Deja Vu', 'Law Abiding Citizen']\n",
      "['A Beautiful Mind', 'The Taming of the Scoundrel', 'Deja Vu']\n",
      "['A Beautiful Mind', 'The Taming of the Scoundrel']\n",
      "['A Beautiful Mind']\n",
      "[]\n"
     ]
    }
   ],
   "source": [
    "while len(movie)>0:\n",
    "    movie.pop()\n",
    "    print(movie)"
   ]
  },
  {
   "cell_type": "code",
   "execution_count": 6,
   "metadata": {},
   "outputs": [
    {
     "data": {
      "text/plain": [
       "[]"
      ]
     },
     "execution_count": 6,
     "metadata": {},
     "output_type": "execute_result"
    }
   ],
   "source": [
    "#let's make sure that the list is empty\n",
    "movie"
   ]
  },
  {
   "cell_type": "markdown",
   "metadata": {},
   "source": [
    "**Final Result**: The movie becomes empty."
   ]
  },
  {
   "cell_type": "markdown",
   "metadata": {},
   "source": [
    "# Problem 4"
   ]
  },
  {
   "cell_type": "code",
   "execution_count": 7,
   "metadata": {},
   "outputs": [],
   "source": [
    "#creating the list for movie ratings\n",
    "ratings=[8.2, 7.7, 6.4, 7.4, 8.0]"
   ]
  },
  {
   "cell_type": "code",
   "execution_count": 8,
   "metadata": {},
   "outputs": [],
   "source": [
    "#before running this you should make sure that your movie list is not empty beacuse of problem 3\n",
    "#therefore I copied here movie list again\n",
    "movie=[\"A Beautiful Mind\",\"The Taming of the Scoundrel\",\"Deja Vu\", \"Law Abiding Citizen\", \"The Pursuit of Happyness\"] \n",
    "movie_dic=dict(zip(movie,ratings))"
   ]
  },
  {
   "cell_type": "code",
   "execution_count": 9,
   "metadata": {},
   "outputs": [
    {
     "name": "stdout",
     "output_type": "stream",
     "text": [
      "{'A Beautiful Mind': 8.2, 'The Taming of the Scoundrel': 7.7, 'Deja Vu': 6.4, 'Law Abiding Citizen': 7.4, 'The Pursuit of Happyness': 8.0}\n"
     ]
    }
   ],
   "source": [
    "print(movie_dic)"
   ]
  },
  {
   "cell_type": "markdown",
   "metadata": {},
   "source": [
    "# Problem 5"
   ]
  },
  {
   "cell_type": "code",
   "execution_count": 10,
   "metadata": {},
   "outputs": [],
   "source": [
    "#defining a function\n",
    "def best_movie(z,k):\n",
    "    if k>8:\n",
    "        return \"%s is a top movie\" %z \n",
    "    else: \n",
    "        return \"%s is not a top movie\" %z"
   ]
  },
  {
   "cell_type": "code",
   "execution_count": 11,
   "metadata": {},
   "outputs": [
    {
     "name": "stdout",
     "output_type": "stream",
     "text": [
      "The Taming of the Scoundrel is not a top movie\n"
     ]
    }
   ],
   "source": [
    "#printing an example\n",
    "print(best_movie(movie[1],ratings[1]))"
   ]
  },
  {
   "cell_type": "code",
   "execution_count": 12,
   "metadata": {},
   "outputs": [
    {
     "name": "stdout",
     "output_type": "stream",
     "text": [
      "A Beautiful Mind is a top movie\n",
      "The Taming of the Scoundrel is not a top movie\n",
      "Deja Vu is not a top movie\n",
      "Law Abiding Citizen is not a top movie\n",
      "The Pursuit of Happyness is not a top movie\n"
     ]
    }
   ],
   "source": [
    "#you can use for loop to apply the function to all items in movie list\n",
    "for i in range(5):\n",
    "    print(best_movie(movie[i],ratings[i]))"
   ]
  }
 ],
 "metadata": {
  "kernelspec": {
   "display_name": "Python 3",
   "language": "python",
   "name": "python3"
  },
  "language_info": {
   "codemirror_mode": {
    "name": "ipython",
    "version": 3
   },
   "file_extension": ".py",
   "mimetype": "text/x-python",
   "name": "python",
   "nbconvert_exporter": "python",
   "pygments_lexer": "ipython3",
   "version": "3.7.6"
  }
 },
 "nbformat": 4,
 "nbformat_minor": 4
}
