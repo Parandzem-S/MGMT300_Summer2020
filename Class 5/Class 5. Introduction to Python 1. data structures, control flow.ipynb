{
 "cells": [
  {
   "cell_type": "markdown",
   "metadata": {},
   "source": [
    "<h1> Class 5. Introduction to Python 1: data structures, control flow</h1>"
   ]
  },
  {
   "cell_type": "markdown",
   "metadata": {},
   "source": [
    "<h1>Table of contents</h1>\n",
    "\n",
    "1. [Introduction](#intro)\n",
    "2. [Using as Calculator](#calc)\n",
    "3. [Variables](#vars)\n",
    "    1. [Creating variables](#create)\n",
    "    2. [Naming Variables](#name)\n",
    "    3. [Variable Types](#type)\n",
    "        1. [Numeric](#num)\n",
    "        2. [Strings](#string)\n",
    "        3. [Lists](#list)\n",
    "        3. [Sets](#set)\n",
    "        4. [Tuples](#tuple)\n",
    "        5. [Dictionaries](#dict)\n",
    "4. [For, If](#str)"
   ]
  },
  {
   "cell_type": "markdown",
   "metadata": {},
   "source": [
    "<h1>Introduction</h1> <a name=\"intro\"></a>\n",
    "- <b>Integrated Development Environments for the python</b>: Spyder, PyCharm, Rodeo, Atom, Jupyetr Notebook, etc (for more see, <a><a href=\"https://www.datacamp.com/community/tutorials/data-science-python-ide\">https://www.datacamp.com/community/tutorials/data-science-python-ide</a>). We will use <b>Jupyter Notebook</b>.\n",
    "\n",
    "- <b>Jupyter Notebook</b>: \"Notebook\" or \"notebook documents\" denote documents that contain both code and rich text elements, such as figures, links, equations, ... Because of the mix of <b>code and text elements</b>, these documents are the ideal place to bring together an analysis description, and its results, as well as, they can be executed to perform the data analysis in real time.The Jupyter Notebook App produces these documents. Jupyter Notebook App allows you to edit and run your notebooks via a web browser. The application can be executed on a PC without Internet access, or it can be installed on a remote server, where you can access it through the Internet.\n",
    "\n",
    "- <b>Open Jupyter Notebook</b>: In <i>Command Prompt</i> or <i>Anaconda Prompt</i> type <b><code>jupyter notebook</code></b>. Then click to <i>New</i> - <i>Python 3</i>, the JN script will be opened and you can start coding."
   ]
  },
  {
   "cell_type": "code",
   "execution_count": 11,
   "metadata": {},
   "outputs": [
    {
     "name": "stdout",
     "output_type": "stream",
     "text": [
      "Hellow World\n"
     ]
    }
   ],
   "source": [
    "#your first program\n",
    "print(\"Hellow World\")"
   ]
  },
  {
   "cell_type": "markdown",
   "metadata": {},
   "source": [
    "<h2>Using as Calculator</h2> <a name=\"calc\"></a>"
   ]
  },
  {
   "cell_type": "code",
   "execution_count": 12,
   "metadata": {},
   "outputs": [
    {
     "name": "stdout",
     "output_type": "stream",
     "text": [
      "31\n",
      "9.0\n",
      "27\n",
      "1\n",
      "81\n"
     ]
    }
   ],
   "source": [
    "print(27+4)\n",
    "print(27/3)\n",
    "print(9*3)\n",
    "print(29%4) #the remainder when i is divided by j\n",
    "print(9**2) #power of"
   ]
  },
  {
   "cell_type": "markdown",
   "metadata": {},
   "source": [
    "You can make comments on your codes:\n",
    "- <b>Start comments with \" # \"</b> (after putting \"#\" the rest of line is ignored) "
   ]
  },
  {
   "cell_type": "markdown",
   "metadata": {},
   "source": [
    "<h2>Variables</h2> <a name=\"vars\"></a>\n",
    "\n",
    "<h3>Creating variables</h3> <a name=\"create\"></a>\n",
    "\n",
    "- Unlike other programming languages, Python has no command for declaring a variable.\n",
    "\n",
    "- A variable is created the moment you first assign a value to it, and Python figures out the variable types on its own. \n",
    "\n",
    "- Assignment in Python uses \"=\" sign, and for equality \"==\" sign is used"
   ]
  },
  {
   "cell_type": "code",
   "execution_count": 13,
   "metadata": {},
   "outputs": [],
   "source": [
    "#creating a new variable\n",
    "#variable's name is \"phone\" and the assigned value is \"iPhone8+\"\n",
    "phone=\"iPhone8+\""
   ]
  },
  {
   "cell_type": "code",
   "execution_count": 14,
   "metadata": {},
   "outputs": [
    {
     "name": "stdout",
     "output_type": "stream",
     "text": [
      "iPhone8+\n"
     ]
    }
   ],
   "source": [
    "#The basic printing operator is: print()\n",
    "#let's print the value of the variable that we created\n",
    "\n",
    "print(phone)"
   ]
  },
  {
   "cell_type": "markdown",
   "metadata": {},
   "source": [
    "<h3>Naming Variables</h3> <a name=\"name\"> </a>\n",
    "\n",
    "- Names of variables are case sensitive (\"case\", \"Case\", \"CASE\" are 3 different variables).\n",
    "- A variable name should start with a letter or the underscore, it cannot start with a number (e.g. \"_case\", \"case\" are valid names but \"1case\" is NOT a valid name).\n",
    "-  In Python there are some reserved words and it would be better to try not to use these words as variable names: <b>var,and, assert, break, class, continue, def, del, elif, else, except, exec, finally, for, from, global, if, import, in, is, lambda, not, or, pass, print, raise, return, try, while, etc.</b> There is no need to remember these words because after typing if a word is reserved it becomes green.\n",
    "- It's not recommended to use spaces in the names of variables."
   ]
  },
  {
   "cell_type": "markdown",
   "metadata": {},
   "source": [
    "<h3>Variable Types</h3> <a name=\"type\"> </a>"
   ]
  },
  {
   "cell_type": "code",
   "execution_count": 15,
   "metadata": {},
   "outputs": [
    {
     "data": {
      "text/plain": [
       "str"
      ]
     },
     "execution_count": 15,
     "metadata": {},
     "output_type": "execute_result"
    }
   ],
   "source": [
    "#type() function is used to find out the type of a variable\n",
    "type(phone)"
   ]
  },
  {
   "cell_type": "markdown",
   "metadata": {},
   "source": [
    "<b>Variable types: </b>\n",
    "When programming, the type of a variable is important as for each specific data type there are operations which you can and cannot do. In the above example, the variable x is of type int which means integer and variable p is a str which means string.\n",
    "\n",
    "Basic types:\n",
    "- <b>Numeric</b>: integer (int), float\n",
    "- <b>Strings</b>: a string (str) in Python is a sequence of characters.Python strings are immutable, meaning that we are not allowed to change individual parts of them.\n",
    "- <b>Lists</b>: a list is a finite sequence of items. Lists are ordered and changeable and it allows duplicate members (items). Lists are not required to be homogeneous, i.e., the items could be of different types.\n",
    "- <b>Sets</b>: a set is a collection which is unordered and unindexed. In Python sets are written with curly brackets - {}.\n",
    "- <b>Tuple</b>: a tuple is a finite sequence of items which is ordered and <b>unchangeable</b>. Allows duplicate members.\n",
    "- <b>Dictionaries</b>: is a finite sequence of items. It is unordered, changeable and indexed. No duplicate members are allowed."
   ]
  },
  {
   "cell_type": "markdown",
   "metadata": {},
   "source": [
    "To specify data types manually <b><code> float(), int() and str()</code></b> functions should be used. "
   ]
  },
  {
   "cell_type": "markdown",
   "metadata": {},
   "source": [
    "<h4>Numeric</h4> <a name=\"num\"></a>"
   ]
  },
  {
   "cell_type": "code",
   "execution_count": 16,
   "metadata": {},
   "outputs": [
    {
     "name": "stdout",
     "output_type": "stream",
     "text": [
      "<class 'int'>\n",
      "<class 'float'>\n",
      "<class 'float'>\n"
     ]
    }
   ],
   "source": [
    "x = 27  # integers (int) is a whole number, positive or negative, without decimals, of unlimited length. \n",
    "y =4.0  # float or \"floating point number\" is a number, positive or negative, containing one or more decimals.\n",
    "y2=35e4 #float can also be scientific numbers with an \"e\" to indicate the power of 10.\n",
    "print(type(x))\n",
    "print(type(y))\n",
    "print(type(y2))"
   ]
  },
  {
   "cell_type": "code",
   "execution_count": 17,
   "metadata": {},
   "outputs": [
    {
     "data": {
      "text/plain": [
       "729"
      ]
     },
     "execution_count": 17,
     "metadata": {},
     "output_type": "execute_result"
    }
   ],
   "source": [
    "x**2"
   ]
  },
  {
   "cell_type": "code",
   "execution_count": 18,
   "metadata": {},
   "outputs": [
    {
     "name": "stdout",
     "output_type": "stream",
     "text": [
      "1\n"
     ]
    }
   ],
   "source": [
    "#getting remainder\n",
    "b=29\n",
    "print(b%4)"
   ]
  },
  {
   "cell_type": "markdown",
   "metadata": {},
   "source": [
    "For numbers you can use the following operators\n",
    "- \"+\" \n",
    "- \"-\" \n",
    "- \"*\" \n",
    "- \"/\" \n",
    "- \"%\"    <b> modulus </b> (a remainder left when you divide)\n",
    "- \"**\"   <b> power of a number </b>\n",
    "\n",
    "For other operators and how to use them, see: https://www.w3schools.com/python/python_operators.asp"
   ]
  },
  {
   "cell_type": "markdown",
   "metadata": {},
   "source": [
    "<h4>Strings</h4> <a name=\"string\"></a>\n",
    "A string (str) in Python is a sequence of characters.Python strings are immutable, meaning that we are not allowed to change individual parts of them.\n",
    "\n",
    "<b>Enumeration in Python starts from 0.</b>"
   ]
  },
  {
   "cell_type": "code",
   "execution_count": 19,
   "metadata": {},
   "outputs": [
    {
     "name": "stdout",
     "output_type": "stream",
     "text": [
      "iPhone8+\n",
      "i\n",
      "+\n",
      "iPhone8+ iPhone8+ \n"
     ]
    }
   ],
   "source": [
    "print(phone)\n",
    "print(phone[0]) #getting the first item of a list\n",
    "print(phone[-1]) #getting the last item of a list\n",
    "print(2*(phone+\" \")) #printing a string multiple times"
   ]
  },
  {
   "cell_type": "code",
   "execution_count": 20,
   "metadata": {},
   "outputs": [
    {
     "ename": "TypeError",
     "evalue": "unsupported operand type(s) for +: 'int' and 'str'",
     "output_type": "error",
     "traceback": [
      "\u001b[1;31m---------------------------------------------------------------------------\u001b[0m",
      "\u001b[1;31mTypeError\u001b[0m                                 Traceback (most recent call last)",
      "\u001b[1;32m<ipython-input-20-f61be6d01045>\u001b[0m in \u001b[0;36m<module>\u001b[1;34m\u001b[0m\n\u001b[1;32m----> 1\u001b[1;33m \u001b[0mprint\u001b[0m\u001b[1;33m(\u001b[0m\u001b[1;36m2\u001b[0m\u001b[1;33m+\u001b[0m\u001b[0mphone\u001b[0m\u001b[1;33m)\u001b[0m \u001b[1;31m# if you try to add number to string, you'll get an error\u001b[0m\u001b[1;33m\u001b[0m\u001b[1;33m\u001b[0m\u001b[0m\n\u001b[0m",
      "\u001b[1;31mTypeError\u001b[0m: unsupported operand type(s) for +: 'int' and 'str'"
     ]
    }
   ],
   "source": [
    "print(2+phone) # if you try to add number to string, you'll get an error"
   ]
  },
  {
   "cell_type": "code",
   "execution_count": 22,
   "metadata": {},
   "outputs": [
    {
     "name": "stdout",
     "output_type": "stream",
     "text": [
      "IPHONE8+\n",
      "iphone8+\n"
     ]
    }
   ],
   "source": [
    "#print the string in upper case\n",
    "print(phone.upper())\n",
    "#print the string in lower case\n",
    "print(phone.lower())"
   ]
  },
  {
   "cell_type": "code",
   "execution_count": 23,
   "metadata": {},
   "outputs": [
    {
     "name": "stdout",
     "output_type": "stream",
     "text": [
      "2iPhone8+\n"
     ]
    }
   ],
   "source": [
    "#we can \"+\" operation to combine strings\n",
    "#in case you need to add a number to string you should convert number to string\n",
    "# str() is used to convert values into strings\n",
    "print(str(2)+phone)"
   ]
  },
  {
   "cell_type": "code",
   "execution_count": 24,
   "metadata": {},
   "outputs": [
    {
     "name": "stdout",
     "output_type": "stream",
     "text": [
      "What is your name?\n",
      "Nune\n",
      "Student's name is Nune\n"
     ]
    }
   ],
   "source": [
    "# we can use Python for command line input. That means we are able to ask the user for input.\n",
    "print(\"What is your name?\")\n",
    "name=input()\n",
    "print(\"Student's name is\",name)"
   ]
  },
  {
   "cell_type": "markdown",
   "metadata": {},
   "source": [
    "<h4>Lists</h4> <a name=\"list\"></a>\n",
    "A list is a finite sequence of items. Lists are ordered and changeable and it allows duplicate members (items). Lists are not required to be homogeneous, i.e., the items could be of different types.\n",
    "\n",
    "You can find more basic operations with lists on https://www.w3schools.com/python/python_lists.asp."
   ]
  },
  {
   "cell_type": "code",
   "execution_count": 25,
   "metadata": {},
   "outputs": [
    {
     "name": "stdout",
     "output_type": "stream",
     "text": [
      "<class 'list'>\n"
     ]
    }
   ],
   "source": [
    "#creating lists\n",
    "phone=[\"iPhone8+\",\"Galaxy A70\"]\n",
    "print(type(phone))"
   ]
  },
  {
   "cell_type": "code",
   "execution_count": 26,
   "metadata": {},
   "outputs": [
    {
     "data": {
      "text/plain": [
       "'Galaxy A70'"
      ]
     },
     "execution_count": 26,
     "metadata": {},
     "output_type": "execute_result"
    }
   ],
   "source": [
    "#printing the 1st member of the list\n",
    "phone[0:2] #printing the first two members\n",
    "phone[1] #printing the second value of the list"
   ]
  },
  {
   "cell_type": "code",
   "execution_count": 27,
   "metadata": {},
   "outputs": [
    {
     "name": "stdout",
     "output_type": "stream",
     "text": [
      "['iPhone11', 'Galaxy A70']\n"
     ]
    }
   ],
   "source": [
    "#changing the value of the first item\n",
    "phone[0]=\"iPhone11\"\n",
    "print(phone)"
   ]
  },
  {
   "cell_type": "code",
   "execution_count": 28,
   "metadata": {},
   "outputs": [
    {
     "name": "stdout",
     "output_type": "stream",
     "text": [
      "['iPhone11', 'Galaxy A70', 'Galaxy A50']\n"
     ]
    }
   ],
   "source": [
    "#add a new value to the list\n",
    "phone.append(\"Galaxy A50\")\n",
    "print(phone)"
   ]
  },
  {
   "cell_type": "code",
   "execution_count": 29,
   "metadata": {},
   "outputs": [
    {
     "name": "stdout",
     "output_type": "stream",
     "text": [
      "['iPhone11', 'Galaxy A50', 'Galaxy A70', 'Galaxy A50']\n"
     ]
    }
   ],
   "source": [
    "#add a new value to the list at certain position\n",
    "phone.insert(1,\"Galaxy A50\")\n",
    "print(phone)"
   ]
  },
  {
   "cell_type": "code",
   "execution_count": 30,
   "metadata": {},
   "outputs": [],
   "source": [
    "#removing the value\n",
    "phone.remove(\"Galaxy A50\")"
   ]
  },
  {
   "cell_type": "code",
   "execution_count": 31,
   "metadata": {},
   "outputs": [
    {
     "name": "stdout",
     "output_type": "stream",
     "text": [
      "3\n"
     ]
    }
   ],
   "source": [
    "#checking the length of list (how many items there) using len() function\n",
    "print(len(phone))"
   ]
  },
  {
   "cell_type": "markdown",
   "metadata": {},
   "source": [
    "<h3>Sets</h3> <a name=\"set\"></a>\n",
    "A set is a collection which is unordered and unindexed. In Python sets are written with curly brackets - {}."
   ]
  },
  {
   "cell_type": "code",
   "execution_count": 32,
   "metadata": {},
   "outputs": [],
   "source": [
    "#creating set\n",
    "set_one={\"iPhone8+\",\"Galaxy A70\"}"
   ]
  },
  {
   "cell_type": "code",
   "execution_count": 34,
   "metadata": {},
   "outputs": [
    {
     "ename": "TypeError",
     "evalue": "'set' object is not subscriptable",
     "output_type": "error",
     "traceback": [
      "\u001b[1;31m---------------------------------------------------------------------------\u001b[0m",
      "\u001b[1;31mTypeError\u001b[0m                                 Traceback (most recent call last)",
      "\u001b[1;32m<ipython-input-34-77cd9d11296b>\u001b[0m in \u001b[0;36m<module>\u001b[1;34m\u001b[0m\n\u001b[0;32m      1\u001b[0m \u001b[1;31m#set doesn't allow to use indexes to extract values\u001b[0m\u001b[1;33m\u001b[0m\u001b[1;33m\u001b[0m\u001b[1;33m\u001b[0m\u001b[0m\n\u001b[1;32m----> 2\u001b[1;33m \u001b[0mset_one\u001b[0m\u001b[1;33m[\u001b[0m\u001b[1;36m0\u001b[0m\u001b[1;33m]\u001b[0m\u001b[1;33m\u001b[0m\u001b[1;33m\u001b[0m\u001b[0m\n\u001b[0m",
      "\u001b[1;31mTypeError\u001b[0m: 'set' object is not subscriptable"
     ]
    }
   ],
   "source": [
    "#set doesn't allow to use indexes to extract values\n",
    "set_one[0]"
   ]
  },
  {
   "cell_type": "markdown",
   "metadata": {},
   "source": [
    "<h3>Tuples</h3> <a name=\"tuple\"></a>\n",
    " A tuple is a finite sequence of items which is ordered and unchangeable. Allows duplicate members."
   ]
  },
  {
   "cell_type": "code",
   "execution_count": 39,
   "metadata": {},
   "outputs": [],
   "source": [
    "#creating a tuple\n",
    "tuple_one=(\"1\",\"2\",\"car\")"
   ]
  },
  {
   "cell_type": "code",
   "execution_count": 40,
   "metadata": {},
   "outputs": [
    {
     "ename": "TypeError",
     "evalue": "'tuple' object does not support item assignment",
     "output_type": "error",
     "traceback": [
      "\u001b[1;31m---------------------------------------------------------------------------\u001b[0m",
      "\u001b[1;31mTypeError\u001b[0m                                 Traceback (most recent call last)",
      "\u001b[1;32m<ipython-input-40-ce7bd6fce0eb>\u001b[0m in \u001b[0;36m<module>\u001b[1;34m\u001b[0m\n\u001b[0;32m      1\u001b[0m \u001b[1;31m#we are getting error as tuples are unchangeable unlike lists\u001b[0m\u001b[1;33m\u001b[0m\u001b[1;33m\u001b[0m\u001b[1;33m\u001b[0m\u001b[0m\n\u001b[1;32m----> 2\u001b[1;33m \u001b[0mtuple_one\u001b[0m\u001b[1;33m[\u001b[0m\u001b[1;36m0\u001b[0m\u001b[1;33m]\u001b[0m\u001b[1;33m=\u001b[0m\u001b[1;34m\"2\"\u001b[0m\u001b[1;33m\u001b[0m\u001b[1;33m\u001b[0m\u001b[0m\n\u001b[0m",
      "\u001b[1;31mTypeError\u001b[0m: 'tuple' object does not support item assignment"
     ]
    }
   ],
   "source": [
    "#we are getting error as tuples are unchangeable unlike lists\n",
    "tuple_one[0]=\"2\""
   ]
  },
  {
   "cell_type": "markdown",
   "metadata": {},
   "source": [
    "<h3>Dictionaries</h3> <a name=\"dict\"></a>\n",
    "A dictionary is a finite sequence of items. It is unordered, changeable and indexed. No duplicate members are allowed."
   ]
  },
  {
   "cell_type": "markdown",
   "metadata": {},
   "source": [
    "- In Python dictionaries are written with <b>{}</b>, and they have <b>keys</b> and <b>values</b>"
   ]
  },
  {
   "cell_type": "code",
   "execution_count": 41,
   "metadata": {},
   "outputs": [
    {
     "name": "stdout",
     "output_type": "stream",
     "text": [
      "{'iPhone11': 800, 'Galaxy A70': 500}\n"
     ]
    }
   ],
   "source": [
    "#creating dictionary: the first value is \"key\" and the second one is \"value\"\n",
    "product_info={\"iPhone11\":800,\"Galaxy A70\":500}\n",
    "print(product_info)"
   ]
  },
  {
   "cell_type": "code",
   "execution_count": 42,
   "metadata": {},
   "outputs": [
    {
     "name": "stdout",
     "output_type": "stream",
     "text": [
      "dict_keys(['iPhone11', 'Galaxy A70'])\n",
      "dict_values([800, 500])\n",
      "dict_items([('iPhone11', 800), ('Galaxy A70', 500)])\n"
     ]
    }
   ],
   "source": [
    "print(product_info.keys())\n",
    "print(product_info.values())\n",
    "print(product_info.items())"
   ]
  },
  {
   "cell_type": "code",
   "execution_count": 44,
   "metadata": {},
   "outputs": [
    {
     "name": "stdout",
     "output_type": "stream",
     "text": [
      "['iPhone11', 'Galaxy A70', 'Galaxy A50']\n",
      "[800, 500, 300]\n"
     ]
    }
   ],
   "source": [
    "#let's create a list for prices\n",
    "prices=[800,500,300]\n",
    "#therefore we have lists of phone names and prices\n",
    "print(phone)\n",
    "print(prices)"
   ]
  },
  {
   "cell_type": "code",
   "execution_count": 45,
   "metadata": {},
   "outputs": [
    {
     "name": "stdout",
     "output_type": "stream",
     "text": [
      "{'iPhone11': 800, 'Galaxy A70': 500, 'Galaxy A50': 300}\n"
     ]
    }
   ],
   "source": [
    "#let's use phone and prices lists to create a dictionary by using zip() and dict() functions\n",
    "prod_info2=dict(zip(phone,prices))\n",
    "print(prod_info2)"
   ]
  },
  {
   "cell_type": "markdown",
   "metadata": {},
   "source": [
    "<h2>For, If</h2> <a name=\"str\"></a>"
   ]
  },
  {
   "cell_type": "code",
   "execution_count": 46,
   "metadata": {},
   "outputs": [
    {
     "name": "stdout",
     "output_type": "stream",
     "text": [
      "iPhone11\n",
      "Galaxy A70\n",
      "Galaxy A50\n"
     ]
    }
   ],
   "source": [
    "#using for loop we can execute a set of statements, once for each item in a list,dictionary, tuple etc.\n",
    "#using for loop to print each value in list\n",
    "for item in phone:\n",
    "    print(item)"
   ]
  },
  {
   "cell_type": "code",
   "execution_count": 47,
   "metadata": {},
   "outputs": [
    {
     "name": "stdout",
     "output_type": "stream",
     "text": [
      "[1, 2, 3, 4, 5, 6, 7, 8, 9, 10]\n"
     ]
    }
   ],
   "source": [
    "#use range() to create a list of 1st 10 natural numbers \n",
    "x=list(range(1,11))\n",
    "print(x)"
   ]
  },
  {
   "cell_type": "code",
   "execution_count": 48,
   "metadata": {},
   "outputs": [
    {
     "name": "stdout",
     "output_type": "stream",
     "text": [
      "0\n",
      "1\n",
      "3\n",
      "6\n",
      "10\n",
      "15\n",
      "21\n",
      "28\n",
      "36\n",
      "45\n"
     ]
    }
   ],
   "source": [
    "#let's sum up [1,10] numbers\n",
    "total=0\n",
    "for i in range(1,11):\n",
    "    print(total)\n",
    "    total=total+i"
   ]
  },
  {
   "cell_type": "code",
   "execution_count": 49,
   "metadata": {},
   "outputs": [
    {
     "name": "stdout",
     "output_type": "stream",
     "text": [
      "iPhone11 : 800\n",
      "Galaxy A70 : 500\n"
     ]
    }
   ],
   "source": [
    "#use for loop to print values and keys from the dictionary\n",
    "for i, j in product_info.items():\n",
    "    print(i, \":\", j)"
   ]
  },
  {
   "cell_type": "code",
   "execution_count": 50,
   "metadata": {},
   "outputs": [
    {
     "name": "stdout",
     "output_type": "stream",
     "text": [
      "More than 5\n"
     ]
    }
   ],
   "source": [
    "#how to use if function\n",
    "x=10\n",
    "if x==5:\n",
    "    print(\"Equals to 5\")\n",
    "elif x>5:\n",
    "    print(\"More than 5\")\n",
    "else:\n",
    "    print(\"Less than 5\")"
   ]
  }
 ],
 "metadata": {
  "kernelspec": {
   "display_name": "Python 3",
   "language": "python",
   "name": "python3"
  },
  "language_info": {
   "codemirror_mode": {
    "name": "ipython",
    "version": 3
   },
   "file_extension": ".py",
   "mimetype": "text/x-python",
   "name": "python",
   "nbconvert_exporter": "python",
   "pygments_lexer": "ipython3",
   "version": "3.7.6"
  }
 },
 "nbformat": 4,
 "nbformat_minor": 4
}
